{
  "nbformat": 4,
  "nbformat_minor": 0,
  "metadata": {
    "colab": {
      "provenance": [],
      "authorship_tag": "ABX9TyNBofoie6VFKPJS+6DKL4Zk",
      "include_colab_link": true
    },
    "kernelspec": {
      "name": "python3",
      "display_name": "Python 3"
    },
    "language_info": {
      "name": "python"
    }
  },
  "cells": [
    {
      "cell_type": "markdown",
      "metadata": {
        "id": "view-in-github",
        "colab_type": "text"
      },
      "source": [
        "<a href=\"https://colab.research.google.com/github/GeorgeShmelin/Masterschool_time_series_Project_supermarket_favorita/blob/main/3_part_time_series__XGBoost_Hyperparameter_Tuning.ipynb\" target=\"_parent\"><img src=\"https://colab.research.google.com/assets/colab-badge.svg\" alt=\"Open In Colab\"/></a>"
      ]
    },
    {
      "cell_type": "markdown",
      "source": [
        "# Libraries"
      ],
      "metadata": {
        "id": "Ifbkc0n5oujS"
      }
    },
    {
      "cell_type": "code",
      "source": [
        "import pandas as pd\n",
        "import numpy as np\n",
        "import matplotlib.pyplot as plt\n",
        "import seaborn as sns"
      ],
      "metadata": {
        "id": "mxHf1-Oeo4Zv"
      },
      "execution_count": null,
      "outputs": []
    },
    {
      "cell_type": "markdown",
      "source": [
        "Save the trained model"
      ],
      "metadata": {
        "id": "ZsX7GPKKSykL"
      }
    },
    {
      "cell_type": "code",
      "source": [
        "import os\n",
        "import joblib"
      ],
      "metadata": {
        "id": "MkTWVDtgS3_K"
      },
      "execution_count": null,
      "outputs": []
    },
    {
      "cell_type": "code",
      "source": [
        "import gc # Import the gc module\n",
        "# gc.collect() are for rubbish collection — basically cleaning up memory that Python no longer needs"
      ],
      "metadata": {
        "id": "nEh9iI3CxLTR"
      },
      "execution_count": null,
      "outputs": []
    },
    {
      "cell_type": "code",
      "source": [
        "# !pip install xgboost\n",
        "from xgboost import XGBRegressor\n",
        "from sklearn.model_selection import GridSearchCV"
      ],
      "metadata": {
        "id": "_iBSFaeBynue"
      },
      "execution_count": null,
      "outputs": []
    },
    {
      "cell_type": "code",
      "source": [
        "from sklearn.metrics import r2_score, mean_squared_error, mean_absolute_error"
      ],
      "metadata": {
        "id": "df45frJwzc3u"
      },
      "execution_count": null,
      "outputs": []
    },
    {
      "cell_type": "code",
      "source": [
        "from hyperopt import STATUS_OK"
      ],
      "metadata": {
        "id": "oIdetnVgu-NQ"
      },
      "execution_count": null,
      "outputs": []
    },
    {
      "cell_type": "code",
      "source": [
        "# pip install hyperopt\n",
        "from hyperopt import hp"
      ],
      "metadata": {
        "id": "9SC-xWOxsak7"
      },
      "execution_count": null,
      "outputs": []
    },
    {
      "cell_type": "markdown",
      "source": [
        "# Data download"
      ],
      "metadata": {
        "id": "zyTlVYk6pIxY"
      }
    },
    {
      "cell_type": "code",
      "source": [
        "from google.colab import drive\n",
        "drive.mount('/content/drive')"
      ],
      "metadata": {
        "colab": {
          "base_uri": "https://localhost:8080/"
        },
        "id": "DIZ_FMzSpprP",
        "outputId": "84937cb7-e95a-4526-e5c0-ab3cf105617d"
      },
      "execution_count": null,
      "outputs": [
        {
          "output_type": "stream",
          "name": "stdout",
          "text": [
            "Drive already mounted at /content/drive; to attempt to forcibly remount, call drive.mount(\"/content/drive\", force_remount=True).\n"
          ]
        }
      ]
    },
    {
      "cell_type": "code",
      "source": [
        "df_download = pd.read_csv('/content/drive/MyDrive/MasterSchool/MasterSchool_Python/Time_Series/Time_series_project/df_train_3.csv')\n",
        "df_download.shape"
      ],
      "metadata": {
        "colab": {
          "base_uri": "https://localhost:8080/"
        },
        "id": "V9yFehDypTLg",
        "outputId": "1931afa0-638e-4a0d-ecb4-00509903871f"
      },
      "execution_count": null,
      "outputs": [
        {
          "output_type": "execute_result",
          "data": {
            "text/plain": [
              "(26307, 24)"
            ]
          },
          "metadata": {},
          "execution_count": 56
        }
      ]
    },
    {
      "cell_type": "markdown",
      "source": [
        "This data has been already joined, encoded (mostly by One Hot Encoder) and filtered. Full path of the data download, cleaning and encoding using SQL is presented in https://github.com/GeorgeShmelin/MasterSchool_Python_Studies.git or https://colab.research.google.com/drive/1rxXgcs68TGxuIKV8dAk3dWDCgaQSfNbQ?usp=sharing"
      ],
      "metadata": {
        "id": "GFsP8zz6r7_-"
      }
    },
    {
      "cell_type": "code",
      "source": [
        "df_download.sample(2)"
      ],
      "metadata": {
        "colab": {
          "base_uri": "https://localhost:8080/",
          "height": 214
        },
        "id": "hN89xK-5pz4f",
        "outputId": "fd01ea77-f833-4636-cb7d-2dd0675a0346"
      },
      "execution_count": null,
      "outputs": [
        {
          "output_type": "execute_result",
          "data": {
            "text/plain": [
              "       unit_sales  store_nbr  item_nbr  onpromotion  dcoilwtico  transferred  \\\n",
              "22790         3.0         36    982726            0       51.17            0   \n",
              "2295          1.0         51    938436            0      100.32            0   \n",
              "\n",
              "       item_class  transactions  weighted_unit_sales        date  ...  \\\n",
              "22790        3018          1849                  3.0  2015-02-14  ...   \n",
              "2295         3034          2088                  1.0  2014-05-09  ...   \n",
              "\n",
              "       year_scaled  city_Daule  city_Guayaquil  city_Libertad  city_Playas  \\\n",
              "22790           -2           0               0              1            0   \n",
              "2295            -3           0               1              0            0   \n",
              "\n",
              "       city_nan  items_family_BEVERAGES  items_family_CLEANING  \\\n",
              "22790         0                       0                      1   \n",
              "2295          0                       0                      1   \n",
              "\n",
              "       items_family_GROCERY I  items_family_nan  \n",
              "22790                       0                 0  \n",
              "2295                        0                 0  \n",
              "\n",
              "[2 rows x 24 columns]"
            ],
            "text/html": [
              "\n",
              "  <div id=\"df-e4262c95-4184-475d-9d98-278538629a63\" class=\"colab-df-container\">\n",
              "    <div>\n",
              "<style scoped>\n",
              "    .dataframe tbody tr th:only-of-type {\n",
              "        vertical-align: middle;\n",
              "    }\n",
              "\n",
              "    .dataframe tbody tr th {\n",
              "        vertical-align: top;\n",
              "    }\n",
              "\n",
              "    .dataframe thead th {\n",
              "        text-align: right;\n",
              "    }\n",
              "</style>\n",
              "<table border=\"1\" class=\"dataframe\">\n",
              "  <thead>\n",
              "    <tr style=\"text-align: right;\">\n",
              "      <th></th>\n",
              "      <th>unit_sales</th>\n",
              "      <th>store_nbr</th>\n",
              "      <th>item_nbr</th>\n",
              "      <th>onpromotion</th>\n",
              "      <th>dcoilwtico</th>\n",
              "      <th>transferred</th>\n",
              "      <th>item_class</th>\n",
              "      <th>transactions</th>\n",
              "      <th>weighted_unit_sales</th>\n",
              "      <th>date</th>\n",
              "      <th>...</th>\n",
              "      <th>year_scaled</th>\n",
              "      <th>city_Daule</th>\n",
              "      <th>city_Guayaquil</th>\n",
              "      <th>city_Libertad</th>\n",
              "      <th>city_Playas</th>\n",
              "      <th>city_nan</th>\n",
              "      <th>items_family_BEVERAGES</th>\n",
              "      <th>items_family_CLEANING</th>\n",
              "      <th>items_family_GROCERY I</th>\n",
              "      <th>items_family_nan</th>\n",
              "    </tr>\n",
              "  </thead>\n",
              "  <tbody>\n",
              "    <tr>\n",
              "      <th>22790</th>\n",
              "      <td>3.0</td>\n",
              "      <td>36</td>\n",
              "      <td>982726</td>\n",
              "      <td>0</td>\n",
              "      <td>51.17</td>\n",
              "      <td>0</td>\n",
              "      <td>3018</td>\n",
              "      <td>1849</td>\n",
              "      <td>3.0</td>\n",
              "      <td>2015-02-14</td>\n",
              "      <td>...</td>\n",
              "      <td>-2</td>\n",
              "      <td>0</td>\n",
              "      <td>0</td>\n",
              "      <td>1</td>\n",
              "      <td>0</td>\n",
              "      <td>0</td>\n",
              "      <td>0</td>\n",
              "      <td>1</td>\n",
              "      <td>0</td>\n",
              "      <td>0</td>\n",
              "    </tr>\n",
              "    <tr>\n",
              "      <th>2295</th>\n",
              "      <td>1.0</td>\n",
              "      <td>51</td>\n",
              "      <td>938436</td>\n",
              "      <td>0</td>\n",
              "      <td>100.32</td>\n",
              "      <td>0</td>\n",
              "      <td>3034</td>\n",
              "      <td>2088</td>\n",
              "      <td>1.0</td>\n",
              "      <td>2014-05-09</td>\n",
              "      <td>...</td>\n",
              "      <td>-3</td>\n",
              "      <td>0</td>\n",
              "      <td>1</td>\n",
              "      <td>0</td>\n",
              "      <td>0</td>\n",
              "      <td>0</td>\n",
              "      <td>0</td>\n",
              "      <td>1</td>\n",
              "      <td>0</td>\n",
              "      <td>0</td>\n",
              "    </tr>\n",
              "  </tbody>\n",
              "</table>\n",
              "<p>2 rows × 24 columns</p>\n",
              "</div>\n",
              "    <div class=\"colab-df-buttons\">\n",
              "\n",
              "  <div class=\"colab-df-container\">\n",
              "    <button class=\"colab-df-convert\" onclick=\"convertToInteractive('df-e4262c95-4184-475d-9d98-278538629a63')\"\n",
              "            title=\"Convert this dataframe to an interactive table.\"\n",
              "            style=\"display:none;\">\n",
              "\n",
              "  <svg xmlns=\"http://www.w3.org/2000/svg\" height=\"24px\" viewBox=\"0 -960 960 960\">\n",
              "    <path d=\"M120-120v-720h720v720H120Zm60-500h600v-160H180v160Zm220 220h160v-160H400v160Zm0 220h160v-160H400v160ZM180-400h160v-160H180v160Zm440 0h160v-160H620v160ZM180-180h160v-160H180v160Zm440 0h160v-160H620v160Z\"/>\n",
              "  </svg>\n",
              "    </button>\n",
              "\n",
              "  <style>\n",
              "    .colab-df-container {\n",
              "      display:flex;\n",
              "      gap: 12px;\n",
              "    }\n",
              "\n",
              "    .colab-df-convert {\n",
              "      background-color: #E8F0FE;\n",
              "      border: none;\n",
              "      border-radius: 50%;\n",
              "      cursor: pointer;\n",
              "      display: none;\n",
              "      fill: #1967D2;\n",
              "      height: 32px;\n",
              "      padding: 0 0 0 0;\n",
              "      width: 32px;\n",
              "    }\n",
              "\n",
              "    .colab-df-convert:hover {\n",
              "      background-color: #E2EBFA;\n",
              "      box-shadow: 0px 1px 2px rgba(60, 64, 67, 0.3), 0px 1px 3px 1px rgba(60, 64, 67, 0.15);\n",
              "      fill: #174EA6;\n",
              "    }\n",
              "\n",
              "    .colab-df-buttons div {\n",
              "      margin-bottom: 4px;\n",
              "    }\n",
              "\n",
              "    [theme=dark] .colab-df-convert {\n",
              "      background-color: #3B4455;\n",
              "      fill: #D2E3FC;\n",
              "    }\n",
              "\n",
              "    [theme=dark] .colab-df-convert:hover {\n",
              "      background-color: #434B5C;\n",
              "      box-shadow: 0px 1px 3px 1px rgba(0, 0, 0, 0.15);\n",
              "      filter: drop-shadow(0px 1px 2px rgba(0, 0, 0, 0.3));\n",
              "      fill: #FFFFFF;\n",
              "    }\n",
              "  </style>\n",
              "\n",
              "    <script>\n",
              "      const buttonEl =\n",
              "        document.querySelector('#df-e4262c95-4184-475d-9d98-278538629a63 button.colab-df-convert');\n",
              "      buttonEl.style.display =\n",
              "        google.colab.kernel.accessAllowed ? 'block' : 'none';\n",
              "\n",
              "      async function convertToInteractive(key) {\n",
              "        const element = document.querySelector('#df-e4262c95-4184-475d-9d98-278538629a63');\n",
              "        const dataTable =\n",
              "          await google.colab.kernel.invokeFunction('convertToInteractive',\n",
              "                                                    [key], {});\n",
              "        if (!dataTable) return;\n",
              "\n",
              "        const docLinkHtml = 'Like what you see? Visit the ' +\n",
              "          '<a target=\"_blank\" href=https://colab.research.google.com/notebooks/data_table.ipynb>data table notebook</a>'\n",
              "          + ' to learn more about interactive tables.';\n",
              "        element.innerHTML = '';\n",
              "        dataTable['output_type'] = 'display_data';\n",
              "        await google.colab.output.renderOutput(dataTable, element);\n",
              "        const docLink = document.createElement('div');\n",
              "        docLink.innerHTML = docLinkHtml;\n",
              "        element.appendChild(docLink);\n",
              "      }\n",
              "    </script>\n",
              "  </div>\n",
              "\n",
              "\n",
              "    <div id=\"df-a660b78b-47a4-434b-a7e6-a35306da6aae\">\n",
              "      <button class=\"colab-df-quickchart\" onclick=\"quickchart('df-a660b78b-47a4-434b-a7e6-a35306da6aae')\"\n",
              "                title=\"Suggest charts\"\n",
              "                style=\"display:none;\">\n",
              "\n",
              "<svg xmlns=\"http://www.w3.org/2000/svg\" height=\"24px\"viewBox=\"0 0 24 24\"\n",
              "     width=\"24px\">\n",
              "    <g>\n",
              "        <path d=\"M19 3H5c-1.1 0-2 .9-2 2v14c0 1.1.9 2 2 2h14c1.1 0 2-.9 2-2V5c0-1.1-.9-2-2-2zM9 17H7v-7h2v7zm4 0h-2V7h2v10zm4 0h-2v-4h2v4z\"/>\n",
              "    </g>\n",
              "</svg>\n",
              "      </button>\n",
              "\n",
              "<style>\n",
              "  .colab-df-quickchart {\n",
              "      --bg-color: #E8F0FE;\n",
              "      --fill-color: #1967D2;\n",
              "      --hover-bg-color: #E2EBFA;\n",
              "      --hover-fill-color: #174EA6;\n",
              "      --disabled-fill-color: #AAA;\n",
              "      --disabled-bg-color: #DDD;\n",
              "  }\n",
              "\n",
              "  [theme=dark] .colab-df-quickchart {\n",
              "      --bg-color: #3B4455;\n",
              "      --fill-color: #D2E3FC;\n",
              "      --hover-bg-color: #434B5C;\n",
              "      --hover-fill-color: #FFFFFF;\n",
              "      --disabled-bg-color: #3B4455;\n",
              "      --disabled-fill-color: #666;\n",
              "  }\n",
              "\n",
              "  .colab-df-quickchart {\n",
              "    background-color: var(--bg-color);\n",
              "    border: none;\n",
              "    border-radius: 50%;\n",
              "    cursor: pointer;\n",
              "    display: none;\n",
              "    fill: var(--fill-color);\n",
              "    height: 32px;\n",
              "    padding: 0;\n",
              "    width: 32px;\n",
              "  }\n",
              "\n",
              "  .colab-df-quickchart:hover {\n",
              "    background-color: var(--hover-bg-color);\n",
              "    box-shadow: 0 1px 2px rgba(60, 64, 67, 0.3), 0 1px 3px 1px rgba(60, 64, 67, 0.15);\n",
              "    fill: var(--button-hover-fill-color);\n",
              "  }\n",
              "\n",
              "  .colab-df-quickchart-complete:disabled,\n",
              "  .colab-df-quickchart-complete:disabled:hover {\n",
              "    background-color: var(--disabled-bg-color);\n",
              "    fill: var(--disabled-fill-color);\n",
              "    box-shadow: none;\n",
              "  }\n",
              "\n",
              "  .colab-df-spinner {\n",
              "    border: 2px solid var(--fill-color);\n",
              "    border-color: transparent;\n",
              "    border-bottom-color: var(--fill-color);\n",
              "    animation:\n",
              "      spin 1s steps(1) infinite;\n",
              "  }\n",
              "\n",
              "  @keyframes spin {\n",
              "    0% {\n",
              "      border-color: transparent;\n",
              "      border-bottom-color: var(--fill-color);\n",
              "      border-left-color: var(--fill-color);\n",
              "    }\n",
              "    20% {\n",
              "      border-color: transparent;\n",
              "      border-left-color: var(--fill-color);\n",
              "      border-top-color: var(--fill-color);\n",
              "    }\n",
              "    30% {\n",
              "      border-color: transparent;\n",
              "      border-left-color: var(--fill-color);\n",
              "      border-top-color: var(--fill-color);\n",
              "      border-right-color: var(--fill-color);\n",
              "    }\n",
              "    40% {\n",
              "      border-color: transparent;\n",
              "      border-right-color: var(--fill-color);\n",
              "      border-top-color: var(--fill-color);\n",
              "    }\n",
              "    60% {\n",
              "      border-color: transparent;\n",
              "      border-right-color: var(--fill-color);\n",
              "    }\n",
              "    80% {\n",
              "      border-color: transparent;\n",
              "      border-right-color: var(--fill-color);\n",
              "      border-bottom-color: var(--fill-color);\n",
              "    }\n",
              "    90% {\n",
              "      border-color: transparent;\n",
              "      border-bottom-color: var(--fill-color);\n",
              "    }\n",
              "  }\n",
              "</style>\n",
              "\n",
              "      <script>\n",
              "        async function quickchart(key) {\n",
              "          const quickchartButtonEl =\n",
              "            document.querySelector('#' + key + ' button');\n",
              "          quickchartButtonEl.disabled = true;  // To prevent multiple clicks.\n",
              "          quickchartButtonEl.classList.add('colab-df-spinner');\n",
              "          try {\n",
              "            const charts = await google.colab.kernel.invokeFunction(\n",
              "                'suggestCharts', [key], {});\n",
              "          } catch (error) {\n",
              "            console.error('Error during call to suggestCharts:', error);\n",
              "          }\n",
              "          quickchartButtonEl.classList.remove('colab-df-spinner');\n",
              "          quickchartButtonEl.classList.add('colab-df-quickchart-complete');\n",
              "        }\n",
              "        (() => {\n",
              "          let quickchartButtonEl =\n",
              "            document.querySelector('#df-a660b78b-47a4-434b-a7e6-a35306da6aae button');\n",
              "          quickchartButtonEl.style.display =\n",
              "            google.colab.kernel.accessAllowed ? 'block' : 'none';\n",
              "        })();\n",
              "      </script>\n",
              "    </div>\n",
              "\n",
              "    </div>\n",
              "  </div>\n"
            ],
            "application/vnd.google.colaboratory.intrinsic+json": {
              "type": "dataframe"
            }
          },
          "metadata": {},
          "execution_count": 57
        }
      ]
    },
    {
      "cell_type": "code",
      "source": [
        "# Downcast numeric columns to smallest possible types\n",
        "for col in df_download.select_dtypes(include=['int', 'float']).columns:\n",
        "    if pd.api.types.is_integer_dtype(df_download[col]):\n",
        "        df_download[col] = pd.to_numeric(df_download[col], downcast='integer')\n",
        "    elif pd.api.types.is_float_dtype(df_download[col]):\n",
        "        df_download[col] = pd.to_numeric(df_download[col], downcast='float')\n",
        "        df_download[col] = pd.to_numeric(df_download[col], downcast='float')"
      ],
      "metadata": {
        "id": "xdHlFyFggyBt"
      },
      "execution_count": null,
      "outputs": []
    },
    {
      "cell_type": "code",
      "source": [
        "# del df_download['date']"
      ],
      "metadata": {
        "id": "Sa5DyTIhT49u"
      },
      "execution_count": null,
      "outputs": []
    },
    {
      "cell_type": "code",
      "source": [
        "df_download.info()"
      ],
      "metadata": {
        "colab": {
          "base_uri": "https://localhost:8080/"
        },
        "id": "iRTj_xx8uE7R",
        "outputId": "d922cfc8-1e1b-44b1-dd5a-8dc8cfe5b63e"
      },
      "execution_count": null,
      "outputs": [
        {
          "output_type": "stream",
          "name": "stdout",
          "text": [
            "<class 'pandas.core.frame.DataFrame'>\n",
            "RangeIndex: 26307 entries, 0 to 26306\n",
            "Data columns (total 24 columns):\n",
            " #   Column                  Non-Null Count  Dtype  \n",
            "---  ------                  --------------  -----  \n",
            " 0   unit_sales              26307 non-null  float32\n",
            " 1   store_nbr               26307 non-null  int8   \n",
            " 2   item_nbr                26307 non-null  int32  \n",
            " 3   onpromotion             26307 non-null  int8   \n",
            " 4   dcoilwtico              26307 non-null  float32\n",
            " 5   transferred             26307 non-null  int8   \n",
            " 6   item_class              26307 non-null  int16  \n",
            " 7   transactions            26307 non-null  int16  \n",
            " 8   weighted_unit_sales     26307 non-null  float32\n",
            " 9   date                    26307 non-null  object \n",
            " 10  month                   26307 non-null  int8   \n",
            " 11  day                     26307 non-null  int8   \n",
            " 12  week                    26307 non-null  int8   \n",
            " 13  day_of_week             26307 non-null  int8   \n",
            " 14  year_scaled             26307 non-null  int8   \n",
            " 15  city_Daule              26307 non-null  int8   \n",
            " 16  city_Guayaquil          26307 non-null  int8   \n",
            " 17  city_Libertad           26307 non-null  int8   \n",
            " 18  city_Playas             26307 non-null  int8   \n",
            " 19  city_nan                26307 non-null  int8   \n",
            " 20  items_family_BEVERAGES  26307 non-null  int8   \n",
            " 21  items_family_CLEANING   26307 non-null  int8   \n",
            " 22  items_family_GROCERY I  26307 non-null  int8   \n",
            " 23  items_family_nan        26307 non-null  int8   \n",
            "dtypes: float32(3), int16(2), int32(1), int8(17), object(1)\n",
            "memory usage: 1.1+ MB\n"
          ]
        }
      ]
    },
    {
      "cell_type": "code",
      "source": [
        "df_sxg = df_download.copy()"
      ],
      "metadata": {
        "id": "QIDvGMryg_G5"
      },
      "execution_count": null,
      "outputs": []
    },
    {
      "cell_type": "markdown",
      "source": [
        "As illustrated in the graph presented here, the price of oil exhibits considerable volatility over the selected period. As explained in greater detail on my GitHub page, the findings of my previous research indicate that shopping activity in Ecuador is strongly influenced by the external factor of global oil prices. Therefore, accurate predictions of shopping trends are only feasible when social and geographic shopping areas are clustered, and the oil price factor is incorporated into the analysis."
      ],
      "metadata": {
        "id": "5d86IJljtWG7"
      }
    },
    {
      "cell_type": "code",
      "source": [
        "df_sxg['date'] = pd.to_datetime(df_sxg['date'])\n",
        "\n",
        "df_sxg = df_sxg.sort_values('date')\n",
        "\n",
        "sales_per_day = df_sxg.groupby('date')['weighted_unit_sales'].sum()\n",
        "\n",
        "fig, (ax1, ax2) = plt.subplots(2, 1, figsize=(12, 8), sharex=True)\n",
        "\n",
        "ax1.plot(sales_per_day.index, sales_per_day.values, color='green', label='Total Unit Sales')\n",
        "ax1.set_title('Shopping Activity Over Time (Total Unit Sales)', fontsize=16)\n",
        "ax1.set_ylabel('Total Unit Sales', fontsize=14)\n",
        "ax1.legend()\n",
        "ax1.grid(True)\n",
        "\n",
        "ax2.plot(df_sxg['date'], df_sxg['dcoilwtico'], color='blue', label='Oil Price')\n",
        "ax2.set_title('Oil Prices Over Time', fontsize=16)\n",
        "ax2.set_xlabel('date', fontsize=14)\n",
        "ax2.set_ylabel('Oil Price (dcoilwtico)', fontsize=14)\n",
        "ax2.legend()\n",
        "ax2.grid(True)\n",
        "\n",
        "plt.tight_layout()\n",
        "plt.show()"
      ],
      "metadata": {
        "colab": {
          "base_uri": "https://localhost:8080/",
          "height": 806
        },
        "id": "gC_akTtCtfWZ",
        "outputId": "88b41636-55a0-4920-86ad-ec93f622b76d"
      },
      "execution_count": null,
      "outputs": [
        {
          "output_type": "display_data",
          "data": {
            "text/plain": [
              "<Figure size 1200x800 with 2 Axes>"
            ],
            "image/png": "[encoded data removed]"
          },
          "metadata": {}
        }
      ]
    },
    {
      "cell_type": "markdown",
      "source": [
        "# XGBoost models"
      ],
      "metadata": {
        "id": "Z1DhRwidunWE"
      }
    },
    {
      "cell_type": "markdown",
      "source": [
        "## simple XGBoost model"
      ],
      "metadata": {
        "id": "yAYhj9z-uvDP"
      }
    },
    {
      "cell_type": "markdown",
      "source": [
        "Create Lag Features"
      ],
      "metadata": {
        "id": "jYvUgnLOvVaE"
      }
    },
    {
      "cell_type": "code",
      "source": [
        "# I will create lags on full dataset, then split again\n",
        "df_lag = df_sxg[['date', 'weighted_unit_sales']].copy()\n",
        "\n",
        "# Create lag features (1-day and 2-day lags)\n",
        "df_lag['lag_1'] = df_lag['weighted_unit_sales'].shift(1)\n",
        "df_lag['lag_2'] = df_lag['weighted_unit_sales'].shift(2)\n",
        "df_lag['lag_3'] = df_lag['weighted_unit_sales'].shift(3)"
      ],
      "metadata": {
        "id": "r6-fsrudvZrq"
      },
      "execution_count": null,
      "outputs": []
    },
    {
      "cell_type": "markdown",
      "source": [
        "Add Rolling Features (Optional but Helpful)"
      ],
      "metadata": {
        "id": "K3hq8bqmwupc"
      }
    },
    {
      "cell_type": "code",
      "source": [
        "df_lag['rolling_mean_7'] = df_lag['weighted_unit_sales'].rolling(window=7).mean() # Add Rolling Features to Full Dataset\n",
        "df_lag['rolling_std_7'] = df_lag['weighted_unit_sales'].rolling(window=7).std()"
      ],
      "metadata": {
        "id": "YMSpUMLqwydV"
      },
      "execution_count": null,
      "outputs": []
    },
    {
      "cell_type": "markdown",
      "source": [
        "Drop NaNs from Lags"
      ],
      "metadata": {
        "id": "bOMUCCOuvy0E"
      }
    },
    {
      "cell_type": "code",
      "source": [
        "# Drop rows where lag values are NaN (only affects the first 3 rows)\n",
        "df_lag.dropna(inplace=True)"
      ],
      "metadata": {
        "id": "2ozUpbCcv4b3"
      },
      "execution_count": null,
      "outputs": []
    },
    {
      "cell_type": "markdown",
      "source": [
        "Split Train/Test Again (after lags)"
      ],
      "metadata": {
        "id": "TBl8Wvo_wA1E"
      }
    },
    {
      "cell_type": "code",
      "source": [
        "split_date = '05-Jan-2014' # split such a way that it should not include holidays effect"
      ],
      "metadata": {
        "id": "Fjz0pSbfwFT1"
      },
      "execution_count": null,
      "outputs": []
    },
    {
      "cell_type": "code",
      "source": [
        "df_train = df_lag[df_lag['date'] <= split_date].copy() # Now apply the split again on df_lag\n",
        "df_test = df_lag[df_lag['date'] > split_date].copy()"
      ],
      "metadata": {
        "id": "NAE5nSM_wbRr"
      },
      "execution_count": null,
      "outputs": []
    },
    {
      "cell_type": "markdown",
      "source": [
        "Now the df_lag has:\n",
        "\n",
        "\n",
        "•          lag_1, lag_2, lag_3\n",
        "\n",
        "•          rolling_mean_7, rolling_std_7\n",
        "\n",
        "•          weighted_unit_sales (target)"
      ],
      "metadata": {
        "id": "5CYvibFsxp6z"
      }
    },
    {
      "cell_type": "markdown",
      "source": [
        "Split Again (Final Time)"
      ],
      "metadata": {
        "id": "WKntCF_ix27e"
      }
    },
    {
      "cell_type": "code",
      "source": [
        "df_train = df_lag[df_lag['date'] <= split_date].copy()\n",
        "df_test = df_lag[df_lag['date'] > split_date].copy()"
      ],
      "metadata": {
        "id": "qzb9YYRryFph"
      },
      "execution_count": null,
      "outputs": []
    },
    {
      "cell_type": "markdown",
      "source": [
        "Define Features and Target"
      ],
      "metadata": {
        "id": "7En8_KEtyKgW"
      }
    },
    {
      "cell_type": "code",
      "source": [
        "feature_cols = ['lag_1', 'lag_2', 'lag_3', 'rolling_mean_7', 'rolling_std_7']\n",
        "\n",
        "X_train = df_train[feature_cols]\n",
        "y_train = df_train['weighted_unit_sales']\n",
        "\n",
        "X_test = df_test[feature_cols]\n",
        "y_test = df_test['weighted_unit_sales']"
      ],
      "metadata": {
        "id": "ipIWFjRiyR8H"
      },
      "execution_count": null,
      "outputs": []
    },
    {
      "cell_type": "markdown",
      "source": [
        "Fit XGBoost"
      ],
      "metadata": {
        "id": "rv78OQLNyWW0"
      }
    },
    {
      "cell_type": "code",
      "source": [
        "model = XGBRegressor(n_estimators=100, learning_rate=0.1) # Now XGBRegressor is properly imported and can be used.\n",
        "model.fit(X_train, y_train)"
      ],
      "metadata": {
        "colab": {
          "base_uri": "https://localhost:8080/",
          "height": 254
        },
        "id": "RsmhDzjdykmC",
        "outputId": "5c285b3c-bb66-493e-e573-0f2bd339ceac"
      },
      "execution_count": null,
      "outputs": [
        {
          "output_type": "execute_result",
          "data": {
            "text/plain": [
              "XGBRegressor(base_score=None, booster=None, callbacks=None,\n",
              "             colsample_bylevel=None, colsample_bynode=None,\n",
              "             colsample_bytree=None, device=None, early_stopping_rounds=None,\n",
              "             enable_categorical=False, eval_metric=None, feature_types=None,\n",
              "             gamma=None, grow_policy=None, importance_type=None,\n",
              "             interaction_constraints=None, learning_rate=0.1, max_bin=None,\n",
              "             max_cat_threshold=None, max_cat_to_onehot=None,\n",
              "             max_delta_step=None, max_depth=None, max_leaves=None,\n",
              "             min_child_weight=None, missing=nan, monotone_constraints=None,\n",
              "             multi_strategy=None, n_estimators=100, n_jobs=None,\n",
              "             num_parallel_tree=None, random_state=None, ...)"
            ],
            "text/html": [
              "<style>#sk-container-id-3 {\n",
              "  /* Definition of color scheme common for light and dark mode */\n",
              "  --sklearn-color-text: #000;\n",
              "  --sklearn-color-text-muted: #666;\n",
              "  --sklearn-color-line: gray;\n",
              "  /* Definition of color scheme for unfitted estimators */\n",
              "  --sklearn-color-unfitted-level-0: #fff5e6;\n",
              "  --sklearn-color-unfitted-level-1: #f6e4d2;\n",
              "  --sklearn-color-unfitted-level-2: #ffe0b3;\n",
              "  --sklearn-color-unfitted-level-3: chocolate;\n",
              "  /* Definition of color scheme for fitted estimators */\n",
              "  --sklearn-color-fitted-level-0: #f0f8ff;\n",
              "  --sklearn-color-fitted-level-1: #d4ebff;\n",
              "  --sklearn-color-fitted-level-2: #b3dbfd;\n",
              "  --sklearn-color-fitted-level-3: cornflowerblue;\n",
              "\n",
              "  /* Specific color for light theme */\n",
              "  --sklearn-color-text-on-default-background: var(--sg-text-color, var(--theme-code-foreground, var(--jp-content-font-color1, black)));\n",
              "  --sklearn-color-background: var(--sg-background-color, var(--theme-background, var(--jp-layout-color0, white)));\n",
              "  --sklearn-color-border-box: var(--sg-text-color, var(--theme-code-foreground, var(--jp-content-font-color1, black)));\n",
              "  --sklearn-color-icon: #696969;\n",
              "\n",
              "  @media (prefers-color-scheme: dark) {\n",
              "    /* Redefinition of color scheme for dark theme */\n",
              "    --sklearn-color-text-on-default-background: var(--sg-text-color, var(--theme-code-foreground, var(--jp-content-font-color1, white)));\n",
              "    --sklearn-color-background: var(--sg-background-color, var(--theme-background, var(--jp-layout-color0, #111)));\n",
              "    --sklearn-color-border-box: var(--sg-text-color, var(--theme-code-foreground, var(--jp-content-font-color1, white)));\n",
              "    --sklearn-color-icon: #878787;\n",
              "  }\n",
              "}\n",
              "\n",
              "#sk-container-id-3 {\n",
              "  color: var(--sklearn-color-text);\n",
              "}\n",
              "\n",
              "#sk-container-id-3 pre {\n",
              "  padding: 0;\n",
              "}\n",
              "\n",
              "#sk-container-id-3 input.sk-hidden--visually {\n",
              "  border: 0;\n",
              "  clip: rect(1px 1px 1px 1px);\n",
              "  clip: rect(1px, 1px, 1px, 1px);\n",
              "  height: 1px;\n",
              "  margin: -1px;\n",
              "  overflow: hidden;\n",
              "  padding: 0;\n",
              "  position: absolute;\n",
              "  width: 1px;\n",
              "}\n",
              "\n",
              "#sk-container-id-3 div.sk-dashed-wrapped {\n",
              "  border: 1px dashed var(--sklearn-color-line);\n",
              "  margin: 0 0.4em 0.5em 0.4em;\n",
              "  box-sizing: border-box;\n",
              "  padding-bottom: 0.4em;\n",
              "  background-color: var(--sklearn-color-background);\n",
              "}\n",
              "\n",
              "#sk-container-id-3 div.sk-container {\n",
              "  /* jupyter's `normalize.less` sets `[hidden] { display: none; }`\n",
              "     but bootstrap.min.css set `[hidden] { display: none !important; }`\n",
              "     so we also need the `!important` here to be able to override the\n",
              "     default hidden behavior on the sphinx rendered scikit-learn.org.\n",
              "     See: https://github.com/scikit-learn/scikit-learn/issues/21755 */\n",
              "  display: inline-block !important;\n",
              "  position: relative;\n",
              "}\n",
              "\n",
              "#sk-container-id-3 div.sk-text-repr-fallback {\n",
              "  display: none;\n",
              "}\n",
              "\n",
              "div.sk-parallel-item,\n",
              "div.sk-serial,\n",
              "div.sk-item {\n",
              "  /* draw centered vertical line to link estimators */\n",
              "  background-image: linear-gradient(var(--sklearn-color-text-on-default-background), var(--sklearn-color-text-on-default-background));\n",
              "  background-size: 2px 100%;\n",
              "  background-repeat: no-repeat;\n",
              "  background-position: center center;\n",
              "}\n",
              "\n",
              "/* Parallel-specific style estimator block */\n",
              "\n",
              "#sk-container-id-3 div.sk-parallel-item::after {\n",
              "  content: \"\";\n",
              "  width: 100%;\n",
              "  border-bottom: 2px solid var(--sklearn-color-text-on-default-background);\n",
              "  flex-grow: 1;\n",
              "}\n",
              "\n",
              "#sk-container-id-3 div.sk-parallel {\n",
              "  display: flex;\n",
              "  align-items: stretch;\n",
              "  justify-content: center;\n",
              "  background-color: var(--sklearn-color-background);\n",
              "  position: relative;\n",
              "}\n",
              "\n",
              "#sk-container-id-3 div.sk-parallel-item {\n",
              "  display: flex;\n",
              "  flex-direction: column;\n",
              "}\n",
              "\n",
              "#sk-container-id-3 div.sk-parallel-item:first-child::after {\n",
              "  align-self: flex-end;\n",
              "  width: 50%;\n",
              "}\n",
              "\n",
              "#sk-container-id-3 div.sk-parallel-item:last-child::after {\n",
              "  align-self: flex-start;\n",
              "  width: 50%;\n",
              "}\n",
              "\n",
              "#sk-container-id-3 div.sk-parallel-item:only-child::after {\n",
              "  width: 0;\n",
              "}\n",
              "\n",
              "/* Serial-specific style estimator block */\n",
              "\n",
              "#sk-container-id-3 div.sk-serial {\n",
              "  display: flex;\n",
              "  flex-direction: column;\n",
              "  align-items: center;\n",
              "  background-color: var(--sklearn-color-background);\n",
              "  padding-right: 1em;\n",
              "  padding-left: 1em;\n",
              "}\n",
              "\n",
              "\n",
              "/* Toggleable style: style used for estimator/Pipeline/ColumnTransformer box that is\n",
              "clickable and can be expanded/collapsed.\n",
              "- Pipeline and ColumnTransformer use this feature and define the default style\n",
              "- Estimators will overwrite some part of the style using the `sk-estimator` class\n",
              "*/\n",
              "\n",
              "/* Pipeline and ColumnTransformer style (default) */\n",
              "\n",
              "#sk-container-id-3 div.sk-toggleable {\n",
              "  /* Default theme specific background. It is overwritten whether we have a\n",
              "  specific estimator or a Pipeline/ColumnTransformer */\n",
              "  background-color: var(--sklearn-color-background);\n",
              "}\n",
              "\n",
              "/* Toggleable label */\n",
              "#sk-container-id-3 label.sk-toggleable__label {\n",
              "  cursor: pointer;\n",
              "  display: flex;\n",
              "  width: 100%;\n",
              "  margin-bottom: 0;\n",
              "  padding: 0.5em;\n",
              "  box-sizing: border-box;\n",
              "  text-align: center;\n",
              "  align-items: start;\n",
              "  justify-content: space-between;\n",
              "  gap: 0.5em;\n",
              "}\n",
              "\n",
              "#sk-container-id-3 label.sk-toggleable__label .caption {\n",
              "  font-size: 0.6rem;\n",
              "  font-weight: lighter;\n",
              "  color: var(--sklearn-color-text-muted);\n",
              "}\n",
              "\n",
              "#sk-container-id-3 label.sk-toggleable__label-arrow:before {\n",
              "  /* Arrow on the left of the label */\n",
              "  content: \"▸\";\n",
              "  float: left;\n",
              "  margin-right: 0.25em;\n",
              "  color: var(--sklearn-color-icon);\n",
              "}\n",
              "\n",
              "#sk-container-id-3 label.sk-toggleable__label-arrow:hover:before {\n",
              "  color: var(--sklearn-color-text);\n",
              "}\n",
              "\n",
              "/* Toggleable content - dropdown */\n",
              "\n",
              "#sk-container-id-3 div.sk-toggleable__content {\n",
              "  max-height: 0;\n",
              "  max-width: 0;\n",
              "  overflow: hidden;\n",
              "  text-align: left;\n",
              "  /* unfitted */\n",
              "  background-color: var(--sklearn-color-unfitted-level-0);\n",
              "}\n",
              "\n",
              "#sk-container-id-3 div.sk-toggleable__content.fitted {\n",
              "  /* fitted */\n",
              "  background-color: var(--sklearn-color-fitted-level-0);\n",
              "}\n",
              "\n",
              "#sk-container-id-3 div.sk-toggleable__content pre {\n",
              "  margin: 0.2em;\n",
              "  border-radius: 0.25em;\n",
              "  color: var(--sklearn-color-text);\n",
              "  /* unfitted */\n",
              "  background-color: var(--sklearn-color-unfitted-level-0);\n",
              "}\n",
              "\n",
              "#sk-container-id-3 div.sk-toggleable__content.fitted pre {\n",
              "  /* unfitted */\n",
              "  background-color: var(--sklearn-color-fitted-level-0);\n",
              "}\n",
              "\n",
              "#sk-container-id-3 input.sk-toggleable__control:checked~div.sk-toggleable__content {\n",
              "  /* Expand drop-down */\n",
              "  max-height: 200px;\n",
              "  max-width: 100%;\n",
              "  overflow: auto;\n",
              "}\n",
              "\n",
              "#sk-container-id-3 input.sk-toggleable__control:checked~label.sk-toggleable__label-arrow:before {\n",
              "  content: \"▾\";\n",
              "}\n",
              "\n",
              "/* Pipeline/ColumnTransformer-specific style */\n",
              "\n",
              "#sk-container-id-3 div.sk-label input.sk-toggleable__control:checked~label.sk-toggleable__label {\n",
              "  color: var(--sklearn-color-text);\n",
              "  background-color: var(--sklearn-color-unfitted-level-2);\n",
              "}\n",
              "\n",
              "#sk-container-id-3 div.sk-label.fitted input.sk-toggleable__control:checked~label.sk-toggleable__label {\n",
              "  background-color: var(--sklearn-color-fitted-level-2);\n",
              "}\n",
              "\n",
              "/* Estimator-specific style */\n",
              "\n",
              "/* Colorize estimator box */\n",
              "#sk-container-id-3 div.sk-estimator input.sk-toggleable__control:checked~label.sk-toggleable__label {\n",
              "  /* unfitted */\n",
              "  background-color: var(--sklearn-color-unfitted-level-2);\n",
              "}\n",
              "\n",
              "#sk-container-id-3 div.sk-estimator.fitted input.sk-toggleable__control:checked~label.sk-toggleable__label {\n",
              "  /* fitted */\n",
              "  background-color: var(--sklearn-color-fitted-level-2);\n",
              "}\n",
              "\n",
              "#sk-container-id-3 div.sk-label label.sk-toggleable__label,\n",
              "#sk-container-id-3 div.sk-label label {\n",
              "  /* The background is the default theme color */\n",
              "  color: var(--sklearn-color-text-on-default-background);\n",
              "}\n",
              "\n",
              "/* On hover, darken the color of the background */\n",
              "#sk-container-id-3 div.sk-label:hover label.sk-toggleable__label {\n",
              "  color: var(--sklearn-color-text);\n",
              "  background-color: var(--sklearn-color-unfitted-level-2);\n",
              "}\n",
              "\n",
              "/* Label box, darken color on hover, fitted */\n",
              "#sk-container-id-3 div.sk-label.fitted:hover label.sk-toggleable__label.fitted {\n",
              "  color: var(--sklearn-color-text);\n",
              "  background-color: var(--sklearn-color-fitted-level-2);\n",
              "}\n",
              "\n",
              "/* Estimator label */\n",
              "\n",
              "#sk-container-id-3 div.sk-label label {\n",
              "  font-family: monospace;\n",
              "  font-weight: bold;\n",
              "  display: inline-block;\n",
              "  line-height: 1.2em;\n",
              "}\n",
              "\n",
              "#sk-container-id-3 div.sk-label-container {\n",
              "  text-align: center;\n",
              "}\n",
              "\n",
              "/* Estimator-specific */\n",
              "#sk-container-id-3 div.sk-estimator {\n",
              "  font-family: monospace;\n",
              "  border: 1px dotted var(--sklearn-color-border-box);\n",
              "  border-radius: 0.25em;\n",
              "  box-sizing: border-box;\n",
              "  margin-bottom: 0.5em;\n",
              "  /* unfitted */\n",
              "  background-color: var(--sklearn-color-unfitted-level-0);\n",
              "}\n",
              "\n",
              "#sk-container-id-3 div.sk-estimator.fitted {\n",
              "  /* fitted */\n",
              "  background-color: var(--sklearn-color-fitted-level-0);\n",
              "}\n",
              "\n",
              "/* on hover */\n",
              "#sk-container-id-3 div.sk-estimator:hover {\n",
              "  /* unfitted */\n",
              "  background-color: var(--sklearn-color-unfitted-level-2);\n",
              "}\n",
              "\n",
              "#sk-container-id-3 div.sk-estimator.fitted:hover {\n",
              "  /* fitted */\n",
              "  background-color: var(--sklearn-color-fitted-level-2);\n",
              "}\n",
              "\n",
              "/* Specification for estimator info (e.g. \"i\" and \"?\") */\n",
              "\n",
              "/* Common style for \"i\" and \"?\" */\n",
              "\n",
              ".sk-estimator-doc-link,\n",
              "a:link.sk-estimator-doc-link,\n",
              "a:visited.sk-estimator-doc-link {\n",
              "  float: right;\n",
              "  font-size: smaller;\n",
              "  line-height: 1em;\n",
              "  font-family: monospace;\n",
              "  background-color: var(--sklearn-color-background);\n",
              "  border-radius: 1em;\n",
              "  height: 1em;\n",
              "  width: 1em;\n",
              "  text-decoration: none !important;\n",
              "  margin-left: 0.5em;\n",
              "  text-align: center;\n",
              "  /* unfitted */\n",
              "  border: var(--sklearn-color-unfitted-level-1) 1pt solid;\n",
              "  color: var(--sklearn-color-unfitted-level-1);\n",
              "}\n",
              "\n",
              ".sk-estimator-doc-link.fitted,\n",
              "a:link.sk-estimator-doc-link.fitted,\n",
              "a:visited.sk-estimator-doc-link.fitted {\n",
              "  /* fitted */\n",
              "  border: var(--sklearn-color-fitted-level-1) 1pt solid;\n",
              "  color: var(--sklearn-color-fitted-level-1);\n",
              "}\n",
              "\n",
              "/* On hover */\n",
              "div.sk-estimator:hover .sk-estimator-doc-link:hover,\n",
              ".sk-estimator-doc-link:hover,\n",
              "div.sk-label-container:hover .sk-estimator-doc-link:hover,\n",
              ".sk-estimator-doc-link:hover {\n",
              "  /* unfitted */\n",
              "  background-color: var(--sklearn-color-unfitted-level-3);\n",
              "  color: var(--sklearn-color-background);\n",
              "  text-decoration: none;\n",
              "}\n",
              "\n",
              "div.sk-estimator.fitted:hover .sk-estimator-doc-link.fitted:hover,\n",
              ".sk-estimator-doc-link.fitted:hover,\n",
              "div.sk-label-container:hover .sk-estimator-doc-link.fitted:hover,\n",
              ".sk-estimator-doc-link.fitted:hover {\n",
              "  /* fitted */\n",
              "  background-color: var(--sklearn-color-fitted-level-3);\n",
              "  color: var(--sklearn-color-background);\n",
              "  text-decoration: none;\n",
              "}\n",
              "\n",
              "/* Span, style for the box shown on hovering the info icon */\n",
              ".sk-estimator-doc-link span {\n",
              "  display: none;\n",
              "  z-index: 9999;\n",
              "  position: relative;\n",
              "  font-weight: normal;\n",
              "  right: .2ex;\n",
              "  padding: .5ex;\n",
              "  margin: .5ex;\n",
              "  width: min-content;\n",
              "  min-width: 20ex;\n",
              "  max-width: 50ex;\n",
              "  color: var(--sklearn-color-text);\n",
              "  box-shadow: 2pt 2pt 4pt #999;\n",
              "  /* unfitted */\n",
              "  background: var(--sklearn-color-unfitted-level-0);\n",
              "  border: .5pt solid var(--sklearn-color-unfitted-level-3);\n",
              "}\n",
              "\n",
              ".sk-estimator-doc-link.fitted span {\n",
              "  /* fitted */\n",
              "  background: var(--sklearn-color-fitted-level-0);\n",
              "  border: var(--sklearn-color-fitted-level-3);\n",
              "}\n",
              "\n",
              ".sk-estimator-doc-link:hover span {\n",
              "  display: block;\n",
              "}\n",
              "\n",
              "/* \"?\"-specific style due to the `<a>` HTML tag */\n",
              "\n",
              "#sk-container-id-3 a.estimator_doc_link {\n",
              "  float: right;\n",
              "  font-size: 1rem;\n",
              "  line-height: 1em;\n",
              "  font-family: monospace;\n",
              "  background-color: var(--sklearn-color-background);\n",
              "  border-radius: 1rem;\n",
              "  height: 1rem;\n",
              "  width: 1rem;\n",
              "  text-decoration: none;\n",
              "  /* unfitted */\n",
              "  color: var(--sklearn-color-unfitted-level-1);\n",
              "  border: var(--sklearn-color-unfitted-level-1) 1pt solid;\n",
              "}\n",
              "\n",
              "#sk-container-id-3 a.estimator_doc_link.fitted {\n",
              "  /* fitted */\n",
              "  border: var(--sklearn-color-fitted-level-1) 1pt solid;\n",
              "  color: var(--sklearn-color-fitted-level-1);\n",
              "}\n",
              "\n",
              "/* On hover */\n",
              "#sk-container-id-3 a.estimator_doc_link:hover {\n",
              "  /* unfitted */\n",
              "  background-color: var(--sklearn-color-unfitted-level-3);\n",
              "  color: var(--sklearn-color-background);\n",
              "  text-decoration: none;\n",
              "}\n",
              "\n",
              "#sk-container-id-3 a.estimator_doc_link.fitted:hover {\n",
              "  /* fitted */\n",
              "  background-color: var(--sklearn-color-fitted-level-3);\n",
              "}\n",
              "</style><div id=\"sk-container-id-3\" class=\"sk-top-container\"><div class=\"sk-text-repr-fallback\"><pre>XGBRegressor(base_score=None, booster=None, callbacks=None,\n",
              "             colsample_bylevel=None, colsample_bynode=None,\n",
              "             colsample_bytree=None, device=None, early_stopping_rounds=None,\n",
              "             enable_categorical=False, eval_metric=None, feature_types=None,\n",
              "             gamma=None, grow_policy=None, importance_type=None,\n",
              "             interaction_constraints=None, learning_rate=0.1, max_bin=None,\n",
              "             max_cat_threshold=None, max_cat_to_onehot=None,\n",
              "             max_delta_step=None, max_depth=None, max_leaves=None,\n",
              "             min_child_weight=None, missing=nan, monotone_constraints=None,\n",
              "             multi_strategy=None, n_estimators=100, n_jobs=None,\n",
              "             num_parallel_tree=None, random_state=None, ...)</pre><b>In a Jupyter environment, please rerun this cell to show the HTML representation or trust the notebook. <br />On GitHub, the HTML representation is unable to render, please try loading this page with nbviewer.org.</b></div><div class=\"sk-container\" hidden><div class=\"sk-item\"><div class=\"sk-estimator fitted sk-toggleable\"><input class=\"sk-toggleable__control sk-hidden--visually\" id=\"sk-estimator-id-3\" type=\"checkbox\" checked><label for=\"sk-estimator-id-3\" class=\"sk-toggleable__label fitted sk-toggleable__label-arrow\"><div><div>XGBRegressor</div></div><div><span class=\"sk-estimator-doc-link fitted\">i<span>Fitted</span></span></div></label><div class=\"sk-toggleable__content fitted\"><pre>XGBRegressor(base_score=None, booster=None, callbacks=None,\n",
              "             colsample_bylevel=None, colsample_bynode=None,\n",
              "             colsample_bytree=None, device=None, early_stopping_rounds=None,\n",
              "             enable_categorical=False, eval_metric=None, feature_types=None,\n",
              "             gamma=None, grow_policy=None, importance_type=None,\n",
              "             interaction_constraints=None, learning_rate=0.1, max_bin=None,\n",
              "             max_cat_threshold=None, max_cat_to_onehot=None,\n",
              "             max_delta_step=None, max_depth=None, max_leaves=None,\n",
              "             min_child_weight=None, missing=nan, monotone_constraints=None,\n",
              "             multi_strategy=None, n_estimators=100, n_jobs=None,\n",
              "             num_parallel_tree=None, random_state=None, ...)</pre></div> </div></div></div></div>"
            ]
          },
          "metadata": {},
          "execution_count": 70
        }
      ]
    },
    {
      "cell_type": "markdown",
      "source": [
        "Make Predictions"
      ],
      "metadata": {
        "id": "Db3z5M4Cy4Jk"
      }
    },
    {
      "cell_type": "code",
      "source": [
        "y_pred = model.predict(X_test)"
      ],
      "metadata": {
        "id": "MiNkE0g3y8O3"
      },
      "execution_count": null,
      "outputs": []
    },
    {
      "cell_type": "markdown",
      "source": [
        "Plot Results"
      ],
      "metadata": {
        "id": "NhVh8qghzC4j"
      }
    },
    {
      "cell_type": "code",
      "source": [
        "plt.figure(figsize=(20, 5))\n",
        "plt.plot(df_test['date'], y_test, label='Actual')\n",
        "plt.plot(df_test['date'], y_pred, label='Predicted')\n",
        "plt.legend()\n",
        "plt.title('XGBoost Forecast vs Actual')\n",
        "plt.show()"
      ],
      "metadata": {
        "colab": {
          "base_uri": "https://localhost:8080/",
          "height": 388
        },
        "id": "8UB99a93zHIz",
        "outputId": "baaba671-6db2-4f7c-a5cd-f2d120d2ad9f"
      },
      "execution_count": null,
      "outputs": [
        {
          "output_type": "display_data",
          "data": {
            "text/plain": [
              "<Figure size 2000x500 with 1 Axes>"
            ],
            "image/png": "[encoded data removed]"
          },
          "metadata": {}
        }
      ]
    },
    {
      "cell_type": "code",
      "source": [
        "print(f\"Shape of df_test: {df_test.shape}\")\n",
        "\n",
        "print(f\"Feature columns: {feature_cols}\")\n",
        "print(f\"X_test shape: {X_test.shape}\")\n",
        "print(f\"y_test shape: {y_test.shape}\")\n",
        "print(f\"y_pred shape: {y_pred.shape}\")"
      ],
      "metadata": {
        "colab": {
          "base_uri": "https://localhost:8080/"
        },
        "id": "Ye7QAzl4W3mT",
        "outputId": "e1e63083-ed22-491b-87c1-81f6734d7963"
      },
      "execution_count": null,
      "outputs": [
        {
          "output_type": "stream",
          "name": "stdout",
          "text": [
            "Shape of df_test: (26301, 7)\n",
            "Feature columns: ['lag_1', 'lag_2', 'lag_3', 'rolling_mean_7', 'rolling_std_7']\n",
            "X_test shape: (26301, 5)\n",
            "y_test shape: (26301,)\n",
            "y_pred shape: (26301,)\n"
          ]
        }
      ]
    },
    {
      "cell_type": "code",
      "source": [
        "# Evaluation\n",
        "mae = mean_absolute_error(y_test, y_pred)\n",
        "rmse = np.sqrt(mean_squared_error(y_test, y_pred))\n",
        "r2 = r2_score(y_test, y_pred)\n",
        "\n",
        "# Print results\n",
        "print(f\"MAE: {mae:.2f}\")\n",
        "print(f\"RMSE: {rmse:.2f}\")\n",
        "print(f\"R²: {r2:.4f}\")"
      ],
      "metadata": {
        "colab": {
          "base_uri": "https://localhost:8080/"
        },
        "id": "88fz_yS8ZE4k",
        "outputId": "f7b2448f-969b-4411-9af4-d2ee4bc2aa64"
      },
      "execution_count": null,
      "outputs": [
        {
          "output_type": "stream",
          "name": "stdout",
          "text": [
            "MAE: 6.99\n",
            "RMSE: 14.59\n",
            "R²: -0.2977\n"
          ]
        }
      ]
    },
    {
      "cell_type": "code",
      "source": [
        "gc.collect() # rubbish collection"
      ],
      "metadata": {
        "colab": {
          "base_uri": "https://localhost:8080/"
        },
        "id": "hJ7O7Kd6w85T",
        "outputId": "514535f9-b9c8-455c-cc9b-4873fa64400b"
      },
      "execution_count": null,
      "outputs": [
        {
          "output_type": "execute_result",
          "data": {
            "text/plain": [
              "9919"
            ]
          },
          "metadata": {},
          "execution_count": 75
        }
      ]
    },
    {
      "cell_type": "markdown",
      "source": [
        "## Step-by-step explanation of XGBRegressor"
      ],
      "metadata": {
        "id": "Cj2Qd4uL0xBG"
      }
    },
    {
      "cell_type": "markdown",
      "source": [
        "**1. What is XGBRegressor?**\n",
        "\n",
        "\t•\tXGBRegressor is a machine learning model from the XGBoost library.\n",
        "\n",
        "\t•\tIt is used to predict numbers (regression),\n",
        "  such as predicting house prices, oil prices, or sales.\n",
        "\n",
        "\t•\tIt works using something called boosted decision trees,\n",
        "  which are just a bunch of smart questions put together to make a good prediction."
      ],
      "metadata": {
        "id": "aC6TIqII08uR"
      }
    },
    {
      "cell_type": "markdown",
      "source": [
        "**2. What does n_estimators=100 mean?**\n",
        "\n",
        "\t•\tThis tells the model to build 100 small decision trees.\n",
        "\n",
        "\t•\tEach new tree tries to fix the mistakes made by the previous ones.\n",
        "\n",
        "\t•\tMore trees can mean better predictions,\n",
        "  but too many might also lead to overfitting (memorising instead of generalising)."
      ],
      "metadata": {
        "id": "7lrVqcOZ1WRu"
      }
    },
    {
      "cell_type": "markdown",
      "source": [
        "**3. What does learning_rate=0.1 mean?**\n",
        "\n",
        "\t•\tThe learning rate controls how much each tree can change the prediction.\n",
        "\n",
        "\t•\tA small number (like 0.1) means the model learns slowly and carefully.\n",
        "\n",
        "\t•\tLower learning rate = safer but may need more trees."
      ],
      "metadata": {
        "id": "i69k1geX1nCQ"
      }
    },
    {
      "cell_type": "markdown",
      "source": [
        "**4. What does model.fit(X_train, y_train) do?**\n",
        "\n",
        "\t•\tThis line trains (fits) the model using your training data.\n",
        "\n",
        "\t•\tX_train is the input features (like income, location, oil price).\n",
        "\n",
        "\t•\ty_train is what you’re trying to predict (like shopping amount).\n",
        "  \n",
        "\t•\tThe model looks at this data and learns patterns."
      ],
      "metadata": {
        "id": "yAetZsec1yQD"
      }
    },
    {
      "cell_type": "markdown",
      "source": [
        "**5. How is this tuning?**\n",
        "\n",
        "\t•\tModel tuning means changing settings\n",
        "  (called hyperparameters) like n_estimators and\n",
        "  learning_rate to get better results.\n",
        "\n",
        "\t•\tIf the model predicts poorly, one can:\n",
        "\n",
        "\t•\tTry more or fewer trees.\n",
        "\n",
        "\t•\tIncrease or decrease the learning rate.\n",
        "\n",
        "\t•\tTry other parameters too (like max_depth, subsample, etc.)."
      ],
      "metadata": {
        "id": "58ylE8p82B8F"
      }
    },
    {
      "cell_type": "markdown",
      "source": [
        "**🔧 What Are Hyperparameters?**\n",
        "\n",
        "\t•\tHyperparameters are settings one chooses before training a machine learning model.\n",
        "\n",
        "\t•\tThey control how the model learns, not what it learns.\n",
        "\n",
        "\t•\tThink of them like baking instructions (temperature, time)\n",
        "  — they affect the final cake, even though the ingredients (the data) stay the same."
      ],
      "metadata": {
        "id": "edTwX_ps2vR_"
      }
    },
    {
      "cell_type": "markdown",
      "source": [
        "### 🔧 Common Hyperparameters in `XGBRegressor`\n",
        "\n",
        "| Hyperparameter      | Description                                                                 | Example / Effect                                         |\n",
        "|---------------------|-----------------------------------------------------------------------------|-----------------------------------------------------------|\n",
        "| `n_estimators`      | Number of trees to build                                                    | Higher = more learning, but slower and risk of overfitting |\n",
        "| `learning_rate`     | Step size shrinkage to prevent overfitting                                  | Lower = safer, needs more trees (e.g. 0.1, 0.01)           |\n",
        "| `max_depth`         | Maximum depth of each tree                                                  | Higher = more complex model, more risk of overfitting     |\n",
        "| `subsample`         | Fraction of training data used per tree                                     | 0.8 = 80% of data; helps prevent overfitting              |\n",
        "| `colsample_bytree`  | Fraction of features used per tree                                          | 0.8 = 80% of features; reduces model complexity           |\n",
        "| `gamma`             | Minimum loss reduction to make a further split                              | Higher = more conservative splits                         |\n",
        "| `reg_alpha`         | L1 regularization term (encourages sparsity)                                | Useful for feature selection                              |\n",
        "| `reg_lambda`        | L2 regularization term (reduces model complexity)                           | Helps prevent overfitting                                 |\n",
        "| `min_child_weight`  | Minimum sum of instance weight (hessian) needed in a child                  | Higher = more conservative splits                         |\n",
        "| `objective`         | Specifies the learning task (e.g. regression, classification)               | `reg:squarederror`, `binary:logistic`, etc.              |\n",
        "| `booster`           | Type of boosting model to use                                               | `gbtree`, `gblinear`, `dart`                              |\n",
        "| `tree_method`       | Algorithm used to grow trees                                                | `auto`, `hist`, `gpu_hist` (for GPU training)            |"
      ],
      "metadata": {
        "id": "HZYw4DU_4ZwD"
      }
    },
    {
      "cell_type": "code",
      "source": [
        "'''\n",
        "from xgboost import XGBRegressor\n",
        "\n",
        "# Basic example of applying hyperparameters:\n",
        "# - n_estimators: number of trees (100)\n",
        "# - learning_rate: how fast the model learns (0.1)\n",
        "\n",
        "model = XGBRegressor(n_estimators=100, learning_rate=0.1)\n",
        "\n",
        "# Fit the model to training data (learns from X_train to predict y_train)\n",
        "model.fit(X_train, y_train)\n",
        "'''"
      ],
      "metadata": {
        "colab": {
          "base_uri": "https://localhost:8080/",
          "height": 71
        },
        "id": "W-NSlPVY5JlL",
        "outputId": "2b49df28-d11f-44f3-aca4-1e84a8416405"
      },
      "execution_count": null,
      "outputs": [
        {
          "output_type": "execute_result",
          "data": {
            "text/plain": [
              "'\\nfrom xgboost import XGBRegressor\\n\\n# Basic example of applying hyperparameters:\\n# - n_estimators: number of trees (100)\\n# - learning_rate: how fast the model learns (0.1)\\n\\nmodel = XGBRegressor(n_estimators=100, learning_rate=0.1)\\n\\n# Fit the model to training data (learns from X_train to predict y_train)\\nmodel.fit(X_train, y_train)\\n'"
            ],
            "application/vnd.google.colaboratory.intrinsic+json": {
              "type": "string"
            }
          },
          "metadata": {},
          "execution_count": 76
        }
      ]
    },
    {
      "cell_type": "markdown",
      "source": [
        "## XGBoost hyperparameters"
      ],
      "metadata": {
        "id": "JZUAsozuTcHl"
      }
    },
    {
      "cell_type": "code",
      "source": [
        "df_hxg = df_download.copy()"
      ],
      "metadata": {
        "id": "WSUiMUMfTF4t"
      },
      "execution_count": null,
      "outputs": []
    },
    {
      "cell_type": "code",
      "source": [
        "xgb = XGBRegressor(objective='reg:squarederror', random_state=42) # Base model"
      ],
      "metadata": {
        "id": "U3eMHeyufE7B"
      },
      "execution_count": null,
      "outputs": []
    },
    {
      "cell_type": "code",
      "source": [
        "df_hxg.sample(2)"
      ],
      "metadata": {
        "colab": {
          "base_uri": "https://localhost:8080/",
          "height": 214
        },
        "id": "BGgDZ7DgTik9",
        "outputId": "cafc2744-8ab5-42d1-a37c-512d2882b4b3"
      },
      "execution_count": null,
      "outputs": [
        {
          "output_type": "execute_result",
          "data": {
            "text/plain": [
              "       unit_sales  store_nbr  item_nbr  onpromotion  dcoilwtico  transferred  \\\n",
              "23679         1.0         27    371434            0   47.650002            0   \n",
              "18174         7.0         24   1143685            0   55.970001            0   \n",
              "\n",
              "       item_class  transactions  weighted_unit_sales        date  ...  \\\n",
              "23679        1058          1359                  1.0  2015-02-26  ...   \n",
              "18174        1124          2897                  7.0  2014-12-16  ...   \n",
              "\n",
              "       year_scaled  city_Daule  city_Guayaquil  city_Libertad  city_Playas  \\\n",
              "23679           -2           1               0              0            0   \n",
              "18174           -3           0               1              0            0   \n",
              "\n",
              "       city_nan  items_family_BEVERAGES  items_family_CLEANING  \\\n",
              "23679         0                       0                      0   \n",
              "18174         0                       1                      0   \n",
              "\n",
              "       items_family_GROCERY I  items_family_nan  \n",
              "23679                       1                 0  \n",
              "18174                       0                 0  \n",
              "\n",
              "[2 rows x 24 columns]"
            ],
            "text/html": [
              "\n",
              "  <div id=\"df-ee5a1fcc-d0fe-44a9-a28e-2f812a6136fd\" class=\"colab-df-container\">\n",
              "    <div>\n",
              "<style scoped>\n",
              "    .dataframe tbody tr th:only-of-type {\n",
              "        vertical-align: middle;\n",
              "    }\n",
              "\n",
              "    .dataframe tbody tr th {\n",
              "        vertical-align: top;\n",
              "    }\n",
              "\n",
              "    .dataframe thead th {\n",
              "        text-align: right;\n",
              "    }\n",
              "</style>\n",
              "<table border=\"1\" class=\"dataframe\">\n",
              "  <thead>\n",
              "    <tr style=\"text-align: right;\">\n",
              "      <th></th>\n",
              "      <th>unit_sales</th>\n",
              "      <th>store_nbr</th>\n",
              "      <th>item_nbr</th>\n",
              "      <th>onpromotion</th>\n",
              "      <th>dcoilwtico</th>\n",
              "      <th>transferred</th>\n",
              "      <th>item_class</th>\n",
              "      <th>transactions</th>\n",
              "      <th>weighted_unit_sales</th>\n",
              "      <th>date</th>\n",
              "      <th>...</th>\n",
              "      <th>year_scaled</th>\n",
              "      <th>city_Daule</th>\n",
              "      <th>city_Guayaquil</th>\n",
              "      <th>city_Libertad</th>\n",
              "      <th>city_Playas</th>\n",
              "      <th>city_nan</th>\n",
              "      <th>items_family_BEVERAGES</th>\n",
              "      <th>items_family_CLEANING</th>\n",
              "      <th>items_family_GROCERY I</th>\n",
              "      <th>items_family_nan</th>\n",
              "    </tr>\n",
              "  </thead>\n",
              "  <tbody>\n",
              "    <tr>\n",
              "      <th>23679</th>\n",
              "      <td>1.0</td>\n",
              "      <td>27</td>\n",
              "      <td>371434</td>\n",
              "      <td>0</td>\n",
              "      <td>47.650002</td>\n",
              "      <td>0</td>\n",
              "      <td>1058</td>\n",
              "      <td>1359</td>\n",
              "      <td>1.0</td>\n",
              "      <td>2015-02-26</td>\n",
              "      <td>...</td>\n",
              "      <td>-2</td>\n",
              "      <td>1</td>\n",
              "      <td>0</td>\n",
              "      <td>0</td>\n",
              "      <td>0</td>\n",
              "      <td>0</td>\n",
              "      <td>0</td>\n",
              "      <td>0</td>\n",
              "      <td>1</td>\n",
              "      <td>0</td>\n",
              "    </tr>\n",
              "    <tr>\n",
              "      <th>18174</th>\n",
              "      <td>7.0</td>\n",
              "      <td>24</td>\n",
              "      <td>1143685</td>\n",
              "      <td>0</td>\n",
              "      <td>55.970001</td>\n",
              "      <td>0</td>\n",
              "      <td>1124</td>\n",
              "      <td>2897</td>\n",
              "      <td>7.0</td>\n",
              "      <td>2014-12-16</td>\n",
              "      <td>...</td>\n",
              "      <td>-3</td>\n",
              "      <td>0</td>\n",
              "      <td>1</td>\n",
              "      <td>0</td>\n",
              "      <td>0</td>\n",
              "      <td>0</td>\n",
              "      <td>1</td>\n",
              "      <td>0</td>\n",
              "      <td>0</td>\n",
              "      <td>0</td>\n",
              "    </tr>\n",
              "  </tbody>\n",
              "</table>\n",
              "<p>2 rows × 24 columns</p>\n",
              "</div>\n",
              "    <div class=\"colab-df-buttons\">\n",
              "\n",
              "  <div class=\"colab-df-container\">\n",
              "    <button class=\"colab-df-convert\" onclick=\"convertToInteractive('df-ee5a1fcc-d0fe-44a9-a28e-2f812a6136fd')\"\n",
              "            title=\"Convert this dataframe to an interactive table.\"\n",
              "            style=\"display:none;\">\n",
              "\n",
              "  <svg xmlns=\"http://www.w3.org/2000/svg\" height=\"24px\" viewBox=\"0 -960 960 960\">\n",
              "    <path d=\"M120-120v-720h720v720H120Zm60-500h600v-160H180v160Zm220 220h160v-160H400v160Zm0 220h160v-160H400v160ZM180-400h160v-160H180v160Zm440 0h160v-160H620v160ZM180-180h160v-160H180v160Zm440 0h160v-160H620v160Z\"/>\n",
              "  </svg>\n",
              "    </button>\n",
              "\n",
              "  <style>\n",
              "    .colab-df-container {\n",
              "      display:flex;\n",
              "      gap: 12px;\n",
              "    }\n",
              "\n",
              "    .colab-df-convert {\n",
              "      background-color: #E8F0FE;\n",
              "      border: none;\n",
              "      border-radius: 50%;\n",
              "      cursor: pointer;\n",
              "      display: none;\n",
              "      fill: #1967D2;\n",
              "      height: 32px;\n",
              "      padding: 0 0 0 0;\n",
              "      width: 32px;\n",
              "    }\n",
              "\n",
              "    .colab-df-convert:hover {\n",
              "      background-color: #E2EBFA;\n",
              "      box-shadow: 0px 1px 2px rgba(60, 64, 67, 0.3), 0px 1px 3px 1px rgba(60, 64, 67, 0.15);\n",
              "      fill: #174EA6;\n",
              "    }\n",
              "\n",
              "    .colab-df-buttons div {\n",
              "      margin-bottom: 4px;\n",
              "    }\n",
              "\n",
              "    [theme=dark] .colab-df-convert {\n",
              "      background-color: #3B4455;\n",
              "      fill: #D2E3FC;\n",
              "    }\n",
              "\n",
              "    [theme=dark] .colab-df-convert:hover {\n",
              "      background-color: #434B5C;\n",
              "      box-shadow: 0px 1px 3px 1px rgba(0, 0, 0, 0.15);\n",
              "      filter: drop-shadow(0px 1px 2px rgba(0, 0, 0, 0.3));\n",
              "      fill: #FFFFFF;\n",
              "    }\n",
              "  </style>\n",
              "\n",
              "    <script>\n",
              "      const buttonEl =\n",
              "        document.querySelector('#df-ee5a1fcc-d0fe-44a9-a28e-2f812a6136fd button.colab-df-convert');\n",
              "      buttonEl.style.display =\n",
              "        google.colab.kernel.accessAllowed ? 'block' : 'none';\n",
              "\n",
              "      async function convertToInteractive(key) {\n",
              "        const element = document.querySelector('#df-ee5a1fcc-d0fe-44a9-a28e-2f812a6136fd');\n",
              "        const dataTable =\n",
              "          await google.colab.kernel.invokeFunction('convertToInteractive',\n",
              "                                                    [key], {});\n",
              "        if (!dataTable) return;\n",
              "\n",
              "        const docLinkHtml = 'Like what you see? Visit the ' +\n",
              "          '<a target=\"_blank\" href=https://colab.research.google.com/notebooks/data_table.ipynb>data table notebook</a>'\n",
              "          + ' to learn more about interactive tables.';\n",
              "        element.innerHTML = '';\n",
              "        dataTable['output_type'] = 'display_data';\n",
              "        await google.colab.output.renderOutput(dataTable, element);\n",
              "        const docLink = document.createElement('div');\n",
              "        docLink.innerHTML = docLinkHtml;\n",
              "        element.appendChild(docLink);\n",
              "      }\n",
              "    </script>\n",
              "  </div>\n",
              "\n",
              "\n",
              "    <div id=\"df-3d12944a-e96c-4546-ad53-c84202d0e489\">\n",
              "      <button class=\"colab-df-quickchart\" onclick=\"quickchart('df-3d12944a-e96c-4546-ad53-c84202d0e489')\"\n",
              "                title=\"Suggest charts\"\n",
              "                style=\"display:none;\">\n",
              "\n",
              "<svg xmlns=\"http://www.w3.org/2000/svg\" height=\"24px\"viewBox=\"0 0 24 24\"\n",
              "     width=\"24px\">\n",
              "    <g>\n",
              "        <path d=\"M19 3H5c-1.1 0-2 .9-2 2v14c0 1.1.9 2 2 2h14c1.1 0 2-.9 2-2V5c0-1.1-.9-2-2-2zM9 17H7v-7h2v7zm4 0h-2V7h2v10zm4 0h-2v-4h2v4z\"/>\n",
              "    </g>\n",
              "</svg>\n",
              "      </button>\n",
              "\n",
              "<style>\n",
              "  .colab-df-quickchart {\n",
              "      --bg-color: #E8F0FE;\n",
              "      --fill-color: #1967D2;\n",
              "      --hover-bg-color: #E2EBFA;\n",
              "      --hover-fill-color: #174EA6;\n",
              "      --disabled-fill-color: #AAA;\n",
              "      --disabled-bg-color: #DDD;\n",
              "  }\n",
              "\n",
              "  [theme=dark] .colab-df-quickchart {\n",
              "      --bg-color: #3B4455;\n",
              "      --fill-color: #D2E3FC;\n",
              "      --hover-bg-color: #434B5C;\n",
              "      --hover-fill-color: #FFFFFF;\n",
              "      --disabled-bg-color: #3B4455;\n",
              "      --disabled-fill-color: #666;\n",
              "  }\n",
              "\n",
              "  .colab-df-quickchart {\n",
              "    background-color: var(--bg-color);\n",
              "    border: none;\n",
              "    border-radius: 50%;\n",
              "    cursor: pointer;\n",
              "    display: none;\n",
              "    fill: var(--fill-color);\n",
              "    height: 32px;\n",
              "    padding: 0;\n",
              "    width: 32px;\n",
              "  }\n",
              "\n",
              "  .colab-df-quickchart:hover {\n",
              "    background-color: var(--hover-bg-color);\n",
              "    box-shadow: 0 1px 2px rgba(60, 64, 67, 0.3), 0 1px 3px 1px rgba(60, 64, 67, 0.15);\n",
              "    fill: var(--button-hover-fill-color);\n",
              "  }\n",
              "\n",
              "  .colab-df-quickchart-complete:disabled,\n",
              "  .colab-df-quickchart-complete:disabled:hover {\n",
              "    background-color: var(--disabled-bg-color);\n",
              "    fill: var(--disabled-fill-color);\n",
              "    box-shadow: none;\n",
              "  }\n",
              "\n",
              "  .colab-df-spinner {\n",
              "    border: 2px solid var(--fill-color);\n",
              "    border-color: transparent;\n",
              "    border-bottom-color: var(--fill-color);\n",
              "    animation:\n",
              "      spin 1s steps(1) infinite;\n",
              "  }\n",
              "\n",
              "  @keyframes spin {\n",
              "    0% {\n",
              "      border-color: transparent;\n",
              "      border-bottom-color: var(--fill-color);\n",
              "      border-left-color: var(--fill-color);\n",
              "    }\n",
              "    20% {\n",
              "      border-color: transparent;\n",
              "      border-left-color: var(--fill-color);\n",
              "      border-top-color: var(--fill-color);\n",
              "    }\n",
              "    30% {\n",
              "      border-color: transparent;\n",
              "      border-left-color: var(--fill-color);\n",
              "      border-top-color: var(--fill-color);\n",
              "      border-right-color: var(--fill-color);\n",
              "    }\n",
              "    40% {\n",
              "      border-color: transparent;\n",
              "      border-right-color: var(--fill-color);\n",
              "      border-top-color: var(--fill-color);\n",
              "    }\n",
              "    60% {\n",
              "      border-color: transparent;\n",
              "      border-right-color: var(--fill-color);\n",
              "    }\n",
              "    80% {\n",
              "      border-color: transparent;\n",
              "      border-right-color: var(--fill-color);\n",
              "      border-bottom-color: var(--fill-color);\n",
              "    }\n",
              "    90% {\n",
              "      border-color: transparent;\n",
              "      border-bottom-color: var(--fill-color);\n",
              "    }\n",
              "  }\n",
              "</style>\n",
              "\n",
              "      <script>\n",
              "        async function quickchart(key) {\n",
              "          const quickchartButtonEl =\n",
              "            document.querySelector('#' + key + ' button');\n",
              "          quickchartButtonEl.disabled = true;  // To prevent multiple clicks.\n",
              "          quickchartButtonEl.classList.add('colab-df-spinner');\n",
              "          try {\n",
              "            const charts = await google.colab.kernel.invokeFunction(\n",
              "                'suggestCharts', [key], {});\n",
              "          } catch (error) {\n",
              "            console.error('Error during call to suggestCharts:', error);\n",
              "          }\n",
              "          quickchartButtonEl.classList.remove('colab-df-spinner');\n",
              "          quickchartButtonEl.classList.add('colab-df-quickchart-complete');\n",
              "        }\n",
              "        (() => {\n",
              "          let quickchartButtonEl =\n",
              "            document.querySelector('#df-3d12944a-e96c-4546-ad53-c84202d0e489 button');\n",
              "          quickchartButtonEl.style.display =\n",
              "            google.colab.kernel.accessAllowed ? 'block' : 'none';\n",
              "        })();\n",
              "      </script>\n",
              "    </div>\n",
              "\n",
              "    </div>\n",
              "  </div>\n"
            ],
            "application/vnd.google.colaboratory.intrinsic+json": {
              "type": "dataframe"
            }
          },
          "metadata": {},
          "execution_count": 79
        }
      ]
    },
    {
      "cell_type": "code",
      "source": [
        "df_hxg.info()"
      ],
      "metadata": {
        "colab": {
          "base_uri": "https://localhost:8080/"
        },
        "id": "MWeHILElTqcJ",
        "outputId": "37711699-eaf6-4005-b4ec-605546942be9"
      },
      "execution_count": null,
      "outputs": [
        {
          "output_type": "stream",
          "name": "stdout",
          "text": [
            "<class 'pandas.core.frame.DataFrame'>\n",
            "RangeIndex: 26307 entries, 0 to 26306\n",
            "Data columns (total 24 columns):\n",
            " #   Column                  Non-Null Count  Dtype  \n",
            "---  ------                  --------------  -----  \n",
            " 0   unit_sales              26307 non-null  float32\n",
            " 1   store_nbr               26307 non-null  int8   \n",
            " 2   item_nbr                26307 non-null  int32  \n",
            " 3   onpromotion             26307 non-null  int8   \n",
            " 4   dcoilwtico              26307 non-null  float32\n",
            " 5   transferred             26307 non-null  int8   \n",
            " 6   item_class              26307 non-null  int16  \n",
            " 7   transactions            26307 non-null  int16  \n",
            " 8   weighted_unit_sales     26307 non-null  float32\n",
            " 9   date                    26307 non-null  object \n",
            " 10  month                   26307 non-null  int8   \n",
            " 11  day                     26307 non-null  int8   \n",
            " 12  week                    26307 non-null  int8   \n",
            " 13  day_of_week             26307 non-null  int8   \n",
            " 14  year_scaled             26307 non-null  int8   \n",
            " 15  city_Daule              26307 non-null  int8   \n",
            " 16  city_Guayaquil          26307 non-null  int8   \n",
            " 17  city_Libertad           26307 non-null  int8   \n",
            " 18  city_Playas             26307 non-null  int8   \n",
            " 19  city_nan                26307 non-null  int8   \n",
            " 20  items_family_BEVERAGES  26307 non-null  int8   \n",
            " 21  items_family_CLEANING   26307 non-null  int8   \n",
            " 22  items_family_GROCERY I  26307 non-null  int8   \n",
            " 23  items_family_nan        26307 non-null  int8   \n",
            "dtypes: float32(3), int16(2), int32(1), int8(17), object(1)\n",
            "memory usage: 1.1+ MB\n"
          ]
        }
      ]
    },
    {
      "cell_type": "markdown",
      "source": [
        "Create Lag Features"
      ],
      "metadata": {
        "id": "EAXZN9vmpizr"
      }
    },
    {
      "cell_type": "code",
      "source": [
        "# I will create lags on full dataset, then split again\n",
        "df_lag = df_hxg[['date', 'weighted_unit_sales']].copy()\n",
        "\n",
        "# Create lag features (1-day and 2-day lags)\n",
        "df_lag['lag_1'] = df_lag['weighted_unit_sales'].shift(1)\n",
        "df_lag['lag_2'] = df_lag['weighted_unit_sales'].shift(2)\n",
        "df_lag['lag_3'] = df_lag['weighted_unit_sales'].shift(3)"
      ],
      "metadata": {
        "id": "3B0QpYsipoML"
      },
      "execution_count": null,
      "outputs": []
    },
    {
      "cell_type": "markdown",
      "source": [
        "Add Rolling Features (Optional but Helpful)"
      ],
      "metadata": {
        "id": "pf180J0vp5OE"
      }
    },
    {
      "cell_type": "code",
      "source": [
        "df_lag['rolling_mean_7'] = df_lag['weighted_unit_sales'].rolling(window=7).mean() # Add Rolling Features to Full Dataset\n",
        "df_lag['rolling_std_7'] = df_lag['weighted_unit_sales'].rolling(window=7).std()"
      ],
      "metadata": {
        "id": "zbOEzxMWp_7y"
      },
      "execution_count": null,
      "outputs": []
    },
    {
      "cell_type": "markdown",
      "source": [
        "Drop NaNs from Lags"
      ],
      "metadata": {
        "id": "AT5n9Q_QqLin"
      }
    },
    {
      "cell_type": "code",
      "source": [
        "# Drop rows where lag values are NaN (only affects the first 3 rows)\n",
        "df_lag.dropna(inplace=True)"
      ],
      "metadata": {
        "id": "LdpQ9TECqSV4"
      },
      "execution_count": null,
      "outputs": []
    },
    {
      "cell_type": "markdown",
      "source": [
        "Split Train/Test Again (after lags)"
      ],
      "metadata": {
        "id": "Qn7Tebkrqokb"
      }
    },
    {
      "cell_type": "code",
      "source": [
        "split_date = '05-Jan-2014' # split such a way that it should not include holidays effect"
      ],
      "metadata": {
        "id": "KJaJKhDjqvfy"
      },
      "execution_count": null,
      "outputs": []
    },
    {
      "cell_type": "code",
      "source": [
        "df_train = df_lag[df_lag['date'] <= split_date].copy() # Now apply the split again on df_lag\n",
        "df_test = df_lag[df_lag['date'] > split_date].copy()"
      ],
      "metadata": {
        "id": "jjsDETzIq7Aw"
      },
      "execution_count": null,
      "outputs": []
    },
    {
      "cell_type": "markdown",
      "source": [
        "Split Again (Final Time)"
      ],
      "metadata": {
        "id": "W0_mJxqzrGzs"
      }
    },
    {
      "cell_type": "code",
      "source": [
        "df_train = df_lag[df_lag['date'] <= split_date].copy()\n",
        "df_test = df_lag[df_lag['date'] > split_date].copy()"
      ],
      "metadata": {
        "id": "qMUDOQ3brRVK"
      },
      "execution_count": null,
      "outputs": []
    },
    {
      "cell_type": "markdown",
      "source": [
        "Define Features and Target"
      ],
      "metadata": {
        "id": "3D1JnELjrllH"
      }
    },
    {
      "cell_type": "code",
      "source": [
        "feature_cols = ['lag_1', 'lag_2', 'lag_3', 'rolling_mean_7', 'rolling_std_7']\n",
        "\n",
        "X_train = df_train[feature_cols]\n",
        "y_train = df_train['weighted_unit_sales']\n",
        "\n",
        "X_test = df_test[feature_cols]\n",
        "y_test = df_test['weighted_unit_sales']"
      ],
      "metadata": {
        "id": "A4uWwcIUrrIE"
      },
      "execution_count": null,
      "outputs": []
    },
    {
      "cell_type": "markdown",
      "source": [
        "Fit XGBoost"
      ],
      "metadata": {
        "id": "8oDdzaS5ry6y"
      }
    },
    {
      "cell_type": "code",
      "source": [
        "'''\n",
        "model = XGBRegressor(n_estimators=100, learning_rate=0.1) # Now XGBRegressor is properly imported and can be used.\n",
        "model.fit(X_train, y_train)\n",
        "'''"
      ],
      "metadata": {
        "colab": {
          "base_uri": "https://localhost:8080/",
          "height": 35
        },
        "id": "xxH5DdW2r5hz",
        "outputId": "d6039bb0-cf9c-4444-c646-4a25328bd7fb"
      },
      "execution_count": null,
      "outputs": [
        {
          "output_type": "execute_result",
          "data": {
            "text/plain": [
              "'\\nmodel = XGBRegressor(n_estimators=100, learning_rate=0.1) # Now XGBRegressor is properly imported and can be used.\\nmodel.fit(X_train, y_train)\\n'"
            ],
            "application/vnd.google.colaboratory.intrinsic+json": {
              "type": "string"
            }
          },
          "metadata": {},
          "execution_count": 88
        }
      ]
    },
    {
      "cell_type": "markdown",
      "source": [
        "Why?\n",
        "\n",
        "\t•\tThat model is just a basic/default one.\n",
        "\t•\tIt’s not using the hyperparameters we’re now tuning with Hyperopt.\n",
        "\t•\tIf you leave it in your code, it might:\n",
        "\t•\tConfuse you with extra output.\n",
        "\t•\tAccidentally overwrite your tuned model later.\n"
      ],
      "metadata": {
        "id": "FKPnIWlVJiGA"
      }
    },
    {
      "cell_type": "markdown",
      "source": [
        "Step 1: Set up the data properly"
      ],
      "metadata": {
        "id": "4K1IEis8sqs7"
      }
    },
    {
      "cell_type": "code",
      "source": [
        "# Assume df_sxg is the original DataFrame with 'date' and 'weighted_unit_sales'\n",
        "\n",
        "df_lag = df_sxg[['date', 'weighted_unit_sales']].copy()\n",
        "\n",
        "# Create lag and rolling features\n",
        "df_lag['lag_1'] = df_lag['weighted_unit_sales'].shift(1)\n",
        "df_lag['lag_2'] = df_lag['weighted_unit_sales'].shift(2)\n",
        "df_lag['lag_3'] = df_lag['weighted_unit_sales'].shift(3)\n",
        "df_lag['rolling_mean_7'] = df_lag['weighted_unit_sales'].rolling(window=7).mean()\n",
        "\n",
        "# Drop rows with NaN due to lag/rolling\n",
        "df_lag.dropna(inplace=True)\n",
        "\n",
        "# Train-test split\n",
        "split_date = '2014-01-05'\n",
        "df_train = df_lag[df_lag['date'] <= split_date].copy()\n",
        "df_test = df_lag[df_lag['date'] > split_date].copy()\n",
        "\n",
        "# Features and target\n",
        "feature_cols = ['lag_1', 'lag_2', 'lag_3', 'rolling_mean_7']\n",
        "X_train = df_train[feature_cols]\n",
        "y_train = df_train['weighted_unit_sales']\n",
        "X_test = df_test[feature_cols]\n",
        "y_test = df_test['weighted_unit_sales']"
      ],
      "metadata": {
        "id": "WViUWpBDsz-1"
      },
      "execution_count": null,
      "outputs": []
    },
    {
      "cell_type": "markdown",
      "source": [
        "Step 2: Set up Hyperopt search space"
      ],
      "metadata": {
        "id": "qxEcFBsNtIIv"
      }
    },
    {
      "cell_type": "code",
      "source": [
        "space = {\n",
        "    'max_depth': hp.quniform('max_depth', 3, 18, 1),\n",
        "    'gamma': hp.uniform('gamma', 0, 5),\n",
        "    'reg_alpha': hp.quniform('reg_alpha', 0, 100, 1),\n",
        "    'reg_lambda': hp.uniform('reg_lambda', 0, 1),\n",
        "    'colsample_bytree': hp.uniform('colsample_bytree', 0.5, 1),\n",
        "    'min_child_weight': hp.quniform('min_child_weight', 1, 10, 1),\n",
        "    'learning_rate': hp.uniform('learning_rate', 0.01, 0.3),\n",
        "    'n_estimators': 180  # fixed for now\n",
        "} # define a dictionary of parameters that we want Hyperopt to search through"
      ],
      "metadata": {
        "id": "etXtHVBQtLfX"
      },
      "execution_count": null,
      "outputs": []
    },
    {
      "cell_type": "markdown",
      "source": [
        "Step 3: Define the objective function"
      ],
      "metadata": {
        "id": "AK1cFsIluzP4"
      }
    },
    {
      "cell_type": "code",
      "source": [
        "def objective(space):\n",
        "    model = XGBRegressor(\n",
        "        n_estimators=space['n_estimators'],\n",
        "        max_depth=int(space['max_depth']),\n",
        "        gamma=space['gamma'],\n",
        "        reg_alpha=int(space['reg_alpha']),\n",
        "        reg_lambda=space['reg_lambda'],\n",
        "        colsample_bytree=space['colsample_bytree'],\n",
        "        min_child_weight=int(space['min_child_weight']),\n",
        "        learning_rate=space['learning_rate'],\n",
        "        objective='reg:squarederror',\n",
        "        seed=42\n",
        "    )\n",
        "\n",
        "    model.fit(X_train, y_train, eval_set=[(X_test, y_test)], verbose=False)\n",
        "\n",
        "    y_pred = model.predict(X_test)\n",
        "    r2 = r2_score(y_test, y_pred)\n",
        "\n",
        "    print(\"R²:\", r2)\n",
        "    return {'loss': -r2, 'status': STATUS_OK} # This is where the model is trained and evaluated.\n",
        "    # XGBRegressor, and evaluating with R², since this is regression."
      ],
      "metadata": {
        "id": "WwU_QR0ju21m"
      },
      "execution_count": null,
      "outputs": []
    },
    {
      "cell_type": "markdown",
      "source": [
        "\t•minimizing -R² so Hyperopt can maximize R²\n",
        "\n",
        "\t•can later switch this to RMSE or MAE if desired"
      ],
      "metadata": {
        "id": "NmNNBZfQvW1E"
      }
    },
    {
      "cell_type": "markdown",
      "source": [
        "Step 4: Run the Hyperopt optimizer"
      ],
      "metadata": {
        "id": "RxXHqpBzvqlq"
      }
    },
    {
      "cell_type": "code",
      "source": [
        "from hyperopt import fmin, tpe, Trials\n",
        "\n",
        "trials = Trials()\n",
        "\n",
        "best = fmin(\n",
        "    fn=objective,\n",
        "    space=space,\n",
        "    algo=tpe.suggest,\n",
        "    max_evals=50,\n",
        "    trials=trials\n",
        ")\n",
        "\n",
        "print(\"Best parameters:\", best)"
      ],
      "metadata": {
        "colab": {
          "base_uri": "https://localhost:8080/"
        },
        "id": "KZGuc3aVvxVu",
        "outputId": "b923df5d-cff8-468e-9dcd-faa45469afc0"
      },
      "execution_count": null,
      "outputs": [
        {
          "output_type": "stream",
          "name": "stdout",
          "text": [
            "R²:\n",
            "-0.2976958751678467\n",
            "R²:\n",
            "-0.2976958751678467\n",
            "R²:\n",
            "-0.2976958751678467\n",
            "R²:\n",
            "-0.2976958751678467\n",
            "R²:\n",
            "-0.2976958751678467\n",
            "R²:\n",
            "-0.2976958751678467\n",
            "R²:\n",
            "-0.2976958751678467\n",
            "R²:\n",
            "-0.2976958751678467\n",
            "R²:\n",
            "-0.2976958751678467\n",
            "R²:\n",
            "-0.2976958751678467\n",
            "R²:\n",
            "-0.2976958751678467\n",
            "R²:\n",
            "-0.2976958751678467\n",
            "R²:\n",
            "-0.2976958751678467\n",
            "R²:\n",
            "-0.2976958751678467\n",
            "R²:\n",
            "-0.2976958751678467\n",
            "R²:\n",
            "-0.2976958751678467\n",
            "R²:\n",
            "-0.2976958751678467\n",
            "R²:\n",
            "-0.2976958751678467\n",
            "R²:\n",
            "-0.2976958751678467\n",
            "R²:\n",
            "-0.2976958751678467\n",
            "R²:\n",
            "-0.2976958751678467\n",
            "R²:\n",
            "-0.2976958751678467\n",
            "R²:\n",
            "-0.2976958751678467\n",
            "R²:\n",
            "-0.2976958751678467\n",
            "R²:\n",
            "-0.2976958751678467\n",
            "R²:\n",
            "-0.2976958751678467\n",
            "R²:\n",
            "-0.2976958751678467\n",
            "R²:\n",
            "-0.2976958751678467\n",
            "R²:\n",
            "-0.2976958751678467\n",
            "R²:\n",
            "-0.2976958751678467\n",
            "R²:\n",
            "-0.2976958751678467\n",
            "R²:\n",
            "-0.2976958751678467\n",
            "R²:\n",
            "-0.2976958751678467\n",
            "R²:\n",
            "-0.2976958751678467\n",
            "R²:\n",
            "-0.2976958751678467\n",
            "R²:\n",
            "-0.2976958751678467\n",
            "R²:\n",
            "-0.2976958751678467\n",
            "R²:\n",
            "-0.2976958751678467\n",
            "R²:\n",
            "-0.2976958751678467\n",
            "R²:\n",
            "-0.2976958751678467\n",
            "R²:\n",
            "-0.2976958751678467\n",
            "R²:\n",
            "-0.2976958751678467\n",
            "R²:\n",
            "-0.2976958751678467\n",
            "R²:\n",
            "-0.2976958751678467\n",
            "R²:\n",
            "-0.2976958751678467\n",
            "R²:\n",
            "-0.2976958751678467\n",
            "R²:\n",
            "-0.2976958751678467\n",
            "R²:\n",
            "-0.2976958751678467\n",
            "R²:\n",
            "-0.2976958751678467\n",
            "R²:\n",
            "-0.2976958751678467\n",
            "100%|██████████| 50/50 [00:56<00:00,  1.14s/trial, best loss: 0.2976958751678467]\n",
            "Best parameters: {'colsample_bytree': np.float64(0.5572006277436716), 'gamma': np.float64(3.9752749564963423), 'learning_rate': np.float64(0.04789752535829521), 'max_depth': np.float64(13.0), 'min_child_weight': np.float64(5.0), 'reg_alpha': np.float64(75.0), 'reg_lambda': np.float64(0.2284369432897836)}\n"
          ]
        }
      ]
    },
    {
      "cell_type": "markdown",
      "source": [
        "\t•\tTry 50 combinations of hyperparameters.\n",
        "\t•\tTrain models and evaluate R².\n",
        "\t•\tReturn the best parameter set."
      ],
      "metadata": {
        "id": "7fcLpVGnv96T"
      }
    },
    {
      "cell_type": "markdown",
      "source": [
        "🔁 Recap of What was done:\n",
        "\n",
        "\t•\t✅ Built lag & rolling features.\n",
        "\t•\t✅ Split time series data.\n",
        "\t•\t✅ Defined XGBoost model for regression.\n",
        "\t•\t✅ Tuned key parameters using Hyperopt + R² score."
      ],
      "metadata": {
        "id": "rm063ATWwGqD"
      }
    },
    {
      "cell_type": "markdown",
      "source": [
        "### Step-by-Step: Apply the Trained Model"
      ],
      "metadata": {
        "id": "oIAYGFEgO-Qa"
      }
    },
    {
      "cell_type": "code",
      "source": [
        "print(\"Best parameters:\", best) # Get the best parameters from Hyperopt"
      ],
      "metadata": {
        "colab": {
          "base_uri": "https://localhost:8080/"
        },
        "id": "ecINdDlNPDxX",
        "outputId": "f41fd2f9-e45d-45a9-a0c4-0c443a1fdc38"
      },
      "execution_count": null,
      "outputs": [
        {
          "output_type": "stream",
          "name": "stdout",
          "text": [
            "Best parameters: {'colsample_bytree': np.float64(0.5572006277436716), 'gamma': np.float64(3.9752749564963423), 'learning_rate': np.float64(0.04789752535829521), 'max_depth': np.float64(13.0), 'min_child_weight': np.float64(5.0), 'reg_alpha': np.float64(75.0), 'reg_lambda': np.float64(0.2284369432897836)}\n"
          ]
        }
      ]
    },
    {
      "cell_type": "code",
      "source": [
        "best_params = {\n",
        "    'n_estimators': 180,\n",
        "    'max_depth': int(best['max_depth']),\n",
        "    'gamma': best['gamma'],\n",
        "    'reg_alpha': int(best['reg_alpha']),\n",
        "    'reg_lambda': best['reg_lambda'],\n",
        "    'colsample_bytree': best['colsample_bytree'],\n",
        "    'min_child_weight': int(best['min_child_weight']),\n",
        "    'learning_rate': best['learning_rate'],\n",
        "    'objective': 'reg:squarederror',\n",
        "    'seed': 42\n",
        "} # some values like max_depth, reg_alpha, etc., need to be converted from float to int"
      ],
      "metadata": {
        "id": "9axyUGTyPTp2"
      },
      "execution_count": null,
      "outputs": []
    },
    {
      "cell_type": "markdown",
      "source": [
        "Train final model with best params"
      ],
      "metadata": {
        "id": "50Q9hQYyPjuQ"
      }
    },
    {
      "cell_type": "code",
      "source": [
        "final_model = XGBRegressor(**best_params)\n",
        "final_model.fit(X_train, y_train)"
      ],
      "metadata": {
        "colab": {
          "base_uri": "https://localhost:8080/",
          "height": 257
        },
        "id": "q73UwOfTPq4E",
        "outputId": "be7f01bd-6405-4c8b-976f-50bd5994c438"
      },
      "execution_count": null,
      "outputs": [
        {
          "output_type": "execute_result",
          "data": {
            "text/plain": [
              "XGBRegressor(base_score=None, booster=None, callbacks=None,\n",
              "             colsample_bylevel=None, colsample_bynode=None,\n",
              "             colsample_bytree=np.float64(0.5572006277436716), device=None,\n",
              "             early_stopping_rounds=None, enable_categorical=False,\n",
              "             eval_metric=None, feature_types=None,\n",
              "             gamma=np.float64(3.9752749564963423), grow_policy=None,\n",
              "             importance_type=None, interaction_constraints=None,\n",
              "             learning_rate=np.float64(0.04789752535829521), max_bin=None,\n",
              "             max_cat_threshold=None, max_cat_to_onehot=None,\n",
              "             max_delta_step=None, max_depth=13, max_leaves=None,\n",
              "             min_child_weight=5, missing=nan, monotone_constraints=None,\n",
              "             multi_strategy=None, n_estimators=180, n_jobs=None,\n",
              "             num_parallel_tree=None, random_state=None, ...)"
            ],
            "text/html": [
              "<style>#sk-container-id-4 {\n",
              "  /* Definition of color scheme common for light and dark mode */\n",
              "  --sklearn-color-text: #000;\n",
              "  --sklearn-color-text-muted: #666;\n",
              "  --sklearn-color-line: gray;\n",
              "  /* Definition of color scheme for unfitted estimators */\n",
              "  --sklearn-color-unfitted-level-0: #fff5e6;\n",
              "  --sklearn-color-unfitted-level-1: #f6e4d2;\n",
              "  --sklearn-color-unfitted-level-2: #ffe0b3;\n",
              "  --sklearn-color-unfitted-level-3: chocolate;\n",
              "  /* Definition of color scheme for fitted estimators */\n",
              "  --sklearn-color-fitted-level-0: #f0f8ff;\n",
              "  --sklearn-color-fitted-level-1: #d4ebff;\n",
              "  --sklearn-color-fitted-level-2: #b3dbfd;\n",
              "  --sklearn-color-fitted-level-3: cornflowerblue;\n",
              "\n",
              "  /* Specific color for light theme */\n",
              "  --sklearn-color-text-on-default-background: var(--sg-text-color, var(--theme-code-foreground, var(--jp-content-font-color1, black)));\n",
              "  --sklearn-color-background: var(--sg-background-color, var(--theme-background, var(--jp-layout-color0, white)));\n",
              "  --sklearn-color-border-box: var(--sg-text-color, var(--theme-code-foreground, var(--jp-content-font-color1, black)));\n",
              "  --sklearn-color-icon: #696969;\n",
              "\n",
              "  @media (prefers-color-scheme: dark) {\n",
              "    /* Redefinition of color scheme for dark theme */\n",
              "    --sklearn-color-text-on-default-background: var(--sg-text-color, var(--theme-code-foreground, var(--jp-content-font-color1, white)));\n",
              "    --sklearn-color-background: var(--sg-background-color, var(--theme-background, var(--jp-layout-color0, #111)));\n",
              "    --sklearn-color-border-box: var(--sg-text-color, var(--theme-code-foreground, var(--jp-content-font-color1, white)));\n",
              "    --sklearn-color-icon: #878787;\n",
              "  }\n",
              "}\n",
              "\n",
              "#sk-container-id-4 {\n",
              "  color: var(--sklearn-color-text);\n",
              "}\n",
              "\n",
              "#sk-container-id-4 pre {\n",
              "  padding: 0;\n",
              "}\n",
              "\n",
              "#sk-container-id-4 input.sk-hidden--visually {\n",
              "  border: 0;\n",
              "  clip: rect(1px 1px 1px 1px);\n",
              "  clip: rect(1px, 1px, 1px, 1px);\n",
              "  height: 1px;\n",
              "  margin: -1px;\n",
              "  overflow: hidden;\n",
              "  padding: 0;\n",
              "  position: absolute;\n",
              "  width: 1px;\n",
              "}\n",
              "\n",
              "#sk-container-id-4 div.sk-dashed-wrapped {\n",
              "  border: 1px dashed var(--sklearn-color-line);\n",
              "  margin: 0 0.4em 0.5em 0.4em;\n",
              "  box-sizing: border-box;\n",
              "  padding-bottom: 0.4em;\n",
              "  background-color: var(--sklearn-color-background);\n",
              "}\n",
              "\n",
              "#sk-container-id-4 div.sk-container {\n",
              "  /* jupyter's `normalize.less` sets `[hidden] { display: none; }`\n",
              "     but bootstrap.min.css set `[hidden] { display: none !important; }`\n",
              "     so we also need the `!important` here to be able to override the\n",
              "     default hidden behavior on the sphinx rendered scikit-learn.org.\n",
              "     See: https://github.com/scikit-learn/scikit-learn/issues/21755 */\n",
              "  display: inline-block !important;\n",
              "  position: relative;\n",
              "}\n",
              "\n",
              "#sk-container-id-4 div.sk-text-repr-fallback {\n",
              "  display: none;\n",
              "}\n",
              "\n",
              "div.sk-parallel-item,\n",
              "div.sk-serial,\n",
              "div.sk-item {\n",
              "  /* draw centered vertical line to link estimators */\n",
              "  background-image: linear-gradient(var(--sklearn-color-text-on-default-background), var(--sklearn-color-text-on-default-background));\n",
              "  background-size: 2px 100%;\n",
              "  background-repeat: no-repeat;\n",
              "  background-position: center center;\n",
              "}\n",
              "\n",
              "/* Parallel-specific style estimator block */\n",
              "\n",
              "#sk-container-id-4 div.sk-parallel-item::after {\n",
              "  content: \"\";\n",
              "  width: 100%;\n",
              "  border-bottom: 2px solid var(--sklearn-color-text-on-default-background);\n",
              "  flex-grow: 1;\n",
              "}\n",
              "\n",
              "#sk-container-id-4 div.sk-parallel {\n",
              "  display: flex;\n",
              "  align-items: stretch;\n",
              "  justify-content: center;\n",
              "  background-color: var(--sklearn-color-background);\n",
              "  position: relative;\n",
              "}\n",
              "\n",
              "#sk-container-id-4 div.sk-parallel-item {\n",
              "  display: flex;\n",
              "  flex-direction: column;\n",
              "}\n",
              "\n",
              "#sk-container-id-4 div.sk-parallel-item:first-child::after {\n",
              "  align-self: flex-end;\n",
              "  width: 50%;\n",
              "}\n",
              "\n",
              "#sk-container-id-4 div.sk-parallel-item:last-child::after {\n",
              "  align-self: flex-start;\n",
              "  width: 50%;\n",
              "}\n",
              "\n",
              "#sk-container-id-4 div.sk-parallel-item:only-child::after {\n",
              "  width: 0;\n",
              "}\n",
              "\n",
              "/* Serial-specific style estimator block */\n",
              "\n",
              "#sk-container-id-4 div.sk-serial {\n",
              "  display: flex;\n",
              "  flex-direction: column;\n",
              "  align-items: center;\n",
              "  background-color: var(--sklearn-color-background);\n",
              "  padding-right: 1em;\n",
              "  padding-left: 1em;\n",
              "}\n",
              "\n",
              "\n",
              "/* Toggleable style: style used for estimator/Pipeline/ColumnTransformer box that is\n",
              "clickable and can be expanded/collapsed.\n",
              "- Pipeline and ColumnTransformer use this feature and define the default style\n",
              "- Estimators will overwrite some part of the style using the `sk-estimator` class\n",
              "*/\n",
              "\n",
              "/* Pipeline and ColumnTransformer style (default) */\n",
              "\n",
              "#sk-container-id-4 div.sk-toggleable {\n",
              "  /* Default theme specific background. It is overwritten whether we have a\n",
              "  specific estimator or a Pipeline/ColumnTransformer */\n",
              "  background-color: var(--sklearn-color-background);\n",
              "}\n",
              "\n",
              "/* Toggleable label */\n",
              "#sk-container-id-4 label.sk-toggleable__label {\n",
              "  cursor: pointer;\n",
              "  display: flex;\n",
              "  width: 100%;\n",
              "  margin-bottom: 0;\n",
              "  padding: 0.5em;\n",
              "  box-sizing: border-box;\n",
              "  text-align: center;\n",
              "  align-items: start;\n",
              "  justify-content: space-between;\n",
              "  gap: 0.5em;\n",
              "}\n",
              "\n",
              "#sk-container-id-4 label.sk-toggleable__label .caption {\n",
              "  font-size: 0.6rem;\n",
              "  font-weight: lighter;\n",
              "  color: var(--sklearn-color-text-muted);\n",
              "}\n",
              "\n",
              "#sk-container-id-4 label.sk-toggleable__label-arrow:before {\n",
              "  /* Arrow on the left of the label */\n",
              "  content: \"▸\";\n",
              "  float: left;\n",
              "  margin-right: 0.25em;\n",
              "  color: var(--sklearn-color-icon);\n",
              "}\n",
              "\n",
              "#sk-container-id-4 label.sk-toggleable__label-arrow:hover:before {\n",
              "  color: var(--sklearn-color-text);\n",
              "}\n",
              "\n",
              "/* Toggleable content - dropdown */\n",
              "\n",
              "#sk-container-id-4 div.sk-toggleable__content {\n",
              "  max-height: 0;\n",
              "  max-width: 0;\n",
              "  overflow: hidden;\n",
              "  text-align: left;\n",
              "  /* unfitted */\n",
              "  background-color: var(--sklearn-color-unfitted-level-0);\n",
              "}\n",
              "\n",
              "#sk-container-id-4 div.sk-toggleable__content.fitted {\n",
              "  /* fitted */\n",
              "  background-color: var(--sklearn-color-fitted-level-0);\n",
              "}\n",
              "\n",
              "#sk-container-id-4 div.sk-toggleable__content pre {\n",
              "  margin: 0.2em;\n",
              "  border-radius: 0.25em;\n",
              "  color: var(--sklearn-color-text);\n",
              "  /* unfitted */\n",
              "  background-color: var(--sklearn-color-unfitted-level-0);\n",
              "}\n",
              "\n",
              "#sk-container-id-4 div.sk-toggleable__content.fitted pre {\n",
              "  /* unfitted */\n",
              "  background-color: var(--sklearn-color-fitted-level-0);\n",
              "}\n",
              "\n",
              "#sk-container-id-4 input.sk-toggleable__control:checked~div.sk-toggleable__content {\n",
              "  /* Expand drop-down */\n",
              "  max-height: 200px;\n",
              "  max-width: 100%;\n",
              "  overflow: auto;\n",
              "}\n",
              "\n",
              "#sk-container-id-4 input.sk-toggleable__control:checked~label.sk-toggleable__label-arrow:before {\n",
              "  content: \"▾\";\n",
              "}\n",
              "\n",
              "/* Pipeline/ColumnTransformer-specific style */\n",
              "\n",
              "#sk-container-id-4 div.sk-label input.sk-toggleable__control:checked~label.sk-toggleable__label {\n",
              "  color: var(--sklearn-color-text);\n",
              "  background-color: var(--sklearn-color-unfitted-level-2);\n",
              "}\n",
              "\n",
              "#sk-container-id-4 div.sk-label.fitted input.sk-toggleable__control:checked~label.sk-toggleable__label {\n",
              "  background-color: var(--sklearn-color-fitted-level-2);\n",
              "}\n",
              "\n",
              "/* Estimator-specific style */\n",
              "\n",
              "/* Colorize estimator box */\n",
              "#sk-container-id-4 div.sk-estimator input.sk-toggleable__control:checked~label.sk-toggleable__label {\n",
              "  /* unfitted */\n",
              "  background-color: var(--sklearn-color-unfitted-level-2);\n",
              "}\n",
              "\n",
              "#sk-container-id-4 div.sk-estimator.fitted input.sk-toggleable__control:checked~label.sk-toggleable__label {\n",
              "  /* fitted */\n",
              "  background-color: var(--sklearn-color-fitted-level-2);\n",
              "}\n",
              "\n",
              "#sk-container-id-4 div.sk-label label.sk-toggleable__label,\n",
              "#sk-container-id-4 div.sk-label label {\n",
              "  /* The background is the default theme color */\n",
              "  color: var(--sklearn-color-text-on-default-background);\n",
              "}\n",
              "\n",
              "/* On hover, darken the color of the background */\n",
              "#sk-container-id-4 div.sk-label:hover label.sk-toggleable__label {\n",
              "  color: var(--sklearn-color-text);\n",
              "  background-color: var(--sklearn-color-unfitted-level-2);\n",
              "}\n",
              "\n",
              "/* Label box, darken color on hover, fitted */\n",
              "#sk-container-id-4 div.sk-label.fitted:hover label.sk-toggleable__label.fitted {\n",
              "  color: var(--sklearn-color-text);\n",
              "  background-color: var(--sklearn-color-fitted-level-2);\n",
              "}\n",
              "\n",
              "/* Estimator label */\n",
              "\n",
              "#sk-container-id-4 div.sk-label label {\n",
              "  font-family: monospace;\n",
              "  font-weight: bold;\n",
              "  display: inline-block;\n",
              "  line-height: 1.2em;\n",
              "}\n",
              "\n",
              "#sk-container-id-4 div.sk-label-container {\n",
              "  text-align: center;\n",
              "}\n",
              "\n",
              "/* Estimator-specific */\n",
              "#sk-container-id-4 div.sk-estimator {\n",
              "  font-family: monospace;\n",
              "  border: 1px dotted var(--sklearn-color-border-box);\n",
              "  border-radius: 0.25em;\n",
              "  box-sizing: border-box;\n",
              "  margin-bottom: 0.5em;\n",
              "  /* unfitted */\n",
              "  background-color: var(--sklearn-color-unfitted-level-0);\n",
              "}\n",
              "\n",
              "#sk-container-id-4 div.sk-estimator.fitted {\n",
              "  /* fitted */\n",
              "  background-color: var(--sklearn-color-fitted-level-0);\n",
              "}\n",
              "\n",
              "/* on hover */\n",
              "#sk-container-id-4 div.sk-estimator:hover {\n",
              "  /* unfitted */\n",
              "  background-color: var(--sklearn-color-unfitted-level-2);\n",
              "}\n",
              "\n",
              "#sk-container-id-4 div.sk-estimator.fitted:hover {\n",
              "  /* fitted */\n",
              "  background-color: var(--sklearn-color-fitted-level-2);\n",
              "}\n",
              "\n",
              "/* Specification for estimator info (e.g. \"i\" and \"?\") */\n",
              "\n",
              "/* Common style for \"i\" and \"?\" */\n",
              "\n",
              ".sk-estimator-doc-link,\n",
              "a:link.sk-estimator-doc-link,\n",
              "a:visited.sk-estimator-doc-link {\n",
              "  float: right;\n",
              "  font-size: smaller;\n",
              "  line-height: 1em;\n",
              "  font-family: monospace;\n",
              "  background-color: var(--sklearn-color-background);\n",
              "  border-radius: 1em;\n",
              "  height: 1em;\n",
              "  width: 1em;\n",
              "  text-decoration: none !important;\n",
              "  margin-left: 0.5em;\n",
              "  text-align: center;\n",
              "  /* unfitted */\n",
              "  border: var(--sklearn-color-unfitted-level-1) 1pt solid;\n",
              "  color: var(--sklearn-color-unfitted-level-1);\n",
              "}\n",
              "\n",
              ".sk-estimator-doc-link.fitted,\n",
              "a:link.sk-estimator-doc-link.fitted,\n",
              "a:visited.sk-estimator-doc-link.fitted {\n",
              "  /* fitted */\n",
              "  border: var(--sklearn-color-fitted-level-1) 1pt solid;\n",
              "  color: var(--sklearn-color-fitted-level-1);\n",
              "}\n",
              "\n",
              "/* On hover */\n",
              "div.sk-estimator:hover .sk-estimator-doc-link:hover,\n",
              ".sk-estimator-doc-link:hover,\n",
              "div.sk-label-container:hover .sk-estimator-doc-link:hover,\n",
              ".sk-estimator-doc-link:hover {\n",
              "  /* unfitted */\n",
              "  background-color: var(--sklearn-color-unfitted-level-3);\n",
              "  color: var(--sklearn-color-background);\n",
              "  text-decoration: none;\n",
              "}\n",
              "\n",
              "div.sk-estimator.fitted:hover .sk-estimator-doc-link.fitted:hover,\n",
              ".sk-estimator-doc-link.fitted:hover,\n",
              "div.sk-label-container:hover .sk-estimator-doc-link.fitted:hover,\n",
              ".sk-estimator-doc-link.fitted:hover {\n",
              "  /* fitted */\n",
              "  background-color: var(--sklearn-color-fitted-level-3);\n",
              "  color: var(--sklearn-color-background);\n",
              "  text-decoration: none;\n",
              "}\n",
              "\n",
              "/* Span, style for the box shown on hovering the info icon */\n",
              ".sk-estimator-doc-link span {\n",
              "  display: none;\n",
              "  z-index: 9999;\n",
              "  position: relative;\n",
              "  font-weight: normal;\n",
              "  right: .2ex;\n",
              "  padding: .5ex;\n",
              "  margin: .5ex;\n",
              "  width: min-content;\n",
              "  min-width: 20ex;\n",
              "  max-width: 50ex;\n",
              "  color: var(--sklearn-color-text);\n",
              "  box-shadow: 2pt 2pt 4pt #999;\n",
              "  /* unfitted */\n",
              "  background: var(--sklearn-color-unfitted-level-0);\n",
              "  border: .5pt solid var(--sklearn-color-unfitted-level-3);\n",
              "}\n",
              "\n",
              ".sk-estimator-doc-link.fitted span {\n",
              "  /* fitted */\n",
              "  background: var(--sklearn-color-fitted-level-0);\n",
              "  border: var(--sklearn-color-fitted-level-3);\n",
              "}\n",
              "\n",
              ".sk-estimator-doc-link:hover span {\n",
              "  display: block;\n",
              "}\n",
              "\n",
              "/* \"?\"-specific style due to the `<a>` HTML tag */\n",
              "\n",
              "#sk-container-id-4 a.estimator_doc_link {\n",
              "  float: right;\n",
              "  font-size: 1rem;\n",
              "  line-height: 1em;\n",
              "  font-family: monospace;\n",
              "  background-color: var(--sklearn-color-background);\n",
              "  border-radius: 1rem;\n",
              "  height: 1rem;\n",
              "  width: 1rem;\n",
              "  text-decoration: none;\n",
              "  /* unfitted */\n",
              "  color: var(--sklearn-color-unfitted-level-1);\n",
              "  border: var(--sklearn-color-unfitted-level-1) 1pt solid;\n",
              "}\n",
              "\n",
              "#sk-container-id-4 a.estimator_doc_link.fitted {\n",
              "  /* fitted */\n",
              "  border: var(--sklearn-color-fitted-level-1) 1pt solid;\n",
              "  color: var(--sklearn-color-fitted-level-1);\n",
              "}\n",
              "\n",
              "/* On hover */\n",
              "#sk-container-id-4 a.estimator_doc_link:hover {\n",
              "  /* unfitted */\n",
              "  background-color: var(--sklearn-color-unfitted-level-3);\n",
              "  color: var(--sklearn-color-background);\n",
              "  text-decoration: none;\n",
              "}\n",
              "\n",
              "#sk-container-id-4 a.estimator_doc_link.fitted:hover {\n",
              "  /* fitted */\n",
              "  background-color: var(--sklearn-color-fitted-level-3);\n",
              "}\n",
              "</style><div id=\"sk-container-id-4\" class=\"sk-top-container\"><div class=\"sk-text-repr-fallback\"><pre>XGBRegressor(base_score=None, booster=None, callbacks=None,\n",
              "             colsample_bylevel=None, colsample_bynode=None,\n",
              "             colsample_bytree=np.float64(0.5572006277436716), device=None,\n",
              "             early_stopping_rounds=None, enable_categorical=False,\n",
              "             eval_metric=None, feature_types=None,\n",
              "             gamma=np.float64(3.9752749564963423), grow_policy=None,\n",
              "             importance_type=None, interaction_constraints=None,\n",
              "             learning_rate=np.float64(0.04789752535829521), max_bin=None,\n",
              "             max_cat_threshold=None, max_cat_to_onehot=None,\n",
              "             max_delta_step=None, max_depth=13, max_leaves=None,\n",
              "             min_child_weight=5, missing=nan, monotone_constraints=None,\n",
              "             multi_strategy=None, n_estimators=180, n_jobs=None,\n",
              "             num_parallel_tree=None, random_state=None, ...)</pre><b>In a Jupyter environment, please rerun this cell to show the HTML representation or trust the notebook. <br />On GitHub, the HTML representation is unable to render, please try loading this page with nbviewer.org.</b></div><div class=\"sk-container\" hidden><div class=\"sk-item\"><div class=\"sk-estimator fitted sk-toggleable\"><input class=\"sk-toggleable__control sk-hidden--visually\" id=\"sk-estimator-id-4\" type=\"checkbox\" checked><label for=\"sk-estimator-id-4\" class=\"sk-toggleable__label fitted sk-toggleable__label-arrow\"><div><div>XGBRegressor</div></div><div><span class=\"sk-estimator-doc-link fitted\">i<span>Fitted</span></span></div></label><div class=\"sk-toggleable__content fitted\"><pre>XGBRegressor(base_score=None, booster=None, callbacks=None,\n",
              "             colsample_bylevel=None, colsample_bynode=None,\n",
              "             colsample_bytree=np.float64(0.5572006277436716), device=None,\n",
              "             early_stopping_rounds=None, enable_categorical=False,\n",
              "             eval_metric=None, feature_types=None,\n",
              "             gamma=np.float64(3.9752749564963423), grow_policy=None,\n",
              "             importance_type=None, interaction_constraints=None,\n",
              "             learning_rate=np.float64(0.04789752535829521), max_bin=None,\n",
              "             max_cat_threshold=None, max_cat_to_onehot=None,\n",
              "             max_delta_step=None, max_depth=13, max_leaves=None,\n",
              "             min_child_weight=5, missing=nan, monotone_constraints=None,\n",
              "             multi_strategy=None, n_estimators=180, n_jobs=None,\n",
              "             num_parallel_tree=None, random_state=None, ...)</pre></div> </div></div></div></div>"
            ]
          },
          "metadata": {},
          "execution_count": 95
        }
      ]
    },
    {
      "cell_type": "markdown",
      "source": [
        "Make predictions and evaluate"
      ],
      "metadata": {
        "id": "5cKuvjCjPzOI"
      }
    },
    {
      "cell_type": "code",
      "source": [
        "y_pred = final_model.predict(X_test)\n",
        "\n",
        "mae = mean_absolute_error(y_test, y_pred)\n",
        "rmse = np.sqrt(mean_squared_error(y_test, y_pred))\n",
        "r2 = r2_score(y_test, y_pred)\n",
        "\n",
        "print(f\"MAE: {mae:.2f}\")\n",
        "print(f\"RMSE: {rmse:.2f}\")\n",
        "print(f\"R²: {r2:.4f}\")"
      ],
      "metadata": {
        "colab": {
          "base_uri": "https://localhost:8080/"
        },
        "id": "o1Vnm2MCQsnV",
        "outputId": "4ef3b16b-6bc2-4fd8-e3d8-cee87408f912"
      },
      "execution_count": null,
      "outputs": [
        {
          "output_type": "stream",
          "name": "stdout",
          "text": [
            "MAE: 6.99\n",
            "RMSE: 14.59\n",
            "R²: -0.2977\n"
          ]
        }
      ]
    },
    {
      "cell_type": "markdown",
      "source": [
        "Optional"
      ],
      "metadata": {
        "id": "Pk21VytiQ3P8"
      }
    },
    {
      "cell_type": "code",
      "source": [
        "plt.figure(figsize=(10,5)) # Plot actual vs. predicted (simple and useful)\n",
        "plt.plot(y_test.values, label='Actual')\n",
        "plt.plot(y_pred, label='Predicted')\n",
        "plt.legend()\n",
        "plt.title('Actual vs. Predicted Weighted Unit Sales')\n",
        "plt.show()"
      ],
      "metadata": {
        "colab": {
          "base_uri": "https://localhost:8080/",
          "height": 468
        },
        "id": "Jlec6HiQQ6DN",
        "outputId": "a7f7de90-a966-484a-a01f-a176cf5e4bce"
      },
      "execution_count": null,
      "outputs": [
        {
          "output_type": "display_data",
          "data": {
            "text/plain": [
              "<Figure size 1000x500 with 1 Axes>"
            ],
            "image/png": "[encoded data removed]"
          },
          "metadata": {}
        }
      ]
    },
    {
      "cell_type": "code",
      "source": [
        "gc.collect() # rubbish collection"
      ],
      "metadata": {
        "id": "-eq7EcphQkaW"
      },
      "execution_count": null,
      "outputs": []
    },
    {
      "cell_type": "markdown",
      "source": [
        "## Save XGBoost Model to Google Drive"
      ],
      "metadata": {
        "id": "9HGNggX4RxIU"
      }
    },
    {
      "cell_type": "code",
      "source": [
        "'''\n",
        "from google.colab import drive\n",
        "drive.mount('/content/drive')\n",
        "'''"
      ],
      "metadata": {
        "id": "xbtsaA2UR48X"
      },
      "execution_count": null,
      "outputs": []
    },
    {
      "cell_type": "markdown",
      "source": [
        "Create a folder (optional)"
      ],
      "metadata": {
        "id": "P9m3zmxoSKa-"
      }
    },
    {
      "cell_type": "code",
      "source": [
        "# import os\n",
        "\n",
        "model_path = '/content/drive/MyDrive/MasterSchool/MasterSchool_Python/Time_Series/Time_series_project/xgboost_models'\n",
        "os.makedirs(model_path, exist_ok=True)"
      ],
      "metadata": {
        "id": "FltYbBY7SOUl"
      },
      "execution_count": null,
      "outputs": []
    },
    {
      "cell_type": "markdown",
      "source": [
        "Save the trained model"
      ],
      "metadata": {
        "id": "49xP67B8SqTt"
      }
    },
    {
      "cell_type": "code",
      "source": [
        "# import joblib\n",
        "\n",
        "# Save model\n",
        "joblib.dump(final_model, model_path + '/xgb_final_model.pkl')"
      ],
      "metadata": {
        "colab": {
          "base_uri": "https://localhost:8080/"
        },
        "id": "NNGVX8vrS_Ht",
        "outputId": "a9e653be-3b2d-43b2-c915-14badd84d4c3"
      },
      "execution_count": null,
      "outputs": [
        {
          "output_type": "execute_result",
          "data": {
            "text/plain": [
              "['/content/drive/MyDrive/MasterSchool/MasterSchool_Python/Time_Series/Time_series_project/xgboost_models/xgb_final_model.pkl']"
            ]
          },
          "metadata": {},
          "execution_count": 102
        }
      ]
    },
    {
      "cell_type": "markdown",
      "source": [
        "Later, load the model like this"
      ],
      "metadata": {
        "id": "sJOm4nwZTQo7"
      }
    },
    {
      "cell_type": "code",
      "source": [
        "# Load model\n",
        "loaded_model = joblib.load(model_path + '/xgb_final_model.pkl')\n",
        "\n",
        "# Use it to predict\n",
        "y_pred_loaded = loaded_model.predict(X_test)"
      ],
      "metadata": {
        "id": "DGvV9DGZTfGj"
      },
      "execution_count": null,
      "outputs": []
    },
    {
      "cell_type": "markdown",
      "source": [
        "'/content/drive/My Drive/xgboost_models/xgb_final_model.pkl'"
      ],
      "metadata": {
        "id": "DXhdcsh0T4dx"
      }
    },
    {
      "cell_type": "markdown",
      "source": [
        "### Step-by-step Usage of Your Saved XGBoost Model"
      ],
      "metadata": {
        "id": "US-ZAMebUAQJ"
      }
    },
    {
      "cell_type": "code",
      "source": [
        "'''\n",
        "from google.colab import drive\n",
        "drive.mount('/content/drive')\n",
        "'''"
      ],
      "metadata": {
        "colab": {
          "base_uri": "https://localhost:8080/",
          "height": 35
        },
        "id": "yTQ9Z4dtUD3B",
        "outputId": "7e1b34bd-f122-45d8-a391-6d9b5794989e"
      },
      "execution_count": null,
      "outputs": [
        {
          "output_type": "execute_result",
          "data": {
            "text/plain": [
              "\"\\nfrom google.colab import drive\\ndrive.mount('/content/drive')\\n\""
            ],
            "application/vnd.google.colaboratory.intrinsic+json": {
              "type": "string"
            }
          },
          "metadata": {},
          "execution_count": 104
        }
      ]
    },
    {
      "cell_type": "markdown",
      "source": [
        "Load your trained model"
      ],
      "metadata": {
        "id": "MvglJvWDUPsa"
      }
    },
    {
      "cell_type": "code",
      "source": [
        "# import joblib # Make sure joblib is imported if you've commented it out\n",
        "\n",
        "model_path = '/content/drive/MyDrive/MasterSchool/MasterSchool_Python/Time_Series/Time_series_project/xgboost_models/xgb_final_model.pkl'  # Add the filename\n",
        "model = joblib.load(model_path) # Now joblib.load() should find the pickle file"
      ],
      "metadata": {
        "id": "IjPPg4VbUmx-"
      },
      "execution_count": null,
      "outputs": []
    },
    {
      "cell_type": "markdown",
      "source": [
        "Prepare new data for prediction"
      ],
      "metadata": {
        "id": "18awYq-LUvMg"
      }
    },
    {
      "cell_type": "code",
      "source": [
        "df_future = df_download.copy()"
      ],
      "metadata": {
        "id": "VzJtWT0hU7Kj"
      },
      "execution_count": null,
      "outputs": []
    },
    {
      "cell_type": "code",
      "source": [
        "# Assume df_future is your new DataFrame\n",
        "df_future['lag_1'] = df_future['weighted_unit_sales'].shift(1)\n",
        "df_future['lag_2'] = df_future['weighted_unit_sales'].shift(2)\n",
        "df_future['lag_3'] = df_future['weighted_unit_sales'].shift(3)\n",
        "df_future['rolling_mean_7'] = df_future['weighted_unit_sales'].rolling(window=7).mean()\n",
        "df_future.dropna(inplace=True)\n",
        "\n",
        "X_new = df_future[['lag_1', 'lag_2', 'lag_3', 'rolling_mean_7']]"
      ],
      "metadata": {
        "id": "hu0t0O8KUx_2"
      },
      "execution_count": null,
      "outputs": []
    },
    {
      "cell_type": "markdown",
      "source": [
        "Predict using the loaded model"
      ],
      "metadata": {
        "id": "V7OyPfrtVK-k"
      }
    },
    {
      "cell_type": "code",
      "source": [
        "predictions = model.predict(X_new)"
      ],
      "metadata": {
        "id": "UQhZo3mcVN_J"
      },
      "execution_count": null,
      "outputs": []
    },
    {
      "cell_type": "markdown",
      "source": [
        "Add predictions back to the DataFrame"
      ],
      "metadata": {
        "id": "kZDfpyLoVWUq"
      }
    },
    {
      "cell_type": "code",
      "source": [
        "df_future['predicted_sales'] = predictions"
      ],
      "metadata": {
        "id": "hjwo9FdyVayt"
      },
      "execution_count": null,
      "outputs": []
    },
    {
      "cell_type": "code",
      "source": [
        "y_pred = loaded_model.predict(X_test)\n",
        "\n",
        "mae = mean_absolute_error(y_test, y_pred)\n",
        "rmse = np.sqrt(mean_squared_error(y_test, y_pred))\n",
        "r2 = r2_score(y_test, y_pred)\n",
        "\n",
        "print(f\"MAE: {mae:.2f}\")\n",
        "print(f\"RMSE: {rmse:.2f}\")\n",
        "print(f\"R²: {r2:.4f}\")"
      ],
      "metadata": {
        "colab": {
          "base_uri": "https://localhost:8080/"
        },
        "id": "0y4gFHZfWE25",
        "outputId": "ab30a0e4-413e-4027-c2c4-15f9186c761a"
      },
      "execution_count": null,
      "outputs": [
        {
          "output_type": "stream",
          "name": "stdout",
          "text": [
            "MAE: 6.99\n",
            "RMSE: 14.59\n",
            "R²: -0.2977\n"
          ]
        }
      ]
    },
    {
      "cell_type": "code",
      "source": [
        "'''\n",
        "  Load & Evaluate Saved Model\n",
        "\n",
        "from google.colab import drive\n",
        "import joblib\n",
        "from sklearn.metrics import mean_absolute_error, mean_squared_error, r2_score\n",
        "import numpy as np\n",
        "\n",
        "# Step 1: Mount Drive (if not already)\n",
        "drive.mount('/content/drive')\n",
        "\n",
        "# Step 2: Load the model\n",
        "model_path = '/content/drive/My Drive/xgboost_models/xgb_final_model.pkl'\n",
        "loaded_model = joblib.load(model_path)\n",
        "\n",
        "# Step 3: Predict using loaded model\n",
        "y_pred = loaded_model.predict(X_test)\n",
        "\n",
        "# Step 4: Evaluate\n",
        "mae = mean_absolute_error(y_test, y_pred)\n",
        "rmse = np.sqrt(mean_squared_error(y_test, y_pred))\n",
        "r2 = r2_score(y_test, y_pred)\n",
        "\n",
        "print(f\"MAE: {mae:.2f}\")\n",
        "print(f\"RMSE: {rmse:.2f}\")\n",
        "print(f\"R²: {r2:.4f}\")\n",
        "'''"
      ],
      "metadata": {
        "colab": {
          "base_uri": "https://localhost:8080/",
          "height": 107
        },
        "id": "dyXe9cI2V2br",
        "outputId": "5948f71e-fa0b-42c2-9f93-ca43a8ce1cf0"
      },
      "execution_count": null,
      "outputs": [
        {
          "output_type": "execute_result",
          "data": {
            "text/plain": [
              "'\\n  Load & Evaluate Saved Model\\n\\nfrom google.colab import drive\\nimport joblib\\nfrom sklearn.metrics import mean_absolute_error, mean_squared_error, r2_score\\nimport numpy as np\\n\\n# Step 1: Mount Drive (if not already)\\ndrive.mount(\\'/content/drive\\')\\n\\n# Step 2: Load the model\\nmodel_path = \\'/content/drive/My Drive/xgboost_models/xgb_final_model.pkl\\'\\nloaded_model = joblib.load(model_path)\\n\\n# Step 3: Predict using loaded model\\ny_pred = loaded_model.predict(X_test)\\n\\n# Step 4: Evaluate\\nmae = mean_absolute_error(y_test, y_pred)\\nrmse = np.sqrt(mean_squared_error(y_test, y_pred))\\nr2 = r2_score(y_test, y_pred)\\n\\nprint(f\"MAE: {mae:.2f}\")\\nprint(f\"RMSE: {rmse:.2f}\")\\nprint(f\"R²: {r2:.4f}\")\\n'"
            ],
            "application/vnd.google.colaboratory.intrinsic+json": {
              "type": "string"
            }
          },
          "metadata": {},
          "execution_count": 114
        }
      ]
    }
  ]
}