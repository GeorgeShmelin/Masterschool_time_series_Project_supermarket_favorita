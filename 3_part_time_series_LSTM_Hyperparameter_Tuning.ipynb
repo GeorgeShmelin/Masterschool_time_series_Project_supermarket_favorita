{
  "nbformat": 4,
  "nbformat_minor": 0,
  "metadata": {
    "colab": {
      "provenance": [],
      "authorship_tag": "ABX9TyNRZWwRtufdFlckAdSROmnw",
      "include_colab_link": true
    },
    "kernelspec": {
      "name": "python3",
      "display_name": "Python 3"
    },
    "language_info": {
      "name": "python"
    }
  },
  "cells": [
    {
      "cell_type": "markdown",
      "metadata": {
        "id": "view-in-github",
        "colab_type": "text"
      },
      "source": [
        "<a href=\"https://colab.research.google.com/github/GeorgeShmelin/Masterschool_time_series_Project_supermarket_favorita/blob/main/3_part_time_series_LSTM_Hyperparameter_Tuning.ipynb\" target=\"_parent\"><img src=\"https://colab.research.google.com/assets/colab-badge.svg\" alt=\"Open In Colab\"/></a>"
      ]
    },
    {
      "cell_type": "markdown",
      "source": [
        "# Libraries"
      ],
      "metadata": {
        "id": "XMLKigzkbMMx"
      }
    },
    {
      "cell_type": "code",
      "source": [
        "import pandas as pd\n",
        "import numpy as np\n",
        "import matplotlib.pyplot as plt\n",
        "import seaborn as sns"
      ],
      "metadata": {
        "id": "vC2bcEbmbRWi"
      },
      "execution_count": null,
      "outputs": []
    },
    {
      "cell_type": "code",
      "source": [
        "import joblib\n",
        "from tensorflow.keras.models import load_model"
      ],
      "metadata": {
        "id": "5DNUsAlZk1Nr"
      },
      "execution_count": null,
      "outputs": []
    },
    {
      "cell_type": "code",
      "source": [
        "import gc # gc.collect() are for rubbish collection"
      ],
      "metadata": {
        "id": "c893MLvebkZp"
      },
      "execution_count": null,
      "outputs": []
    },
    {
      "cell_type": "code",
      "source": [
        "from sklearn.preprocessing import MinMaxScaler\n",
        "from tensorflow.keras.models import Sequential\n",
        "from tensorflow.keras.layers import LSTM, Dense, Dropout, Input\n",
        "from tensorflow.keras.callbacks import EarlyStopping\n",
        "from tensorflow.keras.callbacks import EarlyStopping, ModelCheckpoint"
      ],
      "metadata": {
        "id": "GZhDBrTHbx3B"
      },
      "execution_count": null,
      "outputs": []
    },
    {
      "cell_type": "code",
      "source": [
        "from sklearn.model_selection import train_test_split\n",
        "from sklearn.metrics import mean_squared_error, mean_absolute_error, r2_score\n",
        "import xgboost as xgb\n",
        "from sklearn.model_selection import TimeSeriesSplit, RandomizedSearchCV # new import we need for this week"
      ],
      "metadata": {
        "id": "GRIfv6KXC14D"
      },
      "execution_count": null,
      "outputs": []
    },
    {
      "cell_type": "markdown",
      "source": [
        "\n",
        "\n",
        "---\n",
        "# Data download\n"
      ],
      "metadata": {
        "id": "9kbX1IR5b5F5"
      }
    },
    {
      "cell_type": "code",
      "source": [
        "from google.colab import drive\n",
        "drive.mount('/content/drive')"
      ],
      "metadata": {
        "colab": {
          "base_uri": "https://localhost:8080/"
        },
        "id": "PhkNIOYxcAu8",
        "outputId": "b9103645-ab98-42b8-fe85-8f51e9666db4"
      },
      "execution_count": null,
      "outputs": [
        {
          "output_type": "stream",
          "name": "stdout",
          "text": [
            "Drive already mounted at /content/drive; to attempt to forcibly remount, call drive.mount(\"/content/drive\", force_remount=True).\n"
          ]
        }
      ]
    },
    {
      "cell_type": "code",
      "source": [
        "df_download = pd.read_csv('/content/drive/MyDrive/MasterSchool/MasterSchool_Python/Time_Series/Time_series_project/df_train_3.csv')\n",
        "df_download.shape"
      ],
      "metadata": {
        "colab": {
          "base_uri": "https://localhost:8080/"
        },
        "id": "ws1ek9rPcJZP",
        "outputId": "bda59734-985a-403b-9e96-7d0f503c3ee6"
      },
      "execution_count": null,
      "outputs": [
        {
          "output_type": "execute_result",
          "data": {
            "text/plain": [
              "(26307, 24)"
            ]
          },
          "metadata": {},
          "execution_count": 7
        }
      ]
    },
    {
      "cell_type": "markdown",
      "source": [
        "This data has been already joined, encoded (mostly by One Hot Encoder) and filtered. Full path of the data download, cleaning and encoding using SQL is presented in https://github.com/GeorgeShmelin/MasterSchool_Python_Studies.git or https://colab.research.google.com/drive/1rxXgcs68TGxuIKV8dAk3dWDCgaQSfNbQ?usp=sharing"
      ],
      "metadata": {
        "id": "CcM6Xg3nqIVG"
      }
    },
    {
      "cell_type": "code",
      "source": [
        "# Downcast numeric columns to smallest possible types\n",
        "for col in df_download.select_dtypes(include=['int', 'float']).columns:\n",
        "    if pd.api.types.is_integer_dtype(df_download[col]):\n",
        "        df_download[col] = pd.to_numeric(df_download[col], downcast='integer')\n",
        "    elif pd.api.types.is_float_dtype(df_download[col]):\n",
        "        df_download[col] = pd.to_numeric(df_download[col], downcast='float')\n",
        "        df_download[col] = pd.to_numeric(df_download[col], downcast='float')"
      ],
      "metadata": {
        "id": "JEMNH3T2qvIB"
      },
      "execution_count": null,
      "outputs": []
    },
    {
      "cell_type": "code",
      "source": [
        "# Convert 'date' column to datetime if it's not already\n",
        "df_download['date'] = pd.to_datetime(df_download['date'])\n",
        "\n",
        "# Recreate related columns to ensure they are correctly derived\n",
        "df_download['month'] = df_download['date'].dt.month.astype('int8')\n",
        "df_download['day'] = df_download['date'].dt.day.astype('int8')\n",
        "df_download['week'] = df_download['date'].dt.isocalendar().week.astype('int8')\n",
        "df_download['day_of_week'] = df_download['date'].dt.dayofweek.astype('int8')  # 0 = Monday, 6 = Sunday"
      ],
      "metadata": {
        "id": "Xu66zh0xtz0j"
      },
      "execution_count": null,
      "outputs": []
    },
    {
      "cell_type": "code",
      "source": [
        "df_download['year'] = df_download['date'].dt.year # year_scaled column\n",
        "df_download['year_scaled'] = (df_download['year'] - df_download['year'].min()) / (df_download['year'].max() - df_download['year'].min())\n",
        "df_download['year'] = df_download['year'].astype('category')"
      ],
      "metadata": {
        "id": "xhw6tvgOuCfG"
      },
      "execution_count": null,
      "outputs": []
    },
    {
      "cell_type": "code",
      "source": [
        "df_download['weighted_unit_sales'] = df_download['weighted_unit_sales'].round(2)\n",
        "df_download['unit_sales'] = df_download['unit_sales'].round(2)\n",
        "df_download['dcoilwtico'] = df_download['dcoilwtico'].round(2)"
      ],
      "metadata": {
        "id": "iBQI1eQ1vF0G"
      },
      "execution_count": null,
      "outputs": []
    },
    {
      "cell_type": "code",
      "source": [
        "del df_download['year']\n",
        "del df_download['date']"
      ],
      "metadata": {
        "id": "CYPG-ENeDgEj"
      },
      "execution_count": null,
      "outputs": []
    },
    {
      "cell_type": "code",
      "source": [
        "df_download['store_nbr'] = df_download['store_nbr'].astype('category')\n",
        "df_download['item_nbr'] = df_download['item_nbr'].astype('category')\n",
        "df_download['item_class'] = df_download['item_class'].astype('category')"
      ],
      "metadata": {
        "id": "ayOzb92bPJie"
      },
      "execution_count": null,
      "outputs": []
    },
    {
      "cell_type": "code",
      "source": [
        "df_download.sample(3)"
      ],
      "metadata": {
        "colab": {
          "base_uri": "https://localhost:8080/",
          "height": 210
        },
        "id": "5dy9DeLssUZt",
        "outputId": "91d52dd1-249b-4f5f-8296-30e8544431ab"
      },
      "execution_count": null,
      "outputs": [
        {
          "output_type": "execute_result",
          "data": {
            "text/plain": [
              "       unit_sales store_nbr item_nbr  onpromotion  dcoilwtico  transferred  \\\n",
              "20330         3.0        26   211205            0   46.060001            0   \n",
              "23428         1.0        35   812735            0   49.950001            0   \n",
              "2020          4.0        51   413987            0   99.809998            0   \n",
              "\n",
              "      item_class  transactions  weighted_unit_sales  month  ...  year_scaled  \\\n",
              "20330       1072           695                  3.0      1  ...          1.0   \n",
              "23428       1004           669                  1.0      2  ...          1.0   \n",
              "2020        3034          2055                  4.0      5  ...          0.0   \n",
              "\n",
              "       city_Daule  city_Guayaquil  city_Libertad  city_Playas  city_nan  \\\n",
              "20330           0               1              0            0         0   \n",
              "23428           0               0              0            1         0   \n",
              "2020            0               1              0            0         0   \n",
              "\n",
              "       items_family_BEVERAGES  items_family_CLEANING  items_family_GROCERY I  \\\n",
              "20330                       0                      0                       1   \n",
              "23428                       0                      0                       1   \n",
              "2020                        0                      1                       0   \n",
              "\n",
              "       items_family_nan  \n",
              "20330                 0  \n",
              "23428                 0  \n",
              "2020                  0  \n",
              "\n",
              "[3 rows x 23 columns]"
            ],
            "text/html": [
              "\n",
              "  <div id=\"df-02a99fd9-fc34-4590-a540-e8404b93e88e\" class=\"colab-df-container\">\n",
              "    <div>\n",
              "<style scoped>\n",
              "    .dataframe tbody tr th:only-of-type {\n",
              "        vertical-align: middle;\n",
              "    }\n",
              "\n",
              "    .dataframe tbody tr th {\n",
              "        vertical-align: top;\n",
              "    }\n",
              "\n",
              "    .dataframe thead th {\n",
              "        text-align: right;\n",
              "    }\n",
              "</style>\n",
              "<table border=\"1\" class=\"dataframe\">\n",
              "  <thead>\n",
              "    <tr style=\"text-align: right;\">\n",
              "      <th></th>\n",
              "      <th>unit_sales</th>\n",
              "      <th>store_nbr</th>\n",
              "      <th>item_nbr</th>\n",
              "      <th>onpromotion</th>\n",
              "      <th>dcoilwtico</th>\n",
              "      <th>transferred</th>\n",
              "      <th>item_class</th>\n",
              "      <th>transactions</th>\n",
              "      <th>weighted_unit_sales</th>\n",
              "      <th>month</th>\n",
              "      <th>...</th>\n",
              "      <th>year_scaled</th>\n",
              "      <th>city_Daule</th>\n",
              "      <th>city_Guayaquil</th>\n",
              "      <th>city_Libertad</th>\n",
              "      <th>city_Playas</th>\n",
              "      <th>city_nan</th>\n",
              "      <th>items_family_BEVERAGES</th>\n",
              "      <th>items_family_CLEANING</th>\n",
              "      <th>items_family_GROCERY I</th>\n",
              "      <th>items_family_nan</th>\n",
              "    </tr>\n",
              "  </thead>\n",
              "  <tbody>\n",
              "    <tr>\n",
              "      <th>20330</th>\n",
              "      <td>3.0</td>\n",
              "      <td>26</td>\n",
              "      <td>211205</td>\n",
              "      <td>0</td>\n",
              "      <td>46.060001</td>\n",
              "      <td>0</td>\n",
              "      <td>1072</td>\n",
              "      <td>695</td>\n",
              "      <td>3.0</td>\n",
              "      <td>1</td>\n",
              "      <td>...</td>\n",
              "      <td>1.0</td>\n",
              "      <td>0</td>\n",
              "      <td>1</td>\n",
              "      <td>0</td>\n",
              "      <td>0</td>\n",
              "      <td>0</td>\n",
              "      <td>0</td>\n",
              "      <td>0</td>\n",
              "      <td>1</td>\n",
              "      <td>0</td>\n",
              "    </tr>\n",
              "    <tr>\n",
              "      <th>23428</th>\n",
              "      <td>1.0</td>\n",
              "      <td>35</td>\n",
              "      <td>812735</td>\n",
              "      <td>0</td>\n",
              "      <td>49.950001</td>\n",
              "      <td>0</td>\n",
              "      <td>1004</td>\n",
              "      <td>669</td>\n",
              "      <td>1.0</td>\n",
              "      <td>2</td>\n",
              "      <td>...</td>\n",
              "      <td>1.0</td>\n",
              "      <td>0</td>\n",
              "      <td>0</td>\n",
              "      <td>0</td>\n",
              "      <td>1</td>\n",
              "      <td>0</td>\n",
              "      <td>0</td>\n",
              "      <td>0</td>\n",
              "      <td>1</td>\n",
              "      <td>0</td>\n",
              "    </tr>\n",
              "    <tr>\n",
              "      <th>2020</th>\n",
              "      <td>4.0</td>\n",
              "      <td>51</td>\n",
              "      <td>413987</td>\n",
              "      <td>0</td>\n",
              "      <td>99.809998</td>\n",
              "      <td>0</td>\n",
              "      <td>3034</td>\n",
              "      <td>2055</td>\n",
              "      <td>4.0</td>\n",
              "      <td>5</td>\n",
              "      <td>...</td>\n",
              "      <td>0.0</td>\n",
              "      <td>0</td>\n",
              "      <td>1</td>\n",
              "      <td>0</td>\n",
              "      <td>0</td>\n",
              "      <td>0</td>\n",
              "      <td>0</td>\n",
              "      <td>1</td>\n",
              "      <td>0</td>\n",
              "      <td>0</td>\n",
              "    </tr>\n",
              "  </tbody>\n",
              "</table>\n",
              "<p>3 rows × 23 columns</p>\n",
              "</div>\n",
              "    <div class=\"colab-df-buttons\">\n",
              "\n",
              "  <div class=\"colab-df-container\">\n",
              "    <button class=\"colab-df-convert\" onclick=\"convertToInteractive('df-02a99fd9-fc34-4590-a540-e8404b93e88e')\"\n",
              "            title=\"Convert this dataframe to an interactive table.\"\n",
              "            style=\"display:none;\">\n",
              "\n",
              "  <svg xmlns=\"http://www.w3.org/2000/svg\" height=\"24px\" viewBox=\"0 -960 960 960\">\n",
              "    <path d=\"M120-120v-720h720v720H120Zm60-500h600v-160H180v160Zm220 220h160v-160H400v160Zm0 220h160v-160H400v160ZM180-400h160v-160H180v160Zm440 0h160v-160H620v160ZM180-180h160v-160H180v160Zm440 0h160v-160H620v160Z\"/>\n",
              "  </svg>\n",
              "    </button>\n",
              "\n",
              "  <style>\n",
              "    .colab-df-container {\n",
              "      display:flex;\n",
              "      gap: 12px;\n",
              "    }\n",
              "\n",
              "    .colab-df-convert {\n",
              "      background-color: #E8F0FE;\n",
              "      border: none;\n",
              "      border-radius: 50%;\n",
              "      cursor: pointer;\n",
              "      display: none;\n",
              "      fill: #1967D2;\n",
              "      height: 32px;\n",
              "      padding: 0 0 0 0;\n",
              "      width: 32px;\n",
              "    }\n",
              "\n",
              "    .colab-df-convert:hover {\n",
              "      background-color: #E2EBFA;\n",
              "      box-shadow: 0px 1px 2px rgba(60, 64, 67, 0.3), 0px 1px 3px 1px rgba(60, 64, 67, 0.15);\n",
              "      fill: #174EA6;\n",
              "    }\n",
              "\n",
              "    .colab-df-buttons div {\n",
              "      margin-bottom: 4px;\n",
              "    }\n",
              "\n",
              "    [theme=dark] .colab-df-convert {\n",
              "      background-color: #3B4455;\n",
              "      fill: #D2E3FC;\n",
              "    }\n",
              "\n",
              "    [theme=dark] .colab-df-convert:hover {\n",
              "      background-color: #434B5C;\n",
              "      box-shadow: 0px 1px 3px 1px rgba(0, 0, 0, 0.15);\n",
              "      filter: drop-shadow(0px 1px 2px rgba(0, 0, 0, 0.3));\n",
              "      fill: #FFFFFF;\n",
              "    }\n",
              "  </style>\n",
              "\n",
              "    <script>\n",
              "      const buttonEl =\n",
              "        document.querySelector('#df-02a99fd9-fc34-4590-a540-e8404b93e88e button.colab-df-convert');\n",
              "      buttonEl.style.display =\n",
              "        google.colab.kernel.accessAllowed ? 'block' : 'none';\n",
              "\n",
              "      async function convertToInteractive(key) {\n",
              "        const element = document.querySelector('#df-02a99fd9-fc34-4590-a540-e8404b93e88e');\n",
              "        const dataTable =\n",
              "          await google.colab.kernel.invokeFunction('convertToInteractive',\n",
              "                                                    [key], {});\n",
              "        if (!dataTable) return;\n",
              "\n",
              "        const docLinkHtml = 'Like what you see? Visit the ' +\n",
              "          '<a target=\"_blank\" href=https://colab.research.google.com/notebooks/data_table.ipynb>data table notebook</a>'\n",
              "          + ' to learn more about interactive tables.';\n",
              "        element.innerHTML = '';\n",
              "        dataTable['output_type'] = 'display_data';\n",
              "        await google.colab.output.renderOutput(dataTable, element);\n",
              "        const docLink = document.createElement('div');\n",
              "        docLink.innerHTML = docLinkHtml;\n",
              "        element.appendChild(docLink);\n",
              "      }\n",
              "    </script>\n",
              "  </div>\n",
              "\n",
              "\n",
              "    <div id=\"df-3a3d5cf7-318f-4286-b910-66aa2e2132a6\">\n",
              "      <button class=\"colab-df-quickchart\" onclick=\"quickchart('df-3a3d5cf7-318f-4286-b910-66aa2e2132a6')\"\n",
              "                title=\"Suggest charts\"\n",
              "                style=\"display:none;\">\n",
              "\n",
              "<svg xmlns=\"http://www.w3.org/2000/svg\" height=\"24px\"viewBox=\"0 0 24 24\"\n",
              "     width=\"24px\">\n",
              "    <g>\n",
              "        <path d=\"M19 3H5c-1.1 0-2 .9-2 2v14c0 1.1.9 2 2 2h14c1.1 0 2-.9 2-2V5c0-1.1-.9-2-2-2zM9 17H7v-7h2v7zm4 0h-2V7h2v10zm4 0h-2v-4h2v4z\"/>\n",
              "    </g>\n",
              "</svg>\n",
              "      </button>\n",
              "\n",
              "<style>\n",
              "  .colab-df-quickchart {\n",
              "      --bg-color: #E8F0FE;\n",
              "      --fill-color: #1967D2;\n",
              "      --hover-bg-color: #E2EBFA;\n",
              "      --hover-fill-color: #174EA6;\n",
              "      --disabled-fill-color: #AAA;\n",
              "      --disabled-bg-color: #DDD;\n",
              "  }\n",
              "\n",
              "  [theme=dark] .colab-df-quickchart {\n",
              "      --bg-color: #3B4455;\n",
              "      --fill-color: #D2E3FC;\n",
              "      --hover-bg-color: #434B5C;\n",
              "      --hover-fill-color: #FFFFFF;\n",
              "      --disabled-bg-color: #3B4455;\n",
              "      --disabled-fill-color: #666;\n",
              "  }\n",
              "\n",
              "  .colab-df-quickchart {\n",
              "    background-color: var(--bg-color);\n",
              "    border: none;\n",
              "    border-radius: 50%;\n",
              "    cursor: pointer;\n",
              "    display: none;\n",
              "    fill: var(--fill-color);\n",
              "    height: 32px;\n",
              "    padding: 0;\n",
              "    width: 32px;\n",
              "  }\n",
              "\n",
              "  .colab-df-quickchart:hover {\n",
              "    background-color: var(--hover-bg-color);\n",
              "    box-shadow: 0 1px 2px rgba(60, 64, 67, 0.3), 0 1px 3px 1px rgba(60, 64, 67, 0.15);\n",
              "    fill: var(--button-hover-fill-color);\n",
              "  }\n",
              "\n",
              "  .colab-df-quickchart-complete:disabled,\n",
              "  .colab-df-quickchart-complete:disabled:hover {\n",
              "    background-color: var(--disabled-bg-color);\n",
              "    fill: var(--disabled-fill-color);\n",
              "    box-shadow: none;\n",
              "  }\n",
              "\n",
              "  .colab-df-spinner {\n",
              "    border: 2px solid var(--fill-color);\n",
              "    border-color: transparent;\n",
              "    border-bottom-color: var(--fill-color);\n",
              "    animation:\n",
              "      spin 1s steps(1) infinite;\n",
              "  }\n",
              "\n",
              "  @keyframes spin {\n",
              "    0% {\n",
              "      border-color: transparent;\n",
              "      border-bottom-color: var(--fill-color);\n",
              "      border-left-color: var(--fill-color);\n",
              "    }\n",
              "    20% {\n",
              "      border-color: transparent;\n",
              "      border-left-color: var(--fill-color);\n",
              "      border-top-color: var(--fill-color);\n",
              "    }\n",
              "    30% {\n",
              "      border-color: transparent;\n",
              "      border-left-color: var(--fill-color);\n",
              "      border-top-color: var(--fill-color);\n",
              "      border-right-color: var(--fill-color);\n",
              "    }\n",
              "    40% {\n",
              "      border-color: transparent;\n",
              "      border-right-color: var(--fill-color);\n",
              "      border-top-color: var(--fill-color);\n",
              "    }\n",
              "    60% {\n",
              "      border-color: transparent;\n",
              "      border-right-color: var(--fill-color);\n",
              "    }\n",
              "    80% {\n",
              "      border-color: transparent;\n",
              "      border-right-color: var(--fill-color);\n",
              "      border-bottom-color: var(--fill-color);\n",
              "    }\n",
              "    90% {\n",
              "      border-color: transparent;\n",
              "      border-bottom-color: var(--fill-color);\n",
              "    }\n",
              "  }\n",
              "</style>\n",
              "\n",
              "      <script>\n",
              "        async function quickchart(key) {\n",
              "          const quickchartButtonEl =\n",
              "            document.querySelector('#' + key + ' button');\n",
              "          quickchartButtonEl.disabled = true;  // To prevent multiple clicks.\n",
              "          quickchartButtonEl.classList.add('colab-df-spinner');\n",
              "          try {\n",
              "            const charts = await google.colab.kernel.invokeFunction(\n",
              "                'suggestCharts', [key], {});\n",
              "          } catch (error) {\n",
              "            console.error('Error during call to suggestCharts:', error);\n",
              "          }\n",
              "          quickchartButtonEl.classList.remove('colab-df-spinner');\n",
              "          quickchartButtonEl.classList.add('colab-df-quickchart-complete');\n",
              "        }\n",
              "        (() => {\n",
              "          let quickchartButtonEl =\n",
              "            document.querySelector('#df-3a3d5cf7-318f-4286-b910-66aa2e2132a6 button');\n",
              "          quickchartButtonEl.style.display =\n",
              "            google.colab.kernel.accessAllowed ? 'block' : 'none';\n",
              "        })();\n",
              "      </script>\n",
              "    </div>\n",
              "\n",
              "    </div>\n",
              "  </div>\n"
            ],
            "application/vnd.google.colaboratory.intrinsic+json": {
              "type": "dataframe"
            }
          },
          "metadata": {},
          "execution_count": 14
        }
      ]
    },
    {
      "cell_type": "code",
      "source": [
        "df_download.info()"
      ],
      "metadata": {
        "colab": {
          "base_uri": "https://localhost:8080/"
        },
        "id": "XAmALUUhq2YJ",
        "outputId": "2f476215-76a7-4b26-c934-219dad30cb55"
      },
      "execution_count": null,
      "outputs": [
        {
          "output_type": "stream",
          "name": "stdout",
          "text": [
            "<class 'pandas.core.frame.DataFrame'>\n",
            "RangeIndex: 26307 entries, 0 to 26306\n",
            "Data columns (total 23 columns):\n",
            " #   Column                  Non-Null Count  Dtype   \n",
            "---  ------                  --------------  -----   \n",
            " 0   unit_sales              26307 non-null  float32 \n",
            " 1   store_nbr               26307 non-null  category\n",
            " 2   item_nbr                26307 non-null  category\n",
            " 3   onpromotion             26307 non-null  int8    \n",
            " 4   dcoilwtico              26307 non-null  float32 \n",
            " 5   transferred             26307 non-null  int8    \n",
            " 6   item_class              26307 non-null  category\n",
            " 7   transactions            26307 non-null  int16   \n",
            " 8   weighted_unit_sales     26307 non-null  float32 \n",
            " 9   month                   26307 non-null  int8    \n",
            " 10  day                     26307 non-null  int8    \n",
            " 11  week                    26307 non-null  int8    \n",
            " 12  day_of_week             26307 non-null  int8    \n",
            " 13  year_scaled             26307 non-null  float64 \n",
            " 14  city_Daule              26307 non-null  int8    \n",
            " 15  city_Guayaquil          26307 non-null  int8    \n",
            " 16  city_Libertad           26307 non-null  int8    \n",
            " 17  city_Playas             26307 non-null  int8    \n",
            " 18  city_nan                26307 non-null  int8    \n",
            " 19  items_family_BEVERAGES  26307 non-null  int8    \n",
            " 20  items_family_CLEANING   26307 non-null  int8    \n",
            " 21  items_family_GROCERY I  26307 non-null  int8    \n",
            " 22  items_family_nan        26307 non-null  int8    \n",
            "dtypes: category(3), float32(3), float64(1), int16(1), int8(15)\n",
            "memory usage: 1.1 MB\n"
          ]
        }
      ]
    },
    {
      "cell_type": "code",
      "source": [
        "gc.collect() # rubbish collection"
      ],
      "metadata": {
        "colab": {
          "base_uri": "https://localhost:8080/"
        },
        "id": "cQ5MxY84iaRo",
        "outputId": "9a2d7d56-dbe0-4bd0-d984-d63a59c50610"
      },
      "execution_count": null,
      "outputs": [
        {
          "output_type": "execute_result",
          "data": {
            "text/plain": [
              "0"
            ]
          },
          "metadata": {},
          "execution_count": 16
        }
      ]
    },
    {
      "cell_type": "markdown",
      "source": [
        "## data preprocessing"
      ],
      "metadata": {
        "id": "PtZuXsUtvrAX"
      }
    },
    {
      "cell_type": "markdown",
      "source": [
        "Here I am going to transfer my data to a data which in my view best fit for LSTM application - avoid any object/categorical data, also scale all possible data points which may confuse my model"
      ],
      "metadata": {
        "id": "pfgC6OOTT1nF"
      }
    },
    {
      "cell_type": "code",
      "source": [
        "df_f = df_download.copy() # for filtering"
      ],
      "metadata": {
        "id": "cvZ9h5JhrIdd"
      },
      "execution_count": null,
      "outputs": []
    },
    {
      "cell_type": "code",
      "source": [
        "del df_f['store_nbr']\n",
        "del df_f['item_nbr']\n",
        "del df_f['item_class']"
      ],
      "metadata": {
        "id": "oqbrwNdaT9sz"
      },
      "execution_count": null,
      "outputs": []
    },
    {
      "cell_type": "markdown",
      "source": [
        "For LSTM model I should avoid any object or categorical data in order not to confuse my model - therefore because it is quite a lot of points to transfer it by One Hot Encoding, thus I will delete it here"
      ],
      "metadata": {
        "id": "TfUXquPeSNo2"
      }
    },
    {
      "cell_type": "code",
      "source": [
        "df_f.shape"
      ],
      "metadata": {
        "colab": {
          "base_uri": "https://localhost:8080/"
        },
        "id": "EtToPtq9wBiL",
        "outputId": "7499234e-f5f7-4ef0-e962-889b0390bd5b"
      },
      "execution_count": null,
      "outputs": [
        {
          "output_type": "execute_result",
          "data": {
            "text/plain": [
              "(26307, 20)"
            ]
          },
          "metadata": {},
          "execution_count": 19
        }
      ]
    },
    {
      "cell_type": "code",
      "source": [
        "# Initialize the scaler\n",
        "scaler = MinMaxScaler()"
      ],
      "metadata": {
        "id": "rfXG_5lBUtv5"
      },
      "execution_count": null,
      "outputs": []
    },
    {
      "cell_type": "markdown",
      "source": [
        " inverse transform to get the original scale"
      ],
      "metadata": {
        "id": "XyZeY2C6Xs53"
      }
    },
    {
      "cell_type": "code",
      "source": [
        "# y_pred_original = target_scaler.inverse_transform(y_pred_scaled)"
      ],
      "metadata": {
        "id": "LFXGO9J5Xv7N"
      },
      "execution_count": null,
      "outputs": []
    },
    {
      "cell_type": "code",
      "source": [
        "# Fit and transform my columns\n",
        "df_f['unit_sales_sc'] = scaler.fit_transform(df_f[['unit_sales']])\n",
        "del df_f['unit_sales']\n",
        "\n",
        "df_f['weighted_unit_sales_sc'] = scaler.fit_transform(df_f[['weighted_unit_sales']])\n",
        "del df_f['weighted_unit_sales']\n",
        "\n",
        "df_f['dcoilwtico_sc'] = scaler.fit_transform(df_f[['dcoilwtico']])\n",
        "del df_f['dcoilwtico']\n",
        "\n",
        "df_f['transactions_sc'] = scaler.fit_transform(df_f[['transactions']])\n",
        "del df_f['transactions']"
      ],
      "metadata": {
        "id": "Tctr8VZWUpKv"
      },
      "execution_count": null,
      "outputs": []
    },
    {
      "cell_type": "markdown",
      "source": [
        "Cyclical Feature Transformation Code"
      ],
      "metadata": {
        "id": "1UVRH_yQZVVH"
      }
    },
    {
      "cell_type": "code",
      "source": [
        "#columns: 'day', 'week', 'month', 'day_of_week'\n",
        "\n",
        "# Day of year (1–365 or 366)\n",
        "df_f['day_sin'] = np.sin(2 * np.pi * df_f['day'] / 365)\n",
        "df_f['day_cos'] = np.cos(2 * np.pi * df_f['day'] / 365)\n",
        "\n",
        "# Week of year (1–52)\n",
        "df_f['week_sin'] = np.sin(2 * np.pi * df_f['week'] / 52)\n",
        "df_f['week_cos'] = np.cos(2 * np.pi * df_f['week'] / 52)\n",
        "\n",
        "# Month (1–12)\n",
        "df_f['month_sin'] = np.sin(2 * np.pi * df_f['month'] / 12)\n",
        "df_f['month_cos'] = np.cos(2 * np.pi * df_f['month'] / 12)\n",
        "\n",
        "# Day of week (0–6, where 0=Monday)\n",
        "df_f['dow_sin'] = np.sin(2 * np.pi * df_f['day_of_week'] / 7)\n",
        "df_f['dow_cos'] = np.cos(2 * np.pi * df_f['day_of_week'] / 7)\n",
        "\n",
        "df_f = df_f.drop(columns=['day', 'week', 'month', 'day_of_week'])"
      ],
      "metadata": {
        "id": "1F7jjSfFZHR3"
      },
      "execution_count": null,
      "outputs": []
    },
    {
      "cell_type": "code",
      "source": [
        "df_f.sample(3)"
      ],
      "metadata": {
        "colab": {
          "base_uri": "https://localhost:8080/",
          "height": 228
        },
        "id": "bTLT2vckOTvc",
        "outputId": "e583ff9d-7d53-40c0-fcc3-54887b05735d"
      },
      "execution_count": null,
      "outputs": [
        {
          "output_type": "execute_result",
          "data": {
            "text/plain": [
              "       onpromotion  transferred  year_scaled  city_Daule  city_Guayaquil  \\\n",
              "1691             0            0          0.0           0               0   \n",
              "19607            0            0          0.0           0               1   \n",
              "23922            0            0          1.0           0               1   \n",
              "\n",
              "       city_Libertad  city_Playas  city_nan  items_family_BEVERAGES  \\\n",
              "1691               0            1         0                       0   \n",
              "19607              0            0         0                       0   \n",
              "23922              0            0         0                       1   \n",
              "\n",
              "       items_family_CLEANING  ...  dcoilwtico_sc  transactions_sc   day_sin  \\\n",
              "1691                       0  ...       0.894362         0.095026  0.463550   \n",
              "19607                      0  ...       0.155824         0.515466  0.508671   \n",
              "23922                      0  ...       0.109046         0.436526  0.017213   \n",
              "\n",
              "        day_cos  week_sin  week_cos     month_sin     month_cos   dow_sin  \\\n",
              "1691   0.886071  0.822984 -0.568065  8.660254e-01 -5.000000e-01  0.000000   \n",
              "19607  0.860961  0.120537  0.992709 -2.449294e-16  1.000000e+00  0.974928   \n",
              "23922  0.999852  0.885456  0.464723  1.000000e+00  6.123234e-17 -0.781831   \n",
              "\n",
              "        dow_cos  \n",
              "1691   1.000000  \n",
              "19607 -0.222521  \n",
              "23922  0.623490  \n",
              "\n",
              "[3 rows x 24 columns]"
            ],
            "text/html": [
              "\n",
              "  <div id=\"df-9a415537-e5e1-45c1-ab08-90f8a9b1e9b4\" class=\"colab-df-container\">\n",
              "    <div>\n",
              "<style scoped>\n",
              "    .dataframe tbody tr th:only-of-type {\n",
              "        vertical-align: middle;\n",
              "    }\n",
              "\n",
              "    .dataframe tbody tr th {\n",
              "        vertical-align: top;\n",
              "    }\n",
              "\n",
              "    .dataframe thead th {\n",
              "        text-align: right;\n",
              "    }\n",
              "</style>\n",
              "<table border=\"1\" class=\"dataframe\">\n",
              "  <thead>\n",
              "    <tr style=\"text-align: right;\">\n",
              "      <th></th>\n",
              "      <th>onpromotion</th>\n",
              "      <th>transferred</th>\n",
              "      <th>year_scaled</th>\n",
              "      <th>city_Daule</th>\n",
              "      <th>city_Guayaquil</th>\n",
              "      <th>city_Libertad</th>\n",
              "      <th>city_Playas</th>\n",
              "      <th>city_nan</th>\n",
              "      <th>items_family_BEVERAGES</th>\n",
              "      <th>items_family_CLEANING</th>\n",
              "      <th>...</th>\n",
              "      <th>dcoilwtico_sc</th>\n",
              "      <th>transactions_sc</th>\n",
              "      <th>day_sin</th>\n",
              "      <th>day_cos</th>\n",
              "      <th>week_sin</th>\n",
              "      <th>week_cos</th>\n",
              "      <th>month_sin</th>\n",
              "      <th>month_cos</th>\n",
              "      <th>dow_sin</th>\n",
              "      <th>dow_cos</th>\n",
              "    </tr>\n",
              "  </thead>\n",
              "  <tbody>\n",
              "    <tr>\n",
              "      <th>1691</th>\n",
              "      <td>0</td>\n",
              "      <td>0</td>\n",
              "      <td>0.0</td>\n",
              "      <td>0</td>\n",
              "      <td>0</td>\n",
              "      <td>0</td>\n",
              "      <td>1</td>\n",
              "      <td>0</td>\n",
              "      <td>0</td>\n",
              "      <td>0</td>\n",
              "      <td>...</td>\n",
              "      <td>0.894362</td>\n",
              "      <td>0.095026</td>\n",
              "      <td>0.463550</td>\n",
              "      <td>0.886071</td>\n",
              "      <td>0.822984</td>\n",
              "      <td>-0.568065</td>\n",
              "      <td>8.660254e-01</td>\n",
              "      <td>-5.000000e-01</td>\n",
              "      <td>0.000000</td>\n",
              "      <td>1.000000</td>\n",
              "    </tr>\n",
              "    <tr>\n",
              "      <th>19607</th>\n",
              "      <td>0</td>\n",
              "      <td>0</td>\n",
              "      <td>0.0</td>\n",
              "      <td>0</td>\n",
              "      <td>1</td>\n",
              "      <td>0</td>\n",
              "      <td>0</td>\n",
              "      <td>0</td>\n",
              "      <td>0</td>\n",
              "      <td>0</td>\n",
              "      <td>...</td>\n",
              "      <td>0.155824</td>\n",
              "      <td>0.515466</td>\n",
              "      <td>0.508671</td>\n",
              "      <td>0.860961</td>\n",
              "      <td>0.120537</td>\n",
              "      <td>0.992709</td>\n",
              "      <td>-2.449294e-16</td>\n",
              "      <td>1.000000e+00</td>\n",
              "      <td>0.974928</td>\n",
              "      <td>-0.222521</td>\n",
              "    </tr>\n",
              "    <tr>\n",
              "      <th>23922</th>\n",
              "      <td>0</td>\n",
              "      <td>0</td>\n",
              "      <td>1.0</td>\n",
              "      <td>0</td>\n",
              "      <td>1</td>\n",
              "      <td>0</td>\n",
              "      <td>0</td>\n",
              "      <td>0</td>\n",
              "      <td>1</td>\n",
              "      <td>0</td>\n",
              "      <td>...</td>\n",
              "      <td>0.109046</td>\n",
              "      <td>0.436526</td>\n",
              "      <td>0.017213</td>\n",
              "      <td>0.999852</td>\n",
              "      <td>0.885456</td>\n",
              "      <td>0.464723</td>\n",
              "      <td>1.000000e+00</td>\n",
              "      <td>6.123234e-17</td>\n",
              "      <td>-0.781831</td>\n",
              "      <td>0.623490</td>\n",
              "    </tr>\n",
              "  </tbody>\n",
              "</table>\n",
              "<p>3 rows × 24 columns</p>\n",
              "</div>\n",
              "    <div class=\"colab-df-buttons\">\n",
              "\n",
              "  <div class=\"colab-df-container\">\n",
              "    <button class=\"colab-df-convert\" onclick=\"convertToInteractive('df-9a415537-e5e1-45c1-ab08-90f8a9b1e9b4')\"\n",
              "            title=\"Convert this dataframe to an interactive table.\"\n",
              "            style=\"display:none;\">\n",
              "\n",
              "  <svg xmlns=\"http://www.w3.org/2000/svg\" height=\"24px\" viewBox=\"0 -960 960 960\">\n",
              "    <path d=\"M120-120v-720h720v720H120Zm60-500h600v-160H180v160Zm220 220h160v-160H400v160Zm0 220h160v-160H400v160ZM180-400h160v-160H180v160Zm440 0h160v-160H620v160ZM180-180h160v-160H180v160Zm440 0h160v-160H620v160Z\"/>\n",
              "  </svg>\n",
              "    </button>\n",
              "\n",
              "  <style>\n",
              "    .colab-df-container {\n",
              "      display:flex;\n",
              "      gap: 12px;\n",
              "    }\n",
              "\n",
              "    .colab-df-convert {\n",
              "      background-color: #E8F0FE;\n",
              "      border: none;\n",
              "      border-radius: 50%;\n",
              "      cursor: pointer;\n",
              "      display: none;\n",
              "      fill: #1967D2;\n",
              "      height: 32px;\n",
              "      padding: 0 0 0 0;\n",
              "      width: 32px;\n",
              "    }\n",
              "\n",
              "    .colab-df-convert:hover {\n",
              "      background-color: #E2EBFA;\n",
              "      box-shadow: 0px 1px 2px rgba(60, 64, 67, 0.3), 0px 1px 3px 1px rgba(60, 64, 67, 0.15);\n",
              "      fill: #174EA6;\n",
              "    }\n",
              "\n",
              "    .colab-df-buttons div {\n",
              "      margin-bottom: 4px;\n",
              "    }\n",
              "\n",
              "    [theme=dark] .colab-df-convert {\n",
              "      background-color: #3B4455;\n",
              "      fill: #D2E3FC;\n",
              "    }\n",
              "\n",
              "    [theme=dark] .colab-df-convert:hover {\n",
              "      background-color: #434B5C;\n",
              "      box-shadow: 0px 1px 3px 1px rgba(0, 0, 0, 0.15);\n",
              "      filter: drop-shadow(0px 1px 2px rgba(0, 0, 0, 0.3));\n",
              "      fill: #FFFFFF;\n",
              "    }\n",
              "  </style>\n",
              "\n",
              "    <script>\n",
              "      const buttonEl =\n",
              "        document.querySelector('#df-9a415537-e5e1-45c1-ab08-90f8a9b1e9b4 button.colab-df-convert');\n",
              "      buttonEl.style.display =\n",
              "        google.colab.kernel.accessAllowed ? 'block' : 'none';\n",
              "\n",
              "      async function convertToInteractive(key) {\n",
              "        const element = document.querySelector('#df-9a415537-e5e1-45c1-ab08-90f8a9b1e9b4');\n",
              "        const dataTable =\n",
              "          await google.colab.kernel.invokeFunction('convertToInteractive',\n",
              "                                                    [key], {});\n",
              "        if (!dataTable) return;\n",
              "\n",
              "        const docLinkHtml = 'Like what you see? Visit the ' +\n",
              "          '<a target=\"_blank\" href=https://colab.research.google.com/notebooks/data_table.ipynb>data table notebook</a>'\n",
              "          + ' to learn more about interactive tables.';\n",
              "        element.innerHTML = '';\n",
              "        dataTable['output_type'] = 'display_data';\n",
              "        await google.colab.output.renderOutput(dataTable, element);\n",
              "        const docLink = document.createElement('div');\n",
              "        docLink.innerHTML = docLinkHtml;\n",
              "        element.appendChild(docLink);\n",
              "      }\n",
              "    </script>\n",
              "  </div>\n",
              "\n",
              "\n",
              "    <div id=\"df-a0907a09-8634-493f-b731-2d8f7f037d7a\">\n",
              "      <button class=\"colab-df-quickchart\" onclick=\"quickchart('df-a0907a09-8634-493f-b731-2d8f7f037d7a')\"\n",
              "                title=\"Suggest charts\"\n",
              "                style=\"display:none;\">\n",
              "\n",
              "<svg xmlns=\"http://www.w3.org/2000/svg\" height=\"24px\"viewBox=\"0 0 24 24\"\n",
              "     width=\"24px\">\n",
              "    <g>\n",
              "        <path d=\"M19 3H5c-1.1 0-2 .9-2 2v14c0 1.1.9 2 2 2h14c1.1 0 2-.9 2-2V5c0-1.1-.9-2-2-2zM9 17H7v-7h2v7zm4 0h-2V7h2v10zm4 0h-2v-4h2v4z\"/>\n",
              "    </g>\n",
              "</svg>\n",
              "      </button>\n",
              "\n",
              "<style>\n",
              "  .colab-df-quickchart {\n",
              "      --bg-color: #E8F0FE;\n",
              "      --fill-color: #1967D2;\n",
              "      --hover-bg-color: #E2EBFA;\n",
              "      --hover-fill-color: #174EA6;\n",
              "      --disabled-fill-color: #AAA;\n",
              "      --disabled-bg-color: #DDD;\n",
              "  }\n",
              "\n",
              "  [theme=dark] .colab-df-quickchart {\n",
              "      --bg-color: #3B4455;\n",
              "      --fill-color: #D2E3FC;\n",
              "      --hover-bg-color: #434B5C;\n",
              "      --hover-fill-color: #FFFFFF;\n",
              "      --disabled-bg-color: #3B4455;\n",
              "      --disabled-fill-color: #666;\n",
              "  }\n",
              "\n",
              "  .colab-df-quickchart {\n",
              "    background-color: var(--bg-color);\n",
              "    border: none;\n",
              "    border-radius: 50%;\n",
              "    cursor: pointer;\n",
              "    display: none;\n",
              "    fill: var(--fill-color);\n",
              "    height: 32px;\n",
              "    padding: 0;\n",
              "    width: 32px;\n",
              "  }\n",
              "\n",
              "  .colab-df-quickchart:hover {\n",
              "    background-color: var(--hover-bg-color);\n",
              "    box-shadow: 0 1px 2px rgba(60, 64, 67, 0.3), 0 1px 3px 1px rgba(60, 64, 67, 0.15);\n",
              "    fill: var(--button-hover-fill-color);\n",
              "  }\n",
              "\n",
              "  .colab-df-quickchart-complete:disabled,\n",
              "  .colab-df-quickchart-complete:disabled:hover {\n",
              "    background-color: var(--disabled-bg-color);\n",
              "    fill: var(--disabled-fill-color);\n",
              "    box-shadow: none;\n",
              "  }\n",
              "\n",
              "  .colab-df-spinner {\n",
              "    border: 2px solid var(--fill-color);\n",
              "    border-color: transparent;\n",
              "    border-bottom-color: var(--fill-color);\n",
              "    animation:\n",
              "      spin 1s steps(1) infinite;\n",
              "  }\n",
              "\n",
              "  @keyframes spin {\n",
              "    0% {\n",
              "      border-color: transparent;\n",
              "      border-bottom-color: var(--fill-color);\n",
              "      border-left-color: var(--fill-color);\n",
              "    }\n",
              "    20% {\n",
              "      border-color: transparent;\n",
              "      border-left-color: var(--fill-color);\n",
              "      border-top-color: var(--fill-color);\n",
              "    }\n",
              "    30% {\n",
              "      border-color: transparent;\n",
              "      border-left-color: var(--fill-color);\n",
              "      border-top-color: var(--fill-color);\n",
              "      border-right-color: var(--fill-color);\n",
              "    }\n",
              "    40% {\n",
              "      border-color: transparent;\n",
              "      border-right-color: var(--fill-color);\n",
              "      border-top-color: var(--fill-color);\n",
              "    }\n",
              "    60% {\n",
              "      border-color: transparent;\n",
              "      border-right-color: var(--fill-color);\n",
              "    }\n",
              "    80% {\n",
              "      border-color: transparent;\n",
              "      border-right-color: var(--fill-color);\n",
              "      border-bottom-color: var(--fill-color);\n",
              "    }\n",
              "    90% {\n",
              "      border-color: transparent;\n",
              "      border-bottom-color: var(--fill-color);\n",
              "    }\n",
              "  }\n",
              "</style>\n",
              "\n",
              "      <script>\n",
              "        async function quickchart(key) {\n",
              "          const quickchartButtonEl =\n",
              "            document.querySelector('#' + key + ' button');\n",
              "          quickchartButtonEl.disabled = true;  // To prevent multiple clicks.\n",
              "          quickchartButtonEl.classList.add('colab-df-spinner');\n",
              "          try {\n",
              "            const charts = await google.colab.kernel.invokeFunction(\n",
              "                'suggestCharts', [key], {});\n",
              "          } catch (error) {\n",
              "            console.error('Error during call to suggestCharts:', error);\n",
              "          }\n",
              "          quickchartButtonEl.classList.remove('colab-df-spinner');\n",
              "          quickchartButtonEl.classList.add('colab-df-quickchart-complete');\n",
              "        }\n",
              "        (() => {\n",
              "          let quickchartButtonEl =\n",
              "            document.querySelector('#df-a0907a09-8634-493f-b731-2d8f7f037d7a button');\n",
              "          quickchartButtonEl.style.display =\n",
              "            google.colab.kernel.accessAllowed ? 'block' : 'none';\n",
              "        })();\n",
              "      </script>\n",
              "    </div>\n",
              "\n",
              "    </div>\n",
              "  </div>\n"
            ],
            "application/vnd.google.colaboratory.intrinsic+json": {
              "type": "dataframe"
            }
          },
          "metadata": {},
          "execution_count": 24
        }
      ]
    },
    {
      "cell_type": "markdown",
      "source": [
        "Random Validation Split (for LSTM)"
      ],
      "metadata": {
        "id": "vt675J01aS0Q"
      }
    },
    {
      "cell_type": "code",
      "source": [
        "# keep 20% for validation\n",
        "train_df, val_df = train_test_split(df_f, test_size=0.2, random_state=42, shuffle=True)"
      ],
      "metadata": {
        "id": "wwZyjs4daWVt"
      },
      "execution_count": null,
      "outputs": []
    },
    {
      "cell_type": "code",
      "source": [
        "gc.collect() # rubbish collection"
      ],
      "metadata": {
        "colab": {
          "base_uri": "https://localhost:8080/"
        },
        "id": "I5_D5VFwiegd",
        "outputId": "0a71c73a-a96c-4f35-8763-d5d873b0cf8d"
      },
      "execution_count": null,
      "outputs": [
        {
          "output_type": "execute_result",
          "data": {
            "text/plain": [
              "0"
            ]
          },
          "metadata": {},
          "execution_count": 26
        }
      ]
    },
    {
      "cell_type": "markdown",
      "source": [
        "# Model"
      ],
      "metadata": {
        "id": "xxxnM3o2bb3e"
      }
    },
    {
      "cell_type": "markdown",
      "source": [
        "###  Step 1: Prepare Data for LSTM Input"
      ],
      "metadata": {
        "id": "KTPvKwhlbqk9"
      }
    },
    {
      "cell_type": "markdown",
      "source": [
        "LSTM needs input shaped as (samples, time_steps, features).\n",
        "\n",
        "👇 Define a function to create sequences:"
      ],
      "metadata": {
        "id": "QzNBQfvvbva_"
      }
    },
    {
      "cell_type": "code",
      "source": [
        "def create_sequences(data, target_col, sequence_length):\n",
        "    X, y = [], []\n",
        "    for i in range(len(data) - sequence_length):\n",
        "        X.append(data.iloc[i:i+sequence_length].drop(columns=[target_col]).values)\n",
        "        y.append(data.iloc[i+sequence_length][target_col])\n",
        "    return np.array(X), np.array(y)"
      ],
      "metadata": {
        "id": "sTsau_V9b-_F"
      },
      "execution_count": null,
      "outputs": []
    },
    {
      "cell_type": "code",
      "source": [
        "sequence_length = 7  # or any time window\n",
        "X_train, y_train = create_sequences(train_df, 'transactions_sc', sequence_length)\n",
        "X_val, y_val = create_sequences(val_df, 'transactions_sc', sequence_length)"
      ],
      "metadata": {
        "id": "qNYdKRBbcL5O"
      },
      "execution_count": null,
      "outputs": []
    },
    {
      "cell_type": "markdown",
      "source": [
        "### Step 2: Build LSTM Model with Keras"
      ],
      "metadata": {
        "id": "ACnU_E2Wcend"
      }
    },
    {
      "cell_type": "code",
      "source": [
        "# from tensorflow.keras.models import Sequential\n",
        "# from tensorflow.keras.layers import LSTM, Dense, Dropout\n",
        "# from tensorflow.keras.callbacks import EarlyStopping, ModelCheckpoint\n",
        "\n",
        "def build_model(input_shape, lstm_units=64, dropout_rate=0.2):\n",
        "    model = Sequential([\n",
        "        LSTM(units=lstm_units, input_shape=input_shape),\n",
        "        Dropout(dropout_rate),\n",
        "        Dense(1)  # regression output\n",
        "    ])\n",
        "    model.compile(optimizer='adam', loss='mse')\n",
        "    return model"
      ],
      "metadata": {
        "id": "y7tPLmerckd5"
      },
      "execution_count": null,
      "outputs": []
    },
    {
      "cell_type": "markdown",
      "source": [
        "### Step 3: Save Best Model (Checkpoint)"
      ],
      "metadata": {
        "id": "60wGxJMRdAU1"
      }
    },
    {
      "cell_type": "code",
      "source": [
        "checkpoint = ModelCheckpoint(\n",
        "    'best_lstm_model.h5',\n",
        "    monitor='val_loss',\n",
        "    save_best_only=True,\n",
        "    mode='min',\n",
        "    verbose=1\n",
        ")\n",
        "\n",
        "early_stop = EarlyStopping(\n",
        "    monitor='val_loss',\n",
        "    patience=10,\n",
        "    restore_best_weights=True\n",
        ")"
      ],
      "metadata": {
        "id": "Z7iaDybjdEvk"
      },
      "execution_count": null,
      "outputs": []
    },
    {
      "cell_type": "markdown",
      "source": [
        "### Step 4: Train the Model"
      ],
      "metadata": {
        "id": "47iVr4LFdMIv"
      }
    },
    {
      "cell_type": "code",
      "source": [
        "input_shape = (X_train.shape[1], X_train.shape[2])\n",
        "model = build_model(input_shape)\n",
        "\n",
        "history = model.fit(\n",
        "    X_train, y_train,\n",
        "    validation_data=(X_val, y_val),\n",
        "    epochs=100,\n",
        "    batch_size=32,\n",
        "    callbacks=[checkpoint, early_stop],\n",
        "    verbose=1\n",
        ")"
      ],
      "metadata": {
        "colab": {
          "base_uri": "https://localhost:8080/"
        },
        "id": "OYI5I2bZdQOS",
        "outputId": "b14ae2d2-2aaf-4b3f-857b-e6a3210a594e"
      },
      "execution_count": null,
      "outputs": [
        {
          "output_type": "stream",
          "name": "stdout",
          "text": [
            "Epoch 1/100\n"
          ]
        },
        {
          "output_type": "stream",
          "name": "stderr",
          "text": [
            "/usr/local/lib/python3.11/dist-packages/keras/src/layers/rnn/rnn.py:200: UserWarning: Do not pass an `input_shape`/`input_dim` argument to a layer. When using Sequential models, prefer using an `Input(shape)` object as the first layer in the model instead.\n",
            "  super().__init__(**kwargs)\n"
          ]
        },
        {
          "output_type": "stream",
          "name": "stdout",
          "text": [
            "\u001b[1m658/658\u001b[0m \u001b[32m━━━━━━━━━━━━━━━━━━━━\u001b[0m\u001b[37m\u001b[0m \u001b[1m0s\u001b[0m 6ms/step - loss: 0.0369\n",
            "Epoch 1: val_loss improved from inf to 0.03026, saving model to best_lstm_model.h5\n"
          ]
        },
        {
          "output_type": "stream",
          "name": "stderr",
          "text": [
            "WARNING:absl:You are saving your model as an HDF5 file via `model.save()` or `keras.saving.save_model(model)`. This file format is considered legacy. We recommend using instead the native Keras format, e.g. `model.save('my_model.keras')` or `keras.saving.save_model(model, 'my_model.keras')`. \n"
          ]
        },
        {
          "output_type": "stream",
          "name": "stdout",
          "text": [
            "\b\b\b\b\b\b\b\b\b\b\b\b\b\b\b\b\b\b\b\b\b\b\b\b\b\b\b\b\b\b\b\b\b\b\b\b\b\b\b\b\b\b\b\b\b\b\b\b\b\b\b\b\b\b\b\r\u001b[1m658/658\u001b[0m \u001b[32m━━━━━━━━━━━━━━━━━━━━\u001b[0m\u001b[37m\u001b[0m \u001b[1m8s\u001b[0m 9ms/step - loss: 0.0369 - val_loss: 0.0303\n",
            "Epoch 2/100\n",
            "\u001b[1m658/658\u001b[0m \u001b[32m━━━━━━━━━━━━━━━━━━━━\u001b[0m\u001b[37m\u001b[0m \u001b[1m0s\u001b[0m 6ms/step - loss: 0.0304\n",
            "Epoch 2: val_loss improved from 0.03026 to 0.02961, saving model to best_lstm_model.h5\n"
          ]
        },
        {
          "output_type": "stream",
          "name": "stderr",
          "text": [
            "WARNING:absl:You are saving your model as an HDF5 file via `model.save()` or `keras.saving.save_model(model)`. This file format is considered legacy. We recommend using instead the native Keras format, e.g. `model.save('my_model.keras')` or `keras.saving.save_model(model, 'my_model.keras')`. \n"
          ]
        },
        {
          "output_type": "stream",
          "name": "stdout",
          "text": [
            "\b\b\b\b\b\b\b\b\b\b\b\b\b\b\b\b\b\b\b\b\b\b\b\b\b\b\b\b\b\b\b\b\b\b\b\b\b\b\b\b\b\b\b\b\b\b\b\b\b\b\b\b\b\b\b\r\u001b[1m658/658\u001b[0m \u001b[32m━━━━━━━━━━━━━━━━━━━━\u001b[0m\u001b[37m\u001b[0m \u001b[1m5s\u001b[0m 7ms/step - loss: 0.0304 - val_loss: 0.0296\n",
            "Epoch 3/100\n",
            "\u001b[1m652/658\u001b[0m \u001b[32m━━━━━━━━━━━━━━━━━━━\u001b[0m\u001b[37m━\u001b[0m \u001b[1m0s\u001b[0m 6ms/step - loss: 0.0305\n",
            "Epoch 3: val_loss improved from 0.02961 to 0.02961, saving model to best_lstm_model.h5\n"
          ]
        },
        {
          "output_type": "stream",
          "name": "stderr",
          "text": [
            "WARNING:absl:You are saving your model as an HDF5 file via `model.save()` or `keras.saving.save_model(model)`. This file format is considered legacy. We recommend using instead the native Keras format, e.g. `model.save('my_model.keras')` or `keras.saving.save_model(model, 'my_model.keras')`. \n"
          ]
        },
        {
          "output_type": "stream",
          "name": "stdout",
          "text": [
            "\b\b\b\b\b\b\b\b\b\b\b\b\b\b\b\b\b\b\b\b\b\b\b\b\b\b\b\b\b\b\b\b\b\b\b\b\b\b\b\b\b\b\b\b\b\b\b\b\b\b\b\b\b\b\b\r\u001b[1m658/658\u001b[0m \u001b[32m━━━━━━━━━━━━━━━━━━━━\u001b[0m\u001b[37m\u001b[0m \u001b[1m5s\u001b[0m 7ms/step - loss: 0.0305 - val_loss: 0.0296\n",
            "Epoch 4/100\n",
            "\u001b[1m653/658\u001b[0m \u001b[32m━━━━━━━━━━━━━━━━━━━\u001b[0m\u001b[37m━\u001b[0m \u001b[1m0s\u001b[0m 8ms/step - loss: 0.0301\n",
            "Epoch 4: val_loss did not improve from 0.02961\n",
            "\u001b[1m658/658\u001b[0m \u001b[32m━━━━━━━━━━━━━━━━━━━━\u001b[0m\u001b[37m\u001b[0m \u001b[1m6s\u001b[0m 9ms/step - loss: 0.0301 - val_loss: 0.0297\n",
            "Epoch 5/100\n",
            "\u001b[1m656/658\u001b[0m \u001b[32m━━━━━━━━━━━━━━━━━━━\u001b[0m\u001b[37m━\u001b[0m \u001b[1m0s\u001b[0m 6ms/step - loss: 0.0297\n",
            "Epoch 5: val_loss improved from 0.02961 to 0.02958, saving model to best_lstm_model.h5\n"
          ]
        },
        {
          "output_type": "stream",
          "name": "stderr",
          "text": [
            "WARNING:absl:You are saving your model as an HDF5 file via `model.save()` or `keras.saving.save_model(model)`. This file format is considered legacy. We recommend using instead the native Keras format, e.g. `model.save('my_model.keras')` or `keras.saving.save_model(model, 'my_model.keras')`. \n"
          ]
        },
        {
          "output_type": "stream",
          "name": "stdout",
          "text": [
            "\b\b\b\b\b\b\b\b\b\b\b\b\b\b\b\b\b\b\b\b\b\b\b\b\b\b\b\b\b\b\b\b\b\b\b\b\b\b\b\b\b\b\b\b\b\b\b\b\b\b\b\b\b\b\b\r\u001b[1m658/658\u001b[0m \u001b[32m━━━━━━━━━━━━━━━━━━━━\u001b[0m\u001b[37m\u001b[0m \u001b[1m4s\u001b[0m 7ms/step - loss: 0.0297 - val_loss: 0.0296\n",
            "Epoch 6/100\n",
            "\u001b[1m656/658\u001b[0m \u001b[32m━━━━━━━━━━━━━━━━━━━\u001b[0m\u001b[37m━\u001b[0m \u001b[1m0s\u001b[0m 6ms/step - loss: 0.0295\n",
            "Epoch 6: val_loss improved from 0.02958 to 0.02953, saving model to best_lstm_model.h5\n"
          ]
        },
        {
          "output_type": "stream",
          "name": "stderr",
          "text": [
            "WARNING:absl:You are saving your model as an HDF5 file via `model.save()` or `keras.saving.save_model(model)`. This file format is considered legacy. We recommend using instead the native Keras format, e.g. `model.save('my_model.keras')` or `keras.saving.save_model(model, 'my_model.keras')`. \n"
          ]
        },
        {
          "output_type": "stream",
          "name": "stdout",
          "text": [
            "\b\b\b\b\b\b\b\b\b\b\b\b\b\b\b\b\b\b\b\b\b\b\b\b\b\b\b\b\b\b\b\b\b\b\b\b\b\b\b\b\b\b\b\b\b\b\b\b\b\b\b\b\b\b\b\r\u001b[1m658/658\u001b[0m \u001b[32m━━━━━━━━━━━━━━━━━━━━\u001b[0m\u001b[37m\u001b[0m \u001b[1m5s\u001b[0m 7ms/step - loss: 0.0295 - val_loss: 0.0295\n",
            "Epoch 7/100\n",
            "\u001b[1m656/658\u001b[0m \u001b[32m━━━━━━━━━━━━━━━━━━━\u001b[0m\u001b[37m━\u001b[0m \u001b[1m0s\u001b[0m 7ms/step - loss: 0.0293\n",
            "Epoch 7: val_loss did not improve from 0.02953\n",
            "\u001b[1m658/658\u001b[0m \u001b[32m━━━━━━━━━━━━━━━━━━━━\u001b[0m\u001b[37m\u001b[0m \u001b[1m5s\u001b[0m 8ms/step - loss: 0.0293 - val_loss: 0.0295\n",
            "Epoch 8/100\n",
            "\u001b[1m651/658\u001b[0m \u001b[32m━━━━━━━━━━━━━━━━━━━\u001b[0m\u001b[37m━\u001b[0m \u001b[1m0s\u001b[0m 6ms/step - loss: 0.0297\n",
            "Epoch 8: val_loss did not improve from 0.02953\n",
            "\u001b[1m658/658\u001b[0m \u001b[32m━━━━━━━━━━━━━━━━━━━━\u001b[0m\u001b[37m\u001b[0m \u001b[1m5s\u001b[0m 7ms/step - loss: 0.0297 - val_loss: 0.0297\n",
            "Epoch 9/100\n",
            "\u001b[1m658/658\u001b[0m \u001b[32m━━━━━━━━━━━━━━━━━━━━\u001b[0m\u001b[37m\u001b[0m \u001b[1m0s\u001b[0m 7ms/step - loss: 0.0295\n",
            "Epoch 9: val_loss did not improve from 0.02953\n",
            "\u001b[1m658/658\u001b[0m \u001b[32m━━━━━━━━━━━━━━━━━━━━\u001b[0m\u001b[37m\u001b[0m \u001b[1m5s\u001b[0m 8ms/step - loss: 0.0295 - val_loss: 0.0296\n",
            "Epoch 10/100\n",
            "\u001b[1m655/658\u001b[0m \u001b[32m━━━━━━━━━━━━━━━━━━━\u001b[0m\u001b[37m━\u001b[0m \u001b[1m0s\u001b[0m 7ms/step - loss: 0.0295\n",
            "Epoch 10: val_loss improved from 0.02953 to 0.02949, saving model to best_lstm_model.h5\n"
          ]
        },
        {
          "output_type": "stream",
          "name": "stderr",
          "text": [
            "WARNING:absl:You are saving your model as an HDF5 file via `model.save()` or `keras.saving.save_model(model)`. This file format is considered legacy. We recommend using instead the native Keras format, e.g. `model.save('my_model.keras')` or `keras.saving.save_model(model, 'my_model.keras')`. \n"
          ]
        },
        {
          "output_type": "stream",
          "name": "stdout",
          "text": [
            "\b\b\b\b\b\b\b\b\b\b\b\b\b\b\b\b\b\b\b\b\b\b\b\b\b\b\b\b\b\b\b\b\b\b\b\b\b\b\b\b\b\b\b\b\b\b\b\b\b\b\b\b\b\b\b\r\u001b[1m658/658\u001b[0m \u001b[32m━━━━━━━━━━━━━━━━━━━━\u001b[0m\u001b[37m\u001b[0m \u001b[1m5s\u001b[0m 8ms/step - loss: 0.0295 - val_loss: 0.0295\n",
            "Epoch 11/100\n",
            "\u001b[1m658/658\u001b[0m \u001b[32m━━━━━━━━━━━━━━━━━━━━\u001b[0m\u001b[37m\u001b[0m \u001b[1m0s\u001b[0m 7ms/step - loss: 0.0295\n",
            "Epoch 11: val_loss did not improve from 0.02949\n",
            "\u001b[1m658/658\u001b[0m \u001b[32m━━━━━━━━━━━━━━━━━━━━\u001b[0m\u001b[37m\u001b[0m \u001b[1m11s\u001b[0m 8ms/step - loss: 0.0295 - val_loss: 0.0297\n",
            "Epoch 12/100\n",
            "\u001b[1m656/658\u001b[0m \u001b[32m━━━━━━━━━━━━━━━━━━━\u001b[0m\u001b[37m━\u001b[0m \u001b[1m0s\u001b[0m 7ms/step - loss: 0.0293\n",
            "Epoch 12: val_loss did not improve from 0.02949\n",
            "\u001b[1m658/658\u001b[0m \u001b[32m━━━━━━━━━━━━━━━━━━━━\u001b[0m\u001b[37m\u001b[0m \u001b[1m10s\u001b[0m 8ms/step - loss: 0.0293 - val_loss: 0.0296\n",
            "Epoch 13/100\n",
            "\u001b[1m650/658\u001b[0m \u001b[32m━━━━━━━━━━━━━━━━━━━\u001b[0m\u001b[37m━\u001b[0m \u001b[1m0s\u001b[0m 6ms/step - loss: 0.0296\n",
            "Epoch 13: val_loss did not improve from 0.02949\n",
            "\u001b[1m658/658\u001b[0m \u001b[32m━━━━━━━━━━━━━━━━━━━━\u001b[0m\u001b[37m\u001b[0m \u001b[1m9s\u001b[0m 7ms/step - loss: 0.0296 - val_loss: 0.0296\n",
            "Epoch 14/100\n",
            "\u001b[1m652/658\u001b[0m \u001b[32m━━━━━━━━━━━━━━━━━━━\u001b[0m\u001b[37m━\u001b[0m \u001b[1m0s\u001b[0m 6ms/step - loss: 0.0290\n",
            "Epoch 14: val_loss did not improve from 0.02949\n",
            "\u001b[1m658/658\u001b[0m \u001b[32m━━━━━━━━━━━━━━━━━━━━\u001b[0m\u001b[37m\u001b[0m \u001b[1m5s\u001b[0m 7ms/step - loss: 0.0290 - val_loss: 0.0295\n",
            "Epoch 15/100\n",
            "\u001b[1m651/658\u001b[0m \u001b[32m━━━━━━━━━━━━━━━━━━━\u001b[0m\u001b[37m━\u001b[0m \u001b[1m0s\u001b[0m 6ms/step - loss: 0.0292\n",
            "Epoch 15: val_loss did not improve from 0.02949\n",
            "\u001b[1m658/658\u001b[0m \u001b[32m━━━━━━━━━━━━━━━━━━━━\u001b[0m\u001b[37m\u001b[0m \u001b[1m5s\u001b[0m 7ms/step - loss: 0.0292 - val_loss: 0.0296\n",
            "Epoch 16/100\n",
            "\u001b[1m655/658\u001b[0m \u001b[32m━━━━━━━━━━━━━━━━━━━\u001b[0m\u001b[37m━\u001b[0m \u001b[1m0s\u001b[0m 6ms/step - loss: 0.0293\n",
            "Epoch 16: val_loss did not improve from 0.02949\n",
            "\u001b[1m658/658\u001b[0m \u001b[32m━━━━━━━━━━━━━━━━━━━━\u001b[0m\u001b[37m\u001b[0m \u001b[1m5s\u001b[0m 7ms/step - loss: 0.0293 - val_loss: 0.0299\n",
            "Epoch 17/100\n",
            "\u001b[1m655/658\u001b[0m \u001b[32m━━━━━━━━━━━━━━━━━━━\u001b[0m\u001b[37m━\u001b[0m \u001b[1m0s\u001b[0m 7ms/step - loss: 0.0293\n",
            "Epoch 17: val_loss did not improve from 0.02949\n",
            "\u001b[1m658/658\u001b[0m \u001b[32m━━━━━━━━━━━━━━━━━━━━\u001b[0m\u001b[37m\u001b[0m \u001b[1m6s\u001b[0m 8ms/step - loss: 0.0293 - val_loss: 0.0297\n",
            "Epoch 18/100\n",
            "\u001b[1m653/658\u001b[0m \u001b[32m━━━━━━━━━━━━━━━━━━━\u001b[0m\u001b[37m━\u001b[0m \u001b[1m0s\u001b[0m 6ms/step - loss: 0.0294\n",
            "Epoch 18: val_loss did not improve from 0.02949\n",
            "\u001b[1m658/658\u001b[0m \u001b[32m━━━━━━━━━━━━━━━━━━━━\u001b[0m\u001b[37m\u001b[0m \u001b[1m10s\u001b[0m 7ms/step - loss: 0.0294 - val_loss: 0.0297\n",
            "Epoch 19/100\n",
            "\u001b[1m657/658\u001b[0m \u001b[32m━━━━━━━━━━━━━━━━━━━\u001b[0m\u001b[37m━\u001b[0m \u001b[1m0s\u001b[0m 7ms/step - loss: 0.0286\n",
            "Epoch 19: val_loss did not improve from 0.02949\n",
            "\u001b[1m658/658\u001b[0m \u001b[32m━━━━━━━━━━━━━━━━━━━━\u001b[0m\u001b[37m\u001b[0m \u001b[1m6s\u001b[0m 8ms/step - loss: 0.0286 - val_loss: 0.0296\n",
            "Epoch 20/100\n",
            "\u001b[1m654/658\u001b[0m \u001b[32m━━━━━━━━━━━━━━━━━━━\u001b[0m\u001b[37m━\u001b[0m \u001b[1m0s\u001b[0m 6ms/step - loss: 0.0291\n",
            "Epoch 20: val_loss did not improve from 0.02949\n",
            "\u001b[1m658/658\u001b[0m \u001b[32m━━━━━━━━━━━━━━━━━━━━\u001b[0m\u001b[37m\u001b[0m \u001b[1m4s\u001b[0m 7ms/step - loss: 0.0291 - val_loss: 0.0296\n"
          ]
        }
      ]
    },
    {
      "cell_type": "markdown",
      "source": [
        "### Step 5: Evaluate Model with R² on Validation"
      ],
      "metadata": {
        "id": "eBUFOyZkeCV4"
      }
    },
    {
      "cell_type": "markdown",
      "source": [
        "first need to predict on the validation set, and then compute R² using sklearn.metrics"
      ],
      "metadata": {
        "id": "yEebm0X7eLwA"
      }
    },
    {
      "cell_type": "code",
      "source": [
        "# Predict using the trained model\n",
        "y_val_pred = model.predict(X_val)\n",
        "\n",
        "# Compute R² score\n",
        "r2 = r2_score(y_val, y_val_pred)\n",
        "\n",
        "print(f\"R² on validation data: {r2:.4f}\")"
      ],
      "metadata": {
        "colab": {
          "base_uri": "https://localhost:8080/"
        },
        "id": "eCmDDRbDeQTU",
        "outputId": "dfcf2d8d-0f51-4bdb-cb5f-fe5827c57ebf"
      },
      "execution_count": null,
      "outputs": [
        {
          "output_type": "stream",
          "name": "stdout",
          "text": [
            "\u001b[1m165/165\u001b[0m \u001b[32m━━━━━━━━━━━━━━━━━━━━\u001b[0m\u001b[37m\u001b[0m \u001b[1m1s\u001b[0m 3ms/step\n",
            "R² on validation data: -0.0027\n"
          ]
        }
      ]
    },
    {
      "cell_type": "markdown",
      "source": [
        "Optional: Inverse transform the predictions (if needed)\n",
        "\n",
        "If y_val and y_val_pred are in scaled form, and you want to evaluate R² on original values, do:"
      ],
      "metadata": {
        "id": "FjDgumkBec5z"
      }
    },
    {
      "cell_type": "code",
      "source": [
        "# Inverse transform if you scaled 'transactions' originally\n",
        "y_val_orig = scaler.inverse_transform(y_val.reshape(-1, 1))\n",
        "y_val_pred_orig = scaler.inverse_transform(y_val_pred)\n",
        "\n",
        "r2_orig = r2_score(y_val_orig, y_val_pred_orig)\n",
        "print(f\"R² on original scale: {r2_orig:.4f}\")"
      ],
      "metadata": {
        "colab": {
          "base_uri": "https://localhost:8080/"
        },
        "id": "uG49M43Ee12T",
        "outputId": "ff65816a-28fd-4121-84a3-5e2478d48168"
      },
      "execution_count": null,
      "outputs": [
        {
          "output_type": "stream",
          "name": "stdout",
          "text": [
            "R² on original scale: -0.0027\n"
          ]
        }
      ]
    },
    {
      "cell_type": "markdown",
      "source": [
        "### Plot LSTM Predictions vs Real Values"
      ],
      "metadata": {
        "id": "KxAbtGAjfTd_"
      }
    },
    {
      "cell_type": "markdown",
      "source": [
        "1. Make predictions"
      ],
      "metadata": {
        "id": "0CNYZc5Afbw_"
      }
    },
    {
      "cell_type": "code",
      "source": [
        "y_val_pred = model.predict(X_val)\n",
        "\n",
        "# Optionally inverse transform using the 'scaler' object (assuming 'transactions' was scaled with it)\n",
        "y_val_inv = scaler.inverse_transform(y_val.reshape(-1, 1))\n",
        "y_pred_inv = scaler.inverse_transform(y_val_pred)"
      ],
      "metadata": {
        "colab": {
          "base_uri": "https://localhost:8080/"
        },
        "id": "PLGucNhzfrWE",
        "outputId": "cc5fd7ac-5fc7-4f06-b317-e20c1f2c16f7"
      },
      "execution_count": null,
      "outputs": [
        {
          "output_type": "stream",
          "name": "stdout",
          "text": [
            "\u001b[1m165/165\u001b[0m \u001b[32m━━━━━━━━━━━━━━━━━━━━\u001b[0m\u001b[37m\u001b[0m \u001b[1m0s\u001b[0m 2ms/step\n"
          ]
        }
      ]
    },
    {
      "cell_type": "markdown",
      "source": [
        "2. Align with actual dates\n",
        "\n",
        "Assuming val_df contains a date column (or something similar):"
      ],
      "metadata": {
        "id": "QuEbiuE2fwW-"
      }
    },
    {
      "cell_type": "code",
      "source": [
        "# Get corresponding dates (shift by sequence_length)\n",
        "val_dates = val_df.iloc[sequence_length:].index  # or .date if you have a datetime column\n",
        "\n",
        "# Plot\n",
        "plt.figure(figsize=(14, 6))\n",
        "plt.plot(val_dates, y_val_inv, label='Actual', linewidth=2)\n",
        "plt.plot(val_dates, y_pred_inv, label='Predicted', linestyle='--')\n",
        "plt.title('LSTM Prediction vs Actual (Validation Set)')\n",
        "plt.xlabel('Time')\n",
        "plt.ylabel('Transactions')\n",
        "plt.legend()\n",
        "plt.grid(True)\n",
        "plt.tight_layout()\n",
        "plt.show()"
      ],
      "metadata": {
        "colab": {
          "base_uri": "https://localhost:8080/",
          "height": 526
        },
        "id": "fBDmIXbuf5Mb",
        "outputId": "9529ddee-43f4-4f1c-ae36-d2f6f2ea3b86"
      },
      "execution_count": null,
      "outputs": [
        {
          "output_type": "display_data",
          "data": {
            "text/plain": [
              "<Figure size 1400x600 with 1 Axes>"
            ],
            "image/png": "[encoded data removed]"
          },
          "metadata": {}
        }
      ]
    },
    {
      "cell_type": "code",
      "source": [
        "gc.collect() # rubbish collection"
      ],
      "metadata": {
        "colab": {
          "base_uri": "https://localhost:8080/"
        },
        "id": "-POpzEUNiVdZ",
        "outputId": "c6f97854-1888-493c-fbdd-1659966f5e49"
      },
      "execution_count": null,
      "outputs": [
        {
          "output_type": "execute_result",
          "data": {
            "text/plain": [
              "4752"
            ]
          },
          "metadata": {},
          "execution_count": 36
        }
      ]
    },
    {
      "cell_type": "markdown",
      "source": [
        "## Save my Model to Google Drive"
      ],
      "metadata": {
        "id": "0Ra-jDbAi8wS"
      }
    },
    {
      "cell_type": "code",
      "source": [
        "'''\n",
        "from google.colab import drive\n",
        "drive.mount('/content/drive')\n",
        "\n",
        "Create a folder (optional)\n",
        "# import os\n",
        "\n",
        "model_path = '/content/drive/MyDrive/MasterSchool/MasterSchool_Python/Time_Series/Time_series_project/xgboost_models'\n",
        "os.makedirs(model_path, exist_ok=True)\n",
        "'''"
      ],
      "metadata": {
        "colab": {
          "base_uri": "https://localhost:8080/",
          "height": 53
        },
        "id": "lPVb63zgjFna",
        "outputId": "53fb9afb-fadb-4061-ff4b-14d52246b8d5"
      },
      "execution_count": null,
      "outputs": [
        {
          "output_type": "execute_result",
          "data": {
            "text/plain": [
              "\"\\nfrom google.colab import drive\\ndrive.mount('/content/drive')\\n\\nCreate a folder (optional)\\n# import os\\n\\nmodel_path = '/content/drive/MyDrive/MasterSchool/MasterSchool_Python/Time_Series/Time_series_project/xgboost_models'\\nos.makedirs(model_path, exist_ok=True)\\n\""
            ],
            "application/vnd.google.colaboratory.intrinsic+json": {
              "type": "string"
            }
          },
          "metadata": {},
          "execution_count": 37
        }
      ]
    },
    {
      "cell_type": "markdown",
      "source": [
        "Save the trained model"
      ],
      "metadata": {
        "id": "Kq_7C2HyjwS4"
      }
    },
    {
      "cell_type": "code",
      "source": [
        "model_path = '/content/drive/MyDrive/MasterSchool/MasterSchool_Python/Time_Series/Time_series_project/xgboost_models'"
      ],
      "metadata": {
        "id": "VKv8-3cDjhzt"
      },
      "execution_count": null,
      "outputs": []
    },
    {
      "cell_type": "code",
      "source": [
        "# import joblib\n",
        "joblib.dump(model, model_path + '/lstm_final_model.h5')"
      ],
      "metadata": {
        "colab": {
          "base_uri": "https://localhost:8080/"
        },
        "id": "FVnGY-BqlgZJ",
        "outputId": "867fe700-dc87-48a2-e5f5-8c0e82afc052"
      },
      "execution_count": null,
      "outputs": [
        {
          "output_type": "execute_result",
          "data": {
            "text/plain": [
              "['/content/drive/MyDrive/MasterSchool/MasterSchool_Python/Time_Series/Time_series_project/xgboost_models/lstm_final_model.h5']"
            ]
          },
          "metadata": {},
          "execution_count": 39
        }
      ]
    },
    {
      "cell_type": "markdown",
      "source": [
        "## Use of the Saved Model"
      ],
      "metadata": {
        "id": "W9HArb_MmIv4"
      }
    },
    {
      "cell_type": "markdown",
      "source": [
        "for the model test I am going to use another dates of the same \"Favorita\" data"
      ],
      "metadata": {
        "id": "1cdEeq-4sI0S"
      }
    },
    {
      "cell_type": "code",
      "source": [
        "df_test_download = pd.read_csv('/content/drive/MyDrive/MasterSchool/MasterSchool_Python/Time_Series/Time_series_project/df_train_2.csv')"
      ],
      "metadata": {
        "id": "KyPglXEunMaG"
      },
      "execution_count": null,
      "outputs": []
    },
    {
      "cell_type": "code",
      "source": [
        "df_test = df_test_download.copy()\n",
        "df_test.shape"
      ],
      "metadata": {
        "colab": {
          "base_uri": "https://localhost:8080/"
        },
        "id": "chzrJZwtqPF5",
        "outputId": "ab526ede-13dc-4778-89a3-9d38664483ee"
      },
      "execution_count": null,
      "outputs": [
        {
          "output_type": "execute_result",
          "data": {
            "text/plain": [
              "(56271, 25)"
            ]
          },
          "metadata": {},
          "execution_count": 130
        }
      ]
    },
    {
      "cell_type": "code",
      "source": [
        "df_test['date'] = pd.to_datetime(df_test['date'])\n",
        "print(\"Min date:\", df_test['date'].min())\n",
        "print(\"Max date:\", df_test['date'].max())\n",
        "# based on my previous data research - that exactly time period was stable (in terms of shopping), therefore I will use all the data"
      ],
      "metadata": {
        "colab": {
          "base_uri": "https://localhost:8080/"
        },
        "id": "SEhTIXjqop19",
        "outputId": "f3be0605-2c11-4272-ed7f-fa6404ea8fd6"
      },
      "execution_count": null,
      "outputs": [
        {
          "output_type": "stream",
          "name": "stdout",
          "text": [
            "Min date: 2016-09-15 00:00:00\n",
            "Max date: 2017-01-04 00:00:00\n"
          ]
        }
      ]
    },
    {
      "cell_type": "code",
      "source": [
        "del df_test['holiday_type']\n",
        "del df_test['locale']"
      ],
      "metadata": {
        "id": "EzzVrq-QpupO"
      },
      "execution_count": null,
      "outputs": []
    },
    {
      "cell_type": "markdown",
      "source": [
        "now apply all the transformations applied in my train data"
      ],
      "metadata": {
        "id": "ATjJmtRxpmHp"
      }
    },
    {
      "cell_type": "code",
      "source": [
        "del df_test['store_nbr']\n",
        "del df_test['store_cluster']\n",
        "del df_test['item_nbr']"
      ],
      "metadata": {
        "id": "6j827ZPEp0GW"
      },
      "execution_count": null,
      "outputs": []
    },
    {
      "cell_type": "code",
      "source": [
        "# Fit and transform my columns\n",
        "df_test['unit_sales_sc'] = scaler.fit_transform(df_test[['unit_sales']])\n",
        "del df_test['unit_sales']\n",
        "\n",
        "df_test['weighted_unit_sales_sc'] = scaler.fit_transform(df_test[['weighted_unit_sales']])\n",
        "del df_test['weighted_unit_sales']\n",
        "\n",
        "df_test['dcoilwtico_sc'] = scaler.fit_transform(df_test[['dcoilwtico']])\n",
        "del df_test['dcoilwtico']\n",
        "\n",
        "df_test['transactions_sc'] = scaler.fit_transform(df_test[['transactions']])\n",
        "del df_test['transactions']"
      ],
      "metadata": {
        "id": "PAXAAhyqq_UQ"
      },
      "execution_count": null,
      "outputs": []
    },
    {
      "cell_type": "code",
      "source": [
        "# Cyclical Feature Transformation Code\n",
        "\n",
        "# Day of year (1–365 or 366)\n",
        "df_test['day_sin'] = np.sin(2 * np.pi * df_test['date'].dt.day / 365)\n",
        "df_test['day_cos'] = np.cos(2 * np.pi * df_test['date'].dt.day / 365)\n",
        "\n",
        "# Week of year (1–52)\n",
        "df_test['week_sin'] = np.sin(2 * np.pi * df_test['date'].dt.isocalendar().week / 52)\n",
        "df_test['week_cos'] = np.cos(2 * np.pi * df_test['date'].dt.isocalendar().week / 52)\n",
        "\n",
        "# Month (1–12)\n",
        "df_test['month_sin'] = np.sin(2 * np.pi * df_test['date'].dt.month / 12)\n",
        "df_test['month_cos'] = np.cos(2 * np.pi * df_test['date'].dt.month / 12)\n",
        "\n",
        "# Day of week (0–6, where 0=Monday)\n",
        "df_test['dow_sin'] = np.sin(2 * np.pi * df_test['date'].dt.dayofweek / 7)\n",
        "df_test['dow_cos'] = np.cos(2 * np.pi * df_test['date'].dt.dayofweek / 7)"
      ],
      "metadata": {
        "id": "lAONWAltz9eg"
      },
      "execution_count": null,
      "outputs": []
    },
    {
      "cell_type": "code",
      "source": [
        "df_test = df_test.drop(columns=['date'])"
      ],
      "metadata": {
        "id": "4NeC_gzL0tDo"
      },
      "execution_count": null,
      "outputs": []
    },
    {
      "cell_type": "code",
      "source": [
        "df_test.sample(2)"
      ],
      "metadata": {
        "colab": {
          "base_uri": "https://localhost:8080/",
          "height": 179
        },
        "id": "5Uz5MaMenZHd",
        "outputId": "cfc4ed4b-d80e-4eff-8d34-0a02cef22058"
      },
      "execution_count": null,
      "outputs": [
        {
          "output_type": "execute_result",
          "data": {
            "text/plain": [
              "       onpromotion  transferred  month  month_day  week  \\\n",
              "23154            0            0     11          2    44   \n",
              "27936            0            0     11         15    46   \n",
              "\n",
              "       items_family_BEVERAGES  items_family_GROCERY I  items_family_PRODUCE  \\\n",
              "23154                       0                       1                     0   \n",
              "27936                       0                       1                     0   \n",
              "\n",
              "       items_family_nan  year_scaled  ...  dcoilwtico_sc  transactions_sc  \\\n",
              "23154                 0           -1  ...       0.207840         0.150019   \n",
              "27936                 0           -1  ...       0.257065         0.178612   \n",
              "\n",
              "        day_sin   day_cos  week_sin  week_cos  month_sin  month_cos   dow_sin  \\\n",
              "23154  0.034422  0.999407 -0.822984  0.568065       -0.5   0.866025  0.974928   \n",
              "27936  0.255353  0.966848 -0.663123  0.748511       -0.5   0.866025  0.781831   \n",
              "\n",
              "        dow_cos  \n",
              "23154 -0.222521  \n",
              "27936  0.623490  \n",
              "\n",
              "[2 rows x 27 columns]"
            ],
            "text/html": [
              "\n",
              "  <div id=\"df-f6143a81-6815-464d-b72d-7bed41f5ce6b\" class=\"colab-df-container\">\n",
              "    <div>\n",
              "<style scoped>\n",
              "    .dataframe tbody tr th:only-of-type {\n",
              "        vertical-align: middle;\n",
              "    }\n",
              "\n",
              "    .dataframe tbody tr th {\n",
              "        vertical-align: top;\n",
              "    }\n",
              "\n",
              "    .dataframe thead th {\n",
              "        text-align: right;\n",
              "    }\n",
              "</style>\n",
              "<table border=\"1\" class=\"dataframe\">\n",
              "  <thead>\n",
              "    <tr style=\"text-align: right;\">\n",
              "      <th></th>\n",
              "      <th>onpromotion</th>\n",
              "      <th>transferred</th>\n",
              "      <th>month</th>\n",
              "      <th>month_day</th>\n",
              "      <th>week</th>\n",
              "      <th>items_family_BEVERAGES</th>\n",
              "      <th>items_family_GROCERY I</th>\n",
              "      <th>items_family_PRODUCE</th>\n",
              "      <th>items_family_nan</th>\n",
              "      <th>year_scaled</th>\n",
              "      <th>...</th>\n",
              "      <th>dcoilwtico_sc</th>\n",
              "      <th>transactions_sc</th>\n",
              "      <th>day_sin</th>\n",
              "      <th>day_cos</th>\n",
              "      <th>week_sin</th>\n",
              "      <th>week_cos</th>\n",
              "      <th>month_sin</th>\n",
              "      <th>month_cos</th>\n",
              "      <th>dow_sin</th>\n",
              "      <th>dow_cos</th>\n",
              "    </tr>\n",
              "  </thead>\n",
              "  <tbody>\n",
              "    <tr>\n",
              "      <th>23154</th>\n",
              "      <td>0</td>\n",
              "      <td>0</td>\n",
              "      <td>11</td>\n",
              "      <td>2</td>\n",
              "      <td>44</td>\n",
              "      <td>0</td>\n",
              "      <td>1</td>\n",
              "      <td>0</td>\n",
              "      <td>0</td>\n",
              "      <td>-1</td>\n",
              "      <td>...</td>\n",
              "      <td>0.207840</td>\n",
              "      <td>0.150019</td>\n",
              "      <td>0.034422</td>\n",
              "      <td>0.999407</td>\n",
              "      <td>-0.822984</td>\n",
              "      <td>0.568065</td>\n",
              "      <td>-0.5</td>\n",
              "      <td>0.866025</td>\n",
              "      <td>0.974928</td>\n",
              "      <td>-0.222521</td>\n",
              "    </tr>\n",
              "    <tr>\n",
              "      <th>27936</th>\n",
              "      <td>0</td>\n",
              "      <td>0</td>\n",
              "      <td>11</td>\n",
              "      <td>15</td>\n",
              "      <td>46</td>\n",
              "      <td>0</td>\n",
              "      <td>1</td>\n",
              "      <td>0</td>\n",
              "      <td>0</td>\n",
              "      <td>-1</td>\n",
              "      <td>...</td>\n",
              "      <td>0.257065</td>\n",
              "      <td>0.178612</td>\n",
              "      <td>0.255353</td>\n",
              "      <td>0.966848</td>\n",
              "      <td>-0.663123</td>\n",
              "      <td>0.748511</td>\n",
              "      <td>-0.5</td>\n",
              "      <td>0.866025</td>\n",
              "      <td>0.781831</td>\n",
              "      <td>0.623490</td>\n",
              "    </tr>\n",
              "  </tbody>\n",
              "</table>\n",
              "<p>2 rows × 27 columns</p>\n",
              "</div>\n",
              "    <div class=\"colab-df-buttons\">\n",
              "\n",
              "  <div class=\"colab-df-container\">\n",
              "    <button class=\"colab-df-convert\" onclick=\"convertToInteractive('df-f6143a81-6815-464d-b72d-7bed41f5ce6b')\"\n",
              "            title=\"Convert this dataframe to an interactive table.\"\n",
              "            style=\"display:none;\">\n",
              "\n",
              "  <svg xmlns=\"http://www.w3.org/2000/svg\" height=\"24px\" viewBox=\"0 -960 960 960\">\n",
              "    <path d=\"M120-120v-720h720v720H120Zm60-500h600v-160H180v160Zm220 220h160v-160H400v160Zm0 220h160v-160H400v160ZM180-400h160v-160H180v160Zm440 0h160v-160H620v160ZM180-180h160v-160H180v160Zm440 0h160v-160H620v160Z\"/>\n",
              "  </svg>\n",
              "    </button>\n",
              "\n",
              "  <style>\n",
              "    .colab-df-container {\n",
              "      display:flex;\n",
              "      gap: 12px;\n",
              "    }\n",
              "\n",
              "    .colab-df-convert {\n",
              "      background-color: #E8F0FE;\n",
              "      border: none;\n",
              "      border-radius: 50%;\n",
              "      cursor: pointer;\n",
              "      display: none;\n",
              "      fill: #1967D2;\n",
              "      height: 32px;\n",
              "      padding: 0 0 0 0;\n",
              "      width: 32px;\n",
              "    }\n",
              "\n",
              "    .colab-df-convert:hover {\n",
              "      background-color: #E2EBFA;\n",
              "      box-shadow: 0px 1px 2px rgba(60, 64, 67, 0.3), 0px 1px 3px 1px rgba(60, 64, 67, 0.15);\n",
              "      fill: #174EA6;\n",
              "    }\n",
              "\n",
              "    .colab-df-buttons div {\n",
              "      margin-bottom: 4px;\n",
              "    }\n",
              "\n",
              "    [theme=dark] .colab-df-convert {\n",
              "      background-color: #3B4455;\n",
              "      fill: #D2E3FC;\n",
              "    }\n",
              "\n",
              "    [theme=dark] .colab-df-convert:hover {\n",
              "      background-color: #434B5C;\n",
              "      box-shadow: 0px 1px 3px 1px rgba(0, 0, 0, 0.15);\n",
              "      filter: drop-shadow(0px 1px 2px rgba(0, 0, 0, 0.3));\n",
              "      fill: #FFFFFF;\n",
              "    }\n",
              "  </style>\n",
              "\n",
              "    <script>\n",
              "      const buttonEl =\n",
              "        document.querySelector('#df-f6143a81-6815-464d-b72d-7bed41f5ce6b button.colab-df-convert');\n",
              "      buttonEl.style.display =\n",
              "        google.colab.kernel.accessAllowed ? 'block' : 'none';\n",
              "\n",
              "      async function convertToInteractive(key) {\n",
              "        const element = document.querySelector('#df-f6143a81-6815-464d-b72d-7bed41f5ce6b');\n",
              "        const dataTable =\n",
              "          await google.colab.kernel.invokeFunction('convertToInteractive',\n",
              "                                                    [key], {});\n",
              "        if (!dataTable) return;\n",
              "\n",
              "        const docLinkHtml = 'Like what you see? Visit the ' +\n",
              "          '<a target=\"_blank\" href=https://colab.research.google.com/notebooks/data_table.ipynb>data table notebook</a>'\n",
              "          + ' to learn more about interactive tables.';\n",
              "        element.innerHTML = '';\n",
              "        dataTable['output_type'] = 'display_data';\n",
              "        await google.colab.output.renderOutput(dataTable, element);\n",
              "        const docLink = document.createElement('div');\n",
              "        docLink.innerHTML = docLinkHtml;\n",
              "        element.appendChild(docLink);\n",
              "      }\n",
              "    </script>\n",
              "  </div>\n",
              "\n",
              "\n",
              "    <div id=\"df-f11d8f65-c3cc-41d3-9591-f5ba07d1bd99\">\n",
              "      <button class=\"colab-df-quickchart\" onclick=\"quickchart('df-f11d8f65-c3cc-41d3-9591-f5ba07d1bd99')\"\n",
              "                title=\"Suggest charts\"\n",
              "                style=\"display:none;\">\n",
              "\n",
              "<svg xmlns=\"http://www.w3.org/2000/svg\" height=\"24px\"viewBox=\"0 0 24 24\"\n",
              "     width=\"24px\">\n",
              "    <g>\n",
              "        <path d=\"M19 3H5c-1.1 0-2 .9-2 2v14c0 1.1.9 2 2 2h14c1.1 0 2-.9 2-2V5c0-1.1-.9-2-2-2zM9 17H7v-7h2v7zm4 0h-2V7h2v10zm4 0h-2v-4h2v4z\"/>\n",
              "    </g>\n",
              "</svg>\n",
              "      </button>\n",
              "\n",
              "<style>\n",
              "  .colab-df-quickchart {\n",
              "      --bg-color: #E8F0FE;\n",
              "      --fill-color: #1967D2;\n",
              "      --hover-bg-color: #E2EBFA;\n",
              "      --hover-fill-color: #174EA6;\n",
              "      --disabled-fill-color: #AAA;\n",
              "      --disabled-bg-color: #DDD;\n",
              "  }\n",
              "\n",
              "  [theme=dark] .colab-df-quickchart {\n",
              "      --bg-color: #3B4455;\n",
              "      --fill-color: #D2E3FC;\n",
              "      --hover-bg-color: #434B5C;\n",
              "      --hover-fill-color: #FFFFFF;\n",
              "      --disabled-bg-color: #3B4455;\n",
              "      --disabled-fill-color: #666;\n",
              "  }\n",
              "\n",
              "  .colab-df-quickchart {\n",
              "    background-color: var(--bg-color);\n",
              "    border: none;\n",
              "    border-radius: 50%;\n",
              "    cursor: pointer;\n",
              "    display: none;\n",
              "    fill: var(--fill-color);\n",
              "    height: 32px;\n",
              "    padding: 0;\n",
              "    width: 32px;\n",
              "  }\n",
              "\n",
              "  .colab-df-quickchart:hover {\n",
              "    background-color: var(--hover-bg-color);\n",
              "    box-shadow: 0 1px 2px rgba(60, 64, 67, 0.3), 0 1px 3px 1px rgba(60, 64, 67, 0.15);\n",
              "    fill: var(--button-hover-fill-color);\n",
              "  }\n",
              "\n",
              "  .colab-df-quickchart-complete:disabled,\n",
              "  .colab-df-quickchart-complete:disabled:hover {\n",
              "    background-color: var(--disabled-bg-color);\n",
              "    fill: var(--disabled-fill-color);\n",
              "    box-shadow: none;\n",
              "  }\n",
              "\n",
              "  .colab-df-spinner {\n",
              "    border: 2px solid var(--fill-color);\n",
              "    border-color: transparent;\n",
              "    border-bottom-color: var(--fill-color);\n",
              "    animation:\n",
              "      spin 1s steps(1) infinite;\n",
              "  }\n",
              "\n",
              "  @keyframes spin {\n",
              "    0% {\n",
              "      border-color: transparent;\n",
              "      border-bottom-color: var(--fill-color);\n",
              "      border-left-color: var(--fill-color);\n",
              "    }\n",
              "    20% {\n",
              "      border-color: transparent;\n",
              "      border-left-color: var(--fill-color);\n",
              "      border-top-color: var(--fill-color);\n",
              "    }\n",
              "    30% {\n",
              "      border-color: transparent;\n",
              "      border-left-color: var(--fill-color);\n",
              "      border-top-color: var(--fill-color);\n",
              "      border-right-color: var(--fill-color);\n",
              "    }\n",
              "    40% {\n",
              "      border-color: transparent;\n",
              "      border-right-color: var(--fill-color);\n",
              "      border-top-color: var(--fill-color);\n",
              "    }\n",
              "    60% {\n",
              "      border-color: transparent;\n",
              "      border-right-color: var(--fill-color);\n",
              "    }\n",
              "    80% {\n",
              "      border-color: transparent;\n",
              "      border-right-color: var(--fill-color);\n",
              "      border-bottom-color: var(--fill-color);\n",
              "    }\n",
              "    90% {\n",
              "      border-color: transparent;\n",
              "      border-bottom-color: var(--fill-color);\n",
              "    }\n",
              "  }\n",
              "</style>\n",
              "\n",
              "      <script>\n",
              "        async function quickchart(key) {\n",
              "          const quickchartButtonEl =\n",
              "            document.querySelector('#' + key + ' button');\n",
              "          quickchartButtonEl.disabled = true;  // To prevent multiple clicks.\n",
              "          quickchartButtonEl.classList.add('colab-df-spinner');\n",
              "          try {\n",
              "            const charts = await google.colab.kernel.invokeFunction(\n",
              "                'suggestCharts', [key], {});\n",
              "          } catch (error) {\n",
              "            console.error('Error during call to suggestCharts:', error);\n",
              "          }\n",
              "          quickchartButtonEl.classList.remove('colab-df-spinner');\n",
              "          quickchartButtonEl.classList.add('colab-df-quickchart-complete');\n",
              "        }\n",
              "        (() => {\n",
              "          let quickchartButtonEl =\n",
              "            document.querySelector('#df-f11d8f65-c3cc-41d3-9591-f5ba07d1bd99 button');\n",
              "          quickchartButtonEl.style.display =\n",
              "            google.colab.kernel.accessAllowed ? 'block' : 'none';\n",
              "        })();\n",
              "      </script>\n",
              "    </div>\n",
              "\n",
              "    </div>\n",
              "  </div>\n"
            ],
            "application/vnd.google.colaboratory.intrinsic+json": {
              "type": "dataframe"
            }
          },
          "metadata": {},
          "execution_count": 137
        }
      ]
    },
    {
      "cell_type": "code",
      "source": [
        "df_test.info()"
      ],
      "metadata": {
        "colab": {
          "base_uri": "https://localhost:8080/"
        },
        "id": "hKoPm78WnoVy",
        "outputId": "3fd86af2-35a1-44ea-9f85-72aea7586177"
      },
      "execution_count": null,
      "outputs": [
        {
          "output_type": "stream",
          "name": "stdout",
          "text": [
            "<class 'pandas.core.frame.DataFrame'>\n",
            "RangeIndex: 56271 entries, 0 to 56270\n",
            "Data columns (total 27 columns):\n",
            " #   Column                  Non-Null Count  Dtype  \n",
            "---  ------                  --------------  -----  \n",
            " 0   onpromotion             56271 non-null  int64  \n",
            " 1   transferred             56271 non-null  int64  \n",
            " 2   month                   56271 non-null  int64  \n",
            " 3   month_day               56271 non-null  int64  \n",
            " 4   week                    56271 non-null  int64  \n",
            " 5   items_family_BEVERAGES  56271 non-null  int64  \n",
            " 6   items_family_GROCERY I  56271 non-null  int64  \n",
            " 7   items_family_PRODUCE    56271 non-null  int64  \n",
            " 8   items_family_nan        56271 non-null  int64  \n",
            " 9   year_scaled             56271 non-null  int64  \n",
            " 10  city_Daule              56271 non-null  int64  \n",
            " 11  city_Guayaquil          56271 non-null  int64  \n",
            " 12  city_Libertad           56271 non-null  int64  \n",
            " 13  city_Playas             56271 non-null  int64  \n",
            " 14  city_nan                56271 non-null  int64  \n",
            " 15  unit_sales_sc           56271 non-null  float64\n",
            " 16  weighted_unit_sales_sc  56271 non-null  float64\n",
            " 17  dcoilwtico_sc           56269 non-null  float64\n",
            " 18  transactions_sc         56271 non-null  float64\n",
            " 19  day_sin                 56271 non-null  float64\n",
            " 20  day_cos                 56271 non-null  float64\n",
            " 21  week_sin                56271 non-null  Float64\n",
            " 22  week_cos                56271 non-null  Float64\n",
            " 23  month_sin               56271 non-null  float64\n",
            " 24  month_cos               56271 non-null  float64\n",
            " 25  dow_sin                 56271 non-null  float64\n",
            " 26  dow_cos                 56271 non-null  float64\n",
            "dtypes: Float64(2), float64(10), int64(15)\n",
            "memory usage: 11.7 MB\n"
          ]
        }
      ]
    },
    {
      "cell_type": "markdown",
      "source": [
        "### Step 1: Load the model"
      ],
      "metadata": {
        "id": "dnUNi2711fMt"
      }
    },
    {
      "cell_type": "code",
      "source": [
        "model_path = '/content/drive/MyDrive/MasterSchool/MasterSchool_Python/Time_Series/Time_series_project/xgboost_models/lstm_final_model.h5'  # Add the filename\n",
        "model = joblib.load(model_path) # Now joblib.load() should find the pickle file"
      ],
      "metadata": {
        "colab": {
          "base_uri": "https://localhost:8080/"
        },
        "id": "zv7xi1b-20NG",
        "outputId": "0bd428de-090f-4058-d035-8cd41711f529"
      },
      "execution_count": null,
      "outputs": [
        {
          "output_type": "stream",
          "name": "stderr",
          "text": [
            "/usr/local/lib/python3.11/dist-packages/keras/src/saving/saving_lib.py:757: UserWarning: Skipping variable loading for optimizer 'rmsprop', because it has 7 variables whereas the saved optimizer has 12 variables. \n",
            "  saveable.load_own_variables(weights_store.get(inner_path))\n"
          ]
        }
      ]
    },
    {
      "cell_type": "markdown",
      "source": [
        "### Step 2: Create sequences from df_test"
      ],
      "metadata": {
        "id": "zuYm6HN-3pKT"
      }
    },
    {
      "cell_type": "markdown",
      "source": [
        "Use the same sequence_length you used in training (e.g., 7)"
      ],
      "metadata": {
        "id": "vn1XdFSb3SGE"
      }
    },
    {
      "cell_type": "code",
      "source": [
        "sequence_length = 7  # Must match training"
      ],
      "metadata": {
        "id": "izmn7pxZ3YnC"
      },
      "execution_count": null,
      "outputs": []
    },
    {
      "cell_type": "markdown",
      "source": [
        "Assuming my test set is identical in structure and has transactions_sc as the scaled target column"
      ],
      "metadata": {
        "id": "hvVfWACj3ec1"
      }
    },
    {
      "cell_type": "code",
      "source": [
        "X_test, y_test = create_sequences(df_test, 'transactions_sc', sequence_length)"
      ],
      "metadata": {
        "id": "FCUHRb933uRh"
      },
      "execution_count": null,
      "outputs": []
    },
    {
      "cell_type": "markdown",
      "source": [
        "### Step 3: Make predictions"
      ],
      "metadata": {
        "id": "BFfoUEbS4LyA"
      }
    },
    {
      "cell_type": "code",
      "source": [
        "# Before creating sequences for testing, convert all relevant columns in df_test to numeric types.\n",
        "for col in df_test.columns:\n",
        "    if df_test[col].dtype == 'object':\n",
        "        try:\n",
        "            df_test[col] = pd.to_numeric(df_test[col])\n",
        "        except ValueError:\n",
        "            # Handle columns that can't be directly converted to numeric (e.g., using encoding)\n",
        "            print(f\"Column '{col}' could not be converted to numeric.\")"
      ],
      "metadata": {
        "id": "eG-a1-Mb4kX8"
      },
      "execution_count": null,
      "outputs": []
    },
    {
      "cell_type": "markdown",
      "source": [
        "### Step 4: Inverse transform (optional, if scaled)"
      ],
      "metadata": {
        "id": "NpRNEb7H4uhA"
      }
    },
    {
      "cell_type": "markdown",
      "source": [
        "my scaled transactions with a MinMaxScaler called target_scaler:"
      ],
      "metadata": {
        "id": "8uYpbr0G477h"
      }
    },
    {
      "cell_type": "code",
      "source": [
        "# Before creating sequences for testing, ensure all columns are numeric\n",
        "for col in df_test.columns:\n",
        "    if df_test[col].dtype == 'object':\n",
        "        try:\n",
        "            df_test[col] = pd.to_numeric(df_test[col])\n",
        "        except ValueError:\n",
        "            # If conversion fails, fill with a suitable value (e.g., 0) or apply encoding\n",
        "            df_test[col] = df_test[col].astype('category').cat.codes\n",
        "            # Apply category codes instead of filling with 0 to handle categorical data\n",
        "    # Additional check for non-numeric types after conversion (e.g., category)\n",
        "    if not pd.api.types.is_numeric_dtype(df_test[col]):\n",
        "        df_test[col] = df_test[col].astype(int)  # Convert to int if still not numeric\n",
        "\n",
        "# Now create sequences\n",
        "X_test, y_test = create_sequences(df_test, 'transactions_sc', sequence_length)"
      ],
      "metadata": {
        "id": "QP-Rybkg7eQc"
      },
      "execution_count": null,
      "outputs": []
    },
    {
      "cell_type": "code",
      "source": [
        "# Before creating sequences for testing, ensure all columns are numeric\n",
        "for col in df_test.columns:\n",
        "    if not pd.api.types.is_numeric_dtype(df_test[col]):\n",
        "        try:\n",
        "            # Convert to numeric if possible\n",
        "            df_test[col] = pd.to_numeric(df_test[col])\n",
        "        except ValueError:\n",
        "            # If not numeric, handle by replacing non-numeric values with a placeholder (e.g., -1) and convert to numeric\n",
        "            df_test[col] = pd.to_numeric(df_test[col], errors='coerce').fillna(-1)\n",
        "\n",
        "# Now create sequences\n",
        "X_test, y_test = create_sequences(df_test, 'transactions_sc', sequence_length)"
      ],
      "metadata": {
        "id": "Ir8ow34x8455"
      },
      "execution_count": null,
      "outputs": []
    }
  ]
}