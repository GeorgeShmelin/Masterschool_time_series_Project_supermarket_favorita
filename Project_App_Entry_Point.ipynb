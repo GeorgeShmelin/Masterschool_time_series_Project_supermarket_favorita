{
  "nbformat": 4,
  "nbformat_minor": 0,
  "metadata": {
    "colab": {
      "provenance": [],
      "authorship_tag": "ABX9TyPH+jUeX88sHTIkPVSLX8mq",
      "include_colab_link": true
    },
    "kernelspec": {
      "name": "python3",
      "display_name": "Python 3"
    },
    "language_info": {
      "name": "python"
    }
  },
  "cells": [
    {
      "cell_type": "markdown",
      "metadata": {
        "id": "view-in-github",
        "colab_type": "text"
      },
      "source": [
        "<a href=\"https://colab.research.google.com/github/GeorgeShmelin/Masterschool_time_series_Project_supermarket_favorita/blob/main/Project_App_Entry_Point.ipynb\" target=\"_parent\"><img src=\"https://colab.research.google.com/assets/colab-badge.svg\" alt=\"Open In Colab\"/></a>"
      ]
    },
    {
      "cell_type": "markdown",
      "source": [
        "# Libraries"
      ],
      "metadata": {
        "id": "Ef_Gmo1gx0q0"
      }
    },
    {
      "cell_type": "code",
      "source": [
        "import pandas as pd\n",
        "import numpy as np\n",
        "import matplotlib.pyplot as plt\n",
        "import seaborn as sns"
      ],
      "metadata": {
        "id": "q5s7JfKWxsqD"
      },
      "execution_count": 1,
      "outputs": []
    },
    {
      "cell_type": "markdown",
      "source": [
        "### Step 1: Prepare Environment in Google Colab"
      ],
      "metadata": {
        "id": "Ih3CaUtA132n"
      }
    },
    {
      "cell_type": "code",
      "source": [
        "# !pip install xgboost\n",
        "# !pip install streamlit"
      ],
      "metadata": {
        "id": "nVJQLshl19Nd"
      },
      "execution_count": 2,
      "outputs": []
    },
    {
      "cell_type": "code",
      "source": [
        "import os # Save the trained model\n",
        "import joblib\n",
        "import sys # Add the project's root directory (parent of the notebook's directory) to sys.path"
      ],
      "metadata": {
        "id": "H_Whzj7Wx88g"
      },
      "execution_count": 3,
      "outputs": []
    },
    {
      "cell_type": "code",
      "source": [
        "import gc # gc.collect() are for rubbish collection"
      ],
      "metadata": {
        "id": "zNypu01PyP7Y"
      },
      "execution_count": 4,
      "outputs": []
    },
    {
      "cell_type": "code",
      "source": [
        "# !pip install xgboost\n",
        "from xgboost import XGBRegressor\n",
        "from sklearn.model_selection import GridSearchCV"
      ],
      "metadata": {
        "id": "db1J7f5Xy334"
      },
      "execution_count": 5,
      "outputs": []
    },
    {
      "cell_type": "code",
      "source": [
        "from sklearn.metrics import r2_score, mean_squared_error, mean_absolute_error\n",
        "from hyperopt import STATUS_OK"
      ],
      "metadata": {
        "id": "pyvZHqkAz5vD"
      },
      "execution_count": 6,
      "outputs": []
    },
    {
      "cell_type": "code",
      "source": [
        "# pip install hyperopt\n",
        "from hyperopt import hp"
      ],
      "metadata": {
        "id": "sNT-WkVNz-F-"
      },
      "execution_count": 7,
      "outputs": []
    },
    {
      "cell_type": "markdown",
      "source": [
        "## app/main.py"
      ],
      "metadata": {
        "id": "aDzVSnpYyuFA"
      }
    },
    {
      "cell_type": "code",
      "source": [
        "# !pip install streamlit -q\n",
        "# !pip install cloudflared"
      ],
      "metadata": {
        "id": "8UuanBHO0XcW"
      },
      "execution_count": 8,
      "outputs": []
    },
    {
      "cell_type": "code",
      "source": [
        "# !pip install streamlit"
      ],
      "metadata": {
        "id": "SAb4HShwzBQW"
      },
      "execution_count": 9,
      "outputs": []
    },
    {
      "cell_type": "code",
      "source": [
        "# !pip install -q pyngrok"
      ],
      "metadata": {
        "id": "6LVon0bM4qrE"
      },
      "execution_count": 10,
      "outputs": []
    },
    {
      "cell_type": "code",
      "source": [
        "import streamlit as st"
      ],
      "metadata": {
        "id": "jwHbHx6I3IBF"
      },
      "execution_count": 11,
      "outputs": []
    },
    {
      "cell_type": "code",
      "source": [
        "from pyngrok import ngrok"
      ],
      "metadata": {
        "id": "PhbILYFRUJDn"
      },
      "execution_count": 12,
      "outputs": []
    },
    {
      "cell_type": "markdown",
      "source": [
        "# Create Web App Script (app.py)"
      ],
      "metadata": {
        "id": "tyIrHtKg2TuO"
      }
    },
    {
      "cell_type": "markdown",
      "source": [
        "## Data"
      ],
      "metadata": {
        "id": "rJwubCr039If"
      }
    },
    {
      "cell_type": "code",
      "source": [
        "from google.colab import drive\n",
        "drive.mount('/content/drive')"
      ],
      "metadata": {
        "colab": {
          "base_uri": "https://localhost:8080/"
        },
        "id": "AlWIGFnY426X",
        "outputId": "7ad1de0b-09d2-4ed4-8d09-632aafb1ff56"
      },
      "execution_count": 13,
      "outputs": [
        {
          "output_type": "stream",
          "name": "stdout",
          "text": [
            "Drive already mounted at /content/drive; to attempt to forcibly remount, call drive.mount(\"/content/drive\", force_remount=True).\n"
          ]
        }
      ]
    },
    {
      "cell_type": "code",
      "source": [
        "df_download = pd.read_csv('/content/drive/MyDrive/MasterSchool/MasterSchool_Python/Time_Series/Time_series_project/df_train_3.csv')\n",
        "df_download.shape"
      ],
      "metadata": {
        "colab": {
          "base_uri": "https://localhost:8080/"
        },
        "id": "haAWg_ML5A4W",
        "outputId": "038199f8-5b4b-4b79-c2f1-2da785965b71"
      },
      "execution_count": 14,
      "outputs": [
        {
          "output_type": "execute_result",
          "data": {
            "text/plain": [
              "(26307, 24)"
            ]
          },
          "metadata": {},
          "execution_count": 14
        }
      ]
    },
    {
      "cell_type": "code",
      "source": [
        "df = df_download.copy()\n",
        "df.sample(2)"
      ],
      "metadata": {
        "colab": {
          "base_uri": "https://localhost:8080/",
          "height": 213
        },
        "id": "uvrSLJZP5Eft",
        "outputId": "597c4ce1-d6f5-4aba-e6ca-a179edf9f936"
      },
      "execution_count": 15,
      "outputs": [
        {
          "output_type": "execute_result",
          "data": {
            "text/plain": [
              "       unit_sales  store_nbr  item_nbr  onpromotion  dcoilwtico  transferred  \\\n",
              "12117         2.0         51   1099990            0       90.74            0   \n",
              "5144          8.0         30    651326            0      107.04            0   \n",
              "\n",
              "       item_class  transactions  weighted_unit_sales        date  ...  \\\n",
              "12117        1030          1748                  2.0  2014-10-01  ...   \n",
              "5144         1036           693                  8.0  2014-06-25  ...   \n",
              "\n",
              "       year_scaled  city_Daule  city_Guayaquil  city_Libertad  city_Playas  \\\n",
              "12117           -3           0               1              0            0   \n",
              "5144            -3           0               1              0            0   \n",
              "\n",
              "       city_nan  items_family_BEVERAGES  items_family_CLEANING  \\\n",
              "12117         0                       0                      0   \n",
              "5144          0                       0                      0   \n",
              "\n",
              "       items_family_GROCERY I  items_family_nan  \n",
              "12117                       1                 0  \n",
              "5144                        1                 0  \n",
              "\n",
              "[2 rows x 24 columns]"
            ],
            "text/html": [
              "\n",
              "  <div id=\"df-cb956755-4da4-4599-85d2-c0caaa53b443\" class=\"colab-df-container\">\n",
              "    <div>\n",
              "<style scoped>\n",
              "    .dataframe tbody tr th:only-of-type {\n",
              "        vertical-align: middle;\n",
              "    }\n",
              "\n",
              "    .dataframe tbody tr th {\n",
              "        vertical-align: top;\n",
              "    }\n",
              "\n",
              "    .dataframe thead th {\n",
              "        text-align: right;\n",
              "    }\n",
              "</style>\n",
              "<table border=\"1\" class=\"dataframe\">\n",
              "  <thead>\n",
              "    <tr style=\"text-align: right;\">\n",
              "      <th></th>\n",
              "      <th>unit_sales</th>\n",
              "      <th>store_nbr</th>\n",
              "      <th>item_nbr</th>\n",
              "      <th>onpromotion</th>\n",
              "      <th>dcoilwtico</th>\n",
              "      <th>transferred</th>\n",
              "      <th>item_class</th>\n",
              "      <th>transactions</th>\n",
              "      <th>weighted_unit_sales</th>\n",
              "      <th>date</th>\n",
              "      <th>...</th>\n",
              "      <th>year_scaled</th>\n",
              "      <th>city_Daule</th>\n",
              "      <th>city_Guayaquil</th>\n",
              "      <th>city_Libertad</th>\n",
              "      <th>city_Playas</th>\n",
              "      <th>city_nan</th>\n",
              "      <th>items_family_BEVERAGES</th>\n",
              "      <th>items_family_CLEANING</th>\n",
              "      <th>items_family_GROCERY I</th>\n",
              "      <th>items_family_nan</th>\n",
              "    </tr>\n",
              "  </thead>\n",
              "  <tbody>\n",
              "    <tr>\n",
              "      <th>12117</th>\n",
              "      <td>2.0</td>\n",
              "      <td>51</td>\n",
              "      <td>1099990</td>\n",
              "      <td>0</td>\n",
              "      <td>90.74</td>\n",
              "      <td>0</td>\n",
              "      <td>1030</td>\n",
              "      <td>1748</td>\n",
              "      <td>2.0</td>\n",
              "      <td>2014-10-01</td>\n",
              "      <td>...</td>\n",
              "      <td>-3</td>\n",
              "      <td>0</td>\n",
              "      <td>1</td>\n",
              "      <td>0</td>\n",
              "      <td>0</td>\n",
              "      <td>0</td>\n",
              "      <td>0</td>\n",
              "      <td>0</td>\n",
              "      <td>1</td>\n",
              "      <td>0</td>\n",
              "    </tr>\n",
              "    <tr>\n",
              "      <th>5144</th>\n",
              "      <td>8.0</td>\n",
              "      <td>30</td>\n",
              "      <td>651326</td>\n",
              "      <td>0</td>\n",
              "      <td>107.04</td>\n",
              "      <td>0</td>\n",
              "      <td>1036</td>\n",
              "      <td>693</td>\n",
              "      <td>8.0</td>\n",
              "      <td>2014-06-25</td>\n",
              "      <td>...</td>\n",
              "      <td>-3</td>\n",
              "      <td>0</td>\n",
              "      <td>1</td>\n",
              "      <td>0</td>\n",
              "      <td>0</td>\n",
              "      <td>0</td>\n",
              "      <td>0</td>\n",
              "      <td>0</td>\n",
              "      <td>1</td>\n",
              "      <td>0</td>\n",
              "    </tr>\n",
              "  </tbody>\n",
              "</table>\n",
              "<p>2 rows × 24 columns</p>\n",
              "</div>\n",
              "    <div class=\"colab-df-buttons\">\n",
              "\n",
              "  <div class=\"colab-df-container\">\n",
              "    <button class=\"colab-df-convert\" onclick=\"convertToInteractive('df-cb956755-4da4-4599-85d2-c0caaa53b443')\"\n",
              "            title=\"Convert this dataframe to an interactive table.\"\n",
              "            style=\"display:none;\">\n",
              "\n",
              "  <svg xmlns=\"http://www.w3.org/2000/svg\" height=\"24px\" viewBox=\"0 -960 960 960\">\n",
              "    <path d=\"M120-120v-720h720v720H120Zm60-500h600v-160H180v160Zm220 220h160v-160H400v160Zm0 220h160v-160H400v160ZM180-400h160v-160H180v160Zm440 0h160v-160H620v160ZM180-180h160v-160H180v160Zm440 0h160v-160H620v160Z\"/>\n",
              "  </svg>\n",
              "    </button>\n",
              "\n",
              "  <style>\n",
              "    .colab-df-container {\n",
              "      display:flex;\n",
              "      gap: 12px;\n",
              "    }\n",
              "\n",
              "    .colab-df-convert {\n",
              "      background-color: #E8F0FE;\n",
              "      border: none;\n",
              "      border-radius: 50%;\n",
              "      cursor: pointer;\n",
              "      display: none;\n",
              "      fill: #1967D2;\n",
              "      height: 32px;\n",
              "      padding: 0 0 0 0;\n",
              "      width: 32px;\n",
              "    }\n",
              "\n",
              "    .colab-df-convert:hover {\n",
              "      background-color: #E2EBFA;\n",
              "      box-shadow: 0px 1px 2px rgba(60, 64, 67, 0.3), 0px 1px 3px 1px rgba(60, 64, 67, 0.15);\n",
              "      fill: #174EA6;\n",
              "    }\n",
              "\n",
              "    .colab-df-buttons div {\n",
              "      margin-bottom: 4px;\n",
              "    }\n",
              "\n",
              "    [theme=dark] .colab-df-convert {\n",
              "      background-color: #3B4455;\n",
              "      fill: #D2E3FC;\n",
              "    }\n",
              "\n",
              "    [theme=dark] .colab-df-convert:hover {\n",
              "      background-color: #434B5C;\n",
              "      box-shadow: 0px 1px 3px 1px rgba(0, 0, 0, 0.15);\n",
              "      filter: drop-shadow(0px 1px 2px rgba(0, 0, 0, 0.3));\n",
              "      fill: #FFFFFF;\n",
              "    }\n",
              "  </style>\n",
              "\n",
              "    <script>\n",
              "      const buttonEl =\n",
              "        document.querySelector('#df-cb956755-4da4-4599-85d2-c0caaa53b443 button.colab-df-convert');\n",
              "      buttonEl.style.display =\n",
              "        google.colab.kernel.accessAllowed ? 'block' : 'none';\n",
              "\n",
              "      async function convertToInteractive(key) {\n",
              "        const element = document.querySelector('#df-cb956755-4da4-4599-85d2-c0caaa53b443');\n",
              "        const dataTable =\n",
              "          await google.colab.kernel.invokeFunction('convertToInteractive',\n",
              "                                                    [key], {});\n",
              "        if (!dataTable) return;\n",
              "\n",
              "        const docLinkHtml = 'Like what you see? Visit the ' +\n",
              "          '<a target=\"_blank\" href=https://colab.research.google.com/notebooks/data_table.ipynb>data table notebook</a>'\n",
              "          + ' to learn more about interactive tables.';\n",
              "        element.innerHTML = '';\n",
              "        dataTable['output_type'] = 'display_data';\n",
              "        await google.colab.output.renderOutput(dataTable, element);\n",
              "        const docLink = document.createElement('div');\n",
              "        docLink.innerHTML = docLinkHtml;\n",
              "        element.appendChild(docLink);\n",
              "      }\n",
              "    </script>\n",
              "  </div>\n",
              "\n",
              "\n",
              "    <div id=\"df-d0dbdea1-dab4-4586-975c-263bee58720c\">\n",
              "      <button class=\"colab-df-quickchart\" onclick=\"quickchart('df-d0dbdea1-dab4-4586-975c-263bee58720c')\"\n",
              "                title=\"Suggest charts\"\n",
              "                style=\"display:none;\">\n",
              "\n",
              "<svg xmlns=\"http://www.w3.org/2000/svg\" height=\"24px\"viewBox=\"0 0 24 24\"\n",
              "     width=\"24px\">\n",
              "    <g>\n",
              "        <path d=\"M19 3H5c-1.1 0-2 .9-2 2v14c0 1.1.9 2 2 2h14c1.1 0 2-.9 2-2V5c0-1.1-.9-2-2-2zM9 17H7v-7h2v7zm4 0h-2V7h2v10zm4 0h-2v-4h2v4z\"/>\n",
              "    </g>\n",
              "</svg>\n",
              "      </button>\n",
              "\n",
              "<style>\n",
              "  .colab-df-quickchart {\n",
              "      --bg-color: #E8F0FE;\n",
              "      --fill-color: #1967D2;\n",
              "      --hover-bg-color: #E2EBFA;\n",
              "      --hover-fill-color: #174EA6;\n",
              "      --disabled-fill-color: #AAA;\n",
              "      --disabled-bg-color: #DDD;\n",
              "  }\n",
              "\n",
              "  [theme=dark] .colab-df-quickchart {\n",
              "      --bg-color: #3B4455;\n",
              "      --fill-color: #D2E3FC;\n",
              "      --hover-bg-color: #434B5C;\n",
              "      --hover-fill-color: #FFFFFF;\n",
              "      --disabled-bg-color: #3B4455;\n",
              "      --disabled-fill-color: #666;\n",
              "  }\n",
              "\n",
              "  .colab-df-quickchart {\n",
              "    background-color: var(--bg-color);\n",
              "    border: none;\n",
              "    border-radius: 50%;\n",
              "    cursor: pointer;\n",
              "    display: none;\n",
              "    fill: var(--fill-color);\n",
              "    height: 32px;\n",
              "    padding: 0;\n",
              "    width: 32px;\n",
              "  }\n",
              "\n",
              "  .colab-df-quickchart:hover {\n",
              "    background-color: var(--hover-bg-color);\n",
              "    box-shadow: 0 1px 2px rgba(60, 64, 67, 0.3), 0 1px 3px 1px rgba(60, 64, 67, 0.15);\n",
              "    fill: var(--button-hover-fill-color);\n",
              "  }\n",
              "\n",
              "  .colab-df-quickchart-complete:disabled,\n",
              "  .colab-df-quickchart-complete:disabled:hover {\n",
              "    background-color: var(--disabled-bg-color);\n",
              "    fill: var(--disabled-fill-color);\n",
              "    box-shadow: none;\n",
              "  }\n",
              "\n",
              "  .colab-df-spinner {\n",
              "    border: 2px solid var(--fill-color);\n",
              "    border-color: transparent;\n",
              "    border-bottom-color: var(--fill-color);\n",
              "    animation:\n",
              "      spin 1s steps(1) infinite;\n",
              "  }\n",
              "\n",
              "  @keyframes spin {\n",
              "    0% {\n",
              "      border-color: transparent;\n",
              "      border-bottom-color: var(--fill-color);\n",
              "      border-left-color: var(--fill-color);\n",
              "    }\n",
              "    20% {\n",
              "      border-color: transparent;\n",
              "      border-left-color: var(--fill-color);\n",
              "      border-top-color: var(--fill-color);\n",
              "    }\n",
              "    30% {\n",
              "      border-color: transparent;\n",
              "      border-left-color: var(--fill-color);\n",
              "      border-top-color: var(--fill-color);\n",
              "      border-right-color: var(--fill-color);\n",
              "    }\n",
              "    40% {\n",
              "      border-color: transparent;\n",
              "      border-right-color: var(--fill-color);\n",
              "      border-top-color: var(--fill-color);\n",
              "    }\n",
              "    60% {\n",
              "      border-color: transparent;\n",
              "      border-right-color: var(--fill-color);\n",
              "    }\n",
              "    80% {\n",
              "      border-color: transparent;\n",
              "      border-right-color: var(--fill-color);\n",
              "      border-bottom-color: var(--fill-color);\n",
              "    }\n",
              "    90% {\n",
              "      border-color: transparent;\n",
              "      border-bottom-color: var(--fill-color);\n",
              "    }\n",
              "  }\n",
              "</style>\n",
              "\n",
              "      <script>\n",
              "        async function quickchart(key) {\n",
              "          const quickchartButtonEl =\n",
              "            document.querySelector('#' + key + ' button');\n",
              "          quickchartButtonEl.disabled = true;  // To prevent multiple clicks.\n",
              "          quickchartButtonEl.classList.add('colab-df-spinner');\n",
              "          try {\n",
              "            const charts = await google.colab.kernel.invokeFunction(\n",
              "                'suggestCharts', [key], {});\n",
              "          } catch (error) {\n",
              "            console.error('Error during call to suggestCharts:', error);\n",
              "          }\n",
              "          quickchartButtonEl.classList.remove('colab-df-spinner');\n",
              "          quickchartButtonEl.classList.add('colab-df-quickchart-complete');\n",
              "        }\n",
              "        (() => {\n",
              "          let quickchartButtonEl =\n",
              "            document.querySelector('#df-d0dbdea1-dab4-4586-975c-263bee58720c button');\n",
              "          quickchartButtonEl.style.display =\n",
              "            google.colab.kernel.accessAllowed ? 'block' : 'none';\n",
              "        })();\n",
              "      </script>\n",
              "    </div>\n",
              "\n",
              "    </div>\n",
              "  </div>\n"
            ],
            "application/vnd.google.colaboratory.intrinsic+json": {
              "type": "dataframe"
            }
          },
          "metadata": {},
          "execution_count": 15
        }
      ]
    },
    {
      "cell_type": "markdown",
      "source": [
        "Split dataset based on the date column (df['date']):\n",
        "\n",
        "\t•\tData before 01.01.2015 → this will be used for training.\n",
        "\t•\tData on or after 01.01.2015 → this will be used for forecast/prediction."
      ],
      "metadata": {
        "id": "cUMkEm5L6Kfj"
      }
    },
    {
      "cell_type": "code",
      "source": [
        "df['date'] = pd.to_datetime(df['date'], errors='coerce') # Make Sure date Column is in datetime Format\n",
        "df['date'] = pd.to_datetime(df['date'], dayfirst=True)"
      ],
      "metadata": {
        "id": "Zw0fIouQ6_n5"
      },
      "execution_count": 16,
      "outputs": []
    },
    {
      "cell_type": "code",
      "source": [
        "cutoff = pd.to_datetime('2015-01-01') # Split the Data\n",
        "\n",
        "# Training data (before Dec 10, 2014)\n",
        "train_df = df[df['date'] < '2014-12-10']\n",
        "\n",
        "# Forecast data (on or after Jan 1, 2015)\n",
        "forecast_df = df[df['date'] >= cutoff]"
      ],
      "metadata": {
        "id": "9Tuf9TjZ7XI6"
      },
      "execution_count": 17,
      "outputs": []
    },
    {
      "cell_type": "code",
      "source": [
        "'''\n",
        "(Optional) Save Split Files for Later Use\n",
        "\n",
        "train_df.to_csv('train_data.csv', index=False)\n",
        "forecast_df.to_csv('forecast_data.csv', index=False)\n",
        "'''"
      ],
      "metadata": {
        "colab": {
          "base_uri": "https://localhost:8080/",
          "height": 35
        },
        "id": "pIYXIs9O7lnt",
        "outputId": "a1b0300f-7e9a-4d12-928b-00e8fa046e9c"
      },
      "execution_count": 18,
      "outputs": [
        {
          "output_type": "execute_result",
          "data": {
            "text/plain": [
              "\"\\n(Optional) Save Split Files for Later Use\\n\\ntrain_df.to_csv('train_data.csv', index=False)\\nforecast_df.to_csv('forecast_data.csv', index=False)\\n\""
            ],
            "application/vnd.google.colaboratory.intrinsic+json": {
              "type": "string"
            }
          },
          "metadata": {},
          "execution_count": 18
        }
      ]
    },
    {
      "cell_type": "markdown",
      "source": [
        "## Load my trained model"
      ],
      "metadata": {
        "id": "d_5iQTfERFZY"
      }
    },
    {
      "cell_type": "code",
      "source": [
        "model_path = '/content/drive/MyDrive/MasterSchool/MasterSchool_Python/Time_Series/Time_series_project/xgboost_models/xgb_final_model.pkl'\n",
        "model = joblib.load(model_path)"
      ],
      "metadata": {
        "id": "hdiGn4wpROLq"
      },
      "execution_count": 19,
      "outputs": []
    },
    {
      "cell_type": "code",
      "source": [
        "features_used_for_training = ['store_nbr', 'item_nbr', 'day_of_week', 'month']\n",
        "\n",
        "# Select only the columns that the model was trained on\n",
        "X_forecast = forecast_df[features_used_for_training]\n",
        "\n",
        "# Predict\n",
        "predictions = model.predict(X_forecast)\n",
        "\n",
        "# Add predictions to the dataframe\n",
        "forecast_df['prediction'] = predictions"
      ],
      "metadata": {
        "colab": {
          "base_uri": "https://localhost:8080/"
        },
        "id": "NMsSvAT_SBg0",
        "outputId": "2a826c4e-5418-4b03-d111-41c104c98928"
      },
      "execution_count": 20,
      "outputs": [
        {
          "output_type": "stream",
          "name": "stderr",
          "text": [
            "<ipython-input-20-5dffc41ffc78>:10: SettingWithCopyWarning: \n",
            "A value is trying to be set on a copy of a slice from a DataFrame.\n",
            "Try using .loc[row_indexer,col_indexer] = value instead\n",
            "\n",
            "See the caveats in the documentation: https://pandas.pydata.org/pandas-docs/stable/user_guide/indexing.html#returning-a-view-versus-a-copy\n",
            "  forecast_df['prediction'] = predictions\n"
          ]
        }
      ]
    },
    {
      "cell_type": "code",
      "source": [
        "forecast_df.sample(5)"
      ],
      "metadata": {
        "colab": {
          "base_uri": "https://localhost:8080/",
          "height": 359
        },
        "id": "c0CCoY2iSNWK",
        "outputId": "f4d7330b-7ae8-4648-8ee9-e40f4e66616d"
      },
      "execution_count": 21,
      "outputs": [
        {
          "output_type": "execute_result",
          "data": {
            "text/plain": [
              "       unit_sales  store_nbr  item_nbr  onpromotion  dcoilwtico  transferred  \\\n",
              "21866        21.0         35    573832            0       49.25            0   \n",
              "22867         4.0         26    657869            0       48.80            0   \n",
              "19769         3.0         28    577745            0       52.72            0   \n",
              "20033         9.0         36    864508            0       48.69            0   \n",
              "24019         2.0         34    848765            0       49.59            0   \n",
              "\n",
              "       item_class  transactions  weighted_unit_sales       date  ...  \\\n",
              "21866        1016           691                 21.0 2015-02-02  ...   \n",
              "22867        1004           478                  4.0 2015-02-15  ...   \n",
              "19769        1032          1245                  3.0 2015-01-03  ...   \n",
              "20033        1048          1073                  9.0 2015-01-07  ...   \n",
              "24019        1058          2468                  2.0 2015-03-02  ...   \n",
              "\n",
              "       city_Daule  city_Guayaquil  city_Libertad  city_Playas  city_nan  \\\n",
              "21866           0               0              0            1         0   \n",
              "22867           0               1              0            0         0   \n",
              "19769           0               1              0            0         0   \n",
              "20033           0               0              1            0         0   \n",
              "24019           0               1              0            0         0   \n",
              "\n",
              "       items_family_BEVERAGES  items_family_CLEANING  items_family_GROCERY I  \\\n",
              "21866                       0                      0                       1   \n",
              "22867                       0                      0                       1   \n",
              "19769                       0                      0                       1   \n",
              "20033                       0                      0                       1   \n",
              "24019                       0                      0                       1   \n",
              "\n",
              "       items_family_nan  prediction  \n",
              "21866                 0         0.0  \n",
              "22867                 0         0.0  \n",
              "19769                 0         0.0  \n",
              "20033                 0         0.0  \n",
              "24019                 0         0.0  \n",
              "\n",
              "[5 rows x 25 columns]"
            ],
            "text/html": [
              "\n",
              "  <div id=\"df-3f31a14e-fe58-43cf-a67a-82a0099f0a20\" class=\"colab-df-container\">\n",
              "    <div>\n",
              "<style scoped>\n",
              "    .dataframe tbody tr th:only-of-type {\n",
              "        vertical-align: middle;\n",
              "    }\n",
              "\n",
              "    .dataframe tbody tr th {\n",
              "        vertical-align: top;\n",
              "    }\n",
              "\n",
              "    .dataframe thead th {\n",
              "        text-align: right;\n",
              "    }\n",
              "</style>\n",
              "<table border=\"1\" class=\"dataframe\">\n",
              "  <thead>\n",
              "    <tr style=\"text-align: right;\">\n",
              "      <th></th>\n",
              "      <th>unit_sales</th>\n",
              "      <th>store_nbr</th>\n",
              "      <th>item_nbr</th>\n",
              "      <th>onpromotion</th>\n",
              "      <th>dcoilwtico</th>\n",
              "      <th>transferred</th>\n",
              "      <th>item_class</th>\n",
              "      <th>transactions</th>\n",
              "      <th>weighted_unit_sales</th>\n",
              "      <th>date</th>\n",
              "      <th>...</th>\n",
              "      <th>city_Daule</th>\n",
              "      <th>city_Guayaquil</th>\n",
              "      <th>city_Libertad</th>\n",
              "      <th>city_Playas</th>\n",
              "      <th>city_nan</th>\n",
              "      <th>items_family_BEVERAGES</th>\n",
              "      <th>items_family_CLEANING</th>\n",
              "      <th>items_family_GROCERY I</th>\n",
              "      <th>items_family_nan</th>\n",
              "      <th>prediction</th>\n",
              "    </tr>\n",
              "  </thead>\n",
              "  <tbody>\n",
              "    <tr>\n",
              "      <th>21866</th>\n",
              "      <td>21.0</td>\n",
              "      <td>35</td>\n",
              "      <td>573832</td>\n",
              "      <td>0</td>\n",
              "      <td>49.25</td>\n",
              "      <td>0</td>\n",
              "      <td>1016</td>\n",
              "      <td>691</td>\n",
              "      <td>21.0</td>\n",
              "      <td>2015-02-02</td>\n",
              "      <td>...</td>\n",
              "      <td>0</td>\n",
              "      <td>0</td>\n",
              "      <td>0</td>\n",
              "      <td>1</td>\n",
              "      <td>0</td>\n",
              "      <td>0</td>\n",
              "      <td>0</td>\n",
              "      <td>1</td>\n",
              "      <td>0</td>\n",
              "      <td>0.0</td>\n",
              "    </tr>\n",
              "    <tr>\n",
              "      <th>22867</th>\n",
              "      <td>4.0</td>\n",
              "      <td>26</td>\n",
              "      <td>657869</td>\n",
              "      <td>0</td>\n",
              "      <td>48.80</td>\n",
              "      <td>0</td>\n",
              "      <td>1004</td>\n",
              "      <td>478</td>\n",
              "      <td>4.0</td>\n",
              "      <td>2015-02-15</td>\n",
              "      <td>...</td>\n",
              "      <td>0</td>\n",
              "      <td>1</td>\n",
              "      <td>0</td>\n",
              "      <td>0</td>\n",
              "      <td>0</td>\n",
              "      <td>0</td>\n",
              "      <td>0</td>\n",
              "      <td>1</td>\n",
              "      <td>0</td>\n",
              "      <td>0.0</td>\n",
              "    </tr>\n",
              "    <tr>\n",
              "      <th>19769</th>\n",
              "      <td>3.0</td>\n",
              "      <td>28</td>\n",
              "      <td>577745</td>\n",
              "      <td>0</td>\n",
              "      <td>52.72</td>\n",
              "      <td>0</td>\n",
              "      <td>1032</td>\n",
              "      <td>1245</td>\n",
              "      <td>3.0</td>\n",
              "      <td>2015-01-03</td>\n",
              "      <td>...</td>\n",
              "      <td>0</td>\n",
              "      <td>1</td>\n",
              "      <td>0</td>\n",
              "      <td>0</td>\n",
              "      <td>0</td>\n",
              "      <td>0</td>\n",
              "      <td>0</td>\n",
              "      <td>1</td>\n",
              "      <td>0</td>\n",
              "      <td>0.0</td>\n",
              "    </tr>\n",
              "    <tr>\n",
              "      <th>20033</th>\n",
              "      <td>9.0</td>\n",
              "      <td>36</td>\n",
              "      <td>864508</td>\n",
              "      <td>0</td>\n",
              "      <td>48.69</td>\n",
              "      <td>0</td>\n",
              "      <td>1048</td>\n",
              "      <td>1073</td>\n",
              "      <td>9.0</td>\n",
              "      <td>2015-01-07</td>\n",
              "      <td>...</td>\n",
              "      <td>0</td>\n",
              "      <td>0</td>\n",
              "      <td>1</td>\n",
              "      <td>0</td>\n",
              "      <td>0</td>\n",
              "      <td>0</td>\n",
              "      <td>0</td>\n",
              "      <td>1</td>\n",
              "      <td>0</td>\n",
              "      <td>0.0</td>\n",
              "    </tr>\n",
              "    <tr>\n",
              "      <th>24019</th>\n",
              "      <td>2.0</td>\n",
              "      <td>34</td>\n",
              "      <td>848765</td>\n",
              "      <td>0</td>\n",
              "      <td>49.59</td>\n",
              "      <td>0</td>\n",
              "      <td>1058</td>\n",
              "      <td>2468</td>\n",
              "      <td>2.0</td>\n",
              "      <td>2015-03-02</td>\n",
              "      <td>...</td>\n",
              "      <td>0</td>\n",
              "      <td>1</td>\n",
              "      <td>0</td>\n",
              "      <td>0</td>\n",
              "      <td>0</td>\n",
              "      <td>0</td>\n",
              "      <td>0</td>\n",
              "      <td>1</td>\n",
              "      <td>0</td>\n",
              "      <td>0.0</td>\n",
              "    </tr>\n",
              "  </tbody>\n",
              "</table>\n",
              "<p>5 rows × 25 columns</p>\n",
              "</div>\n",
              "    <div class=\"colab-df-buttons\">\n",
              "\n",
              "  <div class=\"colab-df-container\">\n",
              "    <button class=\"colab-df-convert\" onclick=\"convertToInteractive('df-3f31a14e-fe58-43cf-a67a-82a0099f0a20')\"\n",
              "            title=\"Convert this dataframe to an interactive table.\"\n",
              "            style=\"display:none;\">\n",
              "\n",
              "  <svg xmlns=\"http://www.w3.org/2000/svg\" height=\"24px\" viewBox=\"0 -960 960 960\">\n",
              "    <path d=\"M120-120v-720h720v720H120Zm60-500h600v-160H180v160Zm220 220h160v-160H400v160Zm0 220h160v-160H400v160ZM180-400h160v-160H180v160Zm440 0h160v-160H620v160ZM180-180h160v-160H180v160Zm440 0h160v-160H620v160Z\"/>\n",
              "  </svg>\n",
              "    </button>\n",
              "\n",
              "  <style>\n",
              "    .colab-df-container {\n",
              "      display:flex;\n",
              "      gap: 12px;\n",
              "    }\n",
              "\n",
              "    .colab-df-convert {\n",
              "      background-color: #E8F0FE;\n",
              "      border: none;\n",
              "      border-radius: 50%;\n",
              "      cursor: pointer;\n",
              "      display: none;\n",
              "      fill: #1967D2;\n",
              "      height: 32px;\n",
              "      padding: 0 0 0 0;\n",
              "      width: 32px;\n",
              "    }\n",
              "\n",
              "    .colab-df-convert:hover {\n",
              "      background-color: #E2EBFA;\n",
              "      box-shadow: 0px 1px 2px rgba(60, 64, 67, 0.3), 0px 1px 3px 1px rgba(60, 64, 67, 0.15);\n",
              "      fill: #174EA6;\n",
              "    }\n",
              "\n",
              "    .colab-df-buttons div {\n",
              "      margin-bottom: 4px;\n",
              "    }\n",
              "\n",
              "    [theme=dark] .colab-df-convert {\n",
              "      background-color: #3B4455;\n",
              "      fill: #D2E3FC;\n",
              "    }\n",
              "\n",
              "    [theme=dark] .colab-df-convert:hover {\n",
              "      background-color: #434B5C;\n",
              "      box-shadow: 0px 1px 3px 1px rgba(0, 0, 0, 0.15);\n",
              "      filter: drop-shadow(0px 1px 2px rgba(0, 0, 0, 0.3));\n",
              "      fill: #FFFFFF;\n",
              "    }\n",
              "  </style>\n",
              "\n",
              "    <script>\n",
              "      const buttonEl =\n",
              "        document.querySelector('#df-3f31a14e-fe58-43cf-a67a-82a0099f0a20 button.colab-df-convert');\n",
              "      buttonEl.style.display =\n",
              "        google.colab.kernel.accessAllowed ? 'block' : 'none';\n",
              "\n",
              "      async function convertToInteractive(key) {\n",
              "        const element = document.querySelector('#df-3f31a14e-fe58-43cf-a67a-82a0099f0a20');\n",
              "        const dataTable =\n",
              "          await google.colab.kernel.invokeFunction('convertToInteractive',\n",
              "                                                    [key], {});\n",
              "        if (!dataTable) return;\n",
              "\n",
              "        const docLinkHtml = 'Like what you see? Visit the ' +\n",
              "          '<a target=\"_blank\" href=https://colab.research.google.com/notebooks/data_table.ipynb>data table notebook</a>'\n",
              "          + ' to learn more about interactive tables.';\n",
              "        element.innerHTML = '';\n",
              "        dataTable['output_type'] = 'display_data';\n",
              "        await google.colab.output.renderOutput(dataTable, element);\n",
              "        const docLink = document.createElement('div');\n",
              "        docLink.innerHTML = docLinkHtml;\n",
              "        element.appendChild(docLink);\n",
              "      }\n",
              "    </script>\n",
              "  </div>\n",
              "\n",
              "\n",
              "    <div id=\"df-02bb975f-a646-40f2-b7c6-127304a52aaa\">\n",
              "      <button class=\"colab-df-quickchart\" onclick=\"quickchart('df-02bb975f-a646-40f2-b7c6-127304a52aaa')\"\n",
              "                title=\"Suggest charts\"\n",
              "                style=\"display:none;\">\n",
              "\n",
              "<svg xmlns=\"http://www.w3.org/2000/svg\" height=\"24px\"viewBox=\"0 0 24 24\"\n",
              "     width=\"24px\">\n",
              "    <g>\n",
              "        <path d=\"M19 3H5c-1.1 0-2 .9-2 2v14c0 1.1.9 2 2 2h14c1.1 0 2-.9 2-2V5c0-1.1-.9-2-2-2zM9 17H7v-7h2v7zm4 0h-2V7h2v10zm4 0h-2v-4h2v4z\"/>\n",
              "    </g>\n",
              "</svg>\n",
              "      </button>\n",
              "\n",
              "<style>\n",
              "  .colab-df-quickchart {\n",
              "      --bg-color: #E8F0FE;\n",
              "      --fill-color: #1967D2;\n",
              "      --hover-bg-color: #E2EBFA;\n",
              "      --hover-fill-color: #174EA6;\n",
              "      --disabled-fill-color: #AAA;\n",
              "      --disabled-bg-color: #DDD;\n",
              "  }\n",
              "\n",
              "  [theme=dark] .colab-df-quickchart {\n",
              "      --bg-color: #3B4455;\n",
              "      --fill-color: #D2E3FC;\n",
              "      --hover-bg-color: #434B5C;\n",
              "      --hover-fill-color: #FFFFFF;\n",
              "      --disabled-bg-color: #3B4455;\n",
              "      --disabled-fill-color: #666;\n",
              "  }\n",
              "\n",
              "  .colab-df-quickchart {\n",
              "    background-color: var(--bg-color);\n",
              "    border: none;\n",
              "    border-radius: 50%;\n",
              "    cursor: pointer;\n",
              "    display: none;\n",
              "    fill: var(--fill-color);\n",
              "    height: 32px;\n",
              "    padding: 0;\n",
              "    width: 32px;\n",
              "  }\n",
              "\n",
              "  .colab-df-quickchart:hover {\n",
              "    background-color: var(--hover-bg-color);\n",
              "    box-shadow: 0 1px 2px rgba(60, 64, 67, 0.3), 0 1px 3px 1px rgba(60, 64, 67, 0.15);\n",
              "    fill: var(--button-hover-fill-color);\n",
              "  }\n",
              "\n",
              "  .colab-df-quickchart-complete:disabled,\n",
              "  .colab-df-quickchart-complete:disabled:hover {\n",
              "    background-color: var(--disabled-bg-color);\n",
              "    fill: var(--disabled-fill-color);\n",
              "    box-shadow: none;\n",
              "  }\n",
              "\n",
              "  .colab-df-spinner {\n",
              "    border: 2px solid var(--fill-color);\n",
              "    border-color: transparent;\n",
              "    border-bottom-color: var(--fill-color);\n",
              "    animation:\n",
              "      spin 1s steps(1) infinite;\n",
              "  }\n",
              "\n",
              "  @keyframes spin {\n",
              "    0% {\n",
              "      border-color: transparent;\n",
              "      border-bottom-color: var(--fill-color);\n",
              "      border-left-color: var(--fill-color);\n",
              "    }\n",
              "    20% {\n",
              "      border-color: transparent;\n",
              "      border-left-color: var(--fill-color);\n",
              "      border-top-color: var(--fill-color);\n",
              "    }\n",
              "    30% {\n",
              "      border-color: transparent;\n",
              "      border-left-color: var(--fill-color);\n",
              "      border-top-color: var(--fill-color);\n",
              "      border-right-color: var(--fill-color);\n",
              "    }\n",
              "    40% {\n",
              "      border-color: transparent;\n",
              "      border-right-color: var(--fill-color);\n",
              "      border-top-color: var(--fill-color);\n",
              "    }\n",
              "    60% {\n",
              "      border-color: transparent;\n",
              "      border-right-color: var(--fill-color);\n",
              "    }\n",
              "    80% {\n",
              "      border-color: transparent;\n",
              "      border-right-color: var(--fill-color);\n",
              "      border-bottom-color: var(--fill-color);\n",
              "    }\n",
              "    90% {\n",
              "      border-color: transparent;\n",
              "      border-bottom-color: var(--fill-color);\n",
              "    }\n",
              "  }\n",
              "</style>\n",
              "\n",
              "      <script>\n",
              "        async function quickchart(key) {\n",
              "          const quickchartButtonEl =\n",
              "            document.querySelector('#' + key + ' button');\n",
              "          quickchartButtonEl.disabled = true;  // To prevent multiple clicks.\n",
              "          quickchartButtonEl.classList.add('colab-df-spinner');\n",
              "          try {\n",
              "            const charts = await google.colab.kernel.invokeFunction(\n",
              "                'suggestCharts', [key], {});\n",
              "          } catch (error) {\n",
              "            console.error('Error during call to suggestCharts:', error);\n",
              "          }\n",
              "          quickchartButtonEl.classList.remove('colab-df-spinner');\n",
              "          quickchartButtonEl.classList.add('colab-df-quickchart-complete');\n",
              "        }\n",
              "        (() => {\n",
              "          let quickchartButtonEl =\n",
              "            document.querySelector('#df-02bb975f-a646-40f2-b7c6-127304a52aaa button');\n",
              "          quickchartButtonEl.style.display =\n",
              "            google.colab.kernel.accessAllowed ? 'block' : 'none';\n",
              "        })();\n",
              "      </script>\n",
              "    </div>\n",
              "\n",
              "    </div>\n",
              "  </div>\n"
            ],
            "application/vnd.google.colaboratory.intrinsic+json": {
              "type": "dataframe"
            }
          },
          "metadata": {},
          "execution_count": 21
        }
      ]
    },
    {
      "cell_type": "markdown",
      "source": [
        "\t•\t🟢 Loaded the model\n",
        "\t•\t🟢 Selected the correct features: ['store_nbr', 'item_nbr', 'day_of_week', 'month']\n",
        "\t•\t🟢 Generated predictions and appended them to forecast_df\n"
      ],
      "metadata": {
        "id": "rVQwogCSTGdi"
      }
    },
    {
      "cell_type": "markdown",
      "source": [
        "Build the Streamlit App (UI) to Use Your Model\n",
        "\n",
        "Now I'm going to create a simple Streamlit app that:\n",
        "\n",
        "\t•\tLets the user enter values for:\n",
        "\t•\tstore_nbr\n",
        "\t•\titem_nbr\n",
        "\t•\tday_of_week\n",
        "\t•\tmonth\n",
        "\t•\tRuns your XGBoost model\n",
        "\t•\tDisplays the predicted result"
      ],
      "metadata": {
        "id": "Dp5gkFanTNL5"
      }
    },
    {
      "cell_type": "code",
      "source": [
        "%%writefile app.py\n",
        "# import streamlit as st\n",
        "# import pandas as pd\n",
        "# import joblib\n",
        "\n",
        "# Load model\n",
        "model = joblib.load('xgboost_model.pkl')\n",
        "\n",
        "st.title(\"Sales Forecasting App\")\n",
        "\n",
        "st.markdown(\"Enter the input features to get a sales forecast:\")\n",
        "\n",
        "# Input fields\n",
        "store_nbr = st.number_input(\"Store Number\", min_value=1, value=1)\n",
        "item_nbr = st.number_input(\"Item Number\", min_value=1, value=1)\n",
        "day_of_week = st.selectbox(\"Day of Week (1=Mon, 7=Sun)\", list(range(1, 8)))\n",
        "month = st.selectbox(\"Month (1=Jan, 12=Dec)\", list(range(1, 13)))\n",
        "\n",
        "# Predict\n",
        "if st.button(\"Predict Sales\"):\n",
        "    input_df = pd.DataFrame({\n",
        "        'store_nbr': [store_nbr],\n",
        "        'item_nbr': [item_nbr],\n",
        "        'day_of_week': [day_of_week],\n",
        "        'month': [month]\n",
        "    })\n",
        "\n",
        "    prediction = model.predict(input_df)\n",
        "    st.success(f\"Predicted sales: {prediction[0]:.2f}\")"
      ],
      "metadata": {
        "colab": {
          "base_uri": "https://localhost:8080/"
        },
        "id": "_Hih0SjxTdf6",
        "outputId": "9dd49f3c-61e6-4b1f-a16e-e6a9849416fb"
      },
      "execution_count": 22,
      "outputs": [
        {
          "output_type": "stream",
          "name": "stdout",
          "text": [
            "Overwriting app.py\n"
          ]
        }
      ]
    },
    {
      "cell_type": "code",
      "source": [
        "# ✅ Step 1: Install required packages (only needs to be done once per session)\n",
        "!pip install -q streamlit pyngrok\n",
        "\n",
        "# ✅ Step 2: Authenticate ngrok (run this once per session — REPLACE with your token!)\n",
        "!ngrok config add-authtoken 2xGjtPlTL3RBlHDjQQrlFlLsbgI_wcFJ6YAwQMRuPmerCySR"
      ],
      "metadata": {
        "colab": {
          "base_uri": "https://localhost:8080/"
        },
        "id": "zpWLVXkiZMLw",
        "outputId": "5e15c16d-a27c-4b8d-ba40-9d9bba771612"
      },
      "execution_count": 23,
      "outputs": [
        {
          "output_type": "stream",
          "name": "stdout",
          "text": [
            "Authtoken saved to configuration file: /root/.config/ngrok/ngrok.yml\n"
          ]
        }
      ]
    },
    {
      "cell_type": "code",
      "source": [
        "# ✅ Step 3: Kill any previously running Streamlit apps (optional but safe)\n",
        "!pkill streamlit"
      ],
      "metadata": {
        "id": "_gA_puL_ZO2n"
      },
      "execution_count": 24,
      "outputs": []
    },
    {
      "cell_type": "code",
      "source": [
        "# ✅ Step 4: Start Streamlit app in the background\n",
        "# Replace 'app.py' with your actual Streamlit app filename if it's different\n",
        "get_ipython().system_raw('streamlit run app.py &')"
      ],
      "metadata": {
        "id": "U--CtmNbZRz2"
      },
      "execution_count": 25,
      "outputs": []
    },
    {
      "cell_type": "code",
      "source": [
        "public_url = ngrok.connect(addr='localhost:8501')"
      ],
      "metadata": {
        "id": "K0RvO5a_ZxxC"
      },
      "execution_count": 26,
      "outputs": []
    },
    {
      "cell_type": "code",
      "source": [
        "# Print the public URL so you can access your app\n",
        "print(f\"🚀 Your Streamlit app is live at: {public_url}\")"
      ],
      "metadata": {
        "colab": {
          "base_uri": "https://localhost:8080/"
        },
        "id": "kPuxB8VtZ32X",
        "outputId": "d265dd01-ed00-4deb-cddb-dba0a02b71be"
      },
      "execution_count": 27,
      "outputs": [
        {
          "output_type": "stream",
          "name": "stdout",
          "text": [
            "🚀 Your Streamlit app is live at: NgrokTunnel: \"https://b7ee-130-211-240-209.ngrok-free.app\" -> \"http://localhost:8501\"\n"
          ]
        }
      ]
    },
    {
      "cell_type": "markdown",
      "source": [
        "now I am just missing one small piece: I need to import joblib to be able to load your model"
      ],
      "metadata": {
        "id": "bG8iaDSCbX0J"
      }
    },
    {
      "cell_type": "markdown",
      "source": [
        "### Fix: Add the import at the top of your app.py"
      ],
      "metadata": {
        "id": "abkMBUnZbmDN"
      }
    },
    {
      "cell_type": "code",
      "source": [
        "# import joblib"
      ],
      "metadata": {
        "id": "y7ihUEt2brRL"
      },
      "execution_count": 28,
      "outputs": []
    },
    {
      "cell_type": "code",
      "source": [
        "train_df.to_csv('train_data.csv', index=False)\n",
        "forecast_df.to_csv('forecast_data.csv', index=False)\n",
        "\n",
        "# Features used in training\n",
        "features_used_for_training = ['store_nbr', 'item_nbr', 'day_of_week', 'month']\n",
        "X_forecast = df[features_used_for_training]\n",
        "\n",
        "# Predict and add to DataFrame\n",
        "df['prediction'] = model.predict(X_forecast)\n",
        "\n",
        "# Streamlit app layout\n",
        "st.title(\"🛍️ Forecasted Sales\")\n",
        "st.write(\"Showing predictions from your XGBoost model:\")\n",
        "\n",
        "# Display predictions\n",
        "st.dataframe(df[['store_nbr', 'item_nbr', 'prediction']].head(20))"
      ],
      "metadata": {
        "colab": {
          "base_uri": "https://localhost:8080/"
        },
        "id": "sRuWqJaLbwRp",
        "outputId": "202fe9da-ee2b-4461-b302-2ccd67450651"
      },
      "execution_count": 29,
      "outputs": [
        {
          "output_type": "stream",
          "name": "stderr",
          "text": [
            "2025-05-18 13:05:27.265 WARNING streamlit.runtime.scriptrunner_utils.script_run_context: Thread 'MainThread': missing ScriptRunContext! This warning can be ignored when running in bare mode.\n",
            "2025-05-18 13:05:27.467 \n",
            "  \u001b[33m\u001b[1mWarning:\u001b[0m to view this Streamlit app on a browser, run it with the following\n",
            "  command:\n",
            "\n",
            "    streamlit run /usr/local/lib/python3.11/dist-packages/colab_kernel_launcher.py [ARGUMENTS]\n",
            "2025-05-18 13:05:27.469 Thread 'MainThread': missing ScriptRunContext! This warning can be ignored when running in bare mode.\n",
            "2025-05-18 13:05:27.471 Thread 'MainThread': missing ScriptRunContext! This warning can be ignored when running in bare mode.\n",
            "2025-05-18 13:05:27.472 Thread 'MainThread': missing ScriptRunContext! This warning can be ignored when running in bare mode.\n",
            "2025-05-18 13:05:27.480 Thread 'MainThread': missing ScriptRunContext! This warning can be ignored when running in bare mode.\n",
            "2025-05-18 13:05:27.481 Thread 'MainThread': missing ScriptRunContext! This warning can be ignored when running in bare mode.\n"
          ]
        },
        {
          "output_type": "execute_result",
          "data": {
            "text/plain": [
              "DeltaGenerator()"
            ]
          },
          "metadata": {},
          "execution_count": 29
        }
      ]
    },
    {
      "cell_type": "markdown",
      "source": [
        "After I fix it:\n",
        "\n",
        "\t1.\tSave the file (app.py).\n",
        "\t2.\tRestart the Streamlit server in your notebook:"
      ],
      "metadata": {
        "id": "ww7StFIRcRiB"
      }
    },
    {
      "cell_type": "code",
      "source": [
        "# !pkill streamlit\n",
        "get_ipython().system_raw('streamlit run app.py &')"
      ],
      "metadata": {
        "id": "W097pe3kcYGg"
      },
      "execution_count": 30,
      "outputs": []
    },
    {
      "cell_type": "code",
      "source": [
        "df = pd.read_csv('forecast_data.csv')\n",
        "\n",
        "# Load trained model using the correct path\n",
        "model_path = '/content/drive/MyDrive/MasterSchool/MasterSchool_Python/Time_Series/Time_series_project/xgboost_models/xgb_final_model.pkl'\n",
        "model = joblib.load(model_path)\n",
        "\n",
        "# Predict\n",
        "features_used_for_training = ['store_nbr', 'item_nbr', 'day_of_week', 'month']\n",
        "X_forecast = df[features_used_for_training]\n",
        "df['prediction'] = model.predict(X_forecast)\n",
        "\n",
        "# Streamlit UI\n",
        "st.title(\"📈 Forecast App\")\n",
        "st.write(\"Here are the predictions:\")\n",
        "\n",
        "st.dataframe(df[['store_nbr', 'item_nbr', 'prediction']].head(20))"
      ],
      "metadata": {
        "colab": {
          "base_uri": "https://localhost:8080/"
        },
        "id": "_dVHXLFXe0Ce",
        "outputId": "22381d79-de19-4faa-a2db-d77bba07e2ae"
      },
      "execution_count": 31,
      "outputs": [
        {
          "output_type": "stream",
          "name": "stderr",
          "text": [
            "2025-05-18 13:05:27.555 Thread 'MainThread': missing ScriptRunContext! This warning can be ignored when running in bare mode.\n",
            "2025-05-18 13:05:27.559 Thread 'MainThread': missing ScriptRunContext! This warning can be ignored when running in bare mode.\n",
            "2025-05-18 13:05:27.561 Thread 'MainThread': missing ScriptRunContext! This warning can be ignored when running in bare mode.\n",
            "2025-05-18 13:05:27.563 Thread 'MainThread': missing ScriptRunContext! This warning can be ignored when running in bare mode.\n",
            "2025-05-18 13:05:27.571 Thread 'MainThread': missing ScriptRunContext! This warning can be ignored when running in bare mode.\n",
            "2025-05-18 13:05:27.574 Thread 'MainThread': missing ScriptRunContext! This warning can be ignored when running in bare mode.\n"
          ]
        },
        {
          "output_type": "execute_result",
          "data": {
            "text/plain": [
              "DeltaGenerator()"
            ]
          },
          "metadata": {},
          "execution_count": 31
        }
      ]
    },
    {
      "cell_type": "code",
      "source": [
        "from pyngrok import ngrok # reconnect ngrok\n",
        "\n",
        "# Close any existing ngrok tunnels to avoid conflicts\n",
        "# ngrok.disconnect_all() # Incorrect function\n",
        "ngrok.kill() # Correct function to terminate all ngrok processes\n",
        "\n",
        "# Connect to ngrok specifying the address using 'addr'\n",
        "# public_url = ngrok.connect(port=8501) # Incorrect parameter name\n",
        "public_url = ngrok.connect(addr=8501, proto='http') # Correct way to specify address and protocol\n",
        "print(f\"🚀 Your Streamlit app is live at: {public_url}\")"
      ],
      "metadata": {
        "colab": {
          "base_uri": "https://localhost:8080/"
        },
        "id": "Za9tYdSkdAxp",
        "outputId": "21428f23-d929-4dea-93b1-b6d47339ac42"
      },
      "execution_count": 32,
      "outputs": [
        {
          "output_type": "stream",
          "name": "stdout",
          "text": [
            "🚀 Your Streamlit app is live at: NgrokTunnel: \"https://082c-130-211-240-209.ngrok-free.app\" -> \"http://localhost:8501\"\n"
          ]
        }
      ]
    },
    {
      "cell_type": "code",
      "source": [
        "gc.collect() # rubbish collection"
      ],
      "metadata": {
        "colab": {
          "base_uri": "https://localhost:8080/"
        },
        "id": "9GkEfF_Xf38C",
        "outputId": "9cd3adf1-1a93-40b7-b390-f9d12d4ca340"
      },
      "execution_count": 33,
      "outputs": [
        {
          "output_type": "execute_result",
          "data": {
            "text/plain": [
              "90"
            ]
          },
          "metadata": {},
          "execution_count": 33
        }
      ]
    }
  ]
}