{
  "nbformat": 4,
  "nbformat_minor": 0,
  "metadata": {
    "colab": {
      "provenance": [],
      "authorship_tag": "ABX9TyPYxYmGXkrJsG290uFwTOTr",
      "include_colab_link": true
    },
    "kernelspec": {
      "name": "python3",
      "display_name": "Python 3"
    },
    "language_info": {
      "name": "python"
    }
  },
  "cells": [
    {
      "cell_type": "markdown",
      "metadata": {
        "id": "view-in-github",
        "colab_type": "text"
      },
      "source": [
        "<a href=\"https://colab.research.google.com/github/GeorgeShmelin/Masterschool_time_series_Project_supermarket_favorita/blob/main/4_time_series_prophet_data_preparation.ipynb\" target=\"_parent\"><img src=\"https://colab.research.google.com/assets/colab-badge.svg\" alt=\"Open In Colab\"/></a>"
      ]
    },
    {
      "cell_type": "markdown",
      "source": [
        "Prophet doesn’t learn patterns based on IDs, even if they’re integers. It treats all extra columns as numeric features with real-world meaning (e.g., temperature, price, promotions). So passing store_nbr or item_nbr as integers will confuse the model — it will try to learn that higher store/item IDs cause more sales, which is meaningless."
      ],
      "metadata": {
        "id": "UwgkbxZGojvz"
      }
    },
    {
      "cell_type": "markdown",
      "source": [
        "Therefore, only for this prophet model I choosing only 1 most popular Favorita supermarket and modeling daily transactions vs weekday, holidays, oil price, etc"
      ],
      "metadata": {
        "id": "pi9gaAslpW0K"
      }
    },
    {
      "cell_type": "markdown",
      "source": [
        "# Libraries"
      ],
      "metadata": {
        "id": "rGSYFMsxY6RM"
      }
    },
    {
      "cell_type": "code",
      "source": [
        "# !pip install kagglehub\n",
        "import kagglehub"
      ],
      "metadata": {
        "id": "zflVbbszYvQm"
      },
      "execution_count": 1,
      "outputs": []
    },
    {
      "cell_type": "code",
      "source": [
        "import pandas as pd\n",
        "import numpy as np\n",
        "import matplotlib.pyplot as plt\n",
        "import seaborn as sns"
      ],
      "metadata": {
        "id": "a2Cn-YU_ZQZ_"
      },
      "execution_count": 2,
      "outputs": []
    },
    {
      "cell_type": "code",
      "source": [
        "import sqlite3\n",
        "import os\n",
        "import gc"
      ],
      "metadata": {
        "id": "gQ6Xfd8LZUvu"
      },
      "execution_count": 3,
      "outputs": []
    },
    {
      "cell_type": "code",
      "source": [
        "import sqlalchemy as sa\n",
        "from google.colab import files\n",
        "from sqlalchemy import text\n",
        "from sqlalchemy import create_engine"
      ],
      "metadata": {
        "id": "LY9RkEERZZqn"
      },
      "execution_count": 4,
      "outputs": []
    },
    {
      "cell_type": "markdown",
      "source": [
        "# Data download and initial transformations"
      ],
      "metadata": {
        "id": "WiRfJbYXZtLs"
      }
    },
    {
      "cell_type": "code",
      "source": [
        "# Download latest version\n",
        "path = kagglehub.dataset_download(\"siliconx/favoritagrocerysalesforecastingextracted\")\n",
        "\n",
        "print(\"Path to dataset files:\", path)"
      ],
      "metadata": {
        "colab": {
          "base_uri": "https://localhost:8080/"
        },
        "id": "w7Z0CcgkZ0it",
        "outputId": "8ef44ee7-d998-4640-f6ba-e8ecfe7c7fa8"
      },
      "execution_count": 5,
      "outputs": [
        {
          "output_type": "stream",
          "name": "stdout",
          "text": [
            "Path to dataset files: /kaggle/input/favoritagrocerysalesforecastingextracted\n"
          ]
        }
      ]
    },
    {
      "cell_type": "code",
      "source": [
        "files = os.listdir(path)\n",
        "print(\"Files in dataset:\", files)"
      ],
      "metadata": {
        "colab": {
          "base_uri": "https://localhost:8080/"
        },
        "id": "M6nFO22SaMFn",
        "outputId": "e06af682-f65d-43b1-c719-c112d7932260"
      },
      "execution_count": 6,
      "outputs": [
        {
          "output_type": "stream",
          "name": "stdout",
          "text": [
            "Files in dataset: ['oil.csv', 'items.csv', 'sample_submission.csv', 'holidays_events.csv', 'stores.csv', 'train.csv', 'test.csv', 'transactions.csv']\n"
          ]
        }
      ]
    },
    {
      "cell_type": "code",
      "source": [
        "# Connect to SQLite\n",
        "conn = sqlite3.connect(\"favorita.db\")\n",
        "\n",
        "# Change this line per file\n",
        "filename = 'oil.csv'\n",
        "file_path = os.path.join(path, filename)\n",
        "\n",
        "# Load CSV\n",
        "df = pd.read_csv(file_path)\n",
        "table_name = filename.replace('.csv', '')\n",
        "\n",
        "# Load to SQL\n",
        "df.to_sql(table_name, conn, if_exists=\"replace\", index=False)\n",
        "print(f\"✅ Loaded '{filename}' into table '{table_name}'\")\n",
        "\n",
        "# Row count\n",
        "query = f\"SELECT COUNT(*) AS row_count FROM {table_name};\"\n",
        "row_count_df = pd.read_sql(query, conn)\n",
        "row_count = row_count_df.iloc[0, 0]\n",
        "print(f\"🔢 Table '{table_name}' has {row_count:,} rows.\")\n",
        "\n",
        "# Inspect columns for key info\n",
        "columns = df.columns.tolist()\n",
        "primary_like = [col for col in columns if 'id' in col.lower() or 'nbr' in col.lower()]\n",
        "date_like = [col for col in columns if 'date' in col.lower()]\n",
        "possible_keys = primary_like + date_like\n",
        "\n",
        "# Show candidate keys\n",
        "if possible_keys:\n",
        "    print(f\"🔑 Candidate keys or join fields in '{table_name}': {possible_keys}\")\n",
        "else:\n",
        "    print(f\"ℹ️ No obvious join keys found in '{table_name}'\")"
      ],
      "metadata": {
        "colab": {
          "base_uri": "https://localhost:8080/"
        },
        "id": "ailjwlFJaSOv",
        "outputId": "1bc16d7f-0d69-4bd2-f560-638f43a5fc25"
      },
      "execution_count": 7,
      "outputs": [
        {
          "output_type": "stream",
          "name": "stdout",
          "text": [
            "✅ Loaded 'oil.csv' into table 'oil'\n",
            "🔢 Table 'oil' has 1,218 rows.\n",
            "🔑 Candidate keys or join fields in 'oil': ['date']\n"
          ]
        }
      ]
    },
    {
      "cell_type": "code",
      "source": [
        "# Change this line per file\n",
        "filename = 'items.csv'\n",
        "file_path = os.path.join(path, filename)\n",
        "\n",
        "# Load CSV\n",
        "df = pd.read_csv(file_path)\n",
        "table_name = filename.replace('.csv', '')\n",
        "\n",
        "# Load to SQL\n",
        "df.to_sql(table_name, conn, if_exists=\"replace\", index=False)\n",
        "print(f\"✅ Loaded '{filename}' into table '{table_name}'\")\n",
        "\n",
        "# Row count\n",
        "query = f\"SELECT COUNT(*) AS row_count FROM {table_name};\"\n",
        "row_count_df = pd.read_sql(query, conn)\n",
        "row_count = row_count_df.iloc[0, 0]\n",
        "print(f\"🔢 Table '{table_name}' has {row_count:,} rows.\")\n",
        "\n",
        "# Inspect columns for key info\n",
        "columns = df.columns.tolist()\n",
        "primary_like = [col for col in columns if 'id' in col.lower() or 'nbr' in col.lower()]\n",
        "date_like = [col for col in columns if 'date' in col.lower()]\n",
        "possible_keys = primary_like + date_like\n",
        "\n",
        "# Show candidate keys\n",
        "if possible_keys:\n",
        "    print(f\"🔑 Candidate keys or join fields in '{table_name}': {possible_keys}\")\n",
        "else:\n",
        "    print(f\"ℹ️ No obvious join keys found in '{table_name}'\")"
      ],
      "metadata": {
        "colab": {
          "base_uri": "https://localhost:8080/"
        },
        "id": "uJCtcTebaYNA",
        "outputId": "2647a4d3-2d60-45df-974f-51a4eaa5aba7"
      },
      "execution_count": 8,
      "outputs": [
        {
          "output_type": "stream",
          "name": "stdout",
          "text": [
            "✅ Loaded 'items.csv' into table 'items'\n",
            "🔢 Table 'items' has 4,100 rows.\n",
            "🔑 Candidate keys or join fields in 'items': ['item_nbr']\n"
          ]
        }
      ]
    },
    {
      "cell_type": "code",
      "source": [
        "# Change this line per file\n",
        "filename = 'holidays_events.csv'\n",
        "file_path = os.path.join(path, filename)\n",
        "\n",
        "# Load CSV\n",
        "df = pd.read_csv(file_path)\n",
        "table_name = filename.replace('.csv', '')\n",
        "\n",
        "# Load to SQL\n",
        "df.to_sql(table_name, conn, if_exists=\"replace\", index=False)\n",
        "print(f\"✅ Loaded '{filename}' into table '{table_name}'\")\n",
        "\n",
        "# Row count\n",
        "query = f\"SELECT COUNT(*) AS row_count FROM {table_name};\"\n",
        "row_count_df = pd.read_sql(query, conn)\n",
        "row_count = row_count_df.iloc[0, 0]\n",
        "print(f\"🔢 Table '{table_name}' has {row_count:,} rows.\")\n",
        "\n",
        "# Inspect columns for key info\n",
        "columns = df.columns.tolist()\n",
        "primary_like = [col for col in columns if 'id' in col.lower() or 'nbr' in col.lower()]\n",
        "date_like = [col for col in columns if 'date' in col.lower()]\n",
        "possible_keys = primary_like + date_like\n",
        "\n",
        "# Show candidate keys\n",
        "if possible_keys:\n",
        "    print(f\"🔑 Candidate keys or join fields in '{table_name}': {possible_keys}\")\n",
        "else:\n",
        "    print(f\"ℹ️ No obvious join keys found in '{table_name}'\")"
      ],
      "metadata": {
        "colab": {
          "base_uri": "https://localhost:8080/"
        },
        "id": "0gC1aHnqaeDn",
        "outputId": "f80e049c-4a5b-40f2-ff9c-5d2f2442d790"
      },
      "execution_count": 9,
      "outputs": [
        {
          "output_type": "stream",
          "name": "stdout",
          "text": [
            "✅ Loaded 'holidays_events.csv' into table 'holidays_events'\n",
            "🔢 Table 'holidays_events' has 350 rows.\n",
            "🔑 Candidate keys or join fields in 'holidays_events': ['date']\n"
          ]
        }
      ]
    },
    {
      "cell_type": "code",
      "source": [
        "# Set up file\n",
        "filename = 'stores.csv'\n",
        "file_path = os.path.join(path, filename)\n",
        "\n",
        "# Load and filter for Guayas\n",
        "df = pd.read_csv(file_path)\n",
        "# df = df[df['state'] == 'Guayas']  # 👈 Filter\n",
        "\n",
        "table_name = filename.replace('.csv', '')\n",
        "\n",
        "# Save to SQL\n",
        "df.to_sql(table_name, conn, if_exists=\"replace\", index=False)\n",
        "print(f\"✅ Loaded '{filename}' into table '{table_name}' (only state = 'Guayas')\")\n",
        "\n",
        "# Row count\n",
        "query = f\"SELECT COUNT(*) AS row_count FROM {table_name};\"\n",
        "row_count_df = pd.read_sql(query, conn)\n",
        "row_count = row_count_df.iloc[0, 0]\n",
        "print(f\"🔢 Table '{table_name}' has {row_count:,} rows.\")\n",
        "\n",
        "# Inspect columns for join keys\n",
        "columns = df.columns.tolist()\n",
        "primary_like = [col for col in columns if 'id' in col.lower() or 'nbr' in col.lower()]\n",
        "date_like = [col for col in columns if 'date' in col.lower()]\n",
        "possible_keys = primary_like + date_like\n",
        "\n",
        "# Show candidate keys\n",
        "if possible_keys:\n",
        "    print(f\"🔑 Candidate keys or join fields in '{table_name}': {possible_keys}\")\n",
        "else:\n",
        "    print(f\"ℹ️ No obvious join keys found in '{table_name}'\")"
      ],
      "metadata": {
        "colab": {
          "base_uri": "https://localhost:8080/"
        },
        "id": "KomZIvzSaoo8",
        "outputId": "035bcb2f-22ee-4960-8914-77cd9cacd0a4"
      },
      "execution_count": 10,
      "outputs": [
        {
          "output_type": "stream",
          "name": "stdout",
          "text": [
            "✅ Loaded 'stores.csv' into table 'stores' (only state = 'Guayas')\n",
            "🔢 Table 'stores' has 54 rows.\n",
            "🔑 Candidate keys or join fields in 'stores': ['store_nbr']\n"
          ]
        }
      ]
    },
    {
      "cell_type": "code",
      "source": [
        "# Change this line per file\n",
        "filename = 'transactions.csv'\n",
        "file_path = os.path.join(path, filename)\n",
        "\n",
        "# Load CSV\n",
        "df = pd.read_csv(file_path)\n",
        "table_name = filename.replace('.csv', '')\n",
        "\n",
        "# Load to SQL\n",
        "df.to_sql(table_name, conn, if_exists=\"replace\", index=False)\n",
        "print(f\"✅ Loaded '{filename}' into table '{table_name}'\")\n",
        "\n",
        "# Row count\n",
        "query = f\"SELECT COUNT(*) AS row_count FROM {table_name};\"\n",
        "row_count_df = pd.read_sql(query, conn)\n",
        "row_count = row_count_df.iloc[0, 0]\n",
        "print(f\"🔢 Table '{table_name}' has {row_count:,} rows.\")\n",
        "\n",
        "# Inspect columns for key info\n",
        "columns = df.columns.tolist()\n",
        "primary_like = [col for col in columns if 'id' in col.lower() or 'nbr' in col.lower()]\n",
        "date_like = [col for col in columns if 'date' in col.lower()]\n",
        "possible_keys = primary_like + date_like\n",
        "\n",
        "# Show candidate keys\n",
        "if possible_keys:\n",
        "    print(f\"🔑 Candidate keys or join fields in '{table_name}': {possible_keys}\")\n",
        "else:\n",
        "    print(f\"ℹ️ No obvious join keys found in '{table_name}'\")"
      ],
      "metadata": {
        "colab": {
          "base_uri": "https://localhost:8080/"
        },
        "id": "0lrgSTYEauyg",
        "outputId": "6ac41391-a818-4e7d-c25d-032ac18bf31e"
      },
      "execution_count": 11,
      "outputs": [
        {
          "output_type": "stream",
          "name": "stdout",
          "text": [
            "✅ Loaded 'transactions.csv' into table 'transactions'\n",
            "🔢 Table 'transactions' has 83,488 rows.\n",
            "🔑 Candidate keys or join fields in 'transactions': ['store_nbr', 'date']\n"
          ]
        }
      ]
    },
    {
      "cell_type": "code",
      "source": [
        "del files\n",
        "del possible_keys\n",
        "del columns\n",
        "del date_like\n",
        "del primary_like\n",
        "del df\n",
        "del row_count_df\n",
        "del query"
      ],
      "metadata": {
        "id": "FnDxjY_1azaf"
      },
      "execution_count": 12,
      "outputs": []
    },
    {
      "cell_type": "markdown",
      "source": [
        "this time period, because of oil price significant fluctuation, is more interesting and challenging rather than suggested initially"
      ],
      "metadata": {
        "id": "rqOeqWpabmsN"
      }
    },
    {
      "cell_type": "code",
      "source": [
        "# Paths and file setup\n",
        "filename = 'train.csv'\n",
        "file_path = os.path.join(path, filename)\n",
        "table_name = filename.replace('.csv', '')\n",
        "\n",
        "# Date filter range\n",
        "# DATE_START = '2015-09-15'\n",
        "# DATE_END = '2017-04-01'\n",
        "\n",
        "# Sampling + row cap\n",
        "SAMPLE_RATIO = 0.5\n",
        "MAX_ROWS = 500_000\n",
        "total_saved_rows = 0\n",
        "\n",
        "# Columns to keep from CSV\n",
        "columns_to_keep = ['date', 'store_nbr', 'item_nbr', 'unit_sales', 'onpromotion']"
      ],
      "metadata": {
        "id": "h9lMTa52a4ZO"
      },
      "execution_count": 13,
      "outputs": []
    },
    {
      "cell_type": "code",
      "source": [
        "# Connect to SQLite\n",
        "conn = sqlite3.connect(\"favorita.db\")\n",
        "cursor = conn.cursor()\n",
        "\n",
        "# Check if the table exists\n",
        "cursor.execute(f\"SELECT name FROM sqlite_master WHERE type='table' AND name='{table_name}'\")\n",
        "table_exists = cursor.fetchone()\n",
        "\n",
        "# If not exists, create it with correct schema\n",
        "if not table_exists:\n",
        "    create_sql = f\"\"\"\n",
        "        CREATE TABLE {table_name} (\n",
        "            date DATETIME,\n",
        "            store_nbr INTEGER,\n",
        "            item_nbr INTEGER,\n",
        "            unit_sales REAL,\n",
        "            onpromotion INTEGER\n",
        "        )\n",
        "    \"\"\"\n",
        "    conn.execute(create_sql)\n",
        "    print(f\"✅ Created table '{table_name}' with all expected columns\")\n",
        "else:\n",
        "    # Validate column schema\n",
        "    cursor.execute(f\"PRAGMA table_info({table_name})\")\n",
        "    existing_columns = [col[1] for col in cursor.fetchall()]\n",
        "    if 'onpromotion' not in existing_columns:\n",
        "        try:\n",
        "            conn.execute(f\"ALTER TABLE {table_name} ADD COLUMN onpromotion INTEGER\")\n",
        "            print(f\"➕ Added missing column 'onpromotion' to '{table_name}'\")\n",
        "        except sqlite3.OperationalError as e:\n",
        "            print(f\"⚠️ Could not alter table to add 'onpromotion': {e}\")\n",
        "    else:\n",
        "        print(f\"ℹ️ Table '{table_name}' exists and includes 'onpromotion'\")"
      ],
      "metadata": {
        "colab": {
          "base_uri": "https://localhost:8080/"
        },
        "id": "rNxmGmNLb_V4",
        "outputId": "aaa3c3fd-85ad-4428-c5d9-b35240aa4122"
      },
      "execution_count": 14,
      "outputs": [
        {
          "output_type": "stream",
          "name": "stdout",
          "text": [
            "ℹ️ Table 'train' exists and includes 'onpromotion'\n"
          ]
        }
      ]
    },
    {
      "cell_type": "code",
      "source": [
        "# Paths and file setup\n",
        "filename = 'train.csv'\n",
        "file_path = os.path.join(path, filename)\n",
        "table_name = filename.replace('.csv', '')\n",
        "\n",
        "# Date filter range\n",
        "DATE_START = '2014-01-15' # Uncommented to define the start date\n",
        "DATE_END = '2019-04-01'   # Uncommented to define the end date\n",
        "\n",
        "# Sampling + row cap\n",
        "SAMPLE_RATIO = 0.9\n",
        "MAX_ROWS = 500_000\n",
        "total_saved_rows = 0\n",
        "\n",
        "# Columns to keep from CSV\n",
        "columns_to_keep = ['date', 'store_nbr', 'item_nbr', 'unit_sales', 'onpromotion']"
      ],
      "metadata": {
        "id": "rJo22NeikTDA"
      },
      "execution_count": 15,
      "outputs": []
    },
    {
      "cell_type": "code",
      "source": [
        "# Paths and file setup\n",
        "filename = 'train.csv'\n",
        "file_path = os.path.join(path, filename)\n",
        "table_name = filename.replace('.csv', '')\n",
        "\n",
        "# Date filter range\n",
        "# DATE_START = '2015-09-15'\n",
        "# DATE_END = '2017-04-01'\n",
        "\n",
        "# Sampling + row cap\n",
        "# SAMPLE_RATIO = 0.5\n",
        "# MAX_ROWS = 500_000\n",
        "total_saved_rows = 0\n",
        "\n",
        "# Columns to keep from CSV\n",
        "columns_to_keep = ['date', 'store_nbr', 'item_nbr', 'unit_sales', 'onpromotion']\n",
        "\n",
        "# Connect to SQLite\n",
        "conn = sqlite3.connect(\"favorita.db\")\n",
        "cursor = conn.cursor()\n",
        "\n",
        "# Check if the table exists\n",
        "cursor.execute(f\"SELECT name FROM sqlite_master WHERE type='table' AND name='{table_name}'\")\n",
        "table_exists = cursor.fetchone()\n",
        "\n",
        "# If not exists, create it with correct schema\n",
        "if not table_exists:\n",
        "    create_sql = f\"\"\"\n",
        "        CREATE TABLE {table_name} (\n",
        "            date DATETIME,\n",
        "            store_nbr INTEGER,\n",
        "            item_nbr INTEGER,\n",
        "            unit_sales REAL,\n",
        "            onpromotion INTEGER\n",
        "        )\n",
        "    \"\"\"\n",
        "    conn.execute(create_sql)\n",
        "    print(f\"✅ Created table '{table_name}' with all expected columns\")\n",
        "else:\n",
        "    # Validate column schema\n",
        "    cursor.execute(f\"PRAGMA table_info({table_name})\")\n",
        "    existing_columns = [col[1] for col in cursor.fetchall()]\n",
        "    if 'onpromotion' not in existing_columns:\n",
        "        try:\n",
        "            conn.execute(f\"ALTER TABLE {table_name} ADD COLUMN onpromotion INTEGER\")\n",
        "            print(f\"➕ Added missing column 'onpromotion' to '{table_name}'\")\n",
        "        except sqlite3.OperationalError as e:\n",
        "            print(f\"⚠️ Could not alter table to add 'onpromotion': {e}\")\n",
        "    else:\n",
        "        print(f\"ℹ️ Table '{table_name}' exists and includes 'onpromotion'\")\n",
        "\n",
        "# Read train.csv in chunks\n",
        "chunksize = 100_000  # Define a suitable chunk size\n",
        "with pd.read_csv(file_path, chunksize=chunksize, usecols=columns_to_keep) as reader:\n",
        "    for chunk in reader:\n",
        "        # Process the chunk\n",
        "        chunk['onpromotion'] = chunk['onpromotion'].fillna(False).astype('int8')\n",
        "        chunk['unit_sales'] = pd.to_numeric(chunk['unit_sales'], downcast='float')\n",
        "        if chunk['unit_sales'].max() < 65504:\n",
        "            chunk['unit_sales'] = chunk['unit_sales'].astype('float16')\n",
        "\n",
        "        # Optionally filter by date and apply sampling/row cap if needed\n",
        "        # if 'date' in chunk.columns:\n",
        "        #     chunk['date'] = pd.to_datetime(chunk['date'])\n",
        "        #     chunk = chunk[(chunk['date'] >= DATE_START) & (chunk['date'] <= DATE_END)]\n",
        "\n",
        "        # Apply sampling and row cap\n",
        "        # if SAMPLE_RATIO < 1.0:\n",
        "        #     chunk = chunk.sample(frac=SAMPLE_RATIO, replace=False, random_state=42)\n",
        "        # if total_saved_rows + len(chunk) > MAX_ROWS:\n",
        "        #     chunk = chunk.sample(n=MAX_ROWS - total_saved_rows, replace=False, random_state=42)\n",
        "\n",
        "        # Load to SQL\n",
        "        chunk.to_sql(table_name, conn, if_exists=\"append\", index=False)\n",
        "        total_saved_rows += len(chunk)\n",
        "\n",
        "        # Stop if row cap is reached\n",
        "        if total_saved_rows >= MAX_ROWS:\n",
        "            print(f\"✅ Reached row cap of {MAX_ROWS:,}.\")\n",
        "            break\n",
        "\n",
        "        print(f\"✅ Loaded {len(chunk):,} rows from chunk into table '{table_name}'\")\n",
        "\n",
        "print(f\"✅ Total rows loaded into table '{table_name}': {total_saved_rows:,}\")"
      ],
      "metadata": {
        "colab": {
          "base_uri": "https://localhost:8080/"
        },
        "id": "YHfhFuP6klSe",
        "outputId": "904a27e8-25c3-4392-9212-52b9ee550a7e"
      },
      "execution_count": 16,
      "outputs": [
        {
          "output_type": "stream",
          "name": "stdout",
          "text": [
            "ℹ️ Table 'train' exists and includes 'onpromotion'\n"
          ]
        },
        {
          "output_type": "stream",
          "name": "stderr",
          "text": [
            "<ipython-input-16-349a832a34ca>:57: FutureWarning: Downcasting object dtype arrays on .fillna, .ffill, .bfill is deprecated and will change in a future version. Call result.infer_objects(copy=False) instead. To opt-in to the future behavior, set `pd.set_option('future.no_silent_downcasting', True)`\n",
            "  chunk['onpromotion'] = chunk['onpromotion'].fillna(False).astype('int8')\n"
          ]
        },
        {
          "output_type": "stream",
          "name": "stdout",
          "text": [
            "✅ Loaded 100,000 rows from chunk into table 'train'\n"
          ]
        },
        {
          "output_type": "stream",
          "name": "stderr",
          "text": [
            "<ipython-input-16-349a832a34ca>:57: FutureWarning: Downcasting object dtype arrays on .fillna, .ffill, .bfill is deprecated and will change in a future version. Call result.infer_objects(copy=False) instead. To opt-in to the future behavior, set `pd.set_option('future.no_silent_downcasting', True)`\n",
            "  chunk['onpromotion'] = chunk['onpromotion'].fillna(False).astype('int8')\n"
          ]
        },
        {
          "output_type": "stream",
          "name": "stdout",
          "text": [
            "✅ Loaded 100,000 rows from chunk into table 'train'\n"
          ]
        },
        {
          "output_type": "stream",
          "name": "stderr",
          "text": [
            "<ipython-input-16-349a832a34ca>:57: FutureWarning: Downcasting object dtype arrays on .fillna, .ffill, .bfill is deprecated and will change in a future version. Call result.infer_objects(copy=False) instead. To opt-in to the future behavior, set `pd.set_option('future.no_silent_downcasting', True)`\n",
            "  chunk['onpromotion'] = chunk['onpromotion'].fillna(False).astype('int8')\n"
          ]
        },
        {
          "output_type": "stream",
          "name": "stdout",
          "text": [
            "✅ Loaded 100,000 rows from chunk into table 'train'\n"
          ]
        },
        {
          "output_type": "stream",
          "name": "stderr",
          "text": [
            "<ipython-input-16-349a832a34ca>:57: FutureWarning: Downcasting object dtype arrays on .fillna, .ffill, .bfill is deprecated and will change in a future version. Call result.infer_objects(copy=False) instead. To opt-in to the future behavior, set `pd.set_option('future.no_silent_downcasting', True)`\n",
            "  chunk['onpromotion'] = chunk['onpromotion'].fillna(False).astype('int8')\n"
          ]
        },
        {
          "output_type": "stream",
          "name": "stdout",
          "text": [
            "✅ Loaded 100,000 rows from chunk into table 'train'\n"
          ]
        },
        {
          "output_type": "stream",
          "name": "stderr",
          "text": [
            "<ipython-input-16-349a832a34ca>:57: FutureWarning: Downcasting object dtype arrays on .fillna, .ffill, .bfill is deprecated and will change in a future version. Call result.infer_objects(copy=False) instead. To opt-in to the future behavior, set `pd.set_option('future.no_silent_downcasting', True)`\n",
            "  chunk['onpromotion'] = chunk['onpromotion'].fillna(False).astype('int8')\n"
          ]
        },
        {
          "output_type": "stream",
          "name": "stdout",
          "text": [
            "✅ Reached row cap of 500,000.\n",
            "✅ Total rows loaded into table 'train': 500,000\n"
          ]
        }
      ]
    },
    {
      "cell_type": "code",
      "source": [
        "# Row count\n",
        "row_count = pd.read_sql(f\"SELECT COUNT(*) AS row_count FROM {table_name}\", conn).iloc[0, 0]\n",
        "print(f\"🔢 Table '{table_name}' has {row_count:,} rows.\")\n",
        "\n",
        "# Keys for join\n",
        "sample = pd.read_sql(f\"SELECT * FROM {table_name} LIMIT 5\", conn)\n",
        "columns = sample.columns.tolist()\n",
        "keys = [col for col in columns if 'id' in col.lower() or 'nbr' in col.lower() or 'date' in col.lower()]\n",
        "print(f\"🔑 Candidate keys or join fields in '{table_name}': {keys}\")"
      ],
      "metadata": {
        "colab": {
          "base_uri": "https://localhost:8080/"
        },
        "id": "L6gF4bMDcztB",
        "outputId": "d0a75822-083c-476a-a593-833a65e03acf"
      },
      "execution_count": 17,
      "outputs": [
        {
          "output_type": "stream",
          "name": "stdout",
          "text": [
            "🔢 Table 'train' has 3,100,000 rows.\n",
            "🔑 Candidate keys or join fields in 'train': ['date', 'store_nbr', 'item_nbr']\n"
          ]
        }
      ]
    },
    {
      "cell_type": "code",
      "source": [
        "# del cursor\n",
        "del row_count\n",
        "del sample\n",
        "del keys\n",
        "del columns"
      ],
      "metadata": {
        "id": "LuW5fWqMc4va"
      },
      "execution_count": 18,
      "outputs": []
    },
    {
      "cell_type": "markdown",
      "source": [
        "## From SQL to DataFrame"
      ],
      "metadata": {
        "id": "a79Fczu4c-7B"
      }
    },
    {
      "cell_type": "code",
      "source": [
        "database_connection_string = \"sqlite:///favorita.db\"  # Assuming the database file is named 'favorita.db'\n",
        "\n",
        "# Create the engine\n",
        "engine = sa.create_engine(database_connection_string)"
      ],
      "metadata": {
        "id": "ptTWCLGkdDOR"
      },
      "execution_count": 19,
      "outputs": []
    },
    {
      "cell_type": "code",
      "source": [
        "query_download = \"\"\"\n",
        "WITH top_store AS (\n",
        "    SELECT store_nbr\n",
        "    FROM train\n",
        "    WHERE unit_sales >= 0\n",
        "    GROUP BY store_nbr\n",
        "    ORDER BY SUM(unit_sales) DESC\n",
        "    LIMIT 1\n",
        ")\n",
        "\n",
        "SELECT\n",
        "    train.unit_sales,\n",
        "    train.date AS train_date,\n",
        "    train.store_nbr,\n",
        "    train.item_nbr,\n",
        "    train.onpromotion,\n",
        "\n",
        "    oil.dcoilwtico,\n",
        "\n",
        "    holidays_events.type AS holiday_type,\n",
        "    holidays_events.locale,\n",
        "    holidays_events.transferred,\n",
        "\n",
        "    stores.city,\n",
        "    stores.type AS store_type,\n",
        "    stores.cluster AS store_cluster,\n",
        "\n",
        "    items.family AS items_family,\n",
        "    items.class AS item_class,\n",
        "    items.perishable AS perishable_items,\n",
        "\n",
        "    transactions.transactions\n",
        "\n",
        "FROM train\n",
        "\n",
        "LEFT JOIN oil\n",
        "  ON DATE(train.date) = DATE(oil.date)\n",
        "LEFT JOIN holidays_events\n",
        "  ON DATE(train.date) = DATE(holidays_events.date)\n",
        "INNER JOIN stores\n",
        "  ON train.store_nbr = stores.store_nbr\n",
        "INNER JOIN items\n",
        "  ON train.item_nbr = items.item_nbr\n",
        "INNER JOIN transactions\n",
        "  ON DATE(train.date) = DATE(transactions.date)\n",
        "     AND train.store_nbr = transactions.store_nbr\n",
        "\n",
        "WHERE train.unit_sales >= 0\n",
        "  AND train.store_nbr = (SELECT store_nbr FROM top_store)\n",
        "\n",
        "LIMIT 1000000;\n",
        "\"\"\""
      ],
      "metadata": {
        "id": "RtxSZQh0f6PX"
      },
      "execution_count": 20,
      "outputs": []
    },
    {
      "cell_type": "code",
      "source": [
        "df_download = pd.read_sql_query(query_download, engine)"
      ],
      "metadata": {
        "id": "8-2zm2B8fr9W"
      },
      "execution_count": 21,
      "outputs": []
    },
    {
      "cell_type": "code",
      "source": [
        "df = df_download.copy()\n",
        "df.shape"
      ],
      "metadata": {
        "colab": {
          "base_uri": "https://localhost:8080/"
        },
        "id": "o_NhJtODgDB-",
        "outputId": "ace58063-afd2-43e7-a4a0-aa48703b29ac"
      },
      "execution_count": 22,
      "outputs": [
        {
          "output_type": "execute_result",
          "data": {
            "text/plain": [
              "(86153, 16)"
            ]
          },
          "metadata": {},
          "execution_count": 22
        }
      ]
    },
    {
      "cell_type": "code",
      "source": [
        "gc.collect() # rubbish collection"
      ],
      "metadata": {
        "colab": {
          "base_uri": "https://localhost:8080/"
        },
        "id": "HPB2uHSensp1",
        "outputId": "bda5366e-021e-4acc-fd0e-033f6ef7d60a"
      },
      "execution_count": 23,
      "outputs": [
        {
          "output_type": "execute_result",
          "data": {
            "text/plain": [
              "0"
            ]
          },
          "metadata": {},
          "execution_count": 23
        }
      ]
    },
    {
      "cell_type": "markdown",
      "source": [
        "## Data cleaning and transforming"
      ],
      "metadata": {
        "id": "fp2ReLdxn3QM"
      }
    },
    {
      "cell_type": "code",
      "source": [
        "df.sample(3)"
      ],
      "metadata": {
        "colab": {
          "base_uri": "https://localhost:8080/",
          "height": 180
        },
        "id": "OjDWtioRoFEX",
        "outputId": "c0faf1c7-b644-430f-c09f-a94499d76812"
      },
      "execution_count": 24,
      "outputs": [
        {
          "output_type": "execute_result",
          "data": {
            "text/plain": [
              "       unit_sales           train_date  store_nbr  item_nbr  onpromotion  \\\n",
              "2456         21.0  2015-09-25 00:00:00         44   1225768            0   \n",
              "75816        19.0           2013-01-05         44    802831            0   \n",
              "59516        13.0           2013-01-04         44    577741            0   \n",
              "\n",
              "       dcoilwtico holiday_type    locale  transferred   city store_type  \\\n",
              "2456        45.55         None      None          NaN  Quito          A   \n",
              "75816         NaN     Work Day  National          0.0  Quito          A   \n",
              "59516       93.12         None      None          NaN  Quito          A   \n",
              "\n",
              "       store_cluster items_family  item_class  perishable_items  transactions  \n",
              "2456               5    GROCERY I        1016                 0          4283  \n",
              "75816              5    GROCERY I        1045                 0          4921  \n",
              "59516              5    GROCERY I        1032                 0          4169  "
            ],
            "text/html": [
              "\n",
              "  <div id=\"df-40927824-63b0-4b30-bbe7-baab5205928f\" class=\"colab-df-container\">\n",
              "    <div>\n",
              "<style scoped>\n",
              "    .dataframe tbody tr th:only-of-type {\n",
              "        vertical-align: middle;\n",
              "    }\n",
              "\n",
              "    .dataframe tbody tr th {\n",
              "        vertical-align: top;\n",
              "    }\n",
              "\n",
              "    .dataframe thead th {\n",
              "        text-align: right;\n",
              "    }\n",
              "</style>\n",
              "<table border=\"1\" class=\"dataframe\">\n",
              "  <thead>\n",
              "    <tr style=\"text-align: right;\">\n",
              "      <th></th>\n",
              "      <th>unit_sales</th>\n",
              "      <th>train_date</th>\n",
              "      <th>store_nbr</th>\n",
              "      <th>item_nbr</th>\n",
              "      <th>onpromotion</th>\n",
              "      <th>dcoilwtico</th>\n",
              "      <th>holiday_type</th>\n",
              "      <th>locale</th>\n",
              "      <th>transferred</th>\n",
              "      <th>city</th>\n",
              "      <th>store_type</th>\n",
              "      <th>store_cluster</th>\n",
              "      <th>items_family</th>\n",
              "      <th>item_class</th>\n",
              "      <th>perishable_items</th>\n",
              "      <th>transactions</th>\n",
              "    </tr>\n",
              "  </thead>\n",
              "  <tbody>\n",
              "    <tr>\n",
              "      <th>2456</th>\n",
              "      <td>21.0</td>\n",
              "      <td>2015-09-25 00:00:00</td>\n",
              "      <td>44</td>\n",
              "      <td>1225768</td>\n",
              "      <td>0</td>\n",
              "      <td>45.55</td>\n",
              "      <td>None</td>\n",
              "      <td>None</td>\n",
              "      <td>NaN</td>\n",
              "      <td>Quito</td>\n",
              "      <td>A</td>\n",
              "      <td>5</td>\n",
              "      <td>GROCERY I</td>\n",
              "      <td>1016</td>\n",
              "      <td>0</td>\n",
              "      <td>4283</td>\n",
              "    </tr>\n",
              "    <tr>\n",
              "      <th>75816</th>\n",
              "      <td>19.0</td>\n",
              "      <td>2013-01-05</td>\n",
              "      <td>44</td>\n",
              "      <td>802831</td>\n",
              "      <td>0</td>\n",
              "      <td>NaN</td>\n",
              "      <td>Work Day</td>\n",
              "      <td>National</td>\n",
              "      <td>0.0</td>\n",
              "      <td>Quito</td>\n",
              "      <td>A</td>\n",
              "      <td>5</td>\n",
              "      <td>GROCERY I</td>\n",
              "      <td>1045</td>\n",
              "      <td>0</td>\n",
              "      <td>4921</td>\n",
              "    </tr>\n",
              "    <tr>\n",
              "      <th>59516</th>\n",
              "      <td>13.0</td>\n",
              "      <td>2013-01-04</td>\n",
              "      <td>44</td>\n",
              "      <td>577741</td>\n",
              "      <td>0</td>\n",
              "      <td>93.12</td>\n",
              "      <td>None</td>\n",
              "      <td>None</td>\n",
              "      <td>NaN</td>\n",
              "      <td>Quito</td>\n",
              "      <td>A</td>\n",
              "      <td>5</td>\n",
              "      <td>GROCERY I</td>\n",
              "      <td>1032</td>\n",
              "      <td>0</td>\n",
              "      <td>4169</td>\n",
              "    </tr>\n",
              "  </tbody>\n",
              "</table>\n",
              "</div>\n",
              "    <div class=\"colab-df-buttons\">\n",
              "\n",
              "  <div class=\"colab-df-container\">\n",
              "    <button class=\"colab-df-convert\" onclick=\"convertToInteractive('df-40927824-63b0-4b30-bbe7-baab5205928f')\"\n",
              "            title=\"Convert this dataframe to an interactive table.\"\n",
              "            style=\"display:none;\">\n",
              "\n",
              "  <svg xmlns=\"http://www.w3.org/2000/svg\" height=\"24px\" viewBox=\"0 -960 960 960\">\n",
              "    <path d=\"M120-120v-720h720v720H120Zm60-500h600v-160H180v160Zm220 220h160v-160H400v160Zm0 220h160v-160H400v160ZM180-400h160v-160H180v160Zm440 0h160v-160H620v160ZM180-180h160v-160H180v160Zm440 0h160v-160H620v160Z\"/>\n",
              "  </svg>\n",
              "    </button>\n",
              "\n",
              "  <style>\n",
              "    .colab-df-container {\n",
              "      display:flex;\n",
              "      gap: 12px;\n",
              "    }\n",
              "\n",
              "    .colab-df-convert {\n",
              "      background-color: #E8F0FE;\n",
              "      border: none;\n",
              "      border-radius: 50%;\n",
              "      cursor: pointer;\n",
              "      display: none;\n",
              "      fill: #1967D2;\n",
              "      height: 32px;\n",
              "      padding: 0 0 0 0;\n",
              "      width: 32px;\n",
              "    }\n",
              "\n",
              "    .colab-df-convert:hover {\n",
              "      background-color: #E2EBFA;\n",
              "      box-shadow: 0px 1px 2px rgba(60, 64, 67, 0.3), 0px 1px 3px 1px rgba(60, 64, 67, 0.15);\n",
              "      fill: #174EA6;\n",
              "    }\n",
              "\n",
              "    .colab-df-buttons div {\n",
              "      margin-bottom: 4px;\n",
              "    }\n",
              "\n",
              "    [theme=dark] .colab-df-convert {\n",
              "      background-color: #3B4455;\n",
              "      fill: #D2E3FC;\n",
              "    }\n",
              "\n",
              "    [theme=dark] .colab-df-convert:hover {\n",
              "      background-color: #434B5C;\n",
              "      box-shadow: 0px 1px 3px 1px rgba(0, 0, 0, 0.15);\n",
              "      filter: drop-shadow(0px 1px 2px rgba(0, 0, 0, 0.3));\n",
              "      fill: #FFFFFF;\n",
              "    }\n",
              "  </style>\n",
              "\n",
              "    <script>\n",
              "      const buttonEl =\n",
              "        document.querySelector('#df-40927824-63b0-4b30-bbe7-baab5205928f button.colab-df-convert');\n",
              "      buttonEl.style.display =\n",
              "        google.colab.kernel.accessAllowed ? 'block' : 'none';\n",
              "\n",
              "      async function convertToInteractive(key) {\n",
              "        const element = document.querySelector('#df-40927824-63b0-4b30-bbe7-baab5205928f');\n",
              "        const dataTable =\n",
              "          await google.colab.kernel.invokeFunction('convertToInteractive',\n",
              "                                                    [key], {});\n",
              "        if (!dataTable) return;\n",
              "\n",
              "        const docLinkHtml = 'Like what you see? Visit the ' +\n",
              "          '<a target=\"_blank\" href=https://colab.research.google.com/notebooks/data_table.ipynb>data table notebook</a>'\n",
              "          + ' to learn more about interactive tables.';\n",
              "        element.innerHTML = '';\n",
              "        dataTable['output_type'] = 'display_data';\n",
              "        await google.colab.output.renderOutput(dataTable, element);\n",
              "        const docLink = document.createElement('div');\n",
              "        docLink.innerHTML = docLinkHtml;\n",
              "        element.appendChild(docLink);\n",
              "      }\n",
              "    </script>\n",
              "  </div>\n",
              "\n",
              "\n",
              "    <div id=\"df-d21914cf-e3bc-4260-9360-cf9b24131655\">\n",
              "      <button class=\"colab-df-quickchart\" onclick=\"quickchart('df-d21914cf-e3bc-4260-9360-cf9b24131655')\"\n",
              "                title=\"Suggest charts\"\n",
              "                style=\"display:none;\">\n",
              "\n",
              "<svg xmlns=\"http://www.w3.org/2000/svg\" height=\"24px\"viewBox=\"0 0 24 24\"\n",
              "     width=\"24px\">\n",
              "    <g>\n",
              "        <path d=\"M19 3H5c-1.1 0-2 .9-2 2v14c0 1.1.9 2 2 2h14c1.1 0 2-.9 2-2V5c0-1.1-.9-2-2-2zM9 17H7v-7h2v7zm4 0h-2V7h2v10zm4 0h-2v-4h2v4z\"/>\n",
              "    </g>\n",
              "</svg>\n",
              "      </button>\n",
              "\n",
              "<style>\n",
              "  .colab-df-quickchart {\n",
              "      --bg-color: #E8F0FE;\n",
              "      --fill-color: #1967D2;\n",
              "      --hover-bg-color: #E2EBFA;\n",
              "      --hover-fill-color: #174EA6;\n",
              "      --disabled-fill-color: #AAA;\n",
              "      --disabled-bg-color: #DDD;\n",
              "  }\n",
              "\n",
              "  [theme=dark] .colab-df-quickchart {\n",
              "      --bg-color: #3B4455;\n",
              "      --fill-color: #D2E3FC;\n",
              "      --hover-bg-color: #434B5C;\n",
              "      --hover-fill-color: #FFFFFF;\n",
              "      --disabled-bg-color: #3B4455;\n",
              "      --disabled-fill-color: #666;\n",
              "  }\n",
              "\n",
              "  .colab-df-quickchart {\n",
              "    background-color: var(--bg-color);\n",
              "    border: none;\n",
              "    border-radius: 50%;\n",
              "    cursor: pointer;\n",
              "    display: none;\n",
              "    fill: var(--fill-color);\n",
              "    height: 32px;\n",
              "    padding: 0;\n",
              "    width: 32px;\n",
              "  }\n",
              "\n",
              "  .colab-df-quickchart:hover {\n",
              "    background-color: var(--hover-bg-color);\n",
              "    box-shadow: 0 1px 2px rgba(60, 64, 67, 0.3), 0 1px 3px 1px rgba(60, 64, 67, 0.15);\n",
              "    fill: var(--button-hover-fill-color);\n",
              "  }\n",
              "\n",
              "  .colab-df-quickchart-complete:disabled,\n",
              "  .colab-df-quickchart-complete:disabled:hover {\n",
              "    background-color: var(--disabled-bg-color);\n",
              "    fill: var(--disabled-fill-color);\n",
              "    box-shadow: none;\n",
              "  }\n",
              "\n",
              "  .colab-df-spinner {\n",
              "    border: 2px solid var(--fill-color);\n",
              "    border-color: transparent;\n",
              "    border-bottom-color: var(--fill-color);\n",
              "    animation:\n",
              "      spin 1s steps(1) infinite;\n",
              "  }\n",
              "\n",
              "  @keyframes spin {\n",
              "    0% {\n",
              "      border-color: transparent;\n",
              "      border-bottom-color: var(--fill-color);\n",
              "      border-left-color: var(--fill-color);\n",
              "    }\n",
              "    20% {\n",
              "      border-color: transparent;\n",
              "      border-left-color: var(--fill-color);\n",
              "      border-top-color: var(--fill-color);\n",
              "    }\n",
              "    30% {\n",
              "      border-color: transparent;\n",
              "      border-left-color: var(--fill-color);\n",
              "      border-top-color: var(--fill-color);\n",
              "      border-right-color: var(--fill-color);\n",
              "    }\n",
              "    40% {\n",
              "      border-color: transparent;\n",
              "      border-right-color: var(--fill-color);\n",
              "      border-top-color: var(--fill-color);\n",
              "    }\n",
              "    60% {\n",
              "      border-color: transparent;\n",
              "      border-right-color: var(--fill-color);\n",
              "    }\n",
              "    80% {\n",
              "      border-color: transparent;\n",
              "      border-right-color: var(--fill-color);\n",
              "      border-bottom-color: var(--fill-color);\n",
              "    }\n",
              "    90% {\n",
              "      border-color: transparent;\n",
              "      border-bottom-color: var(--fill-color);\n",
              "    }\n",
              "  }\n",
              "</style>\n",
              "\n",
              "      <script>\n",
              "        async function quickchart(key) {\n",
              "          const quickchartButtonEl =\n",
              "            document.querySelector('#' + key + ' button');\n",
              "          quickchartButtonEl.disabled = true;  // To prevent multiple clicks.\n",
              "          quickchartButtonEl.classList.add('colab-df-spinner');\n",
              "          try {\n",
              "            const charts = await google.colab.kernel.invokeFunction(\n",
              "                'suggestCharts', [key], {});\n",
              "          } catch (error) {\n",
              "            console.error('Error during call to suggestCharts:', error);\n",
              "          }\n",
              "          quickchartButtonEl.classList.remove('colab-df-spinner');\n",
              "          quickchartButtonEl.classList.add('colab-df-quickchart-complete');\n",
              "        }\n",
              "        (() => {\n",
              "          let quickchartButtonEl =\n",
              "            document.querySelector('#df-d21914cf-e3bc-4260-9360-cf9b24131655 button');\n",
              "          quickchartButtonEl.style.display =\n",
              "            google.colab.kernel.accessAllowed ? 'block' : 'none';\n",
              "        })();\n",
              "      </script>\n",
              "    </div>\n",
              "\n",
              "    </div>\n",
              "  </div>\n"
            ],
            "application/vnd.google.colaboratory.intrinsic+json": {
              "type": "dataframe",
              "summary": "{\n  \"name\": \"df\",\n  \"rows\": 3,\n  \"fields\": [\n    {\n      \"column\": \"unit_sales\",\n      \"properties\": {\n        \"dtype\": \"number\",\n        \"std\": 4.163331998932266,\n        \"min\": 13.0,\n        \"max\": 21.0,\n        \"num_unique_values\": 3,\n        \"samples\": [\n          21.0,\n          19.0,\n          13.0\n        ],\n        \"semantic_type\": \"\",\n        \"description\": \"\"\n      }\n    },\n    {\n      \"column\": \"train_date\",\n      \"properties\": {\n        \"dtype\": \"string\",\n        \"num_unique_values\": 3,\n        \"samples\": [\n          \"2015-09-25 00:00:00\",\n          \"2013-01-05\",\n          \"2013-01-04\"\n        ],\n        \"semantic_type\": \"\",\n        \"description\": \"\"\n      }\n    },\n    {\n      \"column\": \"store_nbr\",\n      \"properties\": {\n        \"dtype\": \"number\",\n        \"std\": 0,\n        \"min\": 44,\n        \"max\": 44,\n        \"num_unique_values\": 1,\n        \"samples\": [\n          44\n        ],\n        \"semantic_type\": \"\",\n        \"description\": \"\"\n      }\n    },\n    {\n      \"column\": \"item_nbr\",\n      \"properties\": {\n        \"dtype\": \"number\",\n        \"std\": 329008,\n        \"min\": 577741,\n        \"max\": 1225768,\n        \"num_unique_values\": 3,\n        \"samples\": [\n          1225768\n        ],\n        \"semantic_type\": \"\",\n        \"description\": \"\"\n      }\n    },\n    {\n      \"column\": \"onpromotion\",\n      \"properties\": {\n        \"dtype\": \"number\",\n        \"std\": 0,\n        \"min\": 0,\n        \"max\": 0,\n        \"num_unique_values\": 1,\n        \"samples\": [\n          0\n        ],\n        \"semantic_type\": \"\",\n        \"description\": \"\"\n      }\n    },\n    {\n      \"column\": \"dcoilwtico\",\n      \"properties\": {\n        \"dtype\": \"number\",\n        \"std\": 33.637069581044074,\n        \"min\": 45.55,\n        \"max\": 93.12,\n        \"num_unique_values\": 2,\n        \"samples\": [\n          93.12\n        ],\n        \"semantic_type\": \"\",\n        \"description\": \"\"\n      }\n    },\n    {\n      \"column\": \"holiday_type\",\n      \"properties\": {\n        \"dtype\": \"category\",\n        \"num_unique_values\": 1,\n        \"samples\": [\n          \"Work Day\"\n        ],\n        \"semantic_type\": \"\",\n        \"description\": \"\"\n      }\n    },\n    {\n      \"column\": \"locale\",\n      \"properties\": {\n        \"dtype\": \"category\",\n        \"num_unique_values\": 1,\n        \"samples\": [\n          \"National\"\n        ],\n        \"semantic_type\": \"\",\n        \"description\": \"\"\n      }\n    },\n    {\n      \"column\": \"transferred\",\n      \"properties\": {\n        \"dtype\": \"number\",\n        \"std\": null,\n        \"min\": 0.0,\n        \"max\": 0.0,\n        \"num_unique_values\": 1,\n        \"samples\": [\n          0.0\n        ],\n        \"semantic_type\": \"\",\n        \"description\": \"\"\n      }\n    },\n    {\n      \"column\": \"city\",\n      \"properties\": {\n        \"dtype\": \"category\",\n        \"num_unique_values\": 1,\n        \"samples\": [\n          \"Quito\"\n        ],\n        \"semantic_type\": \"\",\n        \"description\": \"\"\n      }\n    },\n    {\n      \"column\": \"store_type\",\n      \"properties\": {\n        \"dtype\": \"category\",\n        \"num_unique_values\": 1,\n        \"samples\": [\n          \"A\"\n        ],\n        \"semantic_type\": \"\",\n        \"description\": \"\"\n      }\n    },\n    {\n      \"column\": \"store_cluster\",\n      \"properties\": {\n        \"dtype\": \"number\",\n        \"std\": 0,\n        \"min\": 5,\n        \"max\": 5,\n        \"num_unique_values\": 1,\n        \"samples\": [\n          5\n        ],\n        \"semantic_type\": \"\",\n        \"description\": \"\"\n      }\n    },\n    {\n      \"column\": \"items_family\",\n      \"properties\": {\n        \"dtype\": \"category\",\n        \"num_unique_values\": 1,\n        \"samples\": [\n          \"GROCERY I\"\n        ],\n        \"semantic_type\": \"\",\n        \"description\": \"\"\n      }\n    },\n    {\n      \"column\": \"item_class\",\n      \"properties\": {\n        \"dtype\": \"number\",\n        \"std\": 14,\n        \"min\": 1016,\n        \"max\": 1045,\n        \"num_unique_values\": 3,\n        \"samples\": [\n          1016\n        ],\n        \"semantic_type\": \"\",\n        \"description\": \"\"\n      }\n    },\n    {\n      \"column\": \"perishable_items\",\n      \"properties\": {\n        \"dtype\": \"number\",\n        \"std\": 0,\n        \"min\": 0,\n        \"max\": 0,\n        \"num_unique_values\": 1,\n        \"samples\": [\n          0\n        ],\n        \"semantic_type\": \"\",\n        \"description\": \"\"\n      }\n    },\n    {\n      \"column\": \"transactions\",\n      \"properties\": {\n        \"dtype\": \"number\",\n        \"std\": 405,\n        \"min\": 4169,\n        \"max\": 4921,\n        \"num_unique_values\": 3,\n        \"samples\": [\n          4283\n        ],\n        \"semantic_type\": \"\",\n        \"description\": \"\"\n      }\n    }\n  ]\n}"
            }
          },
          "metadata": {},
          "execution_count": 24
        }
      ]
    },
    {
      "cell_type": "markdown",
      "source": [
        "I need to know which exactly store and city I consider here, further I can delete the column in order not to confuse my model"
      ],
      "metadata": {
        "id": "PnVKU3czp6ZO"
      }
    },
    {
      "cell_type": "code",
      "source": [
        "del df['store_nbr']\n",
        "del df['city']"
      ],
      "metadata": {
        "id": "pgf4MTyAp8VE"
      },
      "execution_count": 25,
      "outputs": []
    },
    {
      "cell_type": "code",
      "source": [
        "del df['holiday_type'] # same"
      ],
      "metadata": {
        "id": "ocVaZNpSqeVh"
      },
      "execution_count": 26,
      "outputs": []
    },
    {
      "cell_type": "code",
      "source": [
        "del df['store_type'] # same\n",
        "del df['store_cluster']\n",
        "del df['items_family']\n",
        "del df['item_class']"
      ],
      "metadata": {
        "id": "NL6MpKa7qz3a"
      },
      "execution_count": 27,
      "outputs": []
    },
    {
      "cell_type": "code",
      "source": [
        "df['date'] = pd.to_datetime(df['train_date'], errors='coerce')\n",
        "del df['train_date']"
      ],
      "metadata": {
        "id": "ltvfY83wwBtn"
      },
      "execution_count": 28,
      "outputs": []
    },
    {
      "cell_type": "code",
      "source": [
        "df['locale'].unique()"
      ],
      "metadata": {
        "colab": {
          "base_uri": "https://localhost:8080/"
        },
        "id": "cLdYWDlWxeE-",
        "outputId": "1b86a886-1bcb-4bf7-cffc-041f4984f76d"
      },
      "execution_count": 29,
      "outputs": [
        {
          "output_type": "execute_result",
          "data": {
            "text/plain": [
              "array([None, 'Local', 'National'], dtype=object)"
            ]
          },
          "metadata": {},
          "execution_count": 29
        }
      ]
    },
    {
      "cell_type": "code",
      "source": [
        "df['is_holiday'] = df['locale'].isin(['Local', 'National']).astype(int)\n",
        "del df['locale']"
      ],
      "metadata": {
        "id": "QbUhASseyeKR"
      },
      "execution_count": 30,
      "outputs": []
    },
    {
      "cell_type": "markdown",
      "source": [
        "effect of perishable, as sales of a perishable item has 1.5 weight"
      ],
      "metadata": {
        "id": "oymFh67n4pIp"
      }
    },
    {
      "cell_type": "code",
      "source": [
        "df['perishable_items'] = df['perishable_items'].fillna(0).astype(bool)\n",
        "df['weighted_unit_sales'] = df['unit_sales']  # Create a copy of 'unit_sales'\n",
        "\n",
        "# Apply the weight where 'perishable_items' is True/1\n",
        "df.loc[df['perishable_items'] == 1, 'weighted_unit_sales'] *= 1.5"
      ],
      "metadata": {
        "id": "x5Mkl6-t4HD2"
      },
      "execution_count": 31,
      "outputs": []
    },
    {
      "cell_type": "code",
      "source": [
        "del df['unit_sales']\n",
        "del df['perishable_items']"
      ],
      "metadata": {
        "id": "bDIh9aZN43ia"
      },
      "execution_count": 32,
      "outputs": []
    },
    {
      "cell_type": "code",
      "source": [
        "# df['is_real_holiday'] = ((df['is_holiday'] == 1) & (df['transferred'] == 0)).astype(int)\n",
        "df['transferred'] = df['transferred'].fillna(False).astype(int)"
      ],
      "metadata": {
        "id": "pyQYvnBV509M"
      },
      "execution_count": 33,
      "outputs": []
    },
    {
      "cell_type": "code",
      "source": [
        "df.sample(3)"
      ],
      "metadata": {
        "colab": {
          "base_uri": "https://localhost:8080/",
          "height": 143
        },
        "id": "ylXgCQsRrWHj",
        "outputId": "ad1ebc34-4f93-46eb-9804-d87d239bf175"
      },
      "execution_count": 34,
      "outputs": [
        {
          "output_type": "execute_result",
          "data": {
            "text/plain": [
              "       item_nbr  onpromotion  dcoilwtico  transferred  transactions  \\\n",
              "41892    311994            0       93.14            0          4821   \n",
              "23223    108698            0       44.53            0          4089   \n",
              "72313    938576            0       93.14            0          4821   \n",
              "\n",
              "            date  is_holiday  weighted_unit_sales  \n",
              "41892        NaT           0            100.40625  \n",
              "23223 2015-09-23           0             22.50000  \n",
              "72313        NaT           0             12.00000  "
            ],
            "text/html": [
              "\n",
              "  <div id=\"df-da36ffe6-2a34-4d1c-b0be-2cd7e1973511\" class=\"colab-df-container\">\n",
              "    <div>\n",
              "<style scoped>\n",
              "    .dataframe tbody tr th:only-of-type {\n",
              "        vertical-align: middle;\n",
              "    }\n",
              "\n",
              "    .dataframe tbody tr th {\n",
              "        vertical-align: top;\n",
              "    }\n",
              "\n",
              "    .dataframe thead th {\n",
              "        text-align: right;\n",
              "    }\n",
              "</style>\n",
              "<table border=\"1\" class=\"dataframe\">\n",
              "  <thead>\n",
              "    <tr style=\"text-align: right;\">\n",
              "      <th></th>\n",
              "      <th>item_nbr</th>\n",
              "      <th>onpromotion</th>\n",
              "      <th>dcoilwtico</th>\n",
              "      <th>transferred</th>\n",
              "      <th>transactions</th>\n",
              "      <th>date</th>\n",
              "      <th>is_holiday</th>\n",
              "      <th>weighted_unit_sales</th>\n",
              "    </tr>\n",
              "  </thead>\n",
              "  <tbody>\n",
              "    <tr>\n",
              "      <th>41892</th>\n",
              "      <td>311994</td>\n",
              "      <td>0</td>\n",
              "      <td>93.14</td>\n",
              "      <td>0</td>\n",
              "      <td>4821</td>\n",
              "      <td>NaT</td>\n",
              "      <td>0</td>\n",
              "      <td>100.40625</td>\n",
              "    </tr>\n",
              "    <tr>\n",
              "      <th>23223</th>\n",
              "      <td>108698</td>\n",
              "      <td>0</td>\n",
              "      <td>44.53</td>\n",
              "      <td>0</td>\n",
              "      <td>4089</td>\n",
              "      <td>2015-09-23</td>\n",
              "      <td>0</td>\n",
              "      <td>22.50000</td>\n",
              "    </tr>\n",
              "    <tr>\n",
              "      <th>72313</th>\n",
              "      <td>938576</td>\n",
              "      <td>0</td>\n",
              "      <td>93.14</td>\n",
              "      <td>0</td>\n",
              "      <td>4821</td>\n",
              "      <td>NaT</td>\n",
              "      <td>0</td>\n",
              "      <td>12.00000</td>\n",
              "    </tr>\n",
              "  </tbody>\n",
              "</table>\n",
              "</div>\n",
              "    <div class=\"colab-df-buttons\">\n",
              "\n",
              "  <div class=\"colab-df-container\">\n",
              "    <button class=\"colab-df-convert\" onclick=\"convertToInteractive('df-da36ffe6-2a34-4d1c-b0be-2cd7e1973511')\"\n",
              "            title=\"Convert this dataframe to an interactive table.\"\n",
              "            style=\"display:none;\">\n",
              "\n",
              "  <svg xmlns=\"http://www.w3.org/2000/svg\" height=\"24px\" viewBox=\"0 -960 960 960\">\n",
              "    <path d=\"M120-120v-720h720v720H120Zm60-500h600v-160H180v160Zm220 220h160v-160H400v160Zm0 220h160v-160H400v160ZM180-400h160v-160H180v160Zm440 0h160v-160H620v160ZM180-180h160v-160H180v160Zm440 0h160v-160H620v160Z\"/>\n",
              "  </svg>\n",
              "    </button>\n",
              "\n",
              "  <style>\n",
              "    .colab-df-container {\n",
              "      display:flex;\n",
              "      gap: 12px;\n",
              "    }\n",
              "\n",
              "    .colab-df-convert {\n",
              "      background-color: #E8F0FE;\n",
              "      border: none;\n",
              "      border-radius: 50%;\n",
              "      cursor: pointer;\n",
              "      display: none;\n",
              "      fill: #1967D2;\n",
              "      height: 32px;\n",
              "      padding: 0 0 0 0;\n",
              "      width: 32px;\n",
              "    }\n",
              "\n",
              "    .colab-df-convert:hover {\n",
              "      background-color: #E2EBFA;\n",
              "      box-shadow: 0px 1px 2px rgba(60, 64, 67, 0.3), 0px 1px 3px 1px rgba(60, 64, 67, 0.15);\n",
              "      fill: #174EA6;\n",
              "    }\n",
              "\n",
              "    .colab-df-buttons div {\n",
              "      margin-bottom: 4px;\n",
              "    }\n",
              "\n",
              "    [theme=dark] .colab-df-convert {\n",
              "      background-color: #3B4455;\n",
              "      fill: #D2E3FC;\n",
              "    }\n",
              "\n",
              "    [theme=dark] .colab-df-convert:hover {\n",
              "      background-color: #434B5C;\n",
              "      box-shadow: 0px 1px 3px 1px rgba(0, 0, 0, 0.15);\n",
              "      filter: drop-shadow(0px 1px 2px rgba(0, 0, 0, 0.3));\n",
              "      fill: #FFFFFF;\n",
              "    }\n",
              "  </style>\n",
              "\n",
              "    <script>\n",
              "      const buttonEl =\n",
              "        document.querySelector('#df-da36ffe6-2a34-4d1c-b0be-2cd7e1973511 button.colab-df-convert');\n",
              "      buttonEl.style.display =\n",
              "        google.colab.kernel.accessAllowed ? 'block' : 'none';\n",
              "\n",
              "      async function convertToInteractive(key) {\n",
              "        const element = document.querySelector('#df-da36ffe6-2a34-4d1c-b0be-2cd7e1973511');\n",
              "        const dataTable =\n",
              "          await google.colab.kernel.invokeFunction('convertToInteractive',\n",
              "                                                    [key], {});\n",
              "        if (!dataTable) return;\n",
              "\n",
              "        const docLinkHtml = 'Like what you see? Visit the ' +\n",
              "          '<a target=\"_blank\" href=https://colab.research.google.com/notebooks/data_table.ipynb>data table notebook</a>'\n",
              "          + ' to learn more about interactive tables.';\n",
              "        element.innerHTML = '';\n",
              "        dataTable['output_type'] = 'display_data';\n",
              "        await google.colab.output.renderOutput(dataTable, element);\n",
              "        const docLink = document.createElement('div');\n",
              "        docLink.innerHTML = docLinkHtml;\n",
              "        element.appendChild(docLink);\n",
              "      }\n",
              "    </script>\n",
              "  </div>\n",
              "\n",
              "\n",
              "    <div id=\"df-17c8b2b7-d7db-484c-88d4-976e59fd304a\">\n",
              "      <button class=\"colab-df-quickchart\" onclick=\"quickchart('df-17c8b2b7-d7db-484c-88d4-976e59fd304a')\"\n",
              "                title=\"Suggest charts\"\n",
              "                style=\"display:none;\">\n",
              "\n",
              "<svg xmlns=\"http://www.w3.org/2000/svg\" height=\"24px\"viewBox=\"0 0 24 24\"\n",
              "     width=\"24px\">\n",
              "    <g>\n",
              "        <path d=\"M19 3H5c-1.1 0-2 .9-2 2v14c0 1.1.9 2 2 2h14c1.1 0 2-.9 2-2V5c0-1.1-.9-2-2-2zM9 17H7v-7h2v7zm4 0h-2V7h2v10zm4 0h-2v-4h2v4z\"/>\n",
              "    </g>\n",
              "</svg>\n",
              "      </button>\n",
              "\n",
              "<style>\n",
              "  .colab-df-quickchart {\n",
              "      --bg-color: #E8F0FE;\n",
              "      --fill-color: #1967D2;\n",
              "      --hover-bg-color: #E2EBFA;\n",
              "      --hover-fill-color: #174EA6;\n",
              "      --disabled-fill-color: #AAA;\n",
              "      --disabled-bg-color: #DDD;\n",
              "  }\n",
              "\n",
              "  [theme=dark] .colab-df-quickchart {\n",
              "      --bg-color: #3B4455;\n",
              "      --fill-color: #D2E3FC;\n",
              "      --hover-bg-color: #434B5C;\n",
              "      --hover-fill-color: #FFFFFF;\n",
              "      --disabled-bg-color: #3B4455;\n",
              "      --disabled-fill-color: #666;\n",
              "  }\n",
              "\n",
              "  .colab-df-quickchart {\n",
              "    background-color: var(--bg-color);\n",
              "    border: none;\n",
              "    border-radius: 50%;\n",
              "    cursor: pointer;\n",
              "    display: none;\n",
              "    fill: var(--fill-color);\n",
              "    height: 32px;\n",
              "    padding: 0;\n",
              "    width: 32px;\n",
              "  }\n",
              "\n",
              "  .colab-df-quickchart:hover {\n",
              "    background-color: var(--hover-bg-color);\n",
              "    box-shadow: 0 1px 2px rgba(60, 64, 67, 0.3), 0 1px 3px 1px rgba(60, 64, 67, 0.15);\n",
              "    fill: var(--button-hover-fill-color);\n",
              "  }\n",
              "\n",
              "  .colab-df-quickchart-complete:disabled,\n",
              "  .colab-df-quickchart-complete:disabled:hover {\n",
              "    background-color: var(--disabled-bg-color);\n",
              "    fill: var(--disabled-fill-color);\n",
              "    box-shadow: none;\n",
              "  }\n",
              "\n",
              "  .colab-df-spinner {\n",
              "    border: 2px solid var(--fill-color);\n",
              "    border-color: transparent;\n",
              "    border-bottom-color: var(--fill-color);\n",
              "    animation:\n",
              "      spin 1s steps(1) infinite;\n",
              "  }\n",
              "\n",
              "  @keyframes spin {\n",
              "    0% {\n",
              "      border-color: transparent;\n",
              "      border-bottom-color: var(--fill-color);\n",
              "      border-left-color: var(--fill-color);\n",
              "    }\n",
              "    20% {\n",
              "      border-color: transparent;\n",
              "      border-left-color: var(--fill-color);\n",
              "      border-top-color: var(--fill-color);\n",
              "    }\n",
              "    30% {\n",
              "      border-color: transparent;\n",
              "      border-left-color: var(--fill-color);\n",
              "      border-top-color: var(--fill-color);\n",
              "      border-right-color: var(--fill-color);\n",
              "    }\n",
              "    40% {\n",
              "      border-color: transparent;\n",
              "      border-right-color: var(--fill-color);\n",
              "      border-top-color: var(--fill-color);\n",
              "    }\n",
              "    60% {\n",
              "      border-color: transparent;\n",
              "      border-right-color: var(--fill-color);\n",
              "    }\n",
              "    80% {\n",
              "      border-color: transparent;\n",
              "      border-right-color: var(--fill-color);\n",
              "      border-bottom-color: var(--fill-color);\n",
              "    }\n",
              "    90% {\n",
              "      border-color: transparent;\n",
              "      border-bottom-color: var(--fill-color);\n",
              "    }\n",
              "  }\n",
              "</style>\n",
              "\n",
              "      <script>\n",
              "        async function quickchart(key) {\n",
              "          const quickchartButtonEl =\n",
              "            document.querySelector('#' + key + ' button');\n",
              "          quickchartButtonEl.disabled = true;  // To prevent multiple clicks.\n",
              "          quickchartButtonEl.classList.add('colab-df-spinner');\n",
              "          try {\n",
              "            const charts = await google.colab.kernel.invokeFunction(\n",
              "                'suggestCharts', [key], {});\n",
              "          } catch (error) {\n",
              "            console.error('Error during call to suggestCharts:', error);\n",
              "          }\n",
              "          quickchartButtonEl.classList.remove('colab-df-spinner');\n",
              "          quickchartButtonEl.classList.add('colab-df-quickchart-complete');\n",
              "        }\n",
              "        (() => {\n",
              "          let quickchartButtonEl =\n",
              "            document.querySelector('#df-17c8b2b7-d7db-484c-88d4-976e59fd304a button');\n",
              "          quickchartButtonEl.style.display =\n",
              "            google.colab.kernel.accessAllowed ? 'block' : 'none';\n",
              "        })();\n",
              "      </script>\n",
              "    </div>\n",
              "\n",
              "    </div>\n",
              "  </div>\n"
            ],
            "application/vnd.google.colaboratory.intrinsic+json": {
              "type": "dataframe",
              "summary": "{\n  \"name\": \"df\",\n  \"rows\": 3,\n  \"fields\": [\n    {\n      \"column\": \"item_nbr\",\n      \"properties\": {\n        \"dtype\": \"number\",\n        \"std\": 432556,\n        \"min\": 108698,\n        \"max\": 938576,\n        \"num_unique_values\": 3,\n        \"samples\": [\n          311994,\n          108698,\n          938576\n        ],\n        \"semantic_type\": \"\",\n        \"description\": \"\"\n      }\n    },\n    {\n      \"column\": \"onpromotion\",\n      \"properties\": {\n        \"dtype\": \"number\",\n        \"std\": 0,\n        \"min\": 0,\n        \"max\": 0,\n        \"num_unique_values\": 1,\n        \"samples\": [\n          0\n        ],\n        \"semantic_type\": \"\",\n        \"description\": \"\"\n      }\n    },\n    {\n      \"column\": \"dcoilwtico\",\n      \"properties\": {\n        \"dtype\": \"number\",\n        \"std\": 28.064996585307707,\n        \"min\": 44.53,\n        \"max\": 93.14,\n        \"num_unique_values\": 2,\n        \"samples\": [\n          44.53\n        ],\n        \"semantic_type\": \"\",\n        \"description\": \"\"\n      }\n    },\n    {\n      \"column\": \"transferred\",\n      \"properties\": {\n        \"dtype\": \"number\",\n        \"std\": 0,\n        \"min\": 0,\n        \"max\": 0,\n        \"num_unique_values\": 1,\n        \"samples\": [\n          0\n        ],\n        \"semantic_type\": \"\",\n        \"description\": \"\"\n      }\n    },\n    {\n      \"column\": \"transactions\",\n      \"properties\": {\n        \"dtype\": \"number\",\n        \"std\": 422,\n        \"min\": 4089,\n        \"max\": 4821,\n        \"num_unique_values\": 2,\n        \"samples\": [\n          4089\n        ],\n        \"semantic_type\": \"\",\n        \"description\": \"\"\n      }\n    },\n    {\n      \"column\": \"date\",\n      \"properties\": {\n        \"dtype\": \"date\",\n        \"min\": \"2015-09-23 00:00:00\",\n        \"max\": \"2015-09-23 00:00:00\",\n        \"num_unique_values\": 1,\n        \"samples\": [\n          \"2015-09-23 00:00:00\"\n        ],\n        \"semantic_type\": \"\",\n        \"description\": \"\"\n      }\n    },\n    {\n      \"column\": \"is_holiday\",\n      \"properties\": {\n        \"dtype\": \"number\",\n        \"std\": 0,\n        \"min\": 0,\n        \"max\": 0,\n        \"num_unique_values\": 1,\n        \"samples\": [\n          0\n        ],\n        \"semantic_type\": \"\",\n        \"description\": \"\"\n      }\n    },\n    {\n      \"column\": \"weighted_unit_sales\",\n      \"properties\": {\n        \"dtype\": \"number\",\n        \"std\": 48.2964781809968,\n        \"min\": 12.0,\n        \"max\": 100.40625,\n        \"num_unique_values\": 3,\n        \"samples\": [\n          100.40625\n        ],\n        \"semantic_type\": \"\",\n        \"description\": \"\"\n      }\n    }\n  ]\n}"
            }
          },
          "metadata": {},
          "execution_count": 34
        }
      ]
    },
    {
      "cell_type": "markdown",
      "source": [
        "Prophet treats NaN in regressors as missing values and drops the row from training."
      ],
      "metadata": {
        "id": "ZBILqu6bs2Jj"
      }
    },
    {
      "cell_type": "code",
      "source": [
        "df.info()"
      ],
      "metadata": {
        "colab": {
          "base_uri": "https://localhost:8080/"
        },
        "id": "2lEGelP9u0Qk",
        "outputId": "5f5e8300-a3d5-4c8c-9280-d49aecf4ca04"
      },
      "execution_count": 35,
      "outputs": [
        {
          "output_type": "stream",
          "name": "stdout",
          "text": [
            "<class 'pandas.core.frame.DataFrame'>\n",
            "RangeIndex: 86153 entries, 0 to 86152\n",
            "Data columns (total 8 columns):\n",
            " #   Column               Non-Null Count  Dtype         \n",
            "---  ------               --------------  -----         \n",
            " 0   item_nbr             86153 non-null  int64         \n",
            " 1   onpromotion          86153 non-null  int64         \n",
            " 2   dcoilwtico           61830 non-null  float64       \n",
            " 3   transferred          86153 non-null  int64         \n",
            " 4   transactions         86153 non-null  int64         \n",
            " 5   date                 41645 non-null  datetime64[ns]\n",
            " 6   is_holiday           86153 non-null  int64         \n",
            " 7   weighted_unit_sales  86153 non-null  float64       \n",
            "dtypes: datetime64[ns](1), float64(2), int64(5)\n",
            "memory usage: 5.3 MB\n"
          ]
        }
      ]
    },
    {
      "cell_type": "markdown",
      "source": [
        "Initial Data review"
      ],
      "metadata": {
        "id": "X3OwTHvcy_vq"
      }
    },
    {
      "cell_type": "code",
      "source": [
        "onpromotion_counts = df['onpromotion'].value_counts(dropna=False)\n",
        "\n",
        "# Custom labels\n",
        "labels = ['Promoted' if val == True else 'Not Promoted' if val == False else 'Missing' for val in onpromotion_counts.index]\n",
        "\n",
        "# Custom colors\n",
        "colors = ['#2ecc71', '#e74c3c', '#95a5a6']  # green, red, gray\n",
        "\n",
        "# Create the pie chart\n",
        "plt.figure(figsize=(6, 6))\n",
        "wedges, texts, autotexts = plt.pie(\n",
        "    onpromotion_counts,\n",
        "    labels=labels,\n",
        "    colors=colors[:len(onpromotion_counts)],\n",
        "    autopct='%1.1f%%',\n",
        "    startangle=140,\n",
        "    textprops=dict(color=\"white\")\n",
        ")\n",
        "\n",
        "# Styling\n",
        "plt.setp(autotexts, size=12, weight=\"bold\")\n",
        "plt.setp(texts, size=12)\n",
        "plt.title('Distribution of Promotions', fontsize=16, weight='bold')\n",
        "plt.tight_layout()\n",
        "plt.show()"
      ],
      "metadata": {
        "colab": {
          "base_uri": "https://localhost:8080/",
          "height": 602
        },
        "id": "W1fO6WQczJ85",
        "outputId": "85d37436-a90d-44c8-d899-027a5f6926d4"
      },
      "execution_count": 36,
      "outputs": [
        {
          "output_type": "display_data",
          "data": {
            "text/plain": [
              "<Figure size 600x600 with 1 Axes>"
            ],
            "image/png": "[encoded data removed]"
          },
          "metadata": {}
        }
      ]
    },
    {
      "cell_type": "code",
      "source": [
        "# Sort by date\n",
        "df = df.sort_values('date')\n",
        "\n",
        "# Group total unit_sales per day\n",
        "sales_per_day = df.groupby('date')['weighted_unit_sales'].sum()\n",
        "\n",
        "# Create two vertically stacked plots\n",
        "fig, (ax1, ax2) = plt.subplots(2, 1, figsize=(12, 8), sharex=True)\n",
        "\n",
        "# Top plot: Total unit sales over time\n",
        "ax1.plot(sales_per_day.index, sales_per_day.values, color='green', label='Total Unit Sales')\n",
        "ax1.set_title('Shopping Activity Over Time (Total Unit Sales)', fontsize=16)\n",
        "ax1.set_ylabel('Total Unit Sales', fontsize=14)\n",
        "ax1.legend()\n",
        "ax1.grid(True)\n",
        "\n",
        "# Bottom plot: Oil prices over time\n",
        "ax2.plot(df['date'], df['dcoilwtico'], color='blue', label='Oil Price')\n",
        "ax2.set_title('Oil Prices Over Time', fontsize=16)\n",
        "ax2.set_xlabel('Date', fontsize=14)\n",
        "ax2.set_ylabel('Oil Price (dcoilwtico)', fontsize=14)\n",
        "ax2.legend()\n",
        "ax2.grid(True)\n",
        "\n",
        "# Layout adjustment\n",
        "plt.tight_layout()\n",
        "plt.show()"
      ],
      "metadata": {
        "colab": {
          "base_uri": "https://localhost:8080/",
          "height": 806
        },
        "id": "258sSN-o6hHG",
        "outputId": "8c239378-db95-4d05-ab66-5b65b0cbd7c5"
      },
      "execution_count": 37,
      "outputs": [
        {
          "output_type": "display_data",
          "data": {
            "text/plain": [
              "<Figure size 1200x800 with 2 Axes>"
            ],
            "image/png": "[encoded data removed]"
          },
          "metadata": {}
        }
      ]
    },
    {
      "cell_type": "markdown",
      "source": [
        "# save my csv file in my Google Drive directory"
      ],
      "metadata": {
        "id": "Wb85IEyN9ayY"
      }
    },
    {
      "cell_type": "code",
      "source": [
        "df.shape"
      ],
      "metadata": {
        "colab": {
          "base_uri": "https://localhost:8080/"
        },
        "id": "c75gWsb09e4r",
        "outputId": "ee786780-2f83-44dd-c4ed-1a62561743b5"
      },
      "execution_count": 38,
      "outputs": [
        {
          "output_type": "execute_result",
          "data": {
            "text/plain": [
              "(86153, 8)"
            ]
          },
          "metadata": {},
          "execution_count": 38
        }
      ]
    },
    {
      "cell_type": "code",
      "source": [
        "from google.colab import drive\n",
        "drive.mount('/content/drive')"
      ],
      "metadata": {
        "colab": {
          "base_uri": "https://localhost:8080/"
        },
        "id": "-Ggf7eUK9i-9",
        "outputId": "8da9fd7c-1c6b-44e2-82e0-187a590d0be5"
      },
      "execution_count": 39,
      "outputs": [
        {
          "output_type": "stream",
          "name": "stdout",
          "text": [
            "Mounted at /content/drive\n"
          ]
        }
      ]
    },
    {
      "cell_type": "code",
      "source": [
        "file_path = '/content/drive/MyDrive/MasterSchool/MasterSchool_Python/Time_Series/Time_series_project/df_train_4.csv'\n",
        "df.to_csv(file_path, index=False)"
      ],
      "metadata": {
        "id": "LiidWRAz9sBn"
      },
      "execution_count": 40,
      "outputs": []
    }
  ]
}