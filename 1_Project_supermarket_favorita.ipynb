{
  "cells": [
    {
      "cell_type": "markdown",
      "metadata": {
        "id": "view-in-github",
        "colab_type": "text"
      },
      "source": [
        "<a href=\"https://colab.research.google.com/github/GeorgeShmelin/Masterschool_time_series_Project_supermarket_favorita/blob/main/1_Project_supermarket_favorita.ipynb\" target=\"_parent\"><img src=\"https://colab.research.google.com/assets/colab-badge.svg\" alt=\"Open In Colab\"/></a>"
      ]
    },
    {
      "cell_type": "markdown",
      "metadata": {
        "id": "BabYWNWAXYwL"
      },
      "source": [
        "My idea behind the data download is - to use as much of the real time filtered data is it possible for reliable work of my free version of Google Colab. If one has a better computing possibilities - in this code clearly pointed the places for the personal data ammount adjastment. I came to my exact values empiricaly."
      ]
    },
    {
      "cell_type": "markdown",
      "metadata": {
        "id": "D0xTLlSbrI7R"
      },
      "source": [
        "Dask doesn’t work directly with sklearn models — they expect regular pandas."
      ]
    },
    {
      "cell_type": "markdown",
      "metadata": {
        "id": "lWDVHje_rIqk"
      },
      "source": [
        "# Libraries"
      ]
    },
    {
      "cell_type": "markdown",
      "metadata": {
        "id": "Geu0iZZurVFO"
      },
      "source": [
        "## General and SQL"
      ]
    },
    {
      "cell_type": "code",
      "execution_count": null,
      "metadata": {
        "id": "gxf5WgXr_T4Y"
      },
      "outputs": [],
      "source": [
        "# !pip install kagglehub\n",
        "import kagglehub"
      ]
    },
    {
      "cell_type": "code",
      "execution_count": null,
      "metadata": {
        "id": "xdSj8DyCViCT"
      },
      "outputs": [],
      "source": [
        "import joblib # Save the DataFrame to a compressed file"
      ]
    },
    {
      "cell_type": "code",
      "execution_count": null,
      "metadata": {
        "id": "00UlKSWH2jZe"
      },
      "outputs": [],
      "source": [
        "import matplotlib.pyplot as plt\n",
        "import seaborn as sns\n",
        "import math"
      ]
    },
    {
      "cell_type": "code",
      "execution_count": null,
      "metadata": {
        "id": "CHQHlP2h-1si"
      },
      "outputs": [],
      "source": [
        "import numpy as np\n",
        "import pandas as pd\n",
        "import sqlite3\n",
        "import os\n",
        "import gc"
      ]
    },
    {
      "cell_type": "code",
      "execution_count": null,
      "metadata": {
        "id": "nTcUQ24FqG5q"
      },
      "outputs": [],
      "source": [
        "import sqlalchemy as sa\n",
        "from google.colab import files\n",
        "from sqlalchemy import text\n",
        "from sqlalchemy import create_engine"
      ]
    },
    {
      "cell_type": "markdown",
      "metadata": {
        "id": "i_yfNkIvNNwL"
      },
      "source": [
        "## Encodes"
      ]
    },
    {
      "cell_type": "code",
      "execution_count": null,
      "metadata": {
        "id": "LoJ9Q89vNHw5"
      },
      "outputs": [],
      "source": [
        "from sklearn.preprocessing import LabelEncoder\n",
        "from sklearn.preprocessing import StandardScaler\n",
        "from sklearn.preprocessing import MinMaxScaler"
      ]
    },
    {
      "cell_type": "markdown",
      "metadata": {
        "id": "gor43stffERP"
      },
      "source": [
        "## Models"
      ]
    },
    {
      "cell_type": "code",
      "execution_count": null,
      "metadata": {
        "id": "NKjYyjnOfNJ5"
      },
      "outputs": [],
      "source": [
        "from sklearn.neighbors import NearestNeighbors\n",
        "from sklearn.model_selection import train_test_split\n",
        "from sklearn.ensemble import RandomForestRegressor\n",
        "from sklearn.metrics import mean_absolute_error, r2_score"
      ]
    },
    {
      "cell_type": "markdown",
      "metadata": {
        "id": "fGSXx9j0reD9"
      },
      "source": [
        "# Data Download"
      ]
    },
    {
      "cell_type": "code",
      "execution_count": null,
      "metadata": {
        "colab": {
          "base_uri": "https://localhost:8080/"
        },
        "id": "tCoeGNfUTvnM",
        "outputId": "bde100ce-9bf8-40af-fe59-b1012bb9424b"
      },
      "outputs": [
        {
          "output_type": "stream",
          "name": "stdout",
          "text": [
            "Downloading from https://www.kaggle.com/api/v1/datasets/download/siliconx/favoritagrocerysalesforecastingextracted?dataset_version_number=1...\n"
          ]
        },
        {
          "output_type": "stream",
          "name": "stderr",
          "text": [
            "100%|██████████| 850M/850M [00:11<00:00, 77.4MB/s]"
          ]
        },
        {
          "output_type": "stream",
          "name": "stdout",
          "text": [
            "Extracting files...\n"
          ]
        },
        {
          "output_type": "stream",
          "name": "stderr",
          "text": [
            "\n"
          ]
        },
        {
          "output_type": "stream",
          "name": "stdout",
          "text": [
            "Path to dataset files: /root/.cache/kagglehub/datasets/siliconx/favoritagrocerysalesforecastingextracted/versions/1\n"
          ]
        }
      ],
      "source": [
        "# Download latest version\n",
        "path = kagglehub.dataset_download(\"siliconx/favoritagrocerysalesforecastingextracted\")\n",
        "\n",
        "print(\"Path to dataset files:\", path)"
      ]
    },
    {
      "cell_type": "markdown",
      "metadata": {
        "id": "lFkmxZNnUpvI"
      },
      "source": [
        "https://www.kaggle.com/datasets/siliconx/favoritagrocerysalesforecastingextracted"
      ]
    },
    {
      "cell_type": "code",
      "execution_count": null,
      "metadata": {
        "colab": {
          "base_uri": "https://localhost:8080/"
        },
        "id": "1skRkN4CBOP4",
        "outputId": "a708ec16-e08b-4258-e316-631b284f649f"
      },
      "outputs": [
        {
          "output_type": "stream",
          "name": "stdout",
          "text": [
            "Files in dataset: ['train.csv', 'sample_submission.csv', 'oil.csv', 'items.csv', 'stores.csv', 'test.csv', 'holidays_events.csv', 'transactions.csv']\n"
          ]
        }
      ],
      "source": [
        "files = os.listdir(path)\n",
        "print(\"Files in dataset:\", files)"
      ]
    },
    {
      "cell_type": "code",
      "execution_count": null,
      "metadata": {
        "id": "-IW7jSyJDDQI"
      },
      "outputs": [],
      "source": [
        "del files"
      ]
    },
    {
      "cell_type": "code",
      "execution_count": null,
      "metadata": {
        "colab": {
          "base_uri": "https://localhost:8080/"
        },
        "id": "Cw8rtwBgFPUd",
        "outputId": "1f4eedaa-d108-42b5-b33d-fe3a06521b4a"
      },
      "outputs": [
        {
          "output_type": "stream",
          "name": "stdout",
          "text": [
            "✅ Loaded 'oil.csv' into table 'oil'\n",
            "🔢 Table 'oil' has 1,218 rows.\n",
            "🔑 Candidate keys or join fields in 'oil': ['date']\n"
          ]
        }
      ],
      "source": [
        "# Connect to SQLite\n",
        "conn = sqlite3.connect(\"favorita.db\")\n",
        "\n",
        "# Change this line per file\n",
        "filename = 'oil.csv'\n",
        "file_path = os.path.join(path, filename)\n",
        "\n",
        "# Load CSV\n",
        "df = pd.read_csv(file_path)\n",
        "table_name = filename.replace('.csv', '')\n",
        "\n",
        "# Load to SQL\n",
        "df.to_sql(table_name, conn, if_exists=\"replace\", index=False)\n",
        "print(f\"✅ Loaded '{filename}' into table '{table_name}'\")\n",
        "\n",
        "# Row count\n",
        "query = f\"SELECT COUNT(*) AS row_count FROM {table_name};\"\n",
        "row_count_df = pd.read_sql(query, conn)\n",
        "row_count = row_count_df.iloc[0, 0]\n",
        "print(f\"🔢 Table '{table_name}' has {row_count:,} rows.\")\n",
        "\n",
        "# Inspect columns for key info\n",
        "columns = df.columns.tolist()\n",
        "primary_like = [col for col in columns if 'id' in col.lower() or 'nbr' in col.lower()]\n",
        "date_like = [col for col in columns if 'date' in col.lower()]\n",
        "possible_keys = primary_like + date_like\n",
        "\n",
        "# Show candidate keys\n",
        "if possible_keys:\n",
        "    print(f\"🔑 Candidate keys or join fields in '{table_name}': {possible_keys}\")\n",
        "else:\n",
        "    print(f\"ℹ️ No obvious join keys found in '{table_name}'\")"
      ]
    },
    {
      "cell_type": "code",
      "execution_count": null,
      "metadata": {
        "colab": {
          "base_uri": "https://localhost:8080/"
        },
        "id": "yEn_MYRiGiS7",
        "outputId": "816551c7-1ebb-4045-81da-1cfc17115e22"
      },
      "outputs": [
        {
          "output_type": "stream",
          "name": "stdout",
          "text": [
            "✅ Loaded 'items.csv' into table 'items'\n",
            "🔢 Table 'items' has 4,100 rows.\n",
            "🔑 Candidate keys or join fields in 'items': ['item_nbr']\n"
          ]
        }
      ],
      "source": [
        "# Change this line per file\n",
        "filename = 'items.csv'\n",
        "file_path = os.path.join(path, filename)\n",
        "\n",
        "# Load CSV\n",
        "df = pd.read_csv(file_path)\n",
        "table_name = filename.replace('.csv', '')\n",
        "\n",
        "# Load to SQL\n",
        "df.to_sql(table_name, conn, if_exists=\"replace\", index=False)\n",
        "print(f\"✅ Loaded '{filename}' into table '{table_name}'\")\n",
        "\n",
        "# Row count\n",
        "query = f\"SELECT COUNT(*) AS row_count FROM {table_name};\"\n",
        "row_count_df = pd.read_sql(query, conn)\n",
        "row_count = row_count_df.iloc[0, 0]\n",
        "print(f\"🔢 Table '{table_name}' has {row_count:,} rows.\")\n",
        "\n",
        "# Inspect columns for key info\n",
        "columns = df.columns.tolist()\n",
        "primary_like = [col for col in columns if 'id' in col.lower() or 'nbr' in col.lower()]\n",
        "date_like = [col for col in columns if 'date' in col.lower()]\n",
        "possible_keys = primary_like + date_like\n",
        "\n",
        "# Show candidate keys\n",
        "if possible_keys:\n",
        "    print(f\"🔑 Candidate keys or join fields in '{table_name}': {possible_keys}\")\n",
        "else:\n",
        "    print(f\"ℹ️ No obvious join keys found in '{table_name}'\")"
      ]
    },
    {
      "cell_type": "code",
      "execution_count": null,
      "metadata": {
        "colab": {
          "base_uri": "https://localhost:8080/"
        },
        "id": "xpoCQ6a_Gw48",
        "outputId": "85388c9c-a646-4ca2-8383-30c2bd9ebcb2"
      },
      "outputs": [
        {
          "output_type": "stream",
          "name": "stdout",
          "text": [
            "✅ Loaded 'sample_submission.csv' into table 'sample_submission'\n",
            "🔢 Table 'sample_submission' has 3,370,464 rows.\n",
            "🔑 Candidate keys or join fields in 'sample_submission': ['id']\n"
          ]
        }
      ],
      "source": [
        "# Change this line per file\n",
        "filename = 'sample_submission.csv'\n",
        "file_path = os.path.join(path, filename)\n",
        "\n",
        "# Load CSV\n",
        "df = pd.read_csv(file_path)\n",
        "table_name = filename.replace('.csv', '')\n",
        "\n",
        "# Load to SQL\n",
        "df.to_sql(table_name, conn, if_exists=\"replace\", index=False)\n",
        "print(f\"✅ Loaded '{filename}' into table '{table_name}'\")\n",
        "\n",
        "# Row count\n",
        "query = f\"SELECT COUNT(*) AS row_count FROM {table_name};\"\n",
        "row_count_df = pd.read_sql(query, conn)\n",
        "row_count = row_count_df.iloc[0, 0]\n",
        "print(f\"🔢 Table '{table_name}' has {row_count:,} rows.\")\n",
        "\n",
        "# Inspect columns for key info\n",
        "columns = df.columns.tolist()\n",
        "primary_like = [col for col in columns if 'id' in col.lower() or 'nbr' in col.lower()]\n",
        "date_like = [col for col in columns if 'date' in col.lower()]\n",
        "possible_keys = primary_like + date_like\n",
        "\n",
        "# Show candidate keys\n",
        "if possible_keys:\n",
        "    print(f\"🔑 Candidate keys or join fields in '{table_name}': {possible_keys}\")\n",
        "else:\n",
        "    print(f\"ℹ️ No obvious join keys found in '{table_name}'\")"
      ]
    },
    {
      "cell_type": "markdown",
      "metadata": {
        "id": "TLbMo4U6_PzK"
      },
      "source": [
        "after a double check I found that not exist special \"holidays\" which affect only Guayas state"
      ]
    },
    {
      "cell_type": "code",
      "execution_count": null,
      "metadata": {
        "colab": {
          "base_uri": "https://localhost:8080/"
        },
        "id": "GGlYHlnLHI1B",
        "outputId": "738aedf4-098f-4e0c-9939-19f88ae3cb0d"
      },
      "outputs": [
        {
          "output_type": "stream",
          "name": "stdout",
          "text": [
            "✅ Loaded 'holidays_events.csv' into table 'holidays_events'\n",
            "🔢 Table 'holidays_events' has 350 rows.\n",
            "🔑 Candidate keys or join fields in 'holidays_events': ['date']\n"
          ]
        }
      ],
      "source": [
        "# Change this line per file\n",
        "filename = 'holidays_events.csv'\n",
        "file_path = os.path.join(path, filename)\n",
        "\n",
        "# Load CSV\n",
        "df = pd.read_csv(file_path)\n",
        "table_name = filename.replace('.csv', '')\n",
        "\n",
        "# Load to SQL\n",
        "df.to_sql(table_name, conn, if_exists=\"replace\", index=False)\n",
        "print(f\"✅ Loaded '{filename}' into table '{table_name}'\")\n",
        "\n",
        "# Row count\n",
        "query = f\"SELECT COUNT(*) AS row_count FROM {table_name};\"\n",
        "row_count_df = pd.read_sql(query, conn)\n",
        "row_count = row_count_df.iloc[0, 0]\n",
        "print(f\"🔢 Table '{table_name}' has {row_count:,} rows.\")\n",
        "\n",
        "# Inspect columns for key info\n",
        "columns = df.columns.tolist()\n",
        "primary_like = [col for col in columns if 'id' in col.lower() or 'nbr' in col.lower()]\n",
        "date_like = [col for col in columns if 'date' in col.lower()]\n",
        "possible_keys = primary_like + date_like\n",
        "\n",
        "# Show candidate keys\n",
        "if possible_keys:\n",
        "    print(f\"🔑 Candidate keys or join fields in '{table_name}': {possible_keys}\")\n",
        "else:\n",
        "    print(f\"ℹ️ No obvious join keys found in '{table_name}'\")"
      ]
    },
    {
      "cell_type": "markdown",
      "metadata": {
        "id": "11IGDk_yIQe2"
      },
      "source": [
        "Loaded 'stores.csv' into table 'stores' (only state = 'Guayas')"
      ]
    },
    {
      "cell_type": "code",
      "execution_count": null,
      "metadata": {
        "colab": {
          "base_uri": "https://localhost:8080/"
        },
        "id": "ToT0kw6oHXlt",
        "outputId": "5c048919-e0d3-42e7-828a-0f2de4c587f7"
      },
      "outputs": [
        {
          "output_type": "stream",
          "name": "stdout",
          "text": [
            "✅ Loaded 'stores.csv' into table 'stores' (only state = 'Guayas')\n",
            "🔢 Table 'stores' has 11 rows.\n",
            "🔑 Candidate keys or join fields in 'stores': ['store_nbr']\n"
          ]
        }
      ],
      "source": [
        "# Set up file\n",
        "filename = 'stores.csv'\n",
        "file_path = os.path.join(path, filename)\n",
        "\n",
        "# Load and filter for Guayas\n",
        "df = pd.read_csv(file_path)\n",
        "df = df[df['state'] == 'Guayas']  # 👈 Filter\n",
        "\n",
        "table_name = filename.replace('.csv', '')\n",
        "\n",
        "# Save to SQL\n",
        "df.to_sql(table_name, conn, if_exists=\"replace\", index=False)\n",
        "print(f\"✅ Loaded '{filename}' into table '{table_name}' (only state = 'Guayas')\")\n",
        "\n",
        "# Row count\n",
        "query = f\"SELECT COUNT(*) AS row_count FROM {table_name};\"\n",
        "row_count_df = pd.read_sql(query, conn)\n",
        "row_count = row_count_df.iloc[0, 0]\n",
        "print(f\"🔢 Table '{table_name}' has {row_count:,} rows.\")\n",
        "\n",
        "# Inspect columns for join keys\n",
        "columns = df.columns.tolist()\n",
        "primary_like = [col for col in columns if 'id' in col.lower() or 'nbr' in col.lower()]\n",
        "date_like = [col for col in columns if 'date' in col.lower()]\n",
        "possible_keys = primary_like + date_like\n",
        "\n",
        "# Show candidate keys\n",
        "if possible_keys:\n",
        "    print(f\"🔑 Candidate keys or join fields in '{table_name}': {possible_keys}\")\n",
        "else:\n",
        "    print(f\"ℹ️ No obvious join keys found in '{table_name}'\")"
      ]
    },
    {
      "cell_type": "code",
      "execution_count": null,
      "metadata": {
        "colab": {
          "base_uri": "https://localhost:8080/"
        },
        "id": "Taj5iRUXJLlW",
        "outputId": "e6de20f4-2552-4ef0-c992-0fffb6a5ab14"
      },
      "outputs": [
        {
          "output_type": "stream",
          "name": "stderr",
          "text": [
            "<ipython-input-16-046f77298da3>:10: FutureWarning: 'H' is deprecated and will be removed in a future version, please use 'h' instead.\n",
            "  df['date'] = pd.to_datetime(df['date'], errors='coerce').dt.floor('H')\n"
          ]
        },
        {
          "output_type": "stream",
          "name": "stdout",
          "text": [
            "✅ Loaded 'test.csv' into table 'test'\n",
            "🔢 Table 'test' has 3,370,464 rows.\n",
            "🔑 Candidate keys or join fields in 'test': ['id', 'store_nbr', 'item_nbr', 'date']\n"
          ]
        }
      ],
      "source": [
        "# Change this line per file\n",
        "filename = 'test.csv'\n",
        "file_path = os.path.join(path, filename)\n",
        "table_name = filename.replace('.csv', '')\n",
        "\n",
        "# Load CSV\n",
        "df = pd.read_csv(file_path, parse_dates=['date'])\n",
        "\n",
        "# ⏱️ Round date to nearest hour\n",
        "df['date'] = pd.to_datetime(df['date'], errors='coerce').dt.floor('H')\n",
        "\n",
        "# Save to SQL\n",
        "df.to_sql(table_name, conn, if_exists=\"replace\", index=False)\n",
        "print(f\"✅ Loaded '{filename}' into table '{table_name}'\")\n",
        "\n",
        "# Row count\n",
        "query = f\"SELECT COUNT(*) AS row_count FROM {table_name};\"\n",
        "row_count = pd.read_sql(query, conn).iloc[0, 0]\n",
        "print(f\"🔢 Table '{table_name}' has {row_count:,} rows.\")\n",
        "\n",
        "# Inspect for join keys\n",
        "columns = df.columns.tolist()\n",
        "primary_like = [col for col in columns if 'id' in col.lower() or 'nbr' in col.lower()]\n",
        "date_like = [col for col in columns if 'date' in col.lower()]\n",
        "possible_keys = primary_like + date_like\n",
        "\n",
        "if possible_keys:\n",
        "    print(f\"🔑 Candidate keys or join fields in '{table_name}': {possible_keys}\")\n",
        "else:\n",
        "    print(f\"ℹ️ No obvious join keys found in '{table_name}'\")"
      ]
    },
    {
      "cell_type": "code",
      "execution_count": null,
      "metadata": {
        "colab": {
          "base_uri": "https://localhost:8080/"
        },
        "id": "LrzPy2UiJa4h",
        "outputId": "e7b6fffd-0676-452f-ac84-63f9bd93571d"
      },
      "outputs": [
        {
          "output_type": "stream",
          "name": "stdout",
          "text": [
            "✅ Loaded 'transactions.csv' into table 'transactions'\n",
            "🔢 Table 'transactions' has 83,488 rows.\n",
            "🔑 Candidate keys or join fields in 'transactions': ['store_nbr', 'date']\n"
          ]
        }
      ],
      "source": [
        "# Change this line per file\n",
        "filename = 'transactions.csv'\n",
        "file_path = os.path.join(path, filename)\n",
        "\n",
        "# Load CSV\n",
        "df = pd.read_csv(file_path)\n",
        "table_name = filename.replace('.csv', '')\n",
        "\n",
        "# Load to SQL\n",
        "df.to_sql(table_name, conn, if_exists=\"replace\", index=False)\n",
        "print(f\"✅ Loaded '{filename}' into table '{table_name}'\")\n",
        "\n",
        "# Row count\n",
        "query = f\"SELECT COUNT(*) AS row_count FROM {table_name};\"\n",
        "row_count_df = pd.read_sql(query, conn)\n",
        "row_count = row_count_df.iloc[0, 0]\n",
        "print(f\"🔢 Table '{table_name}' has {row_count:,} rows.\")\n",
        "\n",
        "# Inspect columns for key info\n",
        "columns = df.columns.tolist()\n",
        "primary_like = [col for col in columns if 'id' in col.lower() or 'nbr' in col.lower()]\n",
        "date_like = [col for col in columns if 'date' in col.lower()]\n",
        "possible_keys = primary_like + date_like\n",
        "\n",
        "# Show candidate keys\n",
        "if possible_keys:\n",
        "    print(f\"🔑 Candidate keys or join fields in '{table_name}': {possible_keys}\")\n",
        "else:\n",
        "    print(f\"ℹ️ No obvious join keys found in '{table_name}'\")"
      ]
    },
    {
      "cell_type": "code",
      "execution_count": null,
      "metadata": {
        "id": "lGU9r9AaD3lA"
      },
      "outputs": [],
      "source": [
        "del possible_keys\n",
        "del columns\n",
        "del date_like\n",
        "del primary_like\n",
        "del df\n",
        "del row_count_df\n",
        "del query"
      ]
    },
    {
      "cell_type": "markdown",
      "metadata": {
        "id": "9Bzg59poMH2Q"
      },
      "source": [
        "### train.csv is a big in this dataset - like 125 million rows"
      ]
    },
    {
      "cell_type": "code",
      "execution_count": null,
      "metadata": {
        "id": "2bGBq0SsVyvL"
      },
      "outputs": [],
      "source": [
        "# Paths and file setup\n",
        "filename = 'train.csv'\n",
        "file_path = os.path.join(path, filename)\n",
        "table_name = filename.replace('.csv', '')\n",
        "\n",
        "# Date filter range\n",
        "DATE_START = '2017-01-01'\n",
        "DATE_END = '2018-12-31'\n",
        "\n",
        "# Sampling + row cap\n",
        "SAMPLE_RATIO = 0.01\n",
        "MAX_ROWS = 100_000\n",
        "total_saved_rows = 0\n",
        "\n",
        "# Columns to keep from CSV\n",
        "columns_to_keep = ['date', 'store_nbr', 'item_nbr', 'unit_sales', 'onpromotion']"
      ]
    },
    {
      "cell_type": "code",
      "execution_count": null,
      "metadata": {
        "colab": {
          "base_uri": "https://localhost:8080/"
        },
        "id": "QOrWzKOqb0fU",
        "outputId": "f66b1936-d8e1-47fd-c462-a02ee79a465b"
      },
      "outputs": [
        {
          "output_type": "stream",
          "name": "stdout",
          "text": [
            "✅ Created table 'train' with all expected columns\n"
          ]
        }
      ],
      "source": [
        "# Connect to SQLite\n",
        "conn = sqlite3.connect(\"favorita.db\")\n",
        "cursor = conn.cursor()\n",
        "\n",
        "# Check if the table exists\n",
        "cursor.execute(f\"SELECT name FROM sqlite_master WHERE type='table' AND name='{table_name}'\")\n",
        "table_exists = cursor.fetchone()\n",
        "\n",
        "# If not exists, create it with correct schema\n",
        "if not table_exists:\n",
        "    create_sql = f\"\"\"\n",
        "        CREATE TABLE {table_name} (\n",
        "            date DATETIME,\n",
        "            store_nbr INTEGER,\n",
        "            item_nbr INTEGER,\n",
        "            unit_sales REAL,\n",
        "            onpromotion INTEGER\n",
        "        )\n",
        "    \"\"\"\n",
        "    conn.execute(create_sql)\n",
        "    print(f\"✅ Created table '{table_name}' with all expected columns\")\n",
        "else:\n",
        "    # Validate column schema\n",
        "    cursor.execute(f\"PRAGMA table_info({table_name})\")\n",
        "    existing_columns = [col[1] for col in cursor.fetchall()]\n",
        "    if 'onpromotion' not in existing_columns:\n",
        "        try:\n",
        "            conn.execute(f\"ALTER TABLE {table_name} ADD COLUMN onpromotion INTEGER\")\n",
        "            print(f\"➕ Added missing column 'onpromotion' to '{table_name}'\")\n",
        "        except sqlite3.OperationalError as e:\n",
        "            print(f\"⚠️ Could not alter table to add 'onpromotion': {e}\")\n",
        "    else:\n",
        "        print(f\"ℹ️ Table '{table_name}' exists and includes 'onpromotion'\")"
      ]
    },
    {
      "cell_type": "code",
      "execution_count": null,
      "metadata": {
        "colab": {
          "base_uri": "https://localhost:8080/"
        },
        "id": "AgERUzZBekYL",
        "outputId": "e99428ab-3393-4d07-dec9-adcfff641282"
      },
      "outputs": [
        {
          "output_type": "stream",
          "name": "stderr",
          "text": [
            "<ipython-input-21-6059995e4f50>:4: DtypeWarning: Columns (5) have mixed types. Specify dtype option on import or set low_memory=False.\n",
            "  for chunk in chunks:\n",
            "<ipython-input-21-6059995e4f50>:11: FutureWarning: 'H' is deprecated and will be removed in a future version, please use 'h' instead.\n",
            "  chunk['date'] = pd.to_datetime(chunk['date'], errors='coerce').dt.floor('H')\n",
            "<ipython-input-21-6059995e4f50>:11: FutureWarning: 'H' is deprecated and will be removed in a future version, please use 'h' instead.\n",
            "  chunk['date'] = pd.to_datetime(chunk['date'], errors='coerce').dt.floor('H')\n",
            "<ipython-input-21-6059995e4f50>:11: FutureWarning: 'H' is deprecated and will be removed in a future version, please use 'h' instead.\n",
            "  chunk['date'] = pd.to_datetime(chunk['date'], errors='coerce').dt.floor('H')\n",
            "<ipython-input-21-6059995e4f50>:11: FutureWarning: 'H' is deprecated and will be removed in a future version, please use 'h' instead.\n",
            "  chunk['date'] = pd.to_datetime(chunk['date'], errors='coerce').dt.floor('H')\n",
            "<ipython-input-21-6059995e4f50>:11: FutureWarning: 'H' is deprecated and will be removed in a future version, please use 'h' instead.\n",
            "  chunk['date'] = pd.to_datetime(chunk['date'], errors='coerce').dt.floor('H')\n",
            "<ipython-input-21-6059995e4f50>:11: FutureWarning: 'H' is deprecated and will be removed in a future version, please use 'h' instead.\n",
            "  chunk['date'] = pd.to_datetime(chunk['date'], errors='coerce').dt.floor('H')\n",
            "<ipython-input-21-6059995e4f50>:11: FutureWarning: 'H' is deprecated and will be removed in a future version, please use 'h' instead.\n",
            "  chunk['date'] = pd.to_datetime(chunk['date'], errors='coerce').dt.floor('H')\n",
            "<ipython-input-21-6059995e4f50>:11: FutureWarning: 'H' is deprecated and will be removed in a future version, please use 'h' instead.\n",
            "  chunk['date'] = pd.to_datetime(chunk['date'], errors='coerce').dt.floor('H')\n",
            "<ipython-input-21-6059995e4f50>:11: FutureWarning: 'H' is deprecated and will be removed in a future version, please use 'h' instead.\n",
            "  chunk['date'] = pd.to_datetime(chunk['date'], errors='coerce').dt.floor('H')\n",
            "<ipython-input-21-6059995e4f50>:11: FutureWarning: 'H' is deprecated and will be removed in a future version, please use 'h' instead.\n",
            "  chunk['date'] = pd.to_datetime(chunk['date'], errors='coerce').dt.floor('H')\n"
          ]
        },
        {
          "output_type": "stream",
          "name": "stdout",
          "text": [
            "✅ Loaded 100000 rows into 'train'\n"
          ]
        },
        {
          "output_type": "stream",
          "name": "stderr",
          "text": [
            "<ipython-input-21-6059995e4f50>:11: FutureWarning: 'H' is deprecated and will be removed in a future version, please use 'h' instead.\n",
            "  chunk['date'] = pd.to_datetime(chunk['date'], errors='coerce').dt.floor('H')\n"
          ]
        }
      ],
      "source": [
        "# Read CSV in chunks\n",
        "chunks = pd.read_csv(file_path, chunksize=1_000_000, parse_dates=['date'])\n",
        "\n",
        "for chunk in chunks:\n",
        "    # Filter date\n",
        "    chunk = chunk[(chunk['date'] >= DATE_START) & (chunk['date'] < DATE_END)]\n",
        "    if chunk.empty:\n",
        "        continue\n",
        "\n",
        "    # Round to hour\n",
        "    chunk['date'] = pd.to_datetime(chunk['date'], errors='coerce').dt.floor('H')\n",
        "\n",
        "    # Ensure onpromotion column\n",
        "    if 'onpromotion' not in chunk.columns:\n",
        "        chunk['onpromotion'] = 0\n",
        "    chunk['onpromotion'] = chunk['onpromotion'].fillna(False).astype('int8')  # Make it small\n",
        "\n",
        "    # Downcast numerics\n",
        "    chunk['store_nbr'] = pd.to_numeric(chunk['store_nbr'], downcast='integer')\n",
        "    chunk['item_nbr'] = pd.to_numeric(chunk['item_nbr'], downcast='integer')\n",
        "    chunk['unit_sales'] = pd.to_numeric(chunk['unit_sales'], downcast='float')\n",
        "\n",
        "    # Try float16 if it fits (warning: less precise)\n",
        "    if chunk['unit_sales'].max() < 65504:  # float16 upper limit\n",
        "        chunk['unit_sales'] = chunk['unit_sales'].astype('float16')\n",
        "\n",
        "    # Sample\n",
        "    chunk = chunk.sample(frac=SAMPLE_RATIO, random_state=42)\n",
        "\n",
        "    # Cap rows\n",
        "    if total_saved_rows + len(chunk) > MAX_ROWS:\n",
        "        chunk = chunk.iloc[:MAX_ROWS - total_saved_rows]\n",
        "\n",
        "    # Keep only expected columns\n",
        "    chunk = chunk[columns_to_keep]\n",
        "\n",
        "    # Save\n",
        "    chunk.to_sql(table_name, conn, if_exists='append', index=False)\n",
        "    total_saved_rows += len(chunk)\n",
        "\n",
        "    if total_saved_rows >= MAX_ROWS:\n",
        "        break\n",
        "\n",
        "print(f\"✅ Loaded {total_saved_rows} rows into '{table_name}'\")"
      ]
    },
    {
      "cell_type": "code",
      "execution_count": null,
      "metadata": {
        "id": "XXGusU1Nen9n"
      },
      "outputs": [],
      "source": [
        "chunk['onpromotion'] = chunk['onpromotion'].fillna(False).astype('int8')\n",
        "chunk['unit_sales'] = pd.to_numeric(chunk['unit_sales'], downcast='float')\n",
        "if chunk['unit_sales'].max() < 65504:\n",
        "    chunk['unit_sales'] = chunk['unit_sales'].astype('float16')"
      ]
    },
    {
      "cell_type": "code",
      "execution_count": null,
      "metadata": {
        "id": "J5mdvyI_Ercw"
      },
      "outputs": [],
      "source": [
        "del cursor"
      ]
    },
    {
      "cell_type": "code",
      "execution_count": null,
      "metadata": {
        "id": "1_yJMV62WELc",
        "colab": {
          "base_uri": "https://localhost:8080/"
        },
        "outputId": "424d6de4-8921-468f-f3dc-056651508266"
      },
      "outputs": [
        {
          "output_type": "stream",
          "name": "stdout",
          "text": [
            "🔢 Table 'train' has 100,000 rows.\n",
            "🔑 Candidate keys or join fields in 'train': ['date', 'store_nbr', 'item_nbr']\n"
          ]
        }
      ],
      "source": [
        "# Row count\n",
        "row_count = pd.read_sql(f\"SELECT COUNT(*) AS row_count FROM {table_name}\", conn).iloc[0, 0]\n",
        "print(f\"🔢 Table '{table_name}' has {row_count:,} rows.\")\n",
        "\n",
        "# Keys for join\n",
        "sample = pd.read_sql(f\"SELECT * FROM {table_name} LIMIT 5\", conn)\n",
        "columns = sample.columns.tolist()\n",
        "keys = [col for col in columns if 'id' in col.lower() or 'nbr' in col.lower() or 'date' in col.lower()]\n",
        "print(f\"🔑 Candidate keys or join fields in '{table_name}': {keys}\")"
      ]
    },
    {
      "cell_type": "code",
      "execution_count": null,
      "metadata": {
        "id": "tBoc10woaLhH",
        "colab": {
          "base_uri": "https://localhost:8080/"
        },
        "outputId": "612a4c76-4b83-41a5-ad5f-fe9fbffddaec"
      },
      "outputs": [
        {
          "output_type": "stream",
          "name": "stdout",
          "text": [
            "🧮 train.csv has approximately 125,497,040 rows\n"
          ]
        }
      ],
      "source": [
        "row_count = sum(1 for _ in open(file_path)) - 1  # subtract 1 for header\n",
        "print(f\"🧮 train.csv has approximately {row_count:,} rows\")"
      ]
    },
    {
      "cell_type": "code",
      "execution_count": null,
      "metadata": {
        "id": "MSxNTauFExsN"
      },
      "outputs": [],
      "source": [
        "del row_count\n",
        "del sample\n",
        "del keys\n",
        "del columns"
      ]
    },
    {
      "cell_type": "code",
      "execution_count": null,
      "metadata": {
        "id": "EODH2cHVaoQy"
      },
      "outputs": [],
      "source": [
        "# file_path = os.path.join(path, 'train.csv')\n",
        "# size_bytes = os.path.getsize(file_path)\n",
        "# ize_mb = size_bytes / (1024 * 1024)\n",
        "\n",
        "# print(f\"📦 train.csv size: {size_mb:.2f} MB\")"
      ]
    },
    {
      "cell_type": "code",
      "execution_count": null,
      "metadata": {
        "id": "MPVlaH9Gh8-W",
        "colab": {
          "base_uri": "https://localhost:8080/"
        },
        "outputId": "68f05dbb-f615-4c63-b4dc-1cddd3937472"
      },
      "outputs": [
        {
          "output_type": "stream",
          "name": "stdout",
          "text": [
            "<class 'pandas.core.frame.DataFrame'>\n",
            "Index: 6888 entries, 111987231 to 111740474\n",
            "Data columns (total 5 columns):\n",
            " #   Column       Non-Null Count  Dtype         \n",
            "---  ------       --------------  -----         \n",
            " 0   date         6888 non-null   datetime64[ns]\n",
            " 1   store_nbr    6888 non-null   int8          \n",
            " 2   item_nbr     6888 non-null   int32         \n",
            " 3   unit_sales   6888 non-null   float16       \n",
            " 4   onpromotion  6888 non-null   int8          \n",
            "dtypes: datetime64[ns](1), float16(1), int32(1), int8(2)\n",
            "memory usage: 161.4 KB\n",
            "None\n"
          ]
        }
      ],
      "source": [
        "print(chunk.info(memory_usage='deep'))"
      ]
    },
    {
      "cell_type": "markdown",
      "metadata": {
        "id": "C7ONuOD_xfKO"
      },
      "source": [
        "## From SQL to DataFrame"
      ]
    },
    {
      "cell_type": "code",
      "execution_count": null,
      "metadata": {
        "id": "LTsvZ8lSsRkJ"
      },
      "outputs": [],
      "source": [
        "database_connection_string = \"sqlite:///favorita.db\"  # Assuming the database file is named 'favorita.db'\n",
        "\n",
        "# Create the engine\n",
        "engine = sa.create_engine(database_connection_string)"
      ]
    },
    {
      "cell_type": "markdown",
      "metadata": {
        "id": "9JR_Qc6J9-_B"
      },
      "source": [
        "### oil"
      ]
    },
    {
      "cell_type": "code",
      "execution_count": null,
      "metadata": {
        "id": "UoyISoF18Wtw"
      },
      "outputs": [],
      "source": [
        "query_oil = \"\"\"\n",
        "  SELECT *\n",
        "  FROM oil\n",
        "\"\"\""
      ]
    },
    {
      "cell_type": "code",
      "execution_count": null,
      "metadata": {
        "id": "Wn4nQkQJ8uoy",
        "colab": {
          "base_uri": "https://localhost:8080/"
        },
        "outputId": "420250a9-6e73-45b7-c4cd-790c774c047a"
      },
      "outputs": [
        {
          "output_type": "execute_result",
          "data": {
            "text/plain": [
              "(1218, 2)"
            ]
          },
          "metadata": {},
          "execution_count": 31
        }
      ],
      "source": [
        "df_oil = pd.read_sql_query(query_oil, engine)\n",
        "df_oil.shape"
      ]
    },
    {
      "cell_type": "code",
      "execution_count": null,
      "metadata": {
        "id": "8q-v6tkr9Xw0",
        "colab": {
          "base_uri": "https://localhost:8080/",
          "height": 143
        },
        "outputId": "521b3709-8209-44e5-8ca4-ab6ade8c1ebf"
      },
      "outputs": [
        {
          "output_type": "execute_result",
          "data": {
            "text/plain": [
              "            date  dcoilwtico\n",
              "62    2013-03-28       97.24\n",
              "1022  2016-12-01       51.08\n",
              "974   2016-09-26       45.60"
            ],
            "text/html": [
              "\n",
              "  <div id=\"df-b69b8e7c-7183-4a40-b23a-9822f2fdb2bc\" class=\"colab-df-container\">\n",
              "    <div>\n",
              "<style scoped>\n",
              "    .dataframe tbody tr th:only-of-type {\n",
              "        vertical-align: middle;\n",
              "    }\n",
              "\n",
              "    .dataframe tbody tr th {\n",
              "        vertical-align: top;\n",
              "    }\n",
              "\n",
              "    .dataframe thead th {\n",
              "        text-align: right;\n",
              "    }\n",
              "</style>\n",
              "<table border=\"1\" class=\"dataframe\">\n",
              "  <thead>\n",
              "    <tr style=\"text-align: right;\">\n",
              "      <th></th>\n",
              "      <th>date</th>\n",
              "      <th>dcoilwtico</th>\n",
              "    </tr>\n",
              "  </thead>\n",
              "  <tbody>\n",
              "    <tr>\n",
              "      <th>62</th>\n",
              "      <td>2013-03-28</td>\n",
              "      <td>97.24</td>\n",
              "    </tr>\n",
              "    <tr>\n",
              "      <th>1022</th>\n",
              "      <td>2016-12-01</td>\n",
              "      <td>51.08</td>\n",
              "    </tr>\n",
              "    <tr>\n",
              "      <th>974</th>\n",
              "      <td>2016-09-26</td>\n",
              "      <td>45.60</td>\n",
              "    </tr>\n",
              "  </tbody>\n",
              "</table>\n",
              "</div>\n",
              "    <div class=\"colab-df-buttons\">\n",
              "\n",
              "  <div class=\"colab-df-container\">\n",
              "    <button class=\"colab-df-convert\" onclick=\"convertToInteractive('df-b69b8e7c-7183-4a40-b23a-9822f2fdb2bc')\"\n",
              "            title=\"Convert this dataframe to an interactive table.\"\n",
              "            style=\"display:none;\">\n",
              "\n",
              "  <svg xmlns=\"http://www.w3.org/2000/svg\" height=\"24px\" viewBox=\"0 -960 960 960\">\n",
              "    <path d=\"M120-120v-720h720v720H120Zm60-500h600v-160H180v160Zm220 220h160v-160H400v160Zm0 220h160v-160H400v160ZM180-400h160v-160H180v160Zm440 0h160v-160H620v160ZM180-180h160v-160H180v160Zm440 0h160v-160H620v160Z\"/>\n",
              "  </svg>\n",
              "    </button>\n",
              "\n",
              "  <style>\n",
              "    .colab-df-container {\n",
              "      display:flex;\n",
              "      gap: 12px;\n",
              "    }\n",
              "\n",
              "    .colab-df-convert {\n",
              "      background-color: #E8F0FE;\n",
              "      border: none;\n",
              "      border-radius: 50%;\n",
              "      cursor: pointer;\n",
              "      display: none;\n",
              "      fill: #1967D2;\n",
              "      height: 32px;\n",
              "      padding: 0 0 0 0;\n",
              "      width: 32px;\n",
              "    }\n",
              "\n",
              "    .colab-df-convert:hover {\n",
              "      background-color: #E2EBFA;\n",
              "      box-shadow: 0px 1px 2px rgba(60, 64, 67, 0.3), 0px 1px 3px 1px rgba(60, 64, 67, 0.15);\n",
              "      fill: #174EA6;\n",
              "    }\n",
              "\n",
              "    .colab-df-buttons div {\n",
              "      margin-bottom: 4px;\n",
              "    }\n",
              "\n",
              "    [theme=dark] .colab-df-convert {\n",
              "      background-color: #3B4455;\n",
              "      fill: #D2E3FC;\n",
              "    }\n",
              "\n",
              "    [theme=dark] .colab-df-convert:hover {\n",
              "      background-color: #434B5C;\n",
              "      box-shadow: 0px 1px 3px 1px rgba(0, 0, 0, 0.15);\n",
              "      filter: drop-shadow(0px 1px 2px rgba(0, 0, 0, 0.3));\n",
              "      fill: #FFFFFF;\n",
              "    }\n",
              "  </style>\n",
              "\n",
              "    <script>\n",
              "      const buttonEl =\n",
              "        document.querySelector('#df-b69b8e7c-7183-4a40-b23a-9822f2fdb2bc button.colab-df-convert');\n",
              "      buttonEl.style.display =\n",
              "        google.colab.kernel.accessAllowed ? 'block' : 'none';\n",
              "\n",
              "      async function convertToInteractive(key) {\n",
              "        const element = document.querySelector('#df-b69b8e7c-7183-4a40-b23a-9822f2fdb2bc');\n",
              "        const dataTable =\n",
              "          await google.colab.kernel.invokeFunction('convertToInteractive',\n",
              "                                                    [key], {});\n",
              "        if (!dataTable) return;\n",
              "\n",
              "        const docLinkHtml = 'Like what you see? Visit the ' +\n",
              "          '<a target=\"_blank\" href=https://colab.research.google.com/notebooks/data_table.ipynb>data table notebook</a>'\n",
              "          + ' to learn more about interactive tables.';\n",
              "        element.innerHTML = '';\n",
              "        dataTable['output_type'] = 'display_data';\n",
              "        await google.colab.output.renderOutput(dataTable, element);\n",
              "        const docLink = document.createElement('div');\n",
              "        docLink.innerHTML = docLinkHtml;\n",
              "        element.appendChild(docLink);\n",
              "      }\n",
              "    </script>\n",
              "  </div>\n",
              "\n",
              "\n",
              "    <div id=\"df-5285f1ca-b052-4624-adaa-d6e75756f69b\">\n",
              "      <button class=\"colab-df-quickchart\" onclick=\"quickchart('df-5285f1ca-b052-4624-adaa-d6e75756f69b')\"\n",
              "                title=\"Suggest charts\"\n",
              "                style=\"display:none;\">\n",
              "\n",
              "<svg xmlns=\"http://www.w3.org/2000/svg\" height=\"24px\"viewBox=\"0 0 24 24\"\n",
              "     width=\"24px\">\n",
              "    <g>\n",
              "        <path d=\"M19 3H5c-1.1 0-2 .9-2 2v14c0 1.1.9 2 2 2h14c1.1 0 2-.9 2-2V5c0-1.1-.9-2-2-2zM9 17H7v-7h2v7zm4 0h-2V7h2v10zm4 0h-2v-4h2v4z\"/>\n",
              "    </g>\n",
              "</svg>\n",
              "      </button>\n",
              "\n",
              "<style>\n",
              "  .colab-df-quickchart {\n",
              "      --bg-color: #E8F0FE;\n",
              "      --fill-color: #1967D2;\n",
              "      --hover-bg-color: #E2EBFA;\n",
              "      --hover-fill-color: #174EA6;\n",
              "      --disabled-fill-color: #AAA;\n",
              "      --disabled-bg-color: #DDD;\n",
              "  }\n",
              "\n",
              "  [theme=dark] .colab-df-quickchart {\n",
              "      --bg-color: #3B4455;\n",
              "      --fill-color: #D2E3FC;\n",
              "      --hover-bg-color: #434B5C;\n",
              "      --hover-fill-color: #FFFFFF;\n",
              "      --disabled-bg-color: #3B4455;\n",
              "      --disabled-fill-color: #666;\n",
              "  }\n",
              "\n",
              "  .colab-df-quickchart {\n",
              "    background-color: var(--bg-color);\n",
              "    border: none;\n",
              "    border-radius: 50%;\n",
              "    cursor: pointer;\n",
              "    display: none;\n",
              "    fill: var(--fill-color);\n",
              "    height: 32px;\n",
              "    padding: 0;\n",
              "    width: 32px;\n",
              "  }\n",
              "\n",
              "  .colab-df-quickchart:hover {\n",
              "    background-color: var(--hover-bg-color);\n",
              "    box-shadow: 0 1px 2px rgba(60, 64, 67, 0.3), 0 1px 3px 1px rgba(60, 64, 67, 0.15);\n",
              "    fill: var(--button-hover-fill-color);\n",
              "  }\n",
              "\n",
              "  .colab-df-quickchart-complete:disabled,\n",
              "  .colab-df-quickchart-complete:disabled:hover {\n",
              "    background-color: var(--disabled-bg-color);\n",
              "    fill: var(--disabled-fill-color);\n",
              "    box-shadow: none;\n",
              "  }\n",
              "\n",
              "  .colab-df-spinner {\n",
              "    border: 2px solid var(--fill-color);\n",
              "    border-color: transparent;\n",
              "    border-bottom-color: var(--fill-color);\n",
              "    animation:\n",
              "      spin 1s steps(1) infinite;\n",
              "  }\n",
              "\n",
              "  @keyframes spin {\n",
              "    0% {\n",
              "      border-color: transparent;\n",
              "      border-bottom-color: var(--fill-color);\n",
              "      border-left-color: var(--fill-color);\n",
              "    }\n",
              "    20% {\n",
              "      border-color: transparent;\n",
              "      border-left-color: var(--fill-color);\n",
              "      border-top-color: var(--fill-color);\n",
              "    }\n",
              "    30% {\n",
              "      border-color: transparent;\n",
              "      border-left-color: var(--fill-color);\n",
              "      border-top-color: var(--fill-color);\n",
              "      border-right-color: var(--fill-color);\n",
              "    }\n",
              "    40% {\n",
              "      border-color: transparent;\n",
              "      border-right-color: var(--fill-color);\n",
              "      border-top-color: var(--fill-color);\n",
              "    }\n",
              "    60% {\n",
              "      border-color: transparent;\n",
              "      border-right-color: var(--fill-color);\n",
              "    }\n",
              "    80% {\n",
              "      border-color: transparent;\n",
              "      border-right-color: var(--fill-color);\n",
              "      border-bottom-color: var(--fill-color);\n",
              "    }\n",
              "    90% {\n",
              "      border-color: transparent;\n",
              "      border-bottom-color: var(--fill-color);\n",
              "    }\n",
              "  }\n",
              "</style>\n",
              "\n",
              "      <script>\n",
              "        async function quickchart(key) {\n",
              "          const quickchartButtonEl =\n",
              "            document.querySelector('#' + key + ' button');\n",
              "          quickchartButtonEl.disabled = true;  // To prevent multiple clicks.\n",
              "          quickchartButtonEl.classList.add('colab-df-spinner');\n",
              "          try {\n",
              "            const charts = await google.colab.kernel.invokeFunction(\n",
              "                'suggestCharts', [key], {});\n",
              "          } catch (error) {\n",
              "            console.error('Error during call to suggestCharts:', error);\n",
              "          }\n",
              "          quickchartButtonEl.classList.remove('colab-df-spinner');\n",
              "          quickchartButtonEl.classList.add('colab-df-quickchart-complete');\n",
              "        }\n",
              "        (() => {\n",
              "          let quickchartButtonEl =\n",
              "            document.querySelector('#df-5285f1ca-b052-4624-adaa-d6e75756f69b button');\n",
              "          quickchartButtonEl.style.display =\n",
              "            google.colab.kernel.accessAllowed ? 'block' : 'none';\n",
              "        })();\n",
              "      </script>\n",
              "    </div>\n",
              "\n",
              "    </div>\n",
              "  </div>\n"
            ],
            "application/vnd.google.colaboratory.intrinsic+json": {
              "type": "dataframe",
              "repr_error": "0"
            }
          },
          "metadata": {},
          "execution_count": 32
        }
      ],
      "source": [
        "df_oil.sample(3)"
      ]
    },
    {
      "cell_type": "code",
      "execution_count": null,
      "metadata": {
        "id": "OZY5PkjJX-Fg"
      },
      "outputs": [],
      "source": [
        "del query_oil\n",
        "del df_oil"
      ]
    },
    {
      "cell_type": "markdown",
      "metadata": {
        "id": "PHYsZnZL-Gev"
      },
      "source": [
        "### items"
      ]
    },
    {
      "cell_type": "code",
      "execution_count": null,
      "metadata": {
        "id": "WpQWftfT-K7Y"
      },
      "outputs": [],
      "source": [
        "query_items = \"\"\"\n",
        "  SELECT *\n",
        "  FROM items\n",
        "\"\"\""
      ]
    },
    {
      "cell_type": "code",
      "execution_count": null,
      "metadata": {
        "id": "IUujEajI-SLZ",
        "colab": {
          "base_uri": "https://localhost:8080/"
        },
        "outputId": "8f255872-0ffc-4c95-b78b-8080a7682407"
      },
      "outputs": [
        {
          "output_type": "execute_result",
          "data": {
            "text/plain": [
              "(4100, 4)"
            ]
          },
          "metadata": {},
          "execution_count": 35
        }
      ],
      "source": [
        "df_items = pd.read_sql_query(query_items, engine)\n",
        "df_items.shape"
      ]
    },
    {
      "cell_type": "code",
      "execution_count": null,
      "metadata": {
        "id": "fbgq2ip3_Jo6",
        "colab": {
          "base_uri": "https://localhost:8080/",
          "height": 112
        },
        "outputId": "65c48db3-ea79-41ef-9062-7f664a35461b"
      },
      "outputs": [
        {
          "output_type": "execute_result",
          "data": {
            "text/plain": [
              "      item_nbr     family  class  perishable\n",
              "2313   1404385  BEVERAGES   1124           0\n",
              "3261   1955347  GROCERY I   1030           0"
            ],
            "text/html": [
              "\n",
              "  <div id=\"df-ce3ab53a-6004-4676-a056-c383694ecbde\" class=\"colab-df-container\">\n",
              "    <div>\n",
              "<style scoped>\n",
              "    .dataframe tbody tr th:only-of-type {\n",
              "        vertical-align: middle;\n",
              "    }\n",
              "\n",
              "    .dataframe tbody tr th {\n",
              "        vertical-align: top;\n",
              "    }\n",
              "\n",
              "    .dataframe thead th {\n",
              "        text-align: right;\n",
              "    }\n",
              "</style>\n",
              "<table border=\"1\" class=\"dataframe\">\n",
              "  <thead>\n",
              "    <tr style=\"text-align: right;\">\n",
              "      <th></th>\n",
              "      <th>item_nbr</th>\n",
              "      <th>family</th>\n",
              "      <th>class</th>\n",
              "      <th>perishable</th>\n",
              "    </tr>\n",
              "  </thead>\n",
              "  <tbody>\n",
              "    <tr>\n",
              "      <th>2313</th>\n",
              "      <td>1404385</td>\n",
              "      <td>BEVERAGES</td>\n",
              "      <td>1124</td>\n",
              "      <td>0</td>\n",
              "    </tr>\n",
              "    <tr>\n",
              "      <th>3261</th>\n",
              "      <td>1955347</td>\n",
              "      <td>GROCERY I</td>\n",
              "      <td>1030</td>\n",
              "      <td>0</td>\n",
              "    </tr>\n",
              "  </tbody>\n",
              "</table>\n",
              "</div>\n",
              "    <div class=\"colab-df-buttons\">\n",
              "\n",
              "  <div class=\"colab-df-container\">\n",
              "    <button class=\"colab-df-convert\" onclick=\"convertToInteractive('df-ce3ab53a-6004-4676-a056-c383694ecbde')\"\n",
              "            title=\"Convert this dataframe to an interactive table.\"\n",
              "            style=\"display:none;\">\n",
              "\n",
              "  <svg xmlns=\"http://www.w3.org/2000/svg\" height=\"24px\" viewBox=\"0 -960 960 960\">\n",
              "    <path d=\"M120-120v-720h720v720H120Zm60-500h600v-160H180v160Zm220 220h160v-160H400v160Zm0 220h160v-160H400v160ZM180-400h160v-160H180v160Zm440 0h160v-160H620v160ZM180-180h160v-160H180v160Zm440 0h160v-160H620v160Z\"/>\n",
              "  </svg>\n",
              "    </button>\n",
              "\n",
              "  <style>\n",
              "    .colab-df-container {\n",
              "      display:flex;\n",
              "      gap: 12px;\n",
              "    }\n",
              "\n",
              "    .colab-df-convert {\n",
              "      background-color: #E8F0FE;\n",
              "      border: none;\n",
              "      border-radius: 50%;\n",
              "      cursor: pointer;\n",
              "      display: none;\n",
              "      fill: #1967D2;\n",
              "      height: 32px;\n",
              "      padding: 0 0 0 0;\n",
              "      width: 32px;\n",
              "    }\n",
              "\n",
              "    .colab-df-convert:hover {\n",
              "      background-color: #E2EBFA;\n",
              "      box-shadow: 0px 1px 2px rgba(60, 64, 67, 0.3), 0px 1px 3px 1px rgba(60, 64, 67, 0.15);\n",
              "      fill: #174EA6;\n",
              "    }\n",
              "\n",
              "    .colab-df-buttons div {\n",
              "      margin-bottom: 4px;\n",
              "    }\n",
              "\n",
              "    [theme=dark] .colab-df-convert {\n",
              "      background-color: #3B4455;\n",
              "      fill: #D2E3FC;\n",
              "    }\n",
              "\n",
              "    [theme=dark] .colab-df-convert:hover {\n",
              "      background-color: #434B5C;\n",
              "      box-shadow: 0px 1px 3px 1px rgba(0, 0, 0, 0.15);\n",
              "      filter: drop-shadow(0px 1px 2px rgba(0, 0, 0, 0.3));\n",
              "      fill: #FFFFFF;\n",
              "    }\n",
              "  </style>\n",
              "\n",
              "    <script>\n",
              "      const buttonEl =\n",
              "        document.querySelector('#df-ce3ab53a-6004-4676-a056-c383694ecbde button.colab-df-convert');\n",
              "      buttonEl.style.display =\n",
              "        google.colab.kernel.accessAllowed ? 'block' : 'none';\n",
              "\n",
              "      async function convertToInteractive(key) {\n",
              "        const element = document.querySelector('#df-ce3ab53a-6004-4676-a056-c383694ecbde');\n",
              "        const dataTable =\n",
              "          await google.colab.kernel.invokeFunction('convertToInteractive',\n",
              "                                                    [key], {});\n",
              "        if (!dataTable) return;\n",
              "\n",
              "        const docLinkHtml = 'Like what you see? Visit the ' +\n",
              "          '<a target=\"_blank\" href=https://colab.research.google.com/notebooks/data_table.ipynb>data table notebook</a>'\n",
              "          + ' to learn more about interactive tables.';\n",
              "        element.innerHTML = '';\n",
              "        dataTable['output_type'] = 'display_data';\n",
              "        await google.colab.output.renderOutput(dataTable, element);\n",
              "        const docLink = document.createElement('div');\n",
              "        docLink.innerHTML = docLinkHtml;\n",
              "        element.appendChild(docLink);\n",
              "      }\n",
              "    </script>\n",
              "  </div>\n",
              "\n",
              "\n",
              "    <div id=\"df-e45c9ded-369a-4780-98ef-23a1c36b3bd6\">\n",
              "      <button class=\"colab-df-quickchart\" onclick=\"quickchart('df-e45c9ded-369a-4780-98ef-23a1c36b3bd6')\"\n",
              "                title=\"Suggest charts\"\n",
              "                style=\"display:none;\">\n",
              "\n",
              "<svg xmlns=\"http://www.w3.org/2000/svg\" height=\"24px\"viewBox=\"0 0 24 24\"\n",
              "     width=\"24px\">\n",
              "    <g>\n",
              "        <path d=\"M19 3H5c-1.1 0-2 .9-2 2v14c0 1.1.9 2 2 2h14c1.1 0 2-.9 2-2V5c0-1.1-.9-2-2-2zM9 17H7v-7h2v7zm4 0h-2V7h2v10zm4 0h-2v-4h2v4z\"/>\n",
              "    </g>\n",
              "</svg>\n",
              "      </button>\n",
              "\n",
              "<style>\n",
              "  .colab-df-quickchart {\n",
              "      --bg-color: #E8F0FE;\n",
              "      --fill-color: #1967D2;\n",
              "      --hover-bg-color: #E2EBFA;\n",
              "      --hover-fill-color: #174EA6;\n",
              "      --disabled-fill-color: #AAA;\n",
              "      --disabled-bg-color: #DDD;\n",
              "  }\n",
              "\n",
              "  [theme=dark] .colab-df-quickchart {\n",
              "      --bg-color: #3B4455;\n",
              "      --fill-color: #D2E3FC;\n",
              "      --hover-bg-color: #434B5C;\n",
              "      --hover-fill-color: #FFFFFF;\n",
              "      --disabled-bg-color: #3B4455;\n",
              "      --disabled-fill-color: #666;\n",
              "  }\n",
              "\n",
              "  .colab-df-quickchart {\n",
              "    background-color: var(--bg-color);\n",
              "    border: none;\n",
              "    border-radius: 50%;\n",
              "    cursor: pointer;\n",
              "    display: none;\n",
              "    fill: var(--fill-color);\n",
              "    height: 32px;\n",
              "    padding: 0;\n",
              "    width: 32px;\n",
              "  }\n",
              "\n",
              "  .colab-df-quickchart:hover {\n",
              "    background-color: var(--hover-bg-color);\n",
              "    box-shadow: 0 1px 2px rgba(60, 64, 67, 0.3), 0 1px 3px 1px rgba(60, 64, 67, 0.15);\n",
              "    fill: var(--button-hover-fill-color);\n",
              "  }\n",
              "\n",
              "  .colab-df-quickchart-complete:disabled,\n",
              "  .colab-df-quickchart-complete:disabled:hover {\n",
              "    background-color: var(--disabled-bg-color);\n",
              "    fill: var(--disabled-fill-color);\n",
              "    box-shadow: none;\n",
              "  }\n",
              "\n",
              "  .colab-df-spinner {\n",
              "    border: 2px solid var(--fill-color);\n",
              "    border-color: transparent;\n",
              "    border-bottom-color: var(--fill-color);\n",
              "    animation:\n",
              "      spin 1s steps(1) infinite;\n",
              "  }\n",
              "\n",
              "  @keyframes spin {\n",
              "    0% {\n",
              "      border-color: transparent;\n",
              "      border-bottom-color: var(--fill-color);\n",
              "      border-left-color: var(--fill-color);\n",
              "    }\n",
              "    20% {\n",
              "      border-color: transparent;\n",
              "      border-left-color: var(--fill-color);\n",
              "      border-top-color: var(--fill-color);\n",
              "    }\n",
              "    30% {\n",
              "      border-color: transparent;\n",
              "      border-left-color: var(--fill-color);\n",
              "      border-top-color: var(--fill-color);\n",
              "      border-right-color: var(--fill-color);\n",
              "    }\n",
              "    40% {\n",
              "      border-color: transparent;\n",
              "      border-right-color: var(--fill-color);\n",
              "      border-top-color: var(--fill-color);\n",
              "    }\n",
              "    60% {\n",
              "      border-color: transparent;\n",
              "      border-right-color: var(--fill-color);\n",
              "    }\n",
              "    80% {\n",
              "      border-color: transparent;\n",
              "      border-right-color: var(--fill-color);\n",
              "      border-bottom-color: var(--fill-color);\n",
              "    }\n",
              "    90% {\n",
              "      border-color: transparent;\n",
              "      border-bottom-color: var(--fill-color);\n",
              "    }\n",
              "  }\n",
              "</style>\n",
              "\n",
              "      <script>\n",
              "        async function quickchart(key) {\n",
              "          const quickchartButtonEl =\n",
              "            document.querySelector('#' + key + ' button');\n",
              "          quickchartButtonEl.disabled = true;  // To prevent multiple clicks.\n",
              "          quickchartButtonEl.classList.add('colab-df-spinner');\n",
              "          try {\n",
              "            const charts = await google.colab.kernel.invokeFunction(\n",
              "                'suggestCharts', [key], {});\n",
              "          } catch (error) {\n",
              "            console.error('Error during call to suggestCharts:', error);\n",
              "          }\n",
              "          quickchartButtonEl.classList.remove('colab-df-spinner');\n",
              "          quickchartButtonEl.classList.add('colab-df-quickchart-complete');\n",
              "        }\n",
              "        (() => {\n",
              "          let quickchartButtonEl =\n",
              "            document.querySelector('#df-e45c9ded-369a-4780-98ef-23a1c36b3bd6 button');\n",
              "          quickchartButtonEl.style.display =\n",
              "            google.colab.kernel.accessAllowed ? 'block' : 'none';\n",
              "        })();\n",
              "      </script>\n",
              "    </div>\n",
              "\n",
              "    </div>\n",
              "  </div>\n"
            ],
            "application/vnd.google.colaboratory.intrinsic+json": {
              "type": "dataframe",
              "summary": "{\n  \"name\": \"df_items\",\n  \"rows\": 2,\n  \"fields\": [\n    {\n      \"column\": \"item_nbr\",\n      \"properties\": {\n        \"dtype\": \"number\",\n        \"std\": 389588,\n        \"min\": 1404385,\n        \"max\": 1955347,\n        \"num_unique_values\": 2,\n        \"samples\": [\n          1955347,\n          1404385\n        ],\n        \"semantic_type\": \"\",\n        \"description\": \"\"\n      }\n    },\n    {\n      \"column\": \"family\",\n      \"properties\": {\n        \"dtype\": \"string\",\n        \"num_unique_values\": 2,\n        \"samples\": [\n          \"GROCERY I\",\n          \"BEVERAGES\"\n        ],\n        \"semantic_type\": \"\",\n        \"description\": \"\"\n      }\n    },\n    {\n      \"column\": \"class\",\n      \"properties\": {\n        \"dtype\": \"number\",\n        \"std\": 66,\n        \"min\": 1030,\n        \"max\": 1124,\n        \"num_unique_values\": 2,\n        \"samples\": [\n          1030,\n          1124\n        ],\n        \"semantic_type\": \"\",\n        \"description\": \"\"\n      }\n    },\n    {\n      \"column\": \"perishable\",\n      \"properties\": {\n        \"dtype\": \"number\",\n        \"std\": 0,\n        \"min\": 0,\n        \"max\": 0,\n        \"num_unique_values\": 1,\n        \"samples\": [\n          0\n        ],\n        \"semantic_type\": \"\",\n        \"description\": \"\"\n      }\n    }\n  ]\n}"
            }
          },
          "metadata": {},
          "execution_count": 36
        }
      ],
      "source": [
        "df_items.sample(2)"
      ]
    },
    {
      "cell_type": "code",
      "execution_count": null,
      "metadata": {
        "id": "j9N1d22wYNpH"
      },
      "outputs": [],
      "source": [
        "del query_items\n",
        "del df_items"
      ]
    },
    {
      "cell_type": "markdown",
      "metadata": {
        "id": "IQfU1ZvJDxWc"
      },
      "source": [
        "### stores"
      ]
    },
    {
      "cell_type": "code",
      "execution_count": null,
      "metadata": {
        "id": "BWxKf0xwC_Qi"
      },
      "outputs": [],
      "source": [
        "query_stores = \"\"\"\n",
        "  SELECT *\n",
        "  FROM stores\n",
        "\"\"\""
      ]
    },
    {
      "cell_type": "code",
      "execution_count": null,
      "metadata": {
        "id": "q0uXngjpDIPe",
        "colab": {
          "base_uri": "https://localhost:8080/"
        },
        "outputId": "d9e8c12c-68d8-4cfd-cf8b-0a518189c361"
      },
      "outputs": [
        {
          "output_type": "execute_result",
          "data": {
            "text/plain": [
              "(11, 5)"
            ]
          },
          "metadata": {},
          "execution_count": 39
        }
      ],
      "source": [
        "df_stores = pd.read_sql_query(query_stores, engine) # only Guayas\n",
        "df_stores.shape"
      ]
    },
    {
      "cell_type": "code",
      "execution_count": null,
      "metadata": {
        "id": "3Uv6eDUGDZUc",
        "colab": {
          "base_uri": "https://localhost:8080/",
          "height": 112
        },
        "outputId": "88460f84-5895-415f-a016-36487152c174"
      },
      "outputs": [
        {
          "output_type": "execute_result",
          "data": {
            "text/plain": [
              "   store_nbr       city   state type  cluster\n",
              "3         28  Guayaquil  Guayas    E       10\n",
              "2         27      Daule  Guayas    D        1"
            ],
            "text/html": [
              "\n",
              "  <div id=\"df-68a580bc-d918-446b-b7e5-b93c54ff8b13\" class=\"colab-df-container\">\n",
              "    <div>\n",
              "<style scoped>\n",
              "    .dataframe tbody tr th:only-of-type {\n",
              "        vertical-align: middle;\n",
              "    }\n",
              "\n",
              "    .dataframe tbody tr th {\n",
              "        vertical-align: top;\n",
              "    }\n",
              "\n",
              "    .dataframe thead th {\n",
              "        text-align: right;\n",
              "    }\n",
              "</style>\n",
              "<table border=\"1\" class=\"dataframe\">\n",
              "  <thead>\n",
              "    <tr style=\"text-align: right;\">\n",
              "      <th></th>\n",
              "      <th>store_nbr</th>\n",
              "      <th>city</th>\n",
              "      <th>state</th>\n",
              "      <th>type</th>\n",
              "      <th>cluster</th>\n",
              "    </tr>\n",
              "  </thead>\n",
              "  <tbody>\n",
              "    <tr>\n",
              "      <th>3</th>\n",
              "      <td>28</td>\n",
              "      <td>Guayaquil</td>\n",
              "      <td>Guayas</td>\n",
              "      <td>E</td>\n",
              "      <td>10</td>\n",
              "    </tr>\n",
              "    <tr>\n",
              "      <th>2</th>\n",
              "      <td>27</td>\n",
              "      <td>Daule</td>\n",
              "      <td>Guayas</td>\n",
              "      <td>D</td>\n",
              "      <td>1</td>\n",
              "    </tr>\n",
              "  </tbody>\n",
              "</table>\n",
              "</div>\n",
              "    <div class=\"colab-df-buttons\">\n",
              "\n",
              "  <div class=\"colab-df-container\">\n",
              "    <button class=\"colab-df-convert\" onclick=\"convertToInteractive('df-68a580bc-d918-446b-b7e5-b93c54ff8b13')\"\n",
              "            title=\"Convert this dataframe to an interactive table.\"\n",
              "            style=\"display:none;\">\n",
              "\n",
              "  <svg xmlns=\"http://www.w3.org/2000/svg\" height=\"24px\" viewBox=\"0 -960 960 960\">\n",
              "    <path d=\"M120-120v-720h720v720H120Zm60-500h600v-160H180v160Zm220 220h160v-160H400v160Zm0 220h160v-160H400v160ZM180-400h160v-160H180v160Zm440 0h160v-160H620v160ZM180-180h160v-160H180v160Zm440 0h160v-160H620v160Z\"/>\n",
              "  </svg>\n",
              "    </button>\n",
              "\n",
              "  <style>\n",
              "    .colab-df-container {\n",
              "      display:flex;\n",
              "      gap: 12px;\n",
              "    }\n",
              "\n",
              "    .colab-df-convert {\n",
              "      background-color: #E8F0FE;\n",
              "      border: none;\n",
              "      border-radius: 50%;\n",
              "      cursor: pointer;\n",
              "      display: none;\n",
              "      fill: #1967D2;\n",
              "      height: 32px;\n",
              "      padding: 0 0 0 0;\n",
              "      width: 32px;\n",
              "    }\n",
              "\n",
              "    .colab-df-convert:hover {\n",
              "      background-color: #E2EBFA;\n",
              "      box-shadow: 0px 1px 2px rgba(60, 64, 67, 0.3), 0px 1px 3px 1px rgba(60, 64, 67, 0.15);\n",
              "      fill: #174EA6;\n",
              "    }\n",
              "\n",
              "    .colab-df-buttons div {\n",
              "      margin-bottom: 4px;\n",
              "    }\n",
              "\n",
              "    [theme=dark] .colab-df-convert {\n",
              "      background-color: #3B4455;\n",
              "      fill: #D2E3FC;\n",
              "    }\n",
              "\n",
              "    [theme=dark] .colab-df-convert:hover {\n",
              "      background-color: #434B5C;\n",
              "      box-shadow: 0px 1px 3px 1px rgba(0, 0, 0, 0.15);\n",
              "      filter: drop-shadow(0px 1px 2px rgba(0, 0, 0, 0.3));\n",
              "      fill: #FFFFFF;\n",
              "    }\n",
              "  </style>\n",
              "\n",
              "    <script>\n",
              "      const buttonEl =\n",
              "        document.querySelector('#df-68a580bc-d918-446b-b7e5-b93c54ff8b13 button.colab-df-convert');\n",
              "      buttonEl.style.display =\n",
              "        google.colab.kernel.accessAllowed ? 'block' : 'none';\n",
              "\n",
              "      async function convertToInteractive(key) {\n",
              "        const element = document.querySelector('#df-68a580bc-d918-446b-b7e5-b93c54ff8b13');\n",
              "        const dataTable =\n",
              "          await google.colab.kernel.invokeFunction('convertToInteractive',\n",
              "                                                    [key], {});\n",
              "        if (!dataTable) return;\n",
              "\n",
              "        const docLinkHtml = 'Like what you see? Visit the ' +\n",
              "          '<a target=\"_blank\" href=https://colab.research.google.com/notebooks/data_table.ipynb>data table notebook</a>'\n",
              "          + ' to learn more about interactive tables.';\n",
              "        element.innerHTML = '';\n",
              "        dataTable['output_type'] = 'display_data';\n",
              "        await google.colab.output.renderOutput(dataTable, element);\n",
              "        const docLink = document.createElement('div');\n",
              "        docLink.innerHTML = docLinkHtml;\n",
              "        element.appendChild(docLink);\n",
              "      }\n",
              "    </script>\n",
              "  </div>\n",
              "\n",
              "\n",
              "    <div id=\"df-c4891ff7-efe0-44de-beeb-70118d803b64\">\n",
              "      <button class=\"colab-df-quickchart\" onclick=\"quickchart('df-c4891ff7-efe0-44de-beeb-70118d803b64')\"\n",
              "                title=\"Suggest charts\"\n",
              "                style=\"display:none;\">\n",
              "\n",
              "<svg xmlns=\"http://www.w3.org/2000/svg\" height=\"24px\"viewBox=\"0 0 24 24\"\n",
              "     width=\"24px\">\n",
              "    <g>\n",
              "        <path d=\"M19 3H5c-1.1 0-2 .9-2 2v14c0 1.1.9 2 2 2h14c1.1 0 2-.9 2-2V5c0-1.1-.9-2-2-2zM9 17H7v-7h2v7zm4 0h-2V7h2v10zm4 0h-2v-4h2v4z\"/>\n",
              "    </g>\n",
              "</svg>\n",
              "      </button>\n",
              "\n",
              "<style>\n",
              "  .colab-df-quickchart {\n",
              "      --bg-color: #E8F0FE;\n",
              "      --fill-color: #1967D2;\n",
              "      --hover-bg-color: #E2EBFA;\n",
              "      --hover-fill-color: #174EA6;\n",
              "      --disabled-fill-color: #AAA;\n",
              "      --disabled-bg-color: #DDD;\n",
              "  }\n",
              "\n",
              "  [theme=dark] .colab-df-quickchart {\n",
              "      --bg-color: #3B4455;\n",
              "      --fill-color: #D2E3FC;\n",
              "      --hover-bg-color: #434B5C;\n",
              "      --hover-fill-color: #FFFFFF;\n",
              "      --disabled-bg-color: #3B4455;\n",
              "      --disabled-fill-color: #666;\n",
              "  }\n",
              "\n",
              "  .colab-df-quickchart {\n",
              "    background-color: var(--bg-color);\n",
              "    border: none;\n",
              "    border-radius: 50%;\n",
              "    cursor: pointer;\n",
              "    display: none;\n",
              "    fill: var(--fill-color);\n",
              "    height: 32px;\n",
              "    padding: 0;\n",
              "    width: 32px;\n",
              "  }\n",
              "\n",
              "  .colab-df-quickchart:hover {\n",
              "    background-color: var(--hover-bg-color);\n",
              "    box-shadow: 0 1px 2px rgba(60, 64, 67, 0.3), 0 1px 3px 1px rgba(60, 64, 67, 0.15);\n",
              "    fill: var(--button-hover-fill-color);\n",
              "  }\n",
              "\n",
              "  .colab-df-quickchart-complete:disabled,\n",
              "  .colab-df-quickchart-complete:disabled:hover {\n",
              "    background-color: var(--disabled-bg-color);\n",
              "    fill: var(--disabled-fill-color);\n",
              "    box-shadow: none;\n",
              "  }\n",
              "\n",
              "  .colab-df-spinner {\n",
              "    border: 2px solid var(--fill-color);\n",
              "    border-color: transparent;\n",
              "    border-bottom-color: var(--fill-color);\n",
              "    animation:\n",
              "      spin 1s steps(1) infinite;\n",
              "  }\n",
              "\n",
              "  @keyframes spin {\n",
              "    0% {\n",
              "      border-color: transparent;\n",
              "      border-bottom-color: var(--fill-color);\n",
              "      border-left-color: var(--fill-color);\n",
              "    }\n",
              "    20% {\n",
              "      border-color: transparent;\n",
              "      border-left-color: var(--fill-color);\n",
              "      border-top-color: var(--fill-color);\n",
              "    }\n",
              "    30% {\n",
              "      border-color: transparent;\n",
              "      border-left-color: var(--fill-color);\n",
              "      border-top-color: var(--fill-color);\n",
              "      border-right-color: var(--fill-color);\n",
              "    }\n",
              "    40% {\n",
              "      border-color: transparent;\n",
              "      border-right-color: var(--fill-color);\n",
              "      border-top-color: var(--fill-color);\n",
              "    }\n",
              "    60% {\n",
              "      border-color: transparent;\n",
              "      border-right-color: var(--fill-color);\n",
              "    }\n",
              "    80% {\n",
              "      border-color: transparent;\n",
              "      border-right-color: var(--fill-color);\n",
              "      border-bottom-color: var(--fill-color);\n",
              "    }\n",
              "    90% {\n",
              "      border-color: transparent;\n",
              "      border-bottom-color: var(--fill-color);\n",
              "    }\n",
              "  }\n",
              "</style>\n",
              "\n",
              "      <script>\n",
              "        async function quickchart(key) {\n",
              "          const quickchartButtonEl =\n",
              "            document.querySelector('#' + key + ' button');\n",
              "          quickchartButtonEl.disabled = true;  // To prevent multiple clicks.\n",
              "          quickchartButtonEl.classList.add('colab-df-spinner');\n",
              "          try {\n",
              "            const charts = await google.colab.kernel.invokeFunction(\n",
              "                'suggestCharts', [key], {});\n",
              "          } catch (error) {\n",
              "            console.error('Error during call to suggestCharts:', error);\n",
              "          }\n",
              "          quickchartButtonEl.classList.remove('colab-df-spinner');\n",
              "          quickchartButtonEl.classList.add('colab-df-quickchart-complete');\n",
              "        }\n",
              "        (() => {\n",
              "          let quickchartButtonEl =\n",
              "            document.querySelector('#df-c4891ff7-efe0-44de-beeb-70118d803b64 button');\n",
              "          quickchartButtonEl.style.display =\n",
              "            google.colab.kernel.accessAllowed ? 'block' : 'none';\n",
              "        })();\n",
              "      </script>\n",
              "    </div>\n",
              "\n",
              "    </div>\n",
              "  </div>\n"
            ],
            "application/vnd.google.colaboratory.intrinsic+json": {
              "type": "dataframe",
              "summary": "{\n  \"name\": \"df_stores\",\n  \"rows\": 2,\n  \"fields\": [\n    {\n      \"column\": \"store_nbr\",\n      \"properties\": {\n        \"dtype\": \"number\",\n        \"std\": 0,\n        \"min\": 27,\n        \"max\": 28,\n        \"num_unique_values\": 2,\n        \"samples\": [\n          27,\n          28\n        ],\n        \"semantic_type\": \"\",\n        \"description\": \"\"\n      }\n    },\n    {\n      \"column\": \"city\",\n      \"properties\": {\n        \"dtype\": \"string\",\n        \"num_unique_values\": 2,\n        \"samples\": [\n          \"Daule\",\n          \"Guayaquil\"\n        ],\n        \"semantic_type\": \"\",\n        \"description\": \"\"\n      }\n    },\n    {\n      \"column\": \"state\",\n      \"properties\": {\n        \"dtype\": \"string\",\n        \"num_unique_values\": 1,\n        \"samples\": [\n          \"Guayas\"\n        ],\n        \"semantic_type\": \"\",\n        \"description\": \"\"\n      }\n    },\n    {\n      \"column\": \"type\",\n      \"properties\": {\n        \"dtype\": \"string\",\n        \"num_unique_values\": 2,\n        \"samples\": [\n          \"D\"\n        ],\n        \"semantic_type\": \"\",\n        \"description\": \"\"\n      }\n    },\n    {\n      \"column\": \"cluster\",\n      \"properties\": {\n        \"dtype\": \"number\",\n        \"std\": 6,\n        \"min\": 1,\n        \"max\": 10,\n        \"num_unique_values\": 2,\n        \"samples\": [\n          1\n        ],\n        \"semantic_type\": \"\",\n        \"description\": \"\"\n      }\n    }\n  ]\n}"
            }
          },
          "metadata": {},
          "execution_count": 40
        }
      ],
      "source": [
        "df_stores.sample(2)"
      ]
    },
    {
      "cell_type": "code",
      "execution_count": null,
      "metadata": {
        "id": "V2BMhv8JiAp0"
      },
      "outputs": [],
      "source": [
        "del query_stores\n",
        "del df_stores"
      ]
    },
    {
      "cell_type": "markdown",
      "metadata": {
        "id": "vC9Cwf1sD1SJ"
      },
      "source": [
        "### holidays_events"
      ]
    },
    {
      "cell_type": "code",
      "execution_count": null,
      "metadata": {
        "id": "5_DsteEWEBDd"
      },
      "outputs": [],
      "source": [
        "query_holidays_events = \"\"\"\n",
        "  SELECT *\n",
        "  FROM holidays_events\n",
        "\"\"\""
      ]
    },
    {
      "cell_type": "code",
      "execution_count": null,
      "metadata": {
        "id": "QgzGFCXkEpYS",
        "colab": {
          "base_uri": "https://localhost:8080/"
        },
        "outputId": "e320a573-7cb3-4579-c8d3-7a8a6493a9f6"
      },
      "outputs": [
        {
          "output_type": "execute_result",
          "data": {
            "text/plain": [
              "(350, 6)"
            ]
          },
          "metadata": {},
          "execution_count": 43
        }
      ],
      "source": [
        "df_holidays_events = pd.read_sql_query(query_holidays_events, engine)\n",
        "df_holidays_events.shape"
      ]
    },
    {
      "cell_type": "code",
      "execution_count": null,
      "metadata": {
        "id": "K9Km_Bs1Ewcd",
        "colab": {
          "base_uri": "https://localhost:8080/",
          "height": 112
        },
        "outputId": "cd5d13ce-6c0b-4d24-de79-195009bd1b81"
      },
      "outputs": [
        {
          "output_type": "execute_result",
          "data": {
            "text/plain": [
              "          date        type    locale    locale_name  \\\n",
              "10  2012-07-03     Holiday     Local  Santo Domingo   \n",
              "85  2013-12-22  Additional  National        Ecuador   \n",
              "\n",
              "                   description  transferred  \n",
              "10  Fundacion de Santo Domingo            0  \n",
              "85                   Navidad-3            0  "
            ],
            "text/html": [
              "\n",
              "  <div id=\"df-8884f4bc-28da-4dca-96de-a701ad390ff5\" class=\"colab-df-container\">\n",
              "    <div>\n",
              "<style scoped>\n",
              "    .dataframe tbody tr th:only-of-type {\n",
              "        vertical-align: middle;\n",
              "    }\n",
              "\n",
              "    .dataframe tbody tr th {\n",
              "        vertical-align: top;\n",
              "    }\n",
              "\n",
              "    .dataframe thead th {\n",
              "        text-align: right;\n",
              "    }\n",
              "</style>\n",
              "<table border=\"1\" class=\"dataframe\">\n",
              "  <thead>\n",
              "    <tr style=\"text-align: right;\">\n",
              "      <th></th>\n",
              "      <th>date</th>\n",
              "      <th>type</th>\n",
              "      <th>locale</th>\n",
              "      <th>locale_name</th>\n",
              "      <th>description</th>\n",
              "      <th>transferred</th>\n",
              "    </tr>\n",
              "  </thead>\n",
              "  <tbody>\n",
              "    <tr>\n",
              "      <th>10</th>\n",
              "      <td>2012-07-03</td>\n",
              "      <td>Holiday</td>\n",
              "      <td>Local</td>\n",
              "      <td>Santo Domingo</td>\n",
              "      <td>Fundacion de Santo Domingo</td>\n",
              "      <td>0</td>\n",
              "    </tr>\n",
              "    <tr>\n",
              "      <th>85</th>\n",
              "      <td>2013-12-22</td>\n",
              "      <td>Additional</td>\n",
              "      <td>National</td>\n",
              "      <td>Ecuador</td>\n",
              "      <td>Navidad-3</td>\n",
              "      <td>0</td>\n",
              "    </tr>\n",
              "  </tbody>\n",
              "</table>\n",
              "</div>\n",
              "    <div class=\"colab-df-buttons\">\n",
              "\n",
              "  <div class=\"colab-df-container\">\n",
              "    <button class=\"colab-df-convert\" onclick=\"convertToInteractive('df-8884f4bc-28da-4dca-96de-a701ad390ff5')\"\n",
              "            title=\"Convert this dataframe to an interactive table.\"\n",
              "            style=\"display:none;\">\n",
              "\n",
              "  <svg xmlns=\"http://www.w3.org/2000/svg\" height=\"24px\" viewBox=\"0 -960 960 960\">\n",
              "    <path d=\"M120-120v-720h720v720H120Zm60-500h600v-160H180v160Zm220 220h160v-160H400v160Zm0 220h160v-160H400v160ZM180-400h160v-160H180v160Zm440 0h160v-160H620v160ZM180-180h160v-160H180v160Zm440 0h160v-160H620v160Z\"/>\n",
              "  </svg>\n",
              "    </button>\n",
              "\n",
              "  <style>\n",
              "    .colab-df-container {\n",
              "      display:flex;\n",
              "      gap: 12px;\n",
              "    }\n",
              "\n",
              "    .colab-df-convert {\n",
              "      background-color: #E8F0FE;\n",
              "      border: none;\n",
              "      border-radius: 50%;\n",
              "      cursor: pointer;\n",
              "      display: none;\n",
              "      fill: #1967D2;\n",
              "      height: 32px;\n",
              "      padding: 0 0 0 0;\n",
              "      width: 32px;\n",
              "    }\n",
              "\n",
              "    .colab-df-convert:hover {\n",
              "      background-color: #E2EBFA;\n",
              "      box-shadow: 0px 1px 2px rgba(60, 64, 67, 0.3), 0px 1px 3px 1px rgba(60, 64, 67, 0.15);\n",
              "      fill: #174EA6;\n",
              "    }\n",
              "\n",
              "    .colab-df-buttons div {\n",
              "      margin-bottom: 4px;\n",
              "    }\n",
              "\n",
              "    [theme=dark] .colab-df-convert {\n",
              "      background-color: #3B4455;\n",
              "      fill: #D2E3FC;\n",
              "    }\n",
              "\n",
              "    [theme=dark] .colab-df-convert:hover {\n",
              "      background-color: #434B5C;\n",
              "      box-shadow: 0px 1px 3px 1px rgba(0, 0, 0, 0.15);\n",
              "      filter: drop-shadow(0px 1px 2px rgba(0, 0, 0, 0.3));\n",
              "      fill: #FFFFFF;\n",
              "    }\n",
              "  </style>\n",
              "\n",
              "    <script>\n",
              "      const buttonEl =\n",
              "        document.querySelector('#df-8884f4bc-28da-4dca-96de-a701ad390ff5 button.colab-df-convert');\n",
              "      buttonEl.style.display =\n",
              "        google.colab.kernel.accessAllowed ? 'block' : 'none';\n",
              "\n",
              "      async function convertToInteractive(key) {\n",
              "        const element = document.querySelector('#df-8884f4bc-28da-4dca-96de-a701ad390ff5');\n",
              "        const dataTable =\n",
              "          await google.colab.kernel.invokeFunction('convertToInteractive',\n",
              "                                                    [key], {});\n",
              "        if (!dataTable) return;\n",
              "\n",
              "        const docLinkHtml = 'Like what you see? Visit the ' +\n",
              "          '<a target=\"_blank\" href=https://colab.research.google.com/notebooks/data_table.ipynb>data table notebook</a>'\n",
              "          + ' to learn more about interactive tables.';\n",
              "        element.innerHTML = '';\n",
              "        dataTable['output_type'] = 'display_data';\n",
              "        await google.colab.output.renderOutput(dataTable, element);\n",
              "        const docLink = document.createElement('div');\n",
              "        docLink.innerHTML = docLinkHtml;\n",
              "        element.appendChild(docLink);\n",
              "      }\n",
              "    </script>\n",
              "  </div>\n",
              "\n",
              "\n",
              "    <div id=\"df-24f46dff-6237-4360-a19a-2c69a3631ffa\">\n",
              "      <button class=\"colab-df-quickchart\" onclick=\"quickchart('df-24f46dff-6237-4360-a19a-2c69a3631ffa')\"\n",
              "                title=\"Suggest charts\"\n",
              "                style=\"display:none;\">\n",
              "\n",
              "<svg xmlns=\"http://www.w3.org/2000/svg\" height=\"24px\"viewBox=\"0 0 24 24\"\n",
              "     width=\"24px\">\n",
              "    <g>\n",
              "        <path d=\"M19 3H5c-1.1 0-2 .9-2 2v14c0 1.1.9 2 2 2h14c1.1 0 2-.9 2-2V5c0-1.1-.9-2-2-2zM9 17H7v-7h2v7zm4 0h-2V7h2v10zm4 0h-2v-4h2v4z\"/>\n",
              "    </g>\n",
              "</svg>\n",
              "      </button>\n",
              "\n",
              "<style>\n",
              "  .colab-df-quickchart {\n",
              "      --bg-color: #E8F0FE;\n",
              "      --fill-color: #1967D2;\n",
              "      --hover-bg-color: #E2EBFA;\n",
              "      --hover-fill-color: #174EA6;\n",
              "      --disabled-fill-color: #AAA;\n",
              "      --disabled-bg-color: #DDD;\n",
              "  }\n",
              "\n",
              "  [theme=dark] .colab-df-quickchart {\n",
              "      --bg-color: #3B4455;\n",
              "      --fill-color: #D2E3FC;\n",
              "      --hover-bg-color: #434B5C;\n",
              "      --hover-fill-color: #FFFFFF;\n",
              "      --disabled-bg-color: #3B4455;\n",
              "      --disabled-fill-color: #666;\n",
              "  }\n",
              "\n",
              "  .colab-df-quickchart {\n",
              "    background-color: var(--bg-color);\n",
              "    border: none;\n",
              "    border-radius: 50%;\n",
              "    cursor: pointer;\n",
              "    display: none;\n",
              "    fill: var(--fill-color);\n",
              "    height: 32px;\n",
              "    padding: 0;\n",
              "    width: 32px;\n",
              "  }\n",
              "\n",
              "  .colab-df-quickchart:hover {\n",
              "    background-color: var(--hover-bg-color);\n",
              "    box-shadow: 0 1px 2px rgba(60, 64, 67, 0.3), 0 1px 3px 1px rgba(60, 64, 67, 0.15);\n",
              "    fill: var(--button-hover-fill-color);\n",
              "  }\n",
              "\n",
              "  .colab-df-quickchart-complete:disabled,\n",
              "  .colab-df-quickchart-complete:disabled:hover {\n",
              "    background-color: var(--disabled-bg-color);\n",
              "    fill: var(--disabled-fill-color);\n",
              "    box-shadow: none;\n",
              "  }\n",
              "\n",
              "  .colab-df-spinner {\n",
              "    border: 2px solid var(--fill-color);\n",
              "    border-color: transparent;\n",
              "    border-bottom-color: var(--fill-color);\n",
              "    animation:\n",
              "      spin 1s steps(1) infinite;\n",
              "  }\n",
              "\n",
              "  @keyframes spin {\n",
              "    0% {\n",
              "      border-color: transparent;\n",
              "      border-bottom-color: var(--fill-color);\n",
              "      border-left-color: var(--fill-color);\n",
              "    }\n",
              "    20% {\n",
              "      border-color: transparent;\n",
              "      border-left-color: var(--fill-color);\n",
              "      border-top-color: var(--fill-color);\n",
              "    }\n",
              "    30% {\n",
              "      border-color: transparent;\n",
              "      border-left-color: var(--fill-color);\n",
              "      border-top-color: var(--fill-color);\n",
              "      border-right-color: var(--fill-color);\n",
              "    }\n",
              "    40% {\n",
              "      border-color: transparent;\n",
              "      border-right-color: var(--fill-color);\n",
              "      border-top-color: var(--fill-color);\n",
              "    }\n",
              "    60% {\n",
              "      border-color: transparent;\n",
              "      border-right-color: var(--fill-color);\n",
              "    }\n",
              "    80% {\n",
              "      border-color: transparent;\n",
              "      border-right-color: var(--fill-color);\n",
              "      border-bottom-color: var(--fill-color);\n",
              "    }\n",
              "    90% {\n",
              "      border-color: transparent;\n",
              "      border-bottom-color: var(--fill-color);\n",
              "    }\n",
              "  }\n",
              "</style>\n",
              "\n",
              "      <script>\n",
              "        async function quickchart(key) {\n",
              "          const quickchartButtonEl =\n",
              "            document.querySelector('#' + key + ' button');\n",
              "          quickchartButtonEl.disabled = true;  // To prevent multiple clicks.\n",
              "          quickchartButtonEl.classList.add('colab-df-spinner');\n",
              "          try {\n",
              "            const charts = await google.colab.kernel.invokeFunction(\n",
              "                'suggestCharts', [key], {});\n",
              "          } catch (error) {\n",
              "            console.error('Error during call to suggestCharts:', error);\n",
              "          }\n",
              "          quickchartButtonEl.classList.remove('colab-df-spinner');\n",
              "          quickchartButtonEl.classList.add('colab-df-quickchart-complete');\n",
              "        }\n",
              "        (() => {\n",
              "          let quickchartButtonEl =\n",
              "            document.querySelector('#df-24f46dff-6237-4360-a19a-2c69a3631ffa button');\n",
              "          quickchartButtonEl.style.display =\n",
              "            google.colab.kernel.accessAllowed ? 'block' : 'none';\n",
              "        })();\n",
              "      </script>\n",
              "    </div>\n",
              "\n",
              "    </div>\n",
              "  </div>\n"
            ],
            "application/vnd.google.colaboratory.intrinsic+json": {
              "type": "dataframe",
              "repr_error": "0"
            }
          },
          "metadata": {},
          "execution_count": 44
        }
      ],
      "source": [
        "df_holidays_events.sample(2)"
      ]
    },
    {
      "cell_type": "code",
      "execution_count": null,
      "metadata": {
        "id": "4ZhrDaKVE3TS",
        "colab": {
          "base_uri": "https://localhost:8080/"
        },
        "outputId": "5c877c7b-2532-4379-a3b1-5358bab109c9"
      },
      "outputs": [
        {
          "output_type": "execute_result",
          "data": {
            "text/plain": [
              "2"
            ]
          },
          "metadata": {},
          "execution_count": 45
        }
      ],
      "source": [
        "df_holidays_events[\"transferred\"].nunique() # keep"
      ]
    },
    {
      "cell_type": "code",
      "execution_count": null,
      "metadata": {
        "id": "gBBSPMJjiKWX"
      },
      "outputs": [],
      "source": [
        "del query_holidays_events\n",
        "del df_holidays_events"
      ]
    },
    {
      "cell_type": "markdown",
      "metadata": {
        "id": "hz0VTn2HFblB"
      },
      "source": [
        "### transactions"
      ]
    },
    {
      "cell_type": "code",
      "execution_count": null,
      "metadata": {
        "id": "iXlB0B5sFuvw"
      },
      "outputs": [],
      "source": [
        "query_transactions = \"\"\"\n",
        "  SELECT *\n",
        "  FROM transactions\n",
        "\"\"\""
      ]
    },
    {
      "cell_type": "code",
      "execution_count": null,
      "metadata": {
        "id": "Oe6q5PcaF4gs",
        "colab": {
          "base_uri": "https://localhost:8080/"
        },
        "outputId": "8719ea75-b936-42ca-b4ae-07509c04f991"
      },
      "outputs": [
        {
          "output_type": "execute_result",
          "data": {
            "text/plain": [
              "(83488, 3)"
            ]
          },
          "metadata": {},
          "execution_count": 48
        }
      ],
      "source": [
        "df_transactions = pd.read_sql_query(query_transactions, engine)\n",
        "df_transactions.shape"
      ]
    },
    {
      "cell_type": "code",
      "execution_count": null,
      "metadata": {
        "id": "0qCeocGBGNCa",
        "colab": {
          "base_uri": "https://localhost:8080/",
          "height": 112
        },
        "outputId": "7e425cd2-97b7-4fde-a7fb-36832183f81c"
      },
      "outputs": [
        {
          "output_type": "execute_result",
          "data": {
            "text/plain": [
              "             date  store_nbr  transactions\n",
              "22790  2014-05-07         36          1007\n",
              "23146  2014-05-15         19           969"
            ],
            "text/html": [
              "\n",
              "  <div id=\"df-b4fd541c-b6c3-4b3f-babc-0ebf7413a8a0\" class=\"colab-df-container\">\n",
              "    <div>\n",
              "<style scoped>\n",
              "    .dataframe tbody tr th:only-of-type {\n",
              "        vertical-align: middle;\n",
              "    }\n",
              "\n",
              "    .dataframe tbody tr th {\n",
              "        vertical-align: top;\n",
              "    }\n",
              "\n",
              "    .dataframe thead th {\n",
              "        text-align: right;\n",
              "    }\n",
              "</style>\n",
              "<table border=\"1\" class=\"dataframe\">\n",
              "  <thead>\n",
              "    <tr style=\"text-align: right;\">\n",
              "      <th></th>\n",
              "      <th>date</th>\n",
              "      <th>store_nbr</th>\n",
              "      <th>transactions</th>\n",
              "    </tr>\n",
              "  </thead>\n",
              "  <tbody>\n",
              "    <tr>\n",
              "      <th>22790</th>\n",
              "      <td>2014-05-07</td>\n",
              "      <td>36</td>\n",
              "      <td>1007</td>\n",
              "    </tr>\n",
              "    <tr>\n",
              "      <th>23146</th>\n",
              "      <td>2014-05-15</td>\n",
              "      <td>19</td>\n",
              "      <td>969</td>\n",
              "    </tr>\n",
              "  </tbody>\n",
              "</table>\n",
              "</div>\n",
              "    <div class=\"colab-df-buttons\">\n",
              "\n",
              "  <div class=\"colab-df-container\">\n",
              "    <button class=\"colab-df-convert\" onclick=\"convertToInteractive('df-b4fd541c-b6c3-4b3f-babc-0ebf7413a8a0')\"\n",
              "            title=\"Convert this dataframe to an interactive table.\"\n",
              "            style=\"display:none;\">\n",
              "\n",
              "  <svg xmlns=\"http://www.w3.org/2000/svg\" height=\"24px\" viewBox=\"0 -960 960 960\">\n",
              "    <path d=\"M120-120v-720h720v720H120Zm60-500h600v-160H180v160Zm220 220h160v-160H400v160Zm0 220h160v-160H400v160ZM180-400h160v-160H180v160Zm440 0h160v-160H620v160ZM180-180h160v-160H180v160Zm440 0h160v-160H620v160Z\"/>\n",
              "  </svg>\n",
              "    </button>\n",
              "\n",
              "  <style>\n",
              "    .colab-df-container {\n",
              "      display:flex;\n",
              "      gap: 12px;\n",
              "    }\n",
              "\n",
              "    .colab-df-convert {\n",
              "      background-color: #E8F0FE;\n",
              "      border: none;\n",
              "      border-radius: 50%;\n",
              "      cursor: pointer;\n",
              "      display: none;\n",
              "      fill: #1967D2;\n",
              "      height: 32px;\n",
              "      padding: 0 0 0 0;\n",
              "      width: 32px;\n",
              "    }\n",
              "\n",
              "    .colab-df-convert:hover {\n",
              "      background-color: #E2EBFA;\n",
              "      box-shadow: 0px 1px 2px rgba(60, 64, 67, 0.3), 0px 1px 3px 1px rgba(60, 64, 67, 0.15);\n",
              "      fill: #174EA6;\n",
              "    }\n",
              "\n",
              "    .colab-df-buttons div {\n",
              "      margin-bottom: 4px;\n",
              "    }\n",
              "\n",
              "    [theme=dark] .colab-df-convert {\n",
              "      background-color: #3B4455;\n",
              "      fill: #D2E3FC;\n",
              "    }\n",
              "\n",
              "    [theme=dark] .colab-df-convert:hover {\n",
              "      background-color: #434B5C;\n",
              "      box-shadow: 0px 1px 3px 1px rgba(0, 0, 0, 0.15);\n",
              "      filter: drop-shadow(0px 1px 2px rgba(0, 0, 0, 0.3));\n",
              "      fill: #FFFFFF;\n",
              "    }\n",
              "  </style>\n",
              "\n",
              "    <script>\n",
              "      const buttonEl =\n",
              "        document.querySelector('#df-b4fd541c-b6c3-4b3f-babc-0ebf7413a8a0 button.colab-df-convert');\n",
              "      buttonEl.style.display =\n",
              "        google.colab.kernel.accessAllowed ? 'block' : 'none';\n",
              "\n",
              "      async function convertToInteractive(key) {\n",
              "        const element = document.querySelector('#df-b4fd541c-b6c3-4b3f-babc-0ebf7413a8a0');\n",
              "        const dataTable =\n",
              "          await google.colab.kernel.invokeFunction('convertToInteractive',\n",
              "                                                    [key], {});\n",
              "        if (!dataTable) return;\n",
              "\n",
              "        const docLinkHtml = 'Like what you see? Visit the ' +\n",
              "          '<a target=\"_blank\" href=https://colab.research.google.com/notebooks/data_table.ipynb>data table notebook</a>'\n",
              "          + ' to learn more about interactive tables.';\n",
              "        element.innerHTML = '';\n",
              "        dataTable['output_type'] = 'display_data';\n",
              "        await google.colab.output.renderOutput(dataTable, element);\n",
              "        const docLink = document.createElement('div');\n",
              "        docLink.innerHTML = docLinkHtml;\n",
              "        element.appendChild(docLink);\n",
              "      }\n",
              "    </script>\n",
              "  </div>\n",
              "\n",
              "\n",
              "    <div id=\"df-26f7d392-146b-4041-8d57-90ccf5db408d\">\n",
              "      <button class=\"colab-df-quickchart\" onclick=\"quickchart('df-26f7d392-146b-4041-8d57-90ccf5db408d')\"\n",
              "                title=\"Suggest charts\"\n",
              "                style=\"display:none;\">\n",
              "\n",
              "<svg xmlns=\"http://www.w3.org/2000/svg\" height=\"24px\"viewBox=\"0 0 24 24\"\n",
              "     width=\"24px\">\n",
              "    <g>\n",
              "        <path d=\"M19 3H5c-1.1 0-2 .9-2 2v14c0 1.1.9 2 2 2h14c1.1 0 2-.9 2-2V5c0-1.1-.9-2-2-2zM9 17H7v-7h2v7zm4 0h-2V7h2v10zm4 0h-2v-4h2v4z\"/>\n",
              "    </g>\n",
              "</svg>\n",
              "      </button>\n",
              "\n",
              "<style>\n",
              "  .colab-df-quickchart {\n",
              "      --bg-color: #E8F0FE;\n",
              "      --fill-color: #1967D2;\n",
              "      --hover-bg-color: #E2EBFA;\n",
              "      --hover-fill-color: #174EA6;\n",
              "      --disabled-fill-color: #AAA;\n",
              "      --disabled-bg-color: #DDD;\n",
              "  }\n",
              "\n",
              "  [theme=dark] .colab-df-quickchart {\n",
              "      --bg-color: #3B4455;\n",
              "      --fill-color: #D2E3FC;\n",
              "      --hover-bg-color: #434B5C;\n",
              "      --hover-fill-color: #FFFFFF;\n",
              "      --disabled-bg-color: #3B4455;\n",
              "      --disabled-fill-color: #666;\n",
              "  }\n",
              "\n",
              "  .colab-df-quickchart {\n",
              "    background-color: var(--bg-color);\n",
              "    border: none;\n",
              "    border-radius: 50%;\n",
              "    cursor: pointer;\n",
              "    display: none;\n",
              "    fill: var(--fill-color);\n",
              "    height: 32px;\n",
              "    padding: 0;\n",
              "    width: 32px;\n",
              "  }\n",
              "\n",
              "  .colab-df-quickchart:hover {\n",
              "    background-color: var(--hover-bg-color);\n",
              "    box-shadow: 0 1px 2px rgba(60, 64, 67, 0.3), 0 1px 3px 1px rgba(60, 64, 67, 0.15);\n",
              "    fill: var(--button-hover-fill-color);\n",
              "  }\n",
              "\n",
              "  .colab-df-quickchart-complete:disabled,\n",
              "  .colab-df-quickchart-complete:disabled:hover {\n",
              "    background-color: var(--disabled-bg-color);\n",
              "    fill: var(--disabled-fill-color);\n",
              "    box-shadow: none;\n",
              "  }\n",
              "\n",
              "  .colab-df-spinner {\n",
              "    border: 2px solid var(--fill-color);\n",
              "    border-color: transparent;\n",
              "    border-bottom-color: var(--fill-color);\n",
              "    animation:\n",
              "      spin 1s steps(1) infinite;\n",
              "  }\n",
              "\n",
              "  @keyframes spin {\n",
              "    0% {\n",
              "      border-color: transparent;\n",
              "      border-bottom-color: var(--fill-color);\n",
              "      border-left-color: var(--fill-color);\n",
              "    }\n",
              "    20% {\n",
              "      border-color: transparent;\n",
              "      border-left-color: var(--fill-color);\n",
              "      border-top-color: var(--fill-color);\n",
              "    }\n",
              "    30% {\n",
              "      border-color: transparent;\n",
              "      border-left-color: var(--fill-color);\n",
              "      border-top-color: var(--fill-color);\n",
              "      border-right-color: var(--fill-color);\n",
              "    }\n",
              "    40% {\n",
              "      border-color: transparent;\n",
              "      border-right-color: var(--fill-color);\n",
              "      border-top-color: var(--fill-color);\n",
              "    }\n",
              "    60% {\n",
              "      border-color: transparent;\n",
              "      border-right-color: var(--fill-color);\n",
              "    }\n",
              "    80% {\n",
              "      border-color: transparent;\n",
              "      border-right-color: var(--fill-color);\n",
              "      border-bottom-color: var(--fill-color);\n",
              "    }\n",
              "    90% {\n",
              "      border-color: transparent;\n",
              "      border-bottom-color: var(--fill-color);\n",
              "    }\n",
              "  }\n",
              "</style>\n",
              "\n",
              "      <script>\n",
              "        async function quickchart(key) {\n",
              "          const quickchartButtonEl =\n",
              "            document.querySelector('#' + key + ' button');\n",
              "          quickchartButtonEl.disabled = true;  // To prevent multiple clicks.\n",
              "          quickchartButtonEl.classList.add('colab-df-spinner');\n",
              "          try {\n",
              "            const charts = await google.colab.kernel.invokeFunction(\n",
              "                'suggestCharts', [key], {});\n",
              "          } catch (error) {\n",
              "            console.error('Error during call to suggestCharts:', error);\n",
              "          }\n",
              "          quickchartButtonEl.classList.remove('colab-df-spinner');\n",
              "          quickchartButtonEl.classList.add('colab-df-quickchart-complete');\n",
              "        }\n",
              "        (() => {\n",
              "          let quickchartButtonEl =\n",
              "            document.querySelector('#df-26f7d392-146b-4041-8d57-90ccf5db408d button');\n",
              "          quickchartButtonEl.style.display =\n",
              "            google.colab.kernel.accessAllowed ? 'block' : 'none';\n",
              "        })();\n",
              "      </script>\n",
              "    </div>\n",
              "\n",
              "    </div>\n",
              "  </div>\n"
            ],
            "application/vnd.google.colaboratory.intrinsic+json": {
              "type": "dataframe",
              "repr_error": "0"
            }
          },
          "metadata": {},
          "execution_count": 49
        }
      ],
      "source": [
        "df_transactions.sample(2)"
      ]
    },
    {
      "cell_type": "code",
      "execution_count": null,
      "metadata": {
        "id": "Y6l3T7XPiUi6"
      },
      "outputs": [],
      "source": [
        "del query_transactions\n",
        "del df_transactions"
      ]
    },
    {
      "cell_type": "markdown",
      "metadata": {
        "id": "kQEnb7FZGxkk"
      },
      "source": [
        "### sample_submission"
      ]
    },
    {
      "cell_type": "code",
      "execution_count": null,
      "metadata": {
        "id": "TfZRSBOPG4Fy"
      },
      "outputs": [],
      "source": [
        "query_sample_submission = \"\"\"\n",
        "  SELECT *\n",
        "  FROM sample_submission\n",
        "\"\"\""
      ]
    },
    {
      "cell_type": "code",
      "execution_count": null,
      "metadata": {
        "id": "m5SHmYouHdZl",
        "colab": {
          "base_uri": "https://localhost:8080/"
        },
        "outputId": "f0525911-3abc-4084-f288-61483369b21d"
      },
      "outputs": [
        {
          "output_type": "execute_result",
          "data": {
            "text/plain": [
              "(3370464, 2)"
            ]
          },
          "metadata": {},
          "execution_count": 52
        }
      ],
      "source": [
        "df_sample_submission = pd.read_sql_query(query_sample_submission, engine)\n",
        "df_sample_submission.shape"
      ]
    },
    {
      "cell_type": "code",
      "execution_count": null,
      "metadata": {
        "id": "IsqZVBoAH9X6",
        "colab": {
          "base_uri": "https://localhost:8080/",
          "height": 112
        },
        "outputId": "2bd585ff-2cbf-412f-8167-e7f6cc5c3f99"
      },
      "outputs": [
        {
          "output_type": "execute_result",
          "data": {
            "text/plain": [
              "                id  unit_sales\n",
              "3290293  128787333           0\n",
              "2880119  128377159           0"
            ],
            "text/html": [
              "\n",
              "  <div id=\"df-0a10f93f-662e-44d3-bb66-61af2ffacbae\" class=\"colab-df-container\">\n",
              "    <div>\n",
              "<style scoped>\n",
              "    .dataframe tbody tr th:only-of-type {\n",
              "        vertical-align: middle;\n",
              "    }\n",
              "\n",
              "    .dataframe tbody tr th {\n",
              "        vertical-align: top;\n",
              "    }\n",
              "\n",
              "    .dataframe thead th {\n",
              "        text-align: right;\n",
              "    }\n",
              "</style>\n",
              "<table border=\"1\" class=\"dataframe\">\n",
              "  <thead>\n",
              "    <tr style=\"text-align: right;\">\n",
              "      <th></th>\n",
              "      <th>id</th>\n",
              "      <th>unit_sales</th>\n",
              "    </tr>\n",
              "  </thead>\n",
              "  <tbody>\n",
              "    <tr>\n",
              "      <th>3290293</th>\n",
              "      <td>128787333</td>\n",
              "      <td>0</td>\n",
              "    </tr>\n",
              "    <tr>\n",
              "      <th>2880119</th>\n",
              "      <td>128377159</td>\n",
              "      <td>0</td>\n",
              "    </tr>\n",
              "  </tbody>\n",
              "</table>\n",
              "</div>\n",
              "    <div class=\"colab-df-buttons\">\n",
              "\n",
              "  <div class=\"colab-df-container\">\n",
              "    <button class=\"colab-df-convert\" onclick=\"convertToInteractive('df-0a10f93f-662e-44d3-bb66-61af2ffacbae')\"\n",
              "            title=\"Convert this dataframe to an interactive table.\"\n",
              "            style=\"display:none;\">\n",
              "\n",
              "  <svg xmlns=\"http://www.w3.org/2000/svg\" height=\"24px\" viewBox=\"0 -960 960 960\">\n",
              "    <path d=\"M120-120v-720h720v720H120Zm60-500h600v-160H180v160Zm220 220h160v-160H400v160Zm0 220h160v-160H400v160ZM180-400h160v-160H180v160Zm440 0h160v-160H620v160ZM180-180h160v-160H180v160Zm440 0h160v-160H620v160Z\"/>\n",
              "  </svg>\n",
              "    </button>\n",
              "\n",
              "  <style>\n",
              "    .colab-df-container {\n",
              "      display:flex;\n",
              "      gap: 12px;\n",
              "    }\n",
              "\n",
              "    .colab-df-convert {\n",
              "      background-color: #E8F0FE;\n",
              "      border: none;\n",
              "      border-radius: 50%;\n",
              "      cursor: pointer;\n",
              "      display: none;\n",
              "      fill: #1967D2;\n",
              "      height: 32px;\n",
              "      padding: 0 0 0 0;\n",
              "      width: 32px;\n",
              "    }\n",
              "\n",
              "    .colab-df-convert:hover {\n",
              "      background-color: #E2EBFA;\n",
              "      box-shadow: 0px 1px 2px rgba(60, 64, 67, 0.3), 0px 1px 3px 1px rgba(60, 64, 67, 0.15);\n",
              "      fill: #174EA6;\n",
              "    }\n",
              "\n",
              "    .colab-df-buttons div {\n",
              "      margin-bottom: 4px;\n",
              "    }\n",
              "\n",
              "    [theme=dark] .colab-df-convert {\n",
              "      background-color: #3B4455;\n",
              "      fill: #D2E3FC;\n",
              "    }\n",
              "\n",
              "    [theme=dark] .colab-df-convert:hover {\n",
              "      background-color: #434B5C;\n",
              "      box-shadow: 0px 1px 3px 1px rgba(0, 0, 0, 0.15);\n",
              "      filter: drop-shadow(0px 1px 2px rgba(0, 0, 0, 0.3));\n",
              "      fill: #FFFFFF;\n",
              "    }\n",
              "  </style>\n",
              "\n",
              "    <script>\n",
              "      const buttonEl =\n",
              "        document.querySelector('#df-0a10f93f-662e-44d3-bb66-61af2ffacbae button.colab-df-convert');\n",
              "      buttonEl.style.display =\n",
              "        google.colab.kernel.accessAllowed ? 'block' : 'none';\n",
              "\n",
              "      async function convertToInteractive(key) {\n",
              "        const element = document.querySelector('#df-0a10f93f-662e-44d3-bb66-61af2ffacbae');\n",
              "        const dataTable =\n",
              "          await google.colab.kernel.invokeFunction('convertToInteractive',\n",
              "                                                    [key], {});\n",
              "        if (!dataTable) return;\n",
              "\n",
              "        const docLinkHtml = 'Like what you see? Visit the ' +\n",
              "          '<a target=\"_blank\" href=https://colab.research.google.com/notebooks/data_table.ipynb>data table notebook</a>'\n",
              "          + ' to learn more about interactive tables.';\n",
              "        element.innerHTML = '';\n",
              "        dataTable['output_type'] = 'display_data';\n",
              "        await google.colab.output.renderOutput(dataTable, element);\n",
              "        const docLink = document.createElement('div');\n",
              "        docLink.innerHTML = docLinkHtml;\n",
              "        element.appendChild(docLink);\n",
              "      }\n",
              "    </script>\n",
              "  </div>\n",
              "\n",
              "\n",
              "    <div id=\"df-875d6325-c367-4807-b6fc-818aba28b95a\">\n",
              "      <button class=\"colab-df-quickchart\" onclick=\"quickchart('df-875d6325-c367-4807-b6fc-818aba28b95a')\"\n",
              "                title=\"Suggest charts\"\n",
              "                style=\"display:none;\">\n",
              "\n",
              "<svg xmlns=\"http://www.w3.org/2000/svg\" height=\"24px\"viewBox=\"0 0 24 24\"\n",
              "     width=\"24px\">\n",
              "    <g>\n",
              "        <path d=\"M19 3H5c-1.1 0-2 .9-2 2v14c0 1.1.9 2 2 2h14c1.1 0 2-.9 2-2V5c0-1.1-.9-2-2-2zM9 17H7v-7h2v7zm4 0h-2V7h2v10zm4 0h-2v-4h2v4z\"/>\n",
              "    </g>\n",
              "</svg>\n",
              "      </button>\n",
              "\n",
              "<style>\n",
              "  .colab-df-quickchart {\n",
              "      --bg-color: #E8F0FE;\n",
              "      --fill-color: #1967D2;\n",
              "      --hover-bg-color: #E2EBFA;\n",
              "      --hover-fill-color: #174EA6;\n",
              "      --disabled-fill-color: #AAA;\n",
              "      --disabled-bg-color: #DDD;\n",
              "  }\n",
              "\n",
              "  [theme=dark] .colab-df-quickchart {\n",
              "      --bg-color: #3B4455;\n",
              "      --fill-color: #D2E3FC;\n",
              "      --hover-bg-color: #434B5C;\n",
              "      --hover-fill-color: #FFFFFF;\n",
              "      --disabled-bg-color: #3B4455;\n",
              "      --disabled-fill-color: #666;\n",
              "  }\n",
              "\n",
              "  .colab-df-quickchart {\n",
              "    background-color: var(--bg-color);\n",
              "    border: none;\n",
              "    border-radius: 50%;\n",
              "    cursor: pointer;\n",
              "    display: none;\n",
              "    fill: var(--fill-color);\n",
              "    height: 32px;\n",
              "    padding: 0;\n",
              "    width: 32px;\n",
              "  }\n",
              "\n",
              "  .colab-df-quickchart:hover {\n",
              "    background-color: var(--hover-bg-color);\n",
              "    box-shadow: 0 1px 2px rgba(60, 64, 67, 0.3), 0 1px 3px 1px rgba(60, 64, 67, 0.15);\n",
              "    fill: var(--button-hover-fill-color);\n",
              "  }\n",
              "\n",
              "  .colab-df-quickchart-complete:disabled,\n",
              "  .colab-df-quickchart-complete:disabled:hover {\n",
              "    background-color: var(--disabled-bg-color);\n",
              "    fill: var(--disabled-fill-color);\n",
              "    box-shadow: none;\n",
              "  }\n",
              "\n",
              "  .colab-df-spinner {\n",
              "    border: 2px solid var(--fill-color);\n",
              "    border-color: transparent;\n",
              "    border-bottom-color: var(--fill-color);\n",
              "    animation:\n",
              "      spin 1s steps(1) infinite;\n",
              "  }\n",
              "\n",
              "  @keyframes spin {\n",
              "    0% {\n",
              "      border-color: transparent;\n",
              "      border-bottom-color: var(--fill-color);\n",
              "      border-left-color: var(--fill-color);\n",
              "    }\n",
              "    20% {\n",
              "      border-color: transparent;\n",
              "      border-left-color: var(--fill-color);\n",
              "      border-top-color: var(--fill-color);\n",
              "    }\n",
              "    30% {\n",
              "      border-color: transparent;\n",
              "      border-left-color: var(--fill-color);\n",
              "      border-top-color: var(--fill-color);\n",
              "      border-right-color: var(--fill-color);\n",
              "    }\n",
              "    40% {\n",
              "      border-color: transparent;\n",
              "      border-right-color: var(--fill-color);\n",
              "      border-top-color: var(--fill-color);\n",
              "    }\n",
              "    60% {\n",
              "      border-color: transparent;\n",
              "      border-right-color: var(--fill-color);\n",
              "    }\n",
              "    80% {\n",
              "      border-color: transparent;\n",
              "      border-right-color: var(--fill-color);\n",
              "      border-bottom-color: var(--fill-color);\n",
              "    }\n",
              "    90% {\n",
              "      border-color: transparent;\n",
              "      border-bottom-color: var(--fill-color);\n",
              "    }\n",
              "  }\n",
              "</style>\n",
              "\n",
              "      <script>\n",
              "        async function quickchart(key) {\n",
              "          const quickchartButtonEl =\n",
              "            document.querySelector('#' + key + ' button');\n",
              "          quickchartButtonEl.disabled = true;  // To prevent multiple clicks.\n",
              "          quickchartButtonEl.classList.add('colab-df-spinner');\n",
              "          try {\n",
              "            const charts = await google.colab.kernel.invokeFunction(\n",
              "                'suggestCharts', [key], {});\n",
              "          } catch (error) {\n",
              "            console.error('Error during call to suggestCharts:', error);\n",
              "          }\n",
              "          quickchartButtonEl.classList.remove('colab-df-spinner');\n",
              "          quickchartButtonEl.classList.add('colab-df-quickchart-complete');\n",
              "        }\n",
              "        (() => {\n",
              "          let quickchartButtonEl =\n",
              "            document.querySelector('#df-875d6325-c367-4807-b6fc-818aba28b95a button');\n",
              "          quickchartButtonEl.style.display =\n",
              "            google.colab.kernel.accessAllowed ? 'block' : 'none';\n",
              "        })();\n",
              "      </script>\n",
              "    </div>\n",
              "\n",
              "    </div>\n",
              "  </div>\n"
            ],
            "application/vnd.google.colaboratory.intrinsic+json": {
              "type": "dataframe",
              "summary": "{\n  \"name\": \"df_sample_submission\",\n  \"rows\": 2,\n  \"fields\": [\n    {\n      \"column\": \"id\",\n      \"properties\": {\n        \"dtype\": \"number\",\n        \"std\": 290036,\n        \"min\": 128377159,\n        \"max\": 128787333,\n        \"num_unique_values\": 2,\n        \"samples\": [\n          128377159,\n          128787333\n        ],\n        \"semantic_type\": \"\",\n        \"description\": \"\"\n      }\n    },\n    {\n      \"column\": \"unit_sales\",\n      \"properties\": {\n        \"dtype\": \"number\",\n        \"std\": 0,\n        \"min\": 0,\n        \"max\": 0,\n        \"num_unique_values\": 1,\n        \"samples\": [\n          0\n        ],\n        \"semantic_type\": \"\",\n        \"description\": \"\"\n      }\n    }\n  ]\n}"
            }
          },
          "metadata": {},
          "execution_count": 53
        }
      ],
      "source": [
        "df_sample_submission.sample(2)"
      ]
    },
    {
      "cell_type": "code",
      "execution_count": null,
      "metadata": {
        "id": "EiIsvUMCII4J",
        "colab": {
          "base_uri": "https://localhost:8080/"
        },
        "outputId": "e88a2fd2-c9d3-40e7-a577-edb6cf63a8d7"
      },
      "outputs": [
        {
          "output_type": "execute_result",
          "data": {
            "text/plain": [
              "1"
            ]
          },
          "metadata": {},
          "execution_count": 54
        }
      ],
      "source": [
        "df_sample_submission[\"unit_sales\"].nunique()"
      ]
    },
    {
      "cell_type": "code",
      "execution_count": null,
      "metadata": {
        "id": "Y_znic07ieVs"
      },
      "outputs": [],
      "source": [
        "del query_sample_submission\n",
        "del df_sample_submission"
      ]
    },
    {
      "cell_type": "markdown",
      "metadata": {
        "id": "EQ4B9mgMJr5Y"
      },
      "source": [
        "### test"
      ]
    },
    {
      "cell_type": "code",
      "execution_count": null,
      "metadata": {
        "id": "0sRA5fbIJwhe"
      },
      "outputs": [],
      "source": [
        "query_test_only = \"\"\"\n",
        "  SELECT *\n",
        "  FROM test\n",
        "\"\"\""
      ]
    },
    {
      "cell_type": "code",
      "execution_count": null,
      "metadata": {
        "id": "GaZ3LVepKV4R",
        "colab": {
          "base_uri": "https://localhost:8080/"
        },
        "outputId": "36f609a1-d7a2-4622-dc1d-23aa040ec3d5"
      },
      "outputs": [
        {
          "output_type": "execute_result",
          "data": {
            "text/plain": [
              "(3370464, 5)"
            ]
          },
          "metadata": {},
          "execution_count": 57
        }
      ],
      "source": [
        "df_test_only = pd.read_sql_query(query_test_only, engine)\n",
        "df_test_only.shape"
      ]
    },
    {
      "cell_type": "code",
      "execution_count": null,
      "metadata": {
        "id": "76NhlTrjKs_I",
        "colab": {
          "base_uri": "https://localhost:8080/",
          "height": 112
        },
        "outputId": "97e2034c-a27a-41ad-aa5c-1944f68595ff"
      },
      "outputs": [
        {
          "output_type": "execute_result",
          "data": {
            "text/plain": [
              "                id                 date  store_nbr  item_nbr  onpromotion\n",
              "3333647  128830687  2017-08-31 00:00:00         45   1400328            0\n",
              "2430383  127927423  2017-08-27 00:00:00         30    123927            0"
            ],
            "text/html": [
              "\n",
              "  <div id=\"df-4117b488-1534-4cb0-a28d-6b8ff0c26327\" class=\"colab-df-container\">\n",
              "    <div>\n",
              "<style scoped>\n",
              "    .dataframe tbody tr th:only-of-type {\n",
              "        vertical-align: middle;\n",
              "    }\n",
              "\n",
              "    .dataframe tbody tr th {\n",
              "        vertical-align: top;\n",
              "    }\n",
              "\n",
              "    .dataframe thead th {\n",
              "        text-align: right;\n",
              "    }\n",
              "</style>\n",
              "<table border=\"1\" class=\"dataframe\">\n",
              "  <thead>\n",
              "    <tr style=\"text-align: right;\">\n",
              "      <th></th>\n",
              "      <th>id</th>\n",
              "      <th>date</th>\n",
              "      <th>store_nbr</th>\n",
              "      <th>item_nbr</th>\n",
              "      <th>onpromotion</th>\n",
              "    </tr>\n",
              "  </thead>\n",
              "  <tbody>\n",
              "    <tr>\n",
              "      <th>3333647</th>\n",
              "      <td>128830687</td>\n",
              "      <td>2017-08-31 00:00:00</td>\n",
              "      <td>45</td>\n",
              "      <td>1400328</td>\n",
              "      <td>0</td>\n",
              "    </tr>\n",
              "    <tr>\n",
              "      <th>2430383</th>\n",
              "      <td>127927423</td>\n",
              "      <td>2017-08-27 00:00:00</td>\n",
              "      <td>30</td>\n",
              "      <td>123927</td>\n",
              "      <td>0</td>\n",
              "    </tr>\n",
              "  </tbody>\n",
              "</table>\n",
              "</div>\n",
              "    <div class=\"colab-df-buttons\">\n",
              "\n",
              "  <div class=\"colab-df-container\">\n",
              "    <button class=\"colab-df-convert\" onclick=\"convertToInteractive('df-4117b488-1534-4cb0-a28d-6b8ff0c26327')\"\n",
              "            title=\"Convert this dataframe to an interactive table.\"\n",
              "            style=\"display:none;\">\n",
              "\n",
              "  <svg xmlns=\"http://www.w3.org/2000/svg\" height=\"24px\" viewBox=\"0 -960 960 960\">\n",
              "    <path d=\"M120-120v-720h720v720H120Zm60-500h600v-160H180v160Zm220 220h160v-160H400v160Zm0 220h160v-160H400v160ZM180-400h160v-160H180v160Zm440 0h160v-160H620v160ZM180-180h160v-160H180v160Zm440 0h160v-160H620v160Z\"/>\n",
              "  </svg>\n",
              "    </button>\n",
              "\n",
              "  <style>\n",
              "    .colab-df-container {\n",
              "      display:flex;\n",
              "      gap: 12px;\n",
              "    }\n",
              "\n",
              "    .colab-df-convert {\n",
              "      background-color: #E8F0FE;\n",
              "      border: none;\n",
              "      border-radius: 50%;\n",
              "      cursor: pointer;\n",
              "      display: none;\n",
              "      fill: #1967D2;\n",
              "      height: 32px;\n",
              "      padding: 0 0 0 0;\n",
              "      width: 32px;\n",
              "    }\n",
              "\n",
              "    .colab-df-convert:hover {\n",
              "      background-color: #E2EBFA;\n",
              "      box-shadow: 0px 1px 2px rgba(60, 64, 67, 0.3), 0px 1px 3px 1px rgba(60, 64, 67, 0.15);\n",
              "      fill: #174EA6;\n",
              "    }\n",
              "\n",
              "    .colab-df-buttons div {\n",
              "      margin-bottom: 4px;\n",
              "    }\n",
              "\n",
              "    [theme=dark] .colab-df-convert {\n",
              "      background-color: #3B4455;\n",
              "      fill: #D2E3FC;\n",
              "    }\n",
              "\n",
              "    [theme=dark] .colab-df-convert:hover {\n",
              "      background-color: #434B5C;\n",
              "      box-shadow: 0px 1px 3px 1px rgba(0, 0, 0, 0.15);\n",
              "      filter: drop-shadow(0px 1px 2px rgba(0, 0, 0, 0.3));\n",
              "      fill: #FFFFFF;\n",
              "    }\n",
              "  </style>\n",
              "\n",
              "    <script>\n",
              "      const buttonEl =\n",
              "        document.querySelector('#df-4117b488-1534-4cb0-a28d-6b8ff0c26327 button.colab-df-convert');\n",
              "      buttonEl.style.display =\n",
              "        google.colab.kernel.accessAllowed ? 'block' : 'none';\n",
              "\n",
              "      async function convertToInteractive(key) {\n",
              "        const element = document.querySelector('#df-4117b488-1534-4cb0-a28d-6b8ff0c26327');\n",
              "        const dataTable =\n",
              "          await google.colab.kernel.invokeFunction('convertToInteractive',\n",
              "                                                    [key], {});\n",
              "        if (!dataTable) return;\n",
              "\n",
              "        const docLinkHtml = 'Like what you see? Visit the ' +\n",
              "          '<a target=\"_blank\" href=https://colab.research.google.com/notebooks/data_table.ipynb>data table notebook</a>'\n",
              "          + ' to learn more about interactive tables.';\n",
              "        element.innerHTML = '';\n",
              "        dataTable['output_type'] = 'display_data';\n",
              "        await google.colab.output.renderOutput(dataTable, element);\n",
              "        const docLink = document.createElement('div');\n",
              "        docLink.innerHTML = docLinkHtml;\n",
              "        element.appendChild(docLink);\n",
              "      }\n",
              "    </script>\n",
              "  </div>\n",
              "\n",
              "\n",
              "    <div id=\"df-b1db40d8-f4b0-4a9e-883b-62583df252b7\">\n",
              "      <button class=\"colab-df-quickchart\" onclick=\"quickchart('df-b1db40d8-f4b0-4a9e-883b-62583df252b7')\"\n",
              "                title=\"Suggest charts\"\n",
              "                style=\"display:none;\">\n",
              "\n",
              "<svg xmlns=\"http://www.w3.org/2000/svg\" height=\"24px\"viewBox=\"0 0 24 24\"\n",
              "     width=\"24px\">\n",
              "    <g>\n",
              "        <path d=\"M19 3H5c-1.1 0-2 .9-2 2v14c0 1.1.9 2 2 2h14c1.1 0 2-.9 2-2V5c0-1.1-.9-2-2-2zM9 17H7v-7h2v7zm4 0h-2V7h2v10zm4 0h-2v-4h2v4z\"/>\n",
              "    </g>\n",
              "</svg>\n",
              "      </button>\n",
              "\n",
              "<style>\n",
              "  .colab-df-quickchart {\n",
              "      --bg-color: #E8F0FE;\n",
              "      --fill-color: #1967D2;\n",
              "      --hover-bg-color: #E2EBFA;\n",
              "      --hover-fill-color: #174EA6;\n",
              "      --disabled-fill-color: #AAA;\n",
              "      --disabled-bg-color: #DDD;\n",
              "  }\n",
              "\n",
              "  [theme=dark] .colab-df-quickchart {\n",
              "      --bg-color: #3B4455;\n",
              "      --fill-color: #D2E3FC;\n",
              "      --hover-bg-color: #434B5C;\n",
              "      --hover-fill-color: #FFFFFF;\n",
              "      --disabled-bg-color: #3B4455;\n",
              "      --disabled-fill-color: #666;\n",
              "  }\n",
              "\n",
              "  .colab-df-quickchart {\n",
              "    background-color: var(--bg-color);\n",
              "    border: none;\n",
              "    border-radius: 50%;\n",
              "    cursor: pointer;\n",
              "    display: none;\n",
              "    fill: var(--fill-color);\n",
              "    height: 32px;\n",
              "    padding: 0;\n",
              "    width: 32px;\n",
              "  }\n",
              "\n",
              "  .colab-df-quickchart:hover {\n",
              "    background-color: var(--hover-bg-color);\n",
              "    box-shadow: 0 1px 2px rgba(60, 64, 67, 0.3), 0 1px 3px 1px rgba(60, 64, 67, 0.15);\n",
              "    fill: var(--button-hover-fill-color);\n",
              "  }\n",
              "\n",
              "  .colab-df-quickchart-complete:disabled,\n",
              "  .colab-df-quickchart-complete:disabled:hover {\n",
              "    background-color: var(--disabled-bg-color);\n",
              "    fill: var(--disabled-fill-color);\n",
              "    box-shadow: none;\n",
              "  }\n",
              "\n",
              "  .colab-df-spinner {\n",
              "    border: 2px solid var(--fill-color);\n",
              "    border-color: transparent;\n",
              "    border-bottom-color: var(--fill-color);\n",
              "    animation:\n",
              "      spin 1s steps(1) infinite;\n",
              "  }\n",
              "\n",
              "  @keyframes spin {\n",
              "    0% {\n",
              "      border-color: transparent;\n",
              "      border-bottom-color: var(--fill-color);\n",
              "      border-left-color: var(--fill-color);\n",
              "    }\n",
              "    20% {\n",
              "      border-color: transparent;\n",
              "      border-left-color: var(--fill-color);\n",
              "      border-top-color: var(--fill-color);\n",
              "    }\n",
              "    30% {\n",
              "      border-color: transparent;\n",
              "      border-left-color: var(--fill-color);\n",
              "      border-top-color: var(--fill-color);\n",
              "      border-right-color: var(--fill-color);\n",
              "    }\n",
              "    40% {\n",
              "      border-color: transparent;\n",
              "      border-right-color: var(--fill-color);\n",
              "      border-top-color: var(--fill-color);\n",
              "    }\n",
              "    60% {\n",
              "      border-color: transparent;\n",
              "      border-right-color: var(--fill-color);\n",
              "    }\n",
              "    80% {\n",
              "      border-color: transparent;\n",
              "      border-right-color: var(--fill-color);\n",
              "      border-bottom-color: var(--fill-color);\n",
              "    }\n",
              "    90% {\n",
              "      border-color: transparent;\n",
              "      border-bottom-color: var(--fill-color);\n",
              "    }\n",
              "  }\n",
              "</style>\n",
              "\n",
              "      <script>\n",
              "        async function quickchart(key) {\n",
              "          const quickchartButtonEl =\n",
              "            document.querySelector('#' + key + ' button');\n",
              "          quickchartButtonEl.disabled = true;  // To prevent multiple clicks.\n",
              "          quickchartButtonEl.classList.add('colab-df-spinner');\n",
              "          try {\n",
              "            const charts = await google.colab.kernel.invokeFunction(\n",
              "                'suggestCharts', [key], {});\n",
              "          } catch (error) {\n",
              "            console.error('Error during call to suggestCharts:', error);\n",
              "          }\n",
              "          quickchartButtonEl.classList.remove('colab-df-spinner');\n",
              "          quickchartButtonEl.classList.add('colab-df-quickchart-complete');\n",
              "        }\n",
              "        (() => {\n",
              "          let quickchartButtonEl =\n",
              "            document.querySelector('#df-b1db40d8-f4b0-4a9e-883b-62583df252b7 button');\n",
              "          quickchartButtonEl.style.display =\n",
              "            google.colab.kernel.accessAllowed ? 'block' : 'none';\n",
              "        })();\n",
              "      </script>\n",
              "    </div>\n",
              "\n",
              "    </div>\n",
              "  </div>\n"
            ],
            "application/vnd.google.colaboratory.intrinsic+json": {
              "type": "dataframe",
              "repr_error": "0"
            }
          },
          "metadata": {},
          "execution_count": 58
        }
      ],
      "source": [
        "df_test_only.sample(2)"
      ]
    },
    {
      "cell_type": "code",
      "execution_count": null,
      "metadata": {
        "id": "rdO-l2G_MIcZ"
      },
      "outputs": [],
      "source": [
        "df_test_only[\"date\"] = pd.to_datetime(df_test_only[\"date\"], errors='coerce').dt.date"
      ]
    },
    {
      "cell_type": "code",
      "execution_count": null,
      "metadata": {
        "id": "NomcAx2jjFJW",
        "colab": {
          "base_uri": "https://localhost:8080/"
        },
        "outputId": "eca73e04-a0b6-4ccb-989f-45a08d460b91"
      },
      "outputs": [
        {
          "output_type": "stream",
          "name": "stdout",
          "text": [
            "🕓 Min date: 2017-08-16\n",
            "🕔 Max date: 2017-08-31\n"
          ]
        }
      ],
      "source": [
        "print(\"🕓 Min date:\", df_test_only[\"date\"].min())\n",
        "print(\"🕔 Max date:\", df_test_only[\"date\"].max())"
      ]
    },
    {
      "cell_type": "code",
      "execution_count": null,
      "metadata": {
        "id": "ERG9q59ULcOe",
        "colab": {
          "base_uri": "https://localhost:8080/",
          "height": 112
        },
        "outputId": "72ccb90f-8a96-4b81-fc1d-708013dd8c27"
      },
      "outputs": [
        {
          "output_type": "execute_result",
          "data": {
            "text/plain": [
              "                id        date  store_nbr  item_nbr  onpromotion\n",
              "2824944  128321984  2017-08-29         23    554047            0\n",
              "450248   125947288  2017-08-18          8   1146802            0"
            ],
            "text/html": [
              "\n",
              "  <div id=\"df-415d9673-745b-4023-a14f-d91ef7866092\" class=\"colab-df-container\">\n",
              "    <div>\n",
              "<style scoped>\n",
              "    .dataframe tbody tr th:only-of-type {\n",
              "        vertical-align: middle;\n",
              "    }\n",
              "\n",
              "    .dataframe tbody tr th {\n",
              "        vertical-align: top;\n",
              "    }\n",
              "\n",
              "    .dataframe thead th {\n",
              "        text-align: right;\n",
              "    }\n",
              "</style>\n",
              "<table border=\"1\" class=\"dataframe\">\n",
              "  <thead>\n",
              "    <tr style=\"text-align: right;\">\n",
              "      <th></th>\n",
              "      <th>id</th>\n",
              "      <th>date</th>\n",
              "      <th>store_nbr</th>\n",
              "      <th>item_nbr</th>\n",
              "      <th>onpromotion</th>\n",
              "    </tr>\n",
              "  </thead>\n",
              "  <tbody>\n",
              "    <tr>\n",
              "      <th>2824944</th>\n",
              "      <td>128321984</td>\n",
              "      <td>2017-08-29</td>\n",
              "      <td>23</td>\n",
              "      <td>554047</td>\n",
              "      <td>0</td>\n",
              "    </tr>\n",
              "    <tr>\n",
              "      <th>450248</th>\n",
              "      <td>125947288</td>\n",
              "      <td>2017-08-18</td>\n",
              "      <td>8</td>\n",
              "      <td>1146802</td>\n",
              "      <td>0</td>\n",
              "    </tr>\n",
              "  </tbody>\n",
              "</table>\n",
              "</div>\n",
              "    <div class=\"colab-df-buttons\">\n",
              "\n",
              "  <div class=\"colab-df-container\">\n",
              "    <button class=\"colab-df-convert\" onclick=\"convertToInteractive('df-415d9673-745b-4023-a14f-d91ef7866092')\"\n",
              "            title=\"Convert this dataframe to an interactive table.\"\n",
              "            style=\"display:none;\">\n",
              "\n",
              "  <svg xmlns=\"http://www.w3.org/2000/svg\" height=\"24px\" viewBox=\"0 -960 960 960\">\n",
              "    <path d=\"M120-120v-720h720v720H120Zm60-500h600v-160H180v160Zm220 220h160v-160H400v160Zm0 220h160v-160H400v160ZM180-400h160v-160H180v160Zm440 0h160v-160H620v160ZM180-180h160v-160H180v160Zm440 0h160v-160H620v160Z\"/>\n",
              "  </svg>\n",
              "    </button>\n",
              "\n",
              "  <style>\n",
              "    .colab-df-container {\n",
              "      display:flex;\n",
              "      gap: 12px;\n",
              "    }\n",
              "\n",
              "    .colab-df-convert {\n",
              "      background-color: #E8F0FE;\n",
              "      border: none;\n",
              "      border-radius: 50%;\n",
              "      cursor: pointer;\n",
              "      display: none;\n",
              "      fill: #1967D2;\n",
              "      height: 32px;\n",
              "      padding: 0 0 0 0;\n",
              "      width: 32px;\n",
              "    }\n",
              "\n",
              "    .colab-df-convert:hover {\n",
              "      background-color: #E2EBFA;\n",
              "      box-shadow: 0px 1px 2px rgba(60, 64, 67, 0.3), 0px 1px 3px 1px rgba(60, 64, 67, 0.15);\n",
              "      fill: #174EA6;\n",
              "    }\n",
              "\n",
              "    .colab-df-buttons div {\n",
              "      margin-bottom: 4px;\n",
              "    }\n",
              "\n",
              "    [theme=dark] .colab-df-convert {\n",
              "      background-color: #3B4455;\n",
              "      fill: #D2E3FC;\n",
              "    }\n",
              "\n",
              "    [theme=dark] .colab-df-convert:hover {\n",
              "      background-color: #434B5C;\n",
              "      box-shadow: 0px 1px 3px 1px rgba(0, 0, 0, 0.15);\n",
              "      filter: drop-shadow(0px 1px 2px rgba(0, 0, 0, 0.3));\n",
              "      fill: #FFFFFF;\n",
              "    }\n",
              "  </style>\n",
              "\n",
              "    <script>\n",
              "      const buttonEl =\n",
              "        document.querySelector('#df-415d9673-745b-4023-a14f-d91ef7866092 button.colab-df-convert');\n",
              "      buttonEl.style.display =\n",
              "        google.colab.kernel.accessAllowed ? 'block' : 'none';\n",
              "\n",
              "      async function convertToInteractive(key) {\n",
              "        const element = document.querySelector('#df-415d9673-745b-4023-a14f-d91ef7866092');\n",
              "        const dataTable =\n",
              "          await google.colab.kernel.invokeFunction('convertToInteractive',\n",
              "                                                    [key], {});\n",
              "        if (!dataTable) return;\n",
              "\n",
              "        const docLinkHtml = 'Like what you see? Visit the ' +\n",
              "          '<a target=\"_blank\" href=https://colab.research.google.com/notebooks/data_table.ipynb>data table notebook</a>'\n",
              "          + ' to learn more about interactive tables.';\n",
              "        element.innerHTML = '';\n",
              "        dataTable['output_type'] = 'display_data';\n",
              "        await google.colab.output.renderOutput(dataTable, element);\n",
              "        const docLink = document.createElement('div');\n",
              "        docLink.innerHTML = docLinkHtml;\n",
              "        element.appendChild(docLink);\n",
              "      }\n",
              "    </script>\n",
              "  </div>\n",
              "\n",
              "\n",
              "    <div id=\"df-66c51dc0-5415-445c-9273-3bb44c730ae1\">\n",
              "      <button class=\"colab-df-quickchart\" onclick=\"quickchart('df-66c51dc0-5415-445c-9273-3bb44c730ae1')\"\n",
              "                title=\"Suggest charts\"\n",
              "                style=\"display:none;\">\n",
              "\n",
              "<svg xmlns=\"http://www.w3.org/2000/svg\" height=\"24px\"viewBox=\"0 0 24 24\"\n",
              "     width=\"24px\">\n",
              "    <g>\n",
              "        <path d=\"M19 3H5c-1.1 0-2 .9-2 2v14c0 1.1.9 2 2 2h14c1.1 0 2-.9 2-2V5c0-1.1-.9-2-2-2zM9 17H7v-7h2v7zm4 0h-2V7h2v10zm4 0h-2v-4h2v4z\"/>\n",
              "    </g>\n",
              "</svg>\n",
              "      </button>\n",
              "\n",
              "<style>\n",
              "  .colab-df-quickchart {\n",
              "      --bg-color: #E8F0FE;\n",
              "      --fill-color: #1967D2;\n",
              "      --hover-bg-color: #E2EBFA;\n",
              "      --hover-fill-color: #174EA6;\n",
              "      --disabled-fill-color: #AAA;\n",
              "      --disabled-bg-color: #DDD;\n",
              "  }\n",
              "\n",
              "  [theme=dark] .colab-df-quickchart {\n",
              "      --bg-color: #3B4455;\n",
              "      --fill-color: #D2E3FC;\n",
              "      --hover-bg-color: #434B5C;\n",
              "      --hover-fill-color: #FFFFFF;\n",
              "      --disabled-bg-color: #3B4455;\n",
              "      --disabled-fill-color: #666;\n",
              "  }\n",
              "\n",
              "  .colab-df-quickchart {\n",
              "    background-color: var(--bg-color);\n",
              "    border: none;\n",
              "    border-radius: 50%;\n",
              "    cursor: pointer;\n",
              "    display: none;\n",
              "    fill: var(--fill-color);\n",
              "    height: 32px;\n",
              "    padding: 0;\n",
              "    width: 32px;\n",
              "  }\n",
              "\n",
              "  .colab-df-quickchart:hover {\n",
              "    background-color: var(--hover-bg-color);\n",
              "    box-shadow: 0 1px 2px rgba(60, 64, 67, 0.3), 0 1px 3px 1px rgba(60, 64, 67, 0.15);\n",
              "    fill: var(--button-hover-fill-color);\n",
              "  }\n",
              "\n",
              "  .colab-df-quickchart-complete:disabled,\n",
              "  .colab-df-quickchart-complete:disabled:hover {\n",
              "    background-color: var(--disabled-bg-color);\n",
              "    fill: var(--disabled-fill-color);\n",
              "    box-shadow: none;\n",
              "  }\n",
              "\n",
              "  .colab-df-spinner {\n",
              "    border: 2px solid var(--fill-color);\n",
              "    border-color: transparent;\n",
              "    border-bottom-color: var(--fill-color);\n",
              "    animation:\n",
              "      spin 1s steps(1) infinite;\n",
              "  }\n",
              "\n",
              "  @keyframes spin {\n",
              "    0% {\n",
              "      border-color: transparent;\n",
              "      border-bottom-color: var(--fill-color);\n",
              "      border-left-color: var(--fill-color);\n",
              "    }\n",
              "    20% {\n",
              "      border-color: transparent;\n",
              "      border-left-color: var(--fill-color);\n",
              "      border-top-color: var(--fill-color);\n",
              "    }\n",
              "    30% {\n",
              "      border-color: transparent;\n",
              "      border-left-color: var(--fill-color);\n",
              "      border-top-color: var(--fill-color);\n",
              "      border-right-color: var(--fill-color);\n",
              "    }\n",
              "    40% {\n",
              "      border-color: transparent;\n",
              "      border-right-color: var(--fill-color);\n",
              "      border-top-color: var(--fill-color);\n",
              "    }\n",
              "    60% {\n",
              "      border-color: transparent;\n",
              "      border-right-color: var(--fill-color);\n",
              "    }\n",
              "    80% {\n",
              "      border-color: transparent;\n",
              "      border-right-color: var(--fill-color);\n",
              "      border-bottom-color: var(--fill-color);\n",
              "    }\n",
              "    90% {\n",
              "      border-color: transparent;\n",
              "      border-bottom-color: var(--fill-color);\n",
              "    }\n",
              "  }\n",
              "</style>\n",
              "\n",
              "      <script>\n",
              "        async function quickchart(key) {\n",
              "          const quickchartButtonEl =\n",
              "            document.querySelector('#' + key + ' button');\n",
              "          quickchartButtonEl.disabled = true;  // To prevent multiple clicks.\n",
              "          quickchartButtonEl.classList.add('colab-df-spinner');\n",
              "          try {\n",
              "            const charts = await google.colab.kernel.invokeFunction(\n",
              "                'suggestCharts', [key], {});\n",
              "          } catch (error) {\n",
              "            console.error('Error during call to suggestCharts:', error);\n",
              "          }\n",
              "          quickchartButtonEl.classList.remove('colab-df-spinner');\n",
              "          quickchartButtonEl.classList.add('colab-df-quickchart-complete');\n",
              "        }\n",
              "        (() => {\n",
              "          let quickchartButtonEl =\n",
              "            document.querySelector('#df-66c51dc0-5415-445c-9273-3bb44c730ae1 button');\n",
              "          quickchartButtonEl.style.display =\n",
              "            google.colab.kernel.accessAllowed ? 'block' : 'none';\n",
              "        })();\n",
              "      </script>\n",
              "    </div>\n",
              "\n",
              "    </div>\n",
              "  </div>\n"
            ],
            "application/vnd.google.colaboratory.intrinsic+json": {
              "type": "dataframe",
              "repr_error": "0"
            }
          },
          "metadata": {},
          "execution_count": 61
        }
      ],
      "source": [
        "df_test_only.sample(2)"
      ]
    },
    {
      "cell_type": "code",
      "execution_count": null,
      "metadata": {
        "id": "zRGT5wmziqQG"
      },
      "outputs": [],
      "source": [
        "del query_test_only\n",
        "del df_test_only"
      ]
    },
    {
      "cell_type": "code",
      "execution_count": null,
      "metadata": {
        "id": "CwyoNN0MmqKe",
        "colab": {
          "base_uri": "https://localhost:8080/"
        },
        "outputId": "6ed35537-ac3d-491d-aa3e-06b8864e67a6"
      },
      "outputs": [
        {
          "output_type": "execute_result",
          "data": {
            "text/plain": [
              "17"
            ]
          },
          "metadata": {},
          "execution_count": 63
        }
      ],
      "source": [
        "gc.collect() # gc.collect() are for garbage collection — basically cleaning up memory that Python no longer needs"
      ]
    },
    {
      "cell_type": "markdown",
      "metadata": {
        "id": "gYnNJEDipQDU"
      },
      "source": [
        "If I would delete all \"oil\" 0 values before my download from SQL - I may miss some of my \"holidays\" values"
      ]
    },
    {
      "cell_type": "code",
      "execution_count": null,
      "metadata": {
        "id": "qVvgzMVBAvDi"
      },
      "outputs": [],
      "source": [
        "query_test = \"\"\"\n",
        "WITH top_families AS (\n",
        "    SELECT items.family\n",
        "    FROM train\n",
        "    JOIN items ON train.item_nbr = items.item_nbr\n",
        "    WHERE train.unit_sales >= 0\n",
        "    GROUP BY items.family\n",
        "    ORDER BY SUM(train.unit_sales) DESC\n",
        "    LIMIT 3\n",
        ")\n",
        "\n",
        "SELECT\n",
        "    test.date AS test_date,\n",
        "    test.store_nbr,\n",
        "    test.item_nbr,\n",
        "    test.onpromotion,\n",
        "    sample_submission.unit_sales,\n",
        "    oil.dcoilwtico,\n",
        "    holidays_events.type AS holiday_type,\n",
        "    holidays_events.locale,\n",
        "    holidays_events.transferred,\n",
        "    stores.city,\n",
        "    stores.type AS store_type,\n",
        "    stores.cluster AS store_cluster,\n",
        "    items.family AS items_family,\n",
        "    items.class AS item_class,\n",
        "    items.perishable AS perishable_items,\n",
        "    transactions.transactions\n",
        "\n",
        "FROM test\n",
        "\n",
        "-- Historical unit sales for same store/item/date (if available)\n",
        "LEFT JOIN train\n",
        "  ON test.store_nbr = train.store_nbr\n",
        "  AND test.item_nbr = train.item_nbr\n",
        "  AND DATE(test.date) = DATE(train.date)\n",
        "\n",
        "LEFT JOIN oil\n",
        "  ON DATE(test.date) = DATE(oil.date)\n",
        "\n",
        "LEFT JOIN sample_submission\n",
        "  ON test.id = sample_submission.id\n",
        "\n",
        "LEFT JOIN holidays_events\n",
        "  ON DATE(test.date) = DATE(holidays_events.date)\n",
        "\n",
        "LEFT JOIN stores\n",
        "  ON test.store_nbr = stores.store_nbr\n",
        "\n",
        "LEFT JOIN items\n",
        "  ON test.item_nbr = items.item_nbr\n",
        "\n",
        "LEFT JOIN transactions\n",
        "  ON DATE(test.date) = DATE(transactions.date)\n",
        "     AND test.store_nbr = transactions.store_nbr\n",
        "\n",
        "-- ✅ Only keep top 3 families\n",
        "WHERE items.family IN (SELECT family FROM top_families)\n",
        "\n",
        "LIMIT 25000;\n",
        "\"\"\""
      ]
    },
    {
      "cell_type": "code",
      "execution_count": null,
      "metadata": {
        "id": "U0ycRWz-QWuM",
        "colab": {
          "base_uri": "https://localhost:8080/"
        },
        "outputId": "688696e5-b7f6-4baa-f0b3-2aaa08668af8"
      },
      "outputs": [
        {
          "output_type": "execute_result",
          "data": {
            "text/plain": [
              "(25000, 16)"
            ]
          },
          "metadata": {},
          "execution_count": 65
        }
      ],
      "source": [
        "df_test_download = pd.read_sql_query(query_test, engine)\n",
        "df_test = df_test_download.copy()\n",
        "df_test.shape"
      ]
    },
    {
      "cell_type": "code",
      "execution_count": null,
      "metadata": {
        "id": "CtMasJiKWJSs",
        "colab": {
          "base_uri": "https://localhost:8080/"
        },
        "outputId": "f392b58c-4b04-487b-a1b0-d01a64a65acb"
      },
      "outputs": [
        {
          "output_type": "execute_result",
          "data": {
            "text/plain": [
              "['df_test_download.joblib.gz']"
            ]
          },
          "metadata": {},
          "execution_count": 66
        }
      ],
      "source": [
        "# Save the DataFrame to a compressed file\n",
        "joblib.dump(df_test_download, 'df_test_download.joblib.gz', compress=('gzip', 3))\n",
        "\n",
        "# You can load it back later like this:\n",
        "# df_test_download = joblib.load('df_test_download.joblib.gz')"
      ]
    },
    {
      "cell_type": "markdown",
      "metadata": {
        "id": "hhkw06slrDo4"
      },
      "source": [
        "after a doble check I found that my items' purchase time is not in minutes or hours, for saving the data size I will reduce df_test[\"test date\"] also df_train[\"train_date\"] to days"
      ]
    },
    {
      "cell_type": "code",
      "execution_count": null,
      "metadata": {
        "id": "gP2nFBcvRjR4"
      },
      "outputs": [],
      "source": [
        "df_test[\"test_date\"] = pd.to_datetime(df_test[\"test_date\"], errors='coerce').dt.date"
      ]
    },
    {
      "cell_type": "code",
      "execution_count": null,
      "metadata": {
        "id": "Medwd0ZbphQi"
      },
      "outputs": [],
      "source": [
        "df_test[\"onpromotion\"] = df_test[\"onpromotion\"].fillna(False).astype('bool')\n",
        "df_test[\"onpromotion\"] = df_test[\"onpromotion\"].astype('int8')"
      ]
    },
    {
      "cell_type": "markdown",
      "metadata": {
        "id": "qxErSDDQSF8V"
      },
      "source": [
        "I add a column \"weekday\" so it should be easier analise \"holidays\" influence"
      ]
    },
    {
      "cell_type": "code",
      "execution_count": null,
      "metadata": {
        "id": "y1X_oUKQRyqR"
      },
      "outputs": [],
      "source": [
        "df_test[\"test_date\"] = pd.to_datetime(df_test[\"test_date\"], errors='coerce')\n",
        "df_test[\"weekday\"] = df_test[\"test_date\"].dt.weekday"
      ]
    },
    {
      "cell_type": "markdown",
      "metadata": {
        "id": "IDWy7rr4VKHg"
      },
      "source": [
        "some of the cleaning comes from the later one done on df_train data"
      ]
    },
    {
      "cell_type": "code",
      "execution_count": null,
      "metadata": {
        "id": "beNpFJgNaEpl",
        "colab": {
          "base_uri": "https://localhost:8080/"
        },
        "outputId": "acc7183c-1caf-4def-aa4d-caef0bb17093"
      },
      "outputs": [
        {
          "output_type": "stream",
          "name": "stderr",
          "text": [
            "<ipython-input-70-abfcd4d6f004>:1: FutureWarning: Downcasting object dtype arrays on .fillna, .ffill, .bfill is deprecated and will change in a future version. Call result.infer_objects(copy=False) instead. To opt-in to the future behavior, set `pd.set_option('future.no_silent_downcasting', True)`\n",
            "  df_test[\"store_cluster\"] = df_test[\"store_cluster\"].fillna(0).astype('int8')\n"
          ]
        }
      ],
      "source": [
        "df_test[\"store_cluster\"] = df_test[\"store_cluster\"].fillna(0).astype('int8')"
      ]
    },
    {
      "cell_type": "code",
      "execution_count": null,
      "metadata": {
        "id": "OQxMqxQAWRdF",
        "colab": {
          "base_uri": "https://localhost:8080/"
        },
        "outputId": "3bbef81f-1320-4e18-ee0c-33f88def0fc2"
      },
      "outputs": [
        {
          "output_type": "stream",
          "name": "stderr",
          "text": [
            "<ipython-input-71-6b718e39fbf4>:1: FutureWarning: Downcasting object dtype arrays on .fillna, .ffill, .bfill is deprecated and will change in a future version. Call result.infer_objects(copy=False) instead. To opt-in to the future behavior, set `pd.set_option('future.no_silent_downcasting', True)`\n",
            "  df_test[\"transferred\"] = df_test[\"transferred\"].fillna(False).astype('bool')\n"
          ]
        }
      ],
      "source": [
        "df_test[\"transferred\"] = df_test[\"transferred\"].fillna(False).astype('bool')\n",
        "df_test[\"transferred\"] = df_test[\"transferred\"].astype('int8')"
      ]
    },
    {
      "cell_type": "code",
      "execution_count": null,
      "metadata": {
        "id": "Ou_3-T_Vcm-F",
        "colab": {
          "base_uri": "https://localhost:8080/"
        },
        "outputId": "5af7c60d-c319-4b5f-ef0e-cf17693434ed"
      },
      "outputs": [
        {
          "output_type": "stream",
          "name": "stderr",
          "text": [
            "<ipython-input-72-53e2b53091cc>:2: FutureWarning: Series.fillna with 'method' is deprecated and will raise in a future version. Use obj.ffill() or obj.bfill() instead.\n",
            "  df_test['dcoilwtico'] = df_test['dcoilwtico'].fillna(method='ffill').fillna(method='bfill')\n"
          ]
        }
      ],
      "source": [
        "# Fill NaN in 'dcoilwtico' (oil price) with previous available value\n",
        "df_test['dcoilwtico'] = df_test['dcoilwtico'].fillna(method='ffill').fillna(method='bfill')"
      ]
    },
    {
      "cell_type": "code",
      "execution_count": null,
      "metadata": {
        "id": "XLiJ91aEQ6TF",
        "colab": {
          "base_uri": "https://localhost:8080/",
          "height": 163
        },
        "outputId": "3aa2f870-f5d1-4ba8-dcf6-d1c7771cac76"
      },
      "outputs": [
        {
          "output_type": "execute_result",
          "data": {
            "text/plain": [
              "       test_date  store_nbr  item_nbr  onpromotion  unit_sales  dcoilwtico  \\\n",
              "14748 2017-08-16          7   2026501            0           0        46.8   \n",
              "23891 2017-08-16         12    559682            0           0        46.8   \n",
              "18376 2017-08-16          9   1473476            1           0        46.8   \n",
              "\n",
              "      holiday_type locale  transferred  city store_type  store_cluster  \\\n",
              "14748         None   None            0  None       None              0   \n",
              "23891         None   None            0  None       None              0   \n",
              "18376         None   None            0  None       None              0   \n",
              "\n",
              "      items_family  item_class  perishable_items transactions  weekday  \n",
              "14748    GROCERY I        1034                 0         None        2  \n",
              "23891    GROCERY I        1086                 0         None        2  \n",
              "18376      PRODUCE        2004                 1         None        2  "
            ],
            "text/html": [
              "\n",
              "  <div id=\"df-9992c74b-a9d5-41ec-90f3-ef2864a3acd7\" class=\"colab-df-container\">\n",
              "    <div>\n",
              "<style scoped>\n",
              "    .dataframe tbody tr th:only-of-type {\n",
              "        vertical-align: middle;\n",
              "    }\n",
              "\n",
              "    .dataframe tbody tr th {\n",
              "        vertical-align: top;\n",
              "    }\n",
              "\n",
              "    .dataframe thead th {\n",
              "        text-align: right;\n",
              "    }\n",
              "</style>\n",
              "<table border=\"1\" class=\"dataframe\">\n",
              "  <thead>\n",
              "    <tr style=\"text-align: right;\">\n",
              "      <th></th>\n",
              "      <th>test_date</th>\n",
              "      <th>store_nbr</th>\n",
              "      <th>item_nbr</th>\n",
              "      <th>onpromotion</th>\n",
              "      <th>unit_sales</th>\n",
              "      <th>dcoilwtico</th>\n",
              "      <th>holiday_type</th>\n",
              "      <th>locale</th>\n",
              "      <th>transferred</th>\n",
              "      <th>city</th>\n",
              "      <th>store_type</th>\n",
              "      <th>store_cluster</th>\n",
              "      <th>items_family</th>\n",
              "      <th>item_class</th>\n",
              "      <th>perishable_items</th>\n",
              "      <th>transactions</th>\n",
              "      <th>weekday</th>\n",
              "    </tr>\n",
              "  </thead>\n",
              "  <tbody>\n",
              "    <tr>\n",
              "      <th>14748</th>\n",
              "      <td>2017-08-16</td>\n",
              "      <td>7</td>\n",
              "      <td>2026501</td>\n",
              "      <td>0</td>\n",
              "      <td>0</td>\n",
              "      <td>46.8</td>\n",
              "      <td>None</td>\n",
              "      <td>None</td>\n",
              "      <td>0</td>\n",
              "      <td>None</td>\n",
              "      <td>None</td>\n",
              "      <td>0</td>\n",
              "      <td>GROCERY I</td>\n",
              "      <td>1034</td>\n",
              "      <td>0</td>\n",
              "      <td>None</td>\n",
              "      <td>2</td>\n",
              "    </tr>\n",
              "    <tr>\n",
              "      <th>23891</th>\n",
              "      <td>2017-08-16</td>\n",
              "      <td>12</td>\n",
              "      <td>559682</td>\n",
              "      <td>0</td>\n",
              "      <td>0</td>\n",
              "      <td>46.8</td>\n",
              "      <td>None</td>\n",
              "      <td>None</td>\n",
              "      <td>0</td>\n",
              "      <td>None</td>\n",
              "      <td>None</td>\n",
              "      <td>0</td>\n",
              "      <td>GROCERY I</td>\n",
              "      <td>1086</td>\n",
              "      <td>0</td>\n",
              "      <td>None</td>\n",
              "      <td>2</td>\n",
              "    </tr>\n",
              "    <tr>\n",
              "      <th>18376</th>\n",
              "      <td>2017-08-16</td>\n",
              "      <td>9</td>\n",
              "      <td>1473476</td>\n",
              "      <td>1</td>\n",
              "      <td>0</td>\n",
              "      <td>46.8</td>\n",
              "      <td>None</td>\n",
              "      <td>None</td>\n",
              "      <td>0</td>\n",
              "      <td>None</td>\n",
              "      <td>None</td>\n",
              "      <td>0</td>\n",
              "      <td>PRODUCE</td>\n",
              "      <td>2004</td>\n",
              "      <td>1</td>\n",
              "      <td>None</td>\n",
              "      <td>2</td>\n",
              "    </tr>\n",
              "  </tbody>\n",
              "</table>\n",
              "</div>\n",
              "    <div class=\"colab-df-buttons\">\n",
              "\n",
              "  <div class=\"colab-df-container\">\n",
              "    <button class=\"colab-df-convert\" onclick=\"convertToInteractive('df-9992c74b-a9d5-41ec-90f3-ef2864a3acd7')\"\n",
              "            title=\"Convert this dataframe to an interactive table.\"\n",
              "            style=\"display:none;\">\n",
              "\n",
              "  <svg xmlns=\"http://www.w3.org/2000/svg\" height=\"24px\" viewBox=\"0 -960 960 960\">\n",
              "    <path d=\"M120-120v-720h720v720H120Zm60-500h600v-160H180v160Zm220 220h160v-160H400v160Zm0 220h160v-160H400v160ZM180-400h160v-160H180v160Zm440 0h160v-160H620v160ZM180-180h160v-160H180v160Zm440 0h160v-160H620v160Z\"/>\n",
              "  </svg>\n",
              "    </button>\n",
              "\n",
              "  <style>\n",
              "    .colab-df-container {\n",
              "      display:flex;\n",
              "      gap: 12px;\n",
              "    }\n",
              "\n",
              "    .colab-df-convert {\n",
              "      background-color: #E8F0FE;\n",
              "      border: none;\n",
              "      border-radius: 50%;\n",
              "      cursor: pointer;\n",
              "      display: none;\n",
              "      fill: #1967D2;\n",
              "      height: 32px;\n",
              "      padding: 0 0 0 0;\n",
              "      width: 32px;\n",
              "    }\n",
              "\n",
              "    .colab-df-convert:hover {\n",
              "      background-color: #E2EBFA;\n",
              "      box-shadow: 0px 1px 2px rgba(60, 64, 67, 0.3), 0px 1px 3px 1px rgba(60, 64, 67, 0.15);\n",
              "      fill: #174EA6;\n",
              "    }\n",
              "\n",
              "    .colab-df-buttons div {\n",
              "      margin-bottom: 4px;\n",
              "    }\n",
              "\n",
              "    [theme=dark] .colab-df-convert {\n",
              "      background-color: #3B4455;\n",
              "      fill: #D2E3FC;\n",
              "    }\n",
              "\n",
              "    [theme=dark] .colab-df-convert:hover {\n",
              "      background-color: #434B5C;\n",
              "      box-shadow: 0px 1px 3px 1px rgba(0, 0, 0, 0.15);\n",
              "      filter: drop-shadow(0px 1px 2px rgba(0, 0, 0, 0.3));\n",
              "      fill: #FFFFFF;\n",
              "    }\n",
              "  </style>\n",
              "\n",
              "    <script>\n",
              "      const buttonEl =\n",
              "        document.querySelector('#df-9992c74b-a9d5-41ec-90f3-ef2864a3acd7 button.colab-df-convert');\n",
              "      buttonEl.style.display =\n",
              "        google.colab.kernel.accessAllowed ? 'block' : 'none';\n",
              "\n",
              "      async function convertToInteractive(key) {\n",
              "        const element = document.querySelector('#df-9992c74b-a9d5-41ec-90f3-ef2864a3acd7');\n",
              "        const dataTable =\n",
              "          await google.colab.kernel.invokeFunction('convertToInteractive',\n",
              "                                                    [key], {});\n",
              "        if (!dataTable) return;\n",
              "\n",
              "        const docLinkHtml = 'Like what you see? Visit the ' +\n",
              "          '<a target=\"_blank\" href=https://colab.research.google.com/notebooks/data_table.ipynb>data table notebook</a>'\n",
              "          + ' to learn more about interactive tables.';\n",
              "        element.innerHTML = '';\n",
              "        dataTable['output_type'] = 'display_data';\n",
              "        await google.colab.output.renderOutput(dataTable, element);\n",
              "        const docLink = document.createElement('div');\n",
              "        docLink.innerHTML = docLinkHtml;\n",
              "        element.appendChild(docLink);\n",
              "      }\n",
              "    </script>\n",
              "  </div>\n",
              "\n",
              "\n",
              "    <div id=\"df-d9f8d37e-e937-465c-8eab-15fde4880fb8\">\n",
              "      <button class=\"colab-df-quickchart\" onclick=\"quickchart('df-d9f8d37e-e937-465c-8eab-15fde4880fb8')\"\n",
              "                title=\"Suggest charts\"\n",
              "                style=\"display:none;\">\n",
              "\n",
              "<svg xmlns=\"http://www.w3.org/2000/svg\" height=\"24px\"viewBox=\"0 0 24 24\"\n",
              "     width=\"24px\">\n",
              "    <g>\n",
              "        <path d=\"M19 3H5c-1.1 0-2 .9-2 2v14c0 1.1.9 2 2 2h14c1.1 0 2-.9 2-2V5c0-1.1-.9-2-2-2zM9 17H7v-7h2v7zm4 0h-2V7h2v10zm4 0h-2v-4h2v4z\"/>\n",
              "    </g>\n",
              "</svg>\n",
              "      </button>\n",
              "\n",
              "<style>\n",
              "  .colab-df-quickchart {\n",
              "      --bg-color: #E8F0FE;\n",
              "      --fill-color: #1967D2;\n",
              "      --hover-bg-color: #E2EBFA;\n",
              "      --hover-fill-color: #174EA6;\n",
              "      --disabled-fill-color: #AAA;\n",
              "      --disabled-bg-color: #DDD;\n",
              "  }\n",
              "\n",
              "  [theme=dark] .colab-df-quickchart {\n",
              "      --bg-color: #3B4455;\n",
              "      --fill-color: #D2E3FC;\n",
              "      --hover-bg-color: #434B5C;\n",
              "      --hover-fill-color: #FFFFFF;\n",
              "      --disabled-bg-color: #3B4455;\n",
              "      --disabled-fill-color: #666;\n",
              "  }\n",
              "\n",
              "  .colab-df-quickchart {\n",
              "    background-color: var(--bg-color);\n",
              "    border: none;\n",
              "    border-radius: 50%;\n",
              "    cursor: pointer;\n",
              "    display: none;\n",
              "    fill: var(--fill-color);\n",
              "    height: 32px;\n",
              "    padding: 0;\n",
              "    width: 32px;\n",
              "  }\n",
              "\n",
              "  .colab-df-quickchart:hover {\n",
              "    background-color: var(--hover-bg-color);\n",
              "    box-shadow: 0 1px 2px rgba(60, 64, 67, 0.3), 0 1px 3px 1px rgba(60, 64, 67, 0.15);\n",
              "    fill: var(--button-hover-fill-color);\n",
              "  }\n",
              "\n",
              "  .colab-df-quickchart-complete:disabled,\n",
              "  .colab-df-quickchart-complete:disabled:hover {\n",
              "    background-color: var(--disabled-bg-color);\n",
              "    fill: var(--disabled-fill-color);\n",
              "    box-shadow: none;\n",
              "  }\n",
              "\n",
              "  .colab-df-spinner {\n",
              "    border: 2px solid var(--fill-color);\n",
              "    border-color: transparent;\n",
              "    border-bottom-color: var(--fill-color);\n",
              "    animation:\n",
              "      spin 1s steps(1) infinite;\n",
              "  }\n",
              "\n",
              "  @keyframes spin {\n",
              "    0% {\n",
              "      border-color: transparent;\n",
              "      border-bottom-color: var(--fill-color);\n",
              "      border-left-color: var(--fill-color);\n",
              "    }\n",
              "    20% {\n",
              "      border-color: transparent;\n",
              "      border-left-color: var(--fill-color);\n",
              "      border-top-color: var(--fill-color);\n",
              "    }\n",
              "    30% {\n",
              "      border-color: transparent;\n",
              "      border-left-color: var(--fill-color);\n",
              "      border-top-color: var(--fill-color);\n",
              "      border-right-color: var(--fill-color);\n",
              "    }\n",
              "    40% {\n",
              "      border-color: transparent;\n",
              "      border-right-color: var(--fill-color);\n",
              "      border-top-color: var(--fill-color);\n",
              "    }\n",
              "    60% {\n",
              "      border-color: transparent;\n",
              "      border-right-color: var(--fill-color);\n",
              "    }\n",
              "    80% {\n",
              "      border-color: transparent;\n",
              "      border-right-color: var(--fill-color);\n",
              "      border-bottom-color: var(--fill-color);\n",
              "    }\n",
              "    90% {\n",
              "      border-color: transparent;\n",
              "      border-bottom-color: var(--fill-color);\n",
              "    }\n",
              "  }\n",
              "</style>\n",
              "\n",
              "      <script>\n",
              "        async function quickchart(key) {\n",
              "          const quickchartButtonEl =\n",
              "            document.querySelector('#' + key + ' button');\n",
              "          quickchartButtonEl.disabled = true;  // To prevent multiple clicks.\n",
              "          quickchartButtonEl.classList.add('colab-df-spinner');\n",
              "          try {\n",
              "            const charts = await google.colab.kernel.invokeFunction(\n",
              "                'suggestCharts', [key], {});\n",
              "          } catch (error) {\n",
              "            console.error('Error during call to suggestCharts:', error);\n",
              "          }\n",
              "          quickchartButtonEl.classList.remove('colab-df-spinner');\n",
              "          quickchartButtonEl.classList.add('colab-df-quickchart-complete');\n",
              "        }\n",
              "        (() => {\n",
              "          let quickchartButtonEl =\n",
              "            document.querySelector('#df-d9f8d37e-e937-465c-8eab-15fde4880fb8 button');\n",
              "          quickchartButtonEl.style.display =\n",
              "            google.colab.kernel.accessAllowed ? 'block' : 'none';\n",
              "        })();\n",
              "      </script>\n",
              "    </div>\n",
              "\n",
              "    </div>\n",
              "  </div>\n"
            ],
            "application/vnd.google.colaboratory.intrinsic+json": {
              "type": "dataframe",
              "repr_error": "0"
            }
          },
          "metadata": {},
          "execution_count": 73
        }
      ],
      "source": [
        "df_test.sample(3)"
      ]
    },
    {
      "cell_type": "code",
      "execution_count": null,
      "metadata": {
        "id": "LukPvSo0cMhw"
      },
      "outputs": [],
      "source": [
        "for col in df_test.select_dtypes(include=['int64']).columns:\n",
        "    df_test[col] = pd.to_numeric(df_test[col], downcast='integer')"
      ]
    },
    {
      "cell_type": "markdown",
      "metadata": {
        "id": "FdneX0wmUeKc"
      },
      "source": [
        "### train"
      ]
    },
    {
      "cell_type": "code",
      "execution_count": null,
      "metadata": {
        "id": "aboSjtKpUlWe"
      },
      "outputs": [],
      "source": [
        "query_train = \"\"\"\n",
        "WITH top_families AS (\n",
        "    SELECT items.family\n",
        "    FROM train\n",
        "    JOIN items ON train.item_nbr = items.item_nbr\n",
        "    WHERE train.unit_sales >= 0\n",
        "    GROUP BY items.family\n",
        "    ORDER BY SUM(train.unit_sales) DESC\n",
        "    LIMIT 3\n",
        ")\n",
        "\n",
        "SELECT\n",
        "    train.unit_sales,\n",
        "    train.date AS train_date,\n",
        "    train.store_nbr,\n",
        "    train.item_nbr,\n",
        "    train.onpromotion,\n",
        "\n",
        "    oil.dcoilwtico,\n",
        "\n",
        "    holidays_events.type AS holiday_type,\n",
        "    holidays_events.locale,\n",
        "    holidays_events.transferred,\n",
        "\n",
        "    stores.city,\n",
        "    stores.type AS store_type,\n",
        "    stores.cluster AS store_cluster,\n",
        "\n",
        "    items.family AS items_family,\n",
        "    items.class AS item_class,\n",
        "    items.perishable AS perishable_items,\n",
        "\n",
        "    transactions.transactions\n",
        "\n",
        "FROM train\n",
        "LEFT JOIN oil\n",
        "  ON DATE(train.date) = DATE(oil.date)\n",
        "LEFT JOIN holidays_events\n",
        "  ON DATE(train.date) = DATE(holidays_events.date)\n",
        "LEFT JOIN stores\n",
        "  ON train.store_nbr = stores.store_nbr\n",
        "LEFT JOIN items\n",
        "  ON train.item_nbr = items.item_nbr\n",
        "LEFT JOIN transactions\n",
        "  ON DATE(train.date) = DATE(transactions.date)\n",
        "     AND train.store_nbr = transactions.store_nbr\n",
        "\n",
        "WHERE train.unit_sales >= 0\n",
        "  AND items.family IN (SELECT family FROM top_families)\n",
        "\n",
        "LIMIT 100000;\n",
        "\"\"\""
      ]
    },
    {
      "cell_type": "code",
      "execution_count": null,
      "metadata": {
        "id": "u_0i5HX0VLW1",
        "colab": {
          "base_uri": "https://localhost:8080/"
        },
        "outputId": "195463a0-a4b0-4815-91c5-e56df0b29f2c"
      },
      "outputs": [
        {
          "output_type": "execute_result",
          "data": {
            "text/plain": [
              "(58312, 16)"
            ]
          },
          "metadata": {},
          "execution_count": 76
        }
      ],
      "source": [
        "df_train_download = pd.read_sql_query(query_train, engine)\n",
        "df_train = df_train_download.copy()\n",
        "df_train.shape"
      ]
    },
    {
      "cell_type": "code",
      "execution_count": null,
      "metadata": {
        "id": "qtH11SgBWjbv",
        "colab": {
          "base_uri": "https://localhost:8080/"
        },
        "outputId": "4478e183-25bd-4b7a-f0c3-e4725315c640"
      },
      "outputs": [
        {
          "output_type": "execute_result",
          "data": {
            "text/plain": [
              "['df_train_download.joblib.gz']"
            ]
          },
          "metadata": {},
          "execution_count": 77
        }
      ],
      "source": [
        "# Save the DataFrame to a compressed file\n",
        "joblib.dump(df_train_download, 'df_train_download.joblib.gz', compress=('gzip', 3))\n",
        "\n",
        "# You can load it back later like this:\n",
        "# df_train_download = joblib.load('df_train_download.joblib.gz')"
      ]
    },
    {
      "cell_type": "code",
      "execution_count": null,
      "metadata": {
        "id": "p4Qa3oAZV53-"
      },
      "outputs": [],
      "source": [
        "df_train[\"train_date\"] = pd.to_datetime(df_train[\"train_date\"], errors='coerce').dt.date"
      ]
    },
    {
      "cell_type": "code",
      "execution_count": null,
      "metadata": {
        "id": "gg08RB7CrNVi"
      },
      "outputs": [],
      "source": [
        "df_train[\"onpromotion\"] = df_train[\"onpromotion\"].fillna(False).astype('bool')\n",
        "df_train[\"onpromotion\"] = df_train[\"onpromotion\"].astype('int8')"
      ]
    },
    {
      "cell_type": "code",
      "execution_count": null,
      "metadata": {
        "id": "D-3j-28gRTKo"
      },
      "outputs": [],
      "source": [
        "df_train[\"train_date\"] = pd.to_datetime(df_train[\"train_date\"], errors='coerce')\n",
        "df_train[\"weekday\"] = df_train[\"train_date\"].dt.weekday"
      ]
    },
    {
      "cell_type": "code",
      "execution_count": null,
      "metadata": {
        "id": "HZLkjHLgVwxP"
      },
      "outputs": [],
      "source": [
        "df_train['unit_sales'] = df_train['unit_sales'].fillna(0)"
      ]
    },
    {
      "cell_type": "code",
      "execution_count": null,
      "metadata": {
        "id": "IWeblrteWFcL",
        "colab": {
          "base_uri": "https://localhost:8080/",
          "height": 163
        },
        "outputId": "96bc6add-4813-4424-ffbc-b86e61c1f698"
      },
      "outputs": [
        {
          "output_type": "execute_result",
          "data": {
            "text/plain": [
              "       unit_sales train_date  store_nbr  item_nbr  onpromotion  dcoilwtico  \\\n",
              "33649        11.0 2017-02-25         39   1949898            0         NaN   \n",
              "40938         2.0 2017-03-06         23    361502            0       53.19   \n",
              "4148          1.0 2017-01-11         28   1975527            0       52.19   \n",
              "\n",
              "      holiday_type locale  transferred       city store_type  store_cluster  \\\n",
              "33649         None   None          NaN       None       None            NaN   \n",
              "40938         None   None          NaN       None       None            NaN   \n",
              "4148          None   None          NaN  Guayaquil          E           10.0   \n",
              "\n",
              "      items_family  item_class  perishable_items  transactions  weekday  \n",
              "33649    GROCERY I        1026                 0          1783        5  \n",
              "40938    GROCERY I        1036                 0           918        0  \n",
              "4148     GROCERY I        1034                 0          1043        2  "
            ],
            "text/html": [
              "\n",
              "  <div id=\"df-1c341201-7825-4176-a1ab-cb043607b13a\" class=\"colab-df-container\">\n",
              "    <div>\n",
              "<style scoped>\n",
              "    .dataframe tbody tr th:only-of-type {\n",
              "        vertical-align: middle;\n",
              "    }\n",
              "\n",
              "    .dataframe tbody tr th {\n",
              "        vertical-align: top;\n",
              "    }\n",
              "\n",
              "    .dataframe thead th {\n",
              "        text-align: right;\n",
              "    }\n",
              "</style>\n",
              "<table border=\"1\" class=\"dataframe\">\n",
              "  <thead>\n",
              "    <tr style=\"text-align: right;\">\n",
              "      <th></th>\n",
              "      <th>unit_sales</th>\n",
              "      <th>train_date</th>\n",
              "      <th>store_nbr</th>\n",
              "      <th>item_nbr</th>\n",
              "      <th>onpromotion</th>\n",
              "      <th>dcoilwtico</th>\n",
              "      <th>holiday_type</th>\n",
              "      <th>locale</th>\n",
              "      <th>transferred</th>\n",
              "      <th>city</th>\n",
              "      <th>store_type</th>\n",
              "      <th>store_cluster</th>\n",
              "      <th>items_family</th>\n",
              "      <th>item_class</th>\n",
              "      <th>perishable_items</th>\n",
              "      <th>transactions</th>\n",
              "      <th>weekday</th>\n",
              "    </tr>\n",
              "  </thead>\n",
              "  <tbody>\n",
              "    <tr>\n",
              "      <th>33649</th>\n",
              "      <td>11.0</td>\n",
              "      <td>2017-02-25</td>\n",
              "      <td>39</td>\n",
              "      <td>1949898</td>\n",
              "      <td>0</td>\n",
              "      <td>NaN</td>\n",
              "      <td>None</td>\n",
              "      <td>None</td>\n",
              "      <td>NaN</td>\n",
              "      <td>None</td>\n",
              "      <td>None</td>\n",
              "      <td>NaN</td>\n",
              "      <td>GROCERY I</td>\n",
              "      <td>1026</td>\n",
              "      <td>0</td>\n",
              "      <td>1783</td>\n",
              "      <td>5</td>\n",
              "    </tr>\n",
              "    <tr>\n",
              "      <th>40938</th>\n",
              "      <td>2.0</td>\n",
              "      <td>2017-03-06</td>\n",
              "      <td>23</td>\n",
              "      <td>361502</td>\n",
              "      <td>0</td>\n",
              "      <td>53.19</td>\n",
              "      <td>None</td>\n",
              "      <td>None</td>\n",
              "      <td>NaN</td>\n",
              "      <td>None</td>\n",
              "      <td>None</td>\n",
              "      <td>NaN</td>\n",
              "      <td>GROCERY I</td>\n",
              "      <td>1036</td>\n",
              "      <td>0</td>\n",
              "      <td>918</td>\n",
              "      <td>0</td>\n",
              "    </tr>\n",
              "    <tr>\n",
              "      <th>4148</th>\n",
              "      <td>1.0</td>\n",
              "      <td>2017-01-11</td>\n",
              "      <td>28</td>\n",
              "      <td>1975527</td>\n",
              "      <td>0</td>\n",
              "      <td>52.19</td>\n",
              "      <td>None</td>\n",
              "      <td>None</td>\n",
              "      <td>NaN</td>\n",
              "      <td>Guayaquil</td>\n",
              "      <td>E</td>\n",
              "      <td>10.0</td>\n",
              "      <td>GROCERY I</td>\n",
              "      <td>1034</td>\n",
              "      <td>0</td>\n",
              "      <td>1043</td>\n",
              "      <td>2</td>\n",
              "    </tr>\n",
              "  </tbody>\n",
              "</table>\n",
              "</div>\n",
              "    <div class=\"colab-df-buttons\">\n",
              "\n",
              "  <div class=\"colab-df-container\">\n",
              "    <button class=\"colab-df-convert\" onclick=\"convertToInteractive('df-1c341201-7825-4176-a1ab-cb043607b13a')\"\n",
              "            title=\"Convert this dataframe to an interactive table.\"\n",
              "            style=\"display:none;\">\n",
              "\n",
              "  <svg xmlns=\"http://www.w3.org/2000/svg\" height=\"24px\" viewBox=\"0 -960 960 960\">\n",
              "    <path d=\"M120-120v-720h720v720H120Zm60-500h600v-160H180v160Zm220 220h160v-160H400v160Zm0 220h160v-160H400v160ZM180-400h160v-160H180v160Zm440 0h160v-160H620v160ZM180-180h160v-160H180v160Zm440 0h160v-160H620v160Z\"/>\n",
              "  </svg>\n",
              "    </button>\n",
              "\n",
              "  <style>\n",
              "    .colab-df-container {\n",
              "      display:flex;\n",
              "      gap: 12px;\n",
              "    }\n",
              "\n",
              "    .colab-df-convert {\n",
              "      background-color: #E8F0FE;\n",
              "      border: none;\n",
              "      border-radius: 50%;\n",
              "      cursor: pointer;\n",
              "      display: none;\n",
              "      fill: #1967D2;\n",
              "      height: 32px;\n",
              "      padding: 0 0 0 0;\n",
              "      width: 32px;\n",
              "    }\n",
              "\n",
              "    .colab-df-convert:hover {\n",
              "      background-color: #E2EBFA;\n",
              "      box-shadow: 0px 1px 2px rgba(60, 64, 67, 0.3), 0px 1px 3px 1px rgba(60, 64, 67, 0.15);\n",
              "      fill: #174EA6;\n",
              "    }\n",
              "\n",
              "    .colab-df-buttons div {\n",
              "      margin-bottom: 4px;\n",
              "    }\n",
              "\n",
              "    [theme=dark] .colab-df-convert {\n",
              "      background-color: #3B4455;\n",
              "      fill: #D2E3FC;\n",
              "    }\n",
              "\n",
              "    [theme=dark] .colab-df-convert:hover {\n",
              "      background-color: #434B5C;\n",
              "      box-shadow: 0px 1px 3px 1px rgba(0, 0, 0, 0.15);\n",
              "      filter: drop-shadow(0px 1px 2px rgba(0, 0, 0, 0.3));\n",
              "      fill: #FFFFFF;\n",
              "    }\n",
              "  </style>\n",
              "\n",
              "    <script>\n",
              "      const buttonEl =\n",
              "        document.querySelector('#df-1c341201-7825-4176-a1ab-cb043607b13a button.colab-df-convert');\n",
              "      buttonEl.style.display =\n",
              "        google.colab.kernel.accessAllowed ? 'block' : 'none';\n",
              "\n",
              "      async function convertToInteractive(key) {\n",
              "        const element = document.querySelector('#df-1c341201-7825-4176-a1ab-cb043607b13a');\n",
              "        const dataTable =\n",
              "          await google.colab.kernel.invokeFunction('convertToInteractive',\n",
              "                                                    [key], {});\n",
              "        if (!dataTable) return;\n",
              "\n",
              "        const docLinkHtml = 'Like what you see? Visit the ' +\n",
              "          '<a target=\"_blank\" href=https://colab.research.google.com/notebooks/data_table.ipynb>data table notebook</a>'\n",
              "          + ' to learn more about interactive tables.';\n",
              "        element.innerHTML = '';\n",
              "        dataTable['output_type'] = 'display_data';\n",
              "        await google.colab.output.renderOutput(dataTable, element);\n",
              "        const docLink = document.createElement('div');\n",
              "        docLink.innerHTML = docLinkHtml;\n",
              "        element.appendChild(docLink);\n",
              "      }\n",
              "    </script>\n",
              "  </div>\n",
              "\n",
              "\n",
              "    <div id=\"df-6930286f-21cc-448b-b453-04c6b32485e4\">\n",
              "      <button class=\"colab-df-quickchart\" onclick=\"quickchart('df-6930286f-21cc-448b-b453-04c6b32485e4')\"\n",
              "                title=\"Suggest charts\"\n",
              "                style=\"display:none;\">\n",
              "\n",
              "<svg xmlns=\"http://www.w3.org/2000/svg\" height=\"24px\"viewBox=\"0 0 24 24\"\n",
              "     width=\"24px\">\n",
              "    <g>\n",
              "        <path d=\"M19 3H5c-1.1 0-2 .9-2 2v14c0 1.1.9 2 2 2h14c1.1 0 2-.9 2-2V5c0-1.1-.9-2-2-2zM9 17H7v-7h2v7zm4 0h-2V7h2v10zm4 0h-2v-4h2v4z\"/>\n",
              "    </g>\n",
              "</svg>\n",
              "      </button>\n",
              "\n",
              "<style>\n",
              "  .colab-df-quickchart {\n",
              "      --bg-color: #E8F0FE;\n",
              "      --fill-color: #1967D2;\n",
              "      --hover-bg-color: #E2EBFA;\n",
              "      --hover-fill-color: #174EA6;\n",
              "      --disabled-fill-color: #AAA;\n",
              "      --disabled-bg-color: #DDD;\n",
              "  }\n",
              "\n",
              "  [theme=dark] .colab-df-quickchart {\n",
              "      --bg-color: #3B4455;\n",
              "      --fill-color: #D2E3FC;\n",
              "      --hover-bg-color: #434B5C;\n",
              "      --hover-fill-color: #FFFFFF;\n",
              "      --disabled-bg-color: #3B4455;\n",
              "      --disabled-fill-color: #666;\n",
              "  }\n",
              "\n",
              "  .colab-df-quickchart {\n",
              "    background-color: var(--bg-color);\n",
              "    border: none;\n",
              "    border-radius: 50%;\n",
              "    cursor: pointer;\n",
              "    display: none;\n",
              "    fill: var(--fill-color);\n",
              "    height: 32px;\n",
              "    padding: 0;\n",
              "    width: 32px;\n",
              "  }\n",
              "\n",
              "  .colab-df-quickchart:hover {\n",
              "    background-color: var(--hover-bg-color);\n",
              "    box-shadow: 0 1px 2px rgba(60, 64, 67, 0.3), 0 1px 3px 1px rgba(60, 64, 67, 0.15);\n",
              "    fill: var(--button-hover-fill-color);\n",
              "  }\n",
              "\n",
              "  .colab-df-quickchart-complete:disabled,\n",
              "  .colab-df-quickchart-complete:disabled:hover {\n",
              "    background-color: var(--disabled-bg-color);\n",
              "    fill: var(--disabled-fill-color);\n",
              "    box-shadow: none;\n",
              "  }\n",
              "\n",
              "  .colab-df-spinner {\n",
              "    border: 2px solid var(--fill-color);\n",
              "    border-color: transparent;\n",
              "    border-bottom-color: var(--fill-color);\n",
              "    animation:\n",
              "      spin 1s steps(1) infinite;\n",
              "  }\n",
              "\n",
              "  @keyframes spin {\n",
              "    0% {\n",
              "      border-color: transparent;\n",
              "      border-bottom-color: var(--fill-color);\n",
              "      border-left-color: var(--fill-color);\n",
              "    }\n",
              "    20% {\n",
              "      border-color: transparent;\n",
              "      border-left-color: var(--fill-color);\n",
              "      border-top-color: var(--fill-color);\n",
              "    }\n",
              "    30% {\n",
              "      border-color: transparent;\n",
              "      border-left-color: var(--fill-color);\n",
              "      border-top-color: var(--fill-color);\n",
              "      border-right-color: var(--fill-color);\n",
              "    }\n",
              "    40% {\n",
              "      border-color: transparent;\n",
              "      border-right-color: var(--fill-color);\n",
              "      border-top-color: var(--fill-color);\n",
              "    }\n",
              "    60% {\n",
              "      border-color: transparent;\n",
              "      border-right-color: var(--fill-color);\n",
              "    }\n",
              "    80% {\n",
              "      border-color: transparent;\n",
              "      border-right-color: var(--fill-color);\n",
              "      border-bottom-color: var(--fill-color);\n",
              "    }\n",
              "    90% {\n",
              "      border-color: transparent;\n",
              "      border-bottom-color: var(--fill-color);\n",
              "    }\n",
              "  }\n",
              "</style>\n",
              "\n",
              "      <script>\n",
              "        async function quickchart(key) {\n",
              "          const quickchartButtonEl =\n",
              "            document.querySelector('#' + key + ' button');\n",
              "          quickchartButtonEl.disabled = true;  // To prevent multiple clicks.\n",
              "          quickchartButtonEl.classList.add('colab-df-spinner');\n",
              "          try {\n",
              "            const charts = await google.colab.kernel.invokeFunction(\n",
              "                'suggestCharts', [key], {});\n",
              "          } catch (error) {\n",
              "            console.error('Error during call to suggestCharts:', error);\n",
              "          }\n",
              "          quickchartButtonEl.classList.remove('colab-df-spinner');\n",
              "          quickchartButtonEl.classList.add('colab-df-quickchart-complete');\n",
              "        }\n",
              "        (() => {\n",
              "          let quickchartButtonEl =\n",
              "            document.querySelector('#df-6930286f-21cc-448b-b453-04c6b32485e4 button');\n",
              "          quickchartButtonEl.style.display =\n",
              "            google.colab.kernel.accessAllowed ? 'block' : 'none';\n",
              "        })();\n",
              "      </script>\n",
              "    </div>\n",
              "\n",
              "    </div>\n",
              "  </div>\n"
            ],
            "application/vnd.google.colaboratory.intrinsic+json": {
              "type": "dataframe",
              "repr_error": "0"
            }
          },
          "metadata": {},
          "execution_count": 82
        }
      ],
      "source": [
        "df_train.sample(3)"
      ]
    },
    {
      "cell_type": "code",
      "execution_count": null,
      "metadata": {
        "id": "AYTWuIZzXson",
        "colab": {
          "base_uri": "https://localhost:8080/",
          "height": 630
        },
        "outputId": "68976dcd-82c4-4a20-a6b7-d30dc5e95432"
      },
      "outputs": [
        {
          "output_type": "display_data",
          "data": {
            "text/plain": [
              "<Figure size 1200x700 with 2 Axes>"
            ],
            "image/png": "[encoded data removed]"
          },
          "metadata": {}
        }
      ],
      "source": [
        "# Group by items_family\n",
        "family_counts_train = df_train['items_family'].value_counts()\n",
        "family_counts_test = df_test['items_family'].value_counts()\n",
        "\n",
        "# Plotting\n",
        "fig, axes = plt.subplots(1, 2, figsize=(12, 7))\n",
        "\n",
        "colors = plt.cm.tab20.colors  # Nice colormap\n",
        "\n",
        "# Train pie chart\n",
        "patches1, texts1, autotexts1 = axes[0].pie(\n",
        "    family_counts_train,\n",
        "    labels=family_counts_train.index,\n",
        "    autopct='%1.1f%%',\n",
        "    startangle=140,\n",
        "    colors=colors,\n",
        "    wedgeprops={'edgecolor': 'white'}\n",
        ")\n",
        "axes[0].set_title('Train Set: Items-family Distribution', fontsize=16)\n",
        "\n",
        "# Test pie chart\n",
        "patches2, texts2, autotexts2 = axes[1].pie(\n",
        "    family_counts_test,\n",
        "    labels=family_counts_test.index,\n",
        "    autopct='%1.1f%%',\n",
        "    startangle=140,\n",
        "    colors=colors,\n",
        "    wedgeprops={'edgecolor': 'white'}\n",
        ")\n",
        "axes[1].set_title('Test Set: Items-family Distribution', fontsize=16)\n",
        "\n",
        "# Text styling\n",
        "for texts in [texts1, texts2]:\n",
        "    for text in texts:\n",
        "        text.set_fontsize(10)\n",
        "for autotexts in [autotexts1, autotexts2]:\n",
        "    for autotext in autotexts:\n",
        "        autotext.set_fontsize(9)\n",
        "\n",
        "plt.tight_layout()\n",
        "plt.show()"
      ]
    },
    {
      "cell_type": "code",
      "execution_count": null,
      "metadata": {
        "id": "AGJeQz7HNYmU"
      },
      "outputs": [],
      "source": [
        "del family_counts_train\n",
        "del family_counts_test"
      ]
    },
    {
      "cell_type": "code",
      "execution_count": null,
      "metadata": {
        "id": "4WqVDZcGPgjq",
        "colab": {
          "base_uri": "https://localhost:8080/"
        },
        "outputId": "4f9be396-5ccd-4236-f3a1-ff17a7ef916f"
      },
      "outputs": [
        {
          "output_type": "stream",
          "name": "stdout",
          "text": [
            "2\n",
            "onpromotion\n",
            "0    53469\n",
            "1     4843\n",
            "Name: count, dtype: int64\n"
          ]
        }
      ],
      "source": [
        "print(df_train[\"onpromotion\"].nunique())\n",
        "print(df_train[\"onpromotion\"].value_counts())"
      ]
    },
    {
      "cell_type": "code",
      "execution_count": null,
      "metadata": {
        "id": "ZrcIIO2LQC6R",
        "colab": {
          "base_uri": "https://localhost:8080/"
        },
        "outputId": "efba5b03-bec1-486a-eca1-075c4b3c428c"
      },
      "outputs": [
        {
          "output_type": "stream",
          "name": "stdout",
          "text": [
            "53\n",
            "0\n"
          ]
        }
      ],
      "source": [
        "print(df_train[\"store_nbr\"].nunique())\n",
        "print(df_train[\"store_nbr\"].isnull().sum())\n",
        "# print(df_train[\"store_nbr\"].value_counts())"
      ]
    },
    {
      "cell_type": "code",
      "execution_count": null,
      "metadata": {
        "id": "iDU94xZyQc9O",
        "colab": {
          "base_uri": "https://localhost:8080/"
        },
        "outputId": "8f273067-2ff3-47eb-8c27-88929418938d"
      },
      "outputs": [
        {
          "output_type": "stream",
          "name": "stdout",
          "text": [
            "2\n",
            "holiday_type\n",
            "Holiday     2331\n",
            "Transfer     668\n",
            "Name: count, dtype: int64\n",
            "55313\n"
          ]
        }
      ],
      "source": [
        "print(df_train[\"holiday_type\"].nunique())\n",
        "print(df_train[\"holiday_type\"].value_counts())\n",
        "print(df_train[\"holiday_type\"].isnull().sum())"
      ]
    },
    {
      "cell_type": "code",
      "execution_count": null,
      "metadata": {
        "colab": {
          "base_uri": "https://localhost:8080/"
        },
        "id": "pEtiSKg6Tx6l",
        "outputId": "9f7d5d13-b622-4a74-ee6a-17ecaadb17f7"
      },
      "outputs": [
        {
          "output_type": "stream",
          "name": "stdout",
          "text": [
            "3\n",
            "locale\n",
            "National    1888\n",
            "Local        642\n",
            "Regional     469\n",
            "Name: count, dtype: int64\n",
            "55313\n"
          ]
        }
      ],
      "source": [
        "print(df_train[\"locale\"].nunique())\n",
        "print(df_train[\"locale\"].value_counts())\n",
        "print(df_train[\"locale\"].isnull().sum())"
      ]
    },
    {
      "cell_type": "code",
      "execution_count": null,
      "metadata": {
        "id": "5dpTbFDrUiTA"
      },
      "outputs": [],
      "source": [
        "df_train[\"transferred\"] = df_train[\"transferred\"].fillna(False).astype('bool')\n",
        "df_train[\"transferred\"] = df_train[\"transferred\"].astype('int8')"
      ]
    },
    {
      "cell_type": "code",
      "execution_count": null,
      "metadata": {
        "colab": {
          "base_uri": "https://localhost:8080/"
        },
        "id": "0yzz_kk8UCeW",
        "outputId": "ccac64c3-a4ac-41f9-fe06-171ee83d5762"
      },
      "outputs": [
        {
          "output_type": "stream",
          "name": "stdout",
          "text": [
            "2\n",
            "transferred\n",
            "0    58301\n",
            "1       11\n",
            "Name: count, dtype: int64\n",
            "0\n"
          ]
        }
      ],
      "source": [
        "print(df_train[\"transferred\"].nunique())\n",
        "print(df_train[\"transferred\"].value_counts())\n",
        "print(df_train[\"transferred\"].isnull().sum())"
      ]
    },
    {
      "cell_type": "code",
      "execution_count": null,
      "metadata": {
        "id": "hJFOY14DVV0k",
        "colab": {
          "base_uri": "https://localhost:8080/"
        },
        "outputId": "8f0b1d75-6542-43b1-d728-4509aab59682"
      },
      "outputs": [
        {
          "output_type": "stream",
          "name": "stdout",
          "text": [
            "4\n",
            "city\n",
            "Guayaquil    7767\n",
            "Daule        1167\n",
            "Libertad     1024\n",
            "Playas        682\n",
            "Name: count, dtype: int64\n",
            "47672\n"
          ]
        }
      ],
      "source": [
        "print(df_train[\"city\"].nunique())\n",
        "print(df_train[\"city\"].value_counts())\n",
        "print(df_train[\"city\"].isnull().sum())"
      ]
    },
    {
      "cell_type": "code",
      "execution_count": null,
      "metadata": {
        "id": "RPhWttufZMYY",
        "colab": {
          "base_uri": "https://localhost:8080/"
        },
        "outputId": "528f8ada-7fde-4034-f21c-6b1f113c413e"
      },
      "outputs": [
        {
          "output_type": "stream",
          "name": "stdout",
          "text": [
            "5\n",
            "store_type\n",
            "E    3160\n",
            "D    3124\n",
            "C    2074\n",
            "A    1306\n",
            "B     976\n",
            "Name: count, dtype: int64\n",
            "47672\n"
          ]
        }
      ],
      "source": [
        "print(df_train[\"store_type\"].nunique())\n",
        "print(df_train[\"store_type\"].value_counts())\n",
        "print(df_train[\"store_type\"].isnull().sum())"
      ]
    },
    {
      "cell_type": "code",
      "execution_count": null,
      "metadata": {
        "id": "9cz2TqG-Z1MN"
      },
      "outputs": [],
      "source": [
        "df_train[\"store_cluster\"] = df_train[\"store_cluster\"].fillna(0).astype('int8')"
      ]
    },
    {
      "cell_type": "code",
      "execution_count": null,
      "metadata": {
        "id": "tbmjkKOMZagB",
        "colab": {
          "base_uri": "https://localhost:8080/"
        },
        "outputId": "14426823-8b0a-4cc8-f84f-bb9bca7a57ca"
      },
      "outputs": [
        {
          "output_type": "stream",
          "name": "stdout",
          "text": [
            "6\n",
            "store_cluster\n",
            "0     47672\n",
            "10     3921\n",
            "1      2363\n",
            "3      2074\n",
            "17     1306\n",
            "6       976\n",
            "Name: count, dtype: int64\n",
            "0\n"
          ]
        }
      ],
      "source": [
        "print(df_train[\"store_cluster\"].nunique())\n",
        "print(df_train[\"store_cluster\"].value_counts())\n",
        "print(df_train[\"store_cluster\"].isnull().sum())"
      ]
    },
    {
      "cell_type": "code",
      "execution_count": null,
      "metadata": {
        "id": "8IpD17nxaUT4",
        "colab": {
          "base_uri": "https://localhost:8080/"
        },
        "outputId": "d96b43f1-5b9a-4c6f-eabb-1be201e4ced9"
      },
      "outputs": [
        {
          "output_type": "stream",
          "name": "stdout",
          "text": [
            "3\n",
            "items_family\n",
            "GROCERY I    34638\n",
            "BEVERAGES    16118\n",
            "PRODUCE       7556\n",
            "Name: count, dtype: int64\n",
            "0\n"
          ]
        }
      ],
      "source": [
        "print(df_train[\"items_family\"].nunique())\n",
        "print(df_train[\"items_family\"].value_counts())\n",
        "print(df_train[\"items_family\"].isnull().sum())"
      ]
    },
    {
      "cell_type": "code",
      "execution_count": null,
      "metadata": {
        "id": "A1d2QEh3amDK",
        "colab": {
          "base_uri": "https://localhost:8080/"
        },
        "outputId": "21639718-3b2c-4ba5-c23a-0ceb3d6fbc6f"
      },
      "outputs": [
        {
          "output_type": "stream",
          "name": "stdout",
          "text": [
            "103\n",
            "item_class\n",
            "1016    3384\n",
            "1040    3370\n",
            "1124    2704\n",
            "1034    2477\n",
            "1122    2303\n",
            "        ... \n",
            "1029       4\n",
            "1153       3\n",
            "1150       2\n",
            "1154       2\n",
            "1046       1\n",
            "Name: count, Length: 103, dtype: int64\n",
            "0\n"
          ]
        }
      ],
      "source": [
        "print(df_train[\"item_class\"].nunique())\n",
        "print(df_train[\"item_class\"].value_counts())\n",
        "print(df_train[\"item_class\"].isnull().sum())"
      ]
    },
    {
      "cell_type": "code",
      "execution_count": null,
      "metadata": {
        "id": "qarR4JjCa8Mz",
        "colab": {
          "base_uri": "https://localhost:8080/"
        },
        "outputId": "ea81cb01-683a-4c76-d343-8715709bbe06"
      },
      "outputs": [
        {
          "output_type": "stream",
          "name": "stdout",
          "text": [
            "2\n",
            "perishable_items\n",
            "0    50756\n",
            "1     7556\n",
            "Name: count, dtype: int64\n",
            "0\n"
          ]
        }
      ],
      "source": [
        "print(df_train[\"perishable_items\"].nunique())\n",
        "print(df_train[\"perishable_items\"].value_counts())\n",
        "print(df_train[\"perishable_items\"].isnull().sum())"
      ]
    },
    {
      "cell_type": "code",
      "execution_count": null,
      "metadata": {
        "id": "wXlrgUJKhLtt"
      },
      "outputs": [],
      "source": [
        "# Create a weight column\n",
        "df_train['weight'] = 1.0  # default weight for non-perishable\n",
        "\n",
        "# Increase weight for perishable items\n",
        "df_train.loc[df_train['perishable_items'] == 1, 'weight'] = 1.5"
      ]
    },
    {
      "cell_type": "code",
      "execution_count": null,
      "metadata": {
        "id": "RlPnKDEebSUy",
        "colab": {
          "base_uri": "https://localhost:8080/"
        },
        "outputId": "9e67cdb6-d483-4dd0-beb8-a505f9916292"
      },
      "outputs": [
        {
          "output_type": "stream",
          "name": "stdout",
          "text": [
            "2312\n",
            "transactions\n",
            "1380    119\n",
            "1180    117\n",
            "1348    110\n",
            "1355    106\n",
            "1278    106\n",
            "       ... \n",
            "352       2\n",
            "413       2\n",
            "452       2\n",
            "2300      1\n",
            "622       1\n",
            "Name: count, Length: 2312, dtype: int64\n",
            "0\n"
          ]
        }
      ],
      "source": [
        "print(df_train[\"transactions\"].nunique())\n",
        "print(df_train[\"transactions\"].value_counts())\n",
        "print(df_train[\"transactions\"].isnull().sum())"
      ]
    },
    {
      "cell_type": "code",
      "execution_count": null,
      "metadata": {
        "id": "2PCB6UZtblgx",
        "colab": {
          "base_uri": "https://localhost:8080/"
        },
        "outputId": "9cc86188-5985-4ab9-b5ab-529f6dec2dba"
      },
      "outputs": [
        {
          "output_type": "stream",
          "name": "stdout",
          "text": [
            "7\n",
            "weekday\n",
            "5    8709\n",
            "6    8484\n",
            "0    8460\n",
            "4    8322\n",
            "1    8244\n",
            "2    8115\n",
            "3    7978\n",
            "Name: count, dtype: int64\n",
            "0\n"
          ]
        }
      ],
      "source": [
        "print(df_train[\"weekday\"].nunique())\n",
        "print(df_train[\"weekday\"].value_counts())\n",
        "print(df_train[\"weekday\"].isnull().sum())"
      ]
    },
    {
      "cell_type": "code",
      "execution_count": null,
      "metadata": {
        "id": "VJtLe3QucE8T"
      },
      "outputs": [],
      "source": [
        "for col in df_train.select_dtypes(include=['int64']).columns:\n",
        "    df_train[col] = pd.to_numeric(df_train[col], downcast='integer')"
      ]
    },
    {
      "cell_type": "code",
      "execution_count": null,
      "metadata": {
        "id": "mZzcMmQKcNN3",
        "colab": {
          "base_uri": "https://localhost:8080/"
        },
        "outputId": "913f6a02-c40b-457c-9b68-83ee57a16447"
      },
      "outputs": [
        {
          "output_type": "stream",
          "name": "stderr",
          "text": [
            "<ipython-input-102-9c7d44bb2d08>:2: FutureWarning: Series.fillna with 'method' is deprecated and will raise in a future version. Use obj.ffill() or obj.bfill() instead.\n",
            "  df_train['dcoilwtico'] = df_train['dcoilwtico'].fillna(method='ffill').fillna(method='bfill')\n"
          ]
        }
      ],
      "source": [
        "# Fill NaN in 'dcoilwtico' (oil price) with previous available value\n",
        "df_train['dcoilwtico'] = df_train['dcoilwtico'].fillna(method='ffill').fillna(method='bfill')"
      ]
    },
    {
      "cell_type": "markdown",
      "metadata": {
        "id": "9gr4K9bJniTG"
      },
      "source": [
        "Theo original idea of this Kaggel code-prediction was that Equador is oil exporting country and high/low oil price significanly influence shopping activity/spending confidence"
      ]
    },
    {
      "cell_type": "code",
      "execution_count": null,
      "metadata": {
        "id": "zxU94WXPjUYf",
        "colab": {
          "base_uri": "https://localhost:8080/",
          "height": 806
        },
        "outputId": "bfef2e93-fe07-4c2e-b6f1-2707fe8437dd"
      },
      "outputs": [
        {
          "output_type": "display_data",
          "data": {
            "text/plain": [
              "<Figure size 1000x800 with 2 Axes>"
            ],
            "image/png": "[encoded data removed]"
          },
          "metadata": {}
        }
      ],
      "source": [
        "# Make sure dates are in datetime format\n",
        "df_train['train_date'] = pd.to_datetime(df_train['train_date'])\n",
        "df_test['test_date'] = pd.to_datetime(df_test['test_date'])\n",
        "\n",
        "# Sort by date\n",
        "df_train = df_train.sort_values('train_date')\n",
        "df_test = df_test.sort_values('test_date')\n",
        "\n",
        "# Group unit_sales per day\n",
        "sales_per_day = df_train.groupby('train_date')['unit_sales'].sum()\n",
        "\n",
        "# Create two vertically stacked plots\n",
        "fig, (ax1, ax2) = plt.subplots(2, 1, figsize=(10, 8), sharex=True)\n",
        "\n",
        "# Top plot: Shopping activity\n",
        "ax1.plot(sales_per_day.index, sales_per_day.values, color='green', label='Train Total Unit Sales')\n",
        "ax1.set_title('Shopping Activity Over Time (Total Unit Sales)', fontsize=16)\n",
        "ax1.set_ylabel('Total Unit Sales', fontsize=14)\n",
        "ax1.legend()\n",
        "ax1.grid(True)\n",
        "\n",
        "# Bottom plot: Oil prices\n",
        "ax2.plot(df_train['train_date'], df_train['dcoilwtico'], label='Train Oil Price', color='blue')\n",
        "ax2.plot(df_test['test_date'], df_test['dcoilwtico'], label='Test Oil Price', color='orange')\n",
        "ax2.set_title('Oil Prices Over Time (Train and Test)', fontsize=16)\n",
        "ax2.set_xlabel('Date', fontsize=14)\n",
        "ax2.set_ylabel('Oil Price (dcoilwtico)', fontsize=14)\n",
        "ax2.legend()\n",
        "ax2.grid(True)\n",
        "\n",
        "# Layout adjustment\n",
        "plt.tight_layout()\n",
        "plt.show()"
      ]
    },
    {
      "cell_type": "code",
      "execution_count": null,
      "metadata": {
        "id": "zuVFnvEoF_tO",
        "colab": {
          "base_uri": "https://localhost:8080/",
          "height": 163
        },
        "outputId": "a57b5715-5ede-4a8e-dec8-a478190f5cd4"
      },
      "outputs": [
        {
          "output_type": "execute_result",
          "data": {
            "text/plain": [
              "       unit_sales train_date  store_nbr  item_nbr  onpromotion  dcoilwtico  \\\n",
              "1766          5.0 2017-01-03         17    364832            0       52.36   \n",
              "51914         1.0 2017-03-31         40    211206            0       50.54   \n",
              "56540        21.0 2017-04-06         46   2043261            1       51.69   \n",
              "\n",
              "      holiday_type locale  transferred  city store_type  store_cluster  \\\n",
              "1766          None   None            0  None       None              0   \n",
              "51914         None   None            0  None       None              0   \n",
              "56540         None   None            0  None       None              0   \n",
              "\n",
              "      items_family  item_class  perishable_items  transactions  weekday  \\\n",
              "1766     GROCERY I        1040                 0          1760        1   \n",
              "51914    GROCERY I        1072                 0          1379        4   \n",
              "56540    GROCERY I        1094                 0          2896        3   \n",
              "\n",
              "       weight  \n",
              "1766      1.0  \n",
              "51914     1.0  \n",
              "56540     1.0  "
            ],
            "text/html": [
              "\n",
              "  <div id=\"df-a98c5693-3040-40a4-91f9-9b2143356afc\" class=\"colab-df-container\">\n",
              "    <div>\n",
              "<style scoped>\n",
              "    .dataframe tbody tr th:only-of-type {\n",
              "        vertical-align: middle;\n",
              "    }\n",
              "\n",
              "    .dataframe tbody tr th {\n",
              "        vertical-align: top;\n",
              "    }\n",
              "\n",
              "    .dataframe thead th {\n",
              "        text-align: right;\n",
              "    }\n",
              "</style>\n",
              "<table border=\"1\" class=\"dataframe\">\n",
              "  <thead>\n",
              "    <tr style=\"text-align: right;\">\n",
              "      <th></th>\n",
              "      <th>unit_sales</th>\n",
              "      <th>train_date</th>\n",
              "      <th>store_nbr</th>\n",
              "      <th>item_nbr</th>\n",
              "      <th>onpromotion</th>\n",
              "      <th>dcoilwtico</th>\n",
              "      <th>holiday_type</th>\n",
              "      <th>locale</th>\n",
              "      <th>transferred</th>\n",
              "      <th>city</th>\n",
              "      <th>store_type</th>\n",
              "      <th>store_cluster</th>\n",
              "      <th>items_family</th>\n",
              "      <th>item_class</th>\n",
              "      <th>perishable_items</th>\n",
              "      <th>transactions</th>\n",
              "      <th>weekday</th>\n",
              "      <th>weight</th>\n",
              "    </tr>\n",
              "  </thead>\n",
              "  <tbody>\n",
              "    <tr>\n",
              "      <th>1766</th>\n",
              "      <td>5.0</td>\n",
              "      <td>2017-01-03</td>\n",
              "      <td>17</td>\n",
              "      <td>364832</td>\n",
              "      <td>0</td>\n",
              "      <td>52.36</td>\n",
              "      <td>None</td>\n",
              "      <td>None</td>\n",
              "      <td>0</td>\n",
              "      <td>None</td>\n",
              "      <td>None</td>\n",
              "      <td>0</td>\n",
              "      <td>GROCERY I</td>\n",
              "      <td>1040</td>\n",
              "      <td>0</td>\n",
              "      <td>1760</td>\n",
              "      <td>1</td>\n",
              "      <td>1.0</td>\n",
              "    </tr>\n",
              "    <tr>\n",
              "      <th>51914</th>\n",
              "      <td>1.0</td>\n",
              "      <td>2017-03-31</td>\n",
              "      <td>40</td>\n",
              "      <td>211206</td>\n",
              "      <td>0</td>\n",
              "      <td>50.54</td>\n",
              "      <td>None</td>\n",
              "      <td>None</td>\n",
              "      <td>0</td>\n",
              "      <td>None</td>\n",
              "      <td>None</td>\n",
              "      <td>0</td>\n",
              "      <td>GROCERY I</td>\n",
              "      <td>1072</td>\n",
              "      <td>0</td>\n",
              "      <td>1379</td>\n",
              "      <td>4</td>\n",
              "      <td>1.0</td>\n",
              "    </tr>\n",
              "    <tr>\n",
              "      <th>56540</th>\n",
              "      <td>21.0</td>\n",
              "      <td>2017-04-06</td>\n",
              "      <td>46</td>\n",
              "      <td>2043261</td>\n",
              "      <td>1</td>\n",
              "      <td>51.69</td>\n",
              "      <td>None</td>\n",
              "      <td>None</td>\n",
              "      <td>0</td>\n",
              "      <td>None</td>\n",
              "      <td>None</td>\n",
              "      <td>0</td>\n",
              "      <td>GROCERY I</td>\n",
              "      <td>1094</td>\n",
              "      <td>0</td>\n",
              "      <td>2896</td>\n",
              "      <td>3</td>\n",
              "      <td>1.0</td>\n",
              "    </tr>\n",
              "  </tbody>\n",
              "</table>\n",
              "</div>\n",
              "    <div class=\"colab-df-buttons\">\n",
              "\n",
              "  <div class=\"colab-df-container\">\n",
              "    <button class=\"colab-df-convert\" onclick=\"convertToInteractive('df-a98c5693-3040-40a4-91f9-9b2143356afc')\"\n",
              "            title=\"Convert this dataframe to an interactive table.\"\n",
              "            style=\"display:none;\">\n",
              "\n",
              "  <svg xmlns=\"http://www.w3.org/2000/svg\" height=\"24px\" viewBox=\"0 -960 960 960\">\n",
              "    <path d=\"M120-120v-720h720v720H120Zm60-500h600v-160H180v160Zm220 220h160v-160H400v160Zm0 220h160v-160H400v160ZM180-400h160v-160H180v160Zm440 0h160v-160H620v160ZM180-180h160v-160H180v160Zm440 0h160v-160H620v160Z\"/>\n",
              "  </svg>\n",
              "    </button>\n",
              "\n",
              "  <style>\n",
              "    .colab-df-container {\n",
              "      display:flex;\n",
              "      gap: 12px;\n",
              "    }\n",
              "\n",
              "    .colab-df-convert {\n",
              "      background-color: #E8F0FE;\n",
              "      border: none;\n",
              "      border-radius: 50%;\n",
              "      cursor: pointer;\n",
              "      display: none;\n",
              "      fill: #1967D2;\n",
              "      height: 32px;\n",
              "      padding: 0 0 0 0;\n",
              "      width: 32px;\n",
              "    }\n",
              "\n",
              "    .colab-df-convert:hover {\n",
              "      background-color: #E2EBFA;\n",
              "      box-shadow: 0px 1px 2px rgba(60, 64, 67, 0.3), 0px 1px 3px 1px rgba(60, 64, 67, 0.15);\n",
              "      fill: #174EA6;\n",
              "    }\n",
              "\n",
              "    .colab-df-buttons div {\n",
              "      margin-bottom: 4px;\n",
              "    }\n",
              "\n",
              "    [theme=dark] .colab-df-convert {\n",
              "      background-color: #3B4455;\n",
              "      fill: #D2E3FC;\n",
              "    }\n",
              "\n",
              "    [theme=dark] .colab-df-convert:hover {\n",
              "      background-color: #434B5C;\n",
              "      box-shadow: 0px 1px 3px 1px rgba(0, 0, 0, 0.15);\n",
              "      filter: drop-shadow(0px 1px 2px rgba(0, 0, 0, 0.3));\n",
              "      fill: #FFFFFF;\n",
              "    }\n",
              "  </style>\n",
              "\n",
              "    <script>\n",
              "      const buttonEl =\n",
              "        document.querySelector('#df-a98c5693-3040-40a4-91f9-9b2143356afc button.colab-df-convert');\n",
              "      buttonEl.style.display =\n",
              "        google.colab.kernel.accessAllowed ? 'block' : 'none';\n",
              "\n",
              "      async function convertToInteractive(key) {\n",
              "        const element = document.querySelector('#df-a98c5693-3040-40a4-91f9-9b2143356afc');\n",
              "        const dataTable =\n",
              "          await google.colab.kernel.invokeFunction('convertToInteractive',\n",
              "                                                    [key], {});\n",
              "        if (!dataTable) return;\n",
              "\n",
              "        const docLinkHtml = 'Like what you see? Visit the ' +\n",
              "          '<a target=\"_blank\" href=https://colab.research.google.com/notebooks/data_table.ipynb>data table notebook</a>'\n",
              "          + ' to learn more about interactive tables.';\n",
              "        element.innerHTML = '';\n",
              "        dataTable['output_type'] = 'display_data';\n",
              "        await google.colab.output.renderOutput(dataTable, element);\n",
              "        const docLink = document.createElement('div');\n",
              "        docLink.innerHTML = docLinkHtml;\n",
              "        element.appendChild(docLink);\n",
              "      }\n",
              "    </script>\n",
              "  </div>\n",
              "\n",
              "\n",
              "    <div id=\"df-9292db9e-dfd4-4fbc-a8b8-544b51aee7dc\">\n",
              "      <button class=\"colab-df-quickchart\" onclick=\"quickchart('df-9292db9e-dfd4-4fbc-a8b8-544b51aee7dc')\"\n",
              "                title=\"Suggest charts\"\n",
              "                style=\"display:none;\">\n",
              "\n",
              "<svg xmlns=\"http://www.w3.org/2000/svg\" height=\"24px\"viewBox=\"0 0 24 24\"\n",
              "     width=\"24px\">\n",
              "    <g>\n",
              "        <path d=\"M19 3H5c-1.1 0-2 .9-2 2v14c0 1.1.9 2 2 2h14c1.1 0 2-.9 2-2V5c0-1.1-.9-2-2-2zM9 17H7v-7h2v7zm4 0h-2V7h2v10zm4 0h-2v-4h2v4z\"/>\n",
              "    </g>\n",
              "</svg>\n",
              "      </button>\n",
              "\n",
              "<style>\n",
              "  .colab-df-quickchart {\n",
              "      --bg-color: #E8F0FE;\n",
              "      --fill-color: #1967D2;\n",
              "      --hover-bg-color: #E2EBFA;\n",
              "      --hover-fill-color: #174EA6;\n",
              "      --disabled-fill-color: #AAA;\n",
              "      --disabled-bg-color: #DDD;\n",
              "  }\n",
              "\n",
              "  [theme=dark] .colab-df-quickchart {\n",
              "      --bg-color: #3B4455;\n",
              "      --fill-color: #D2E3FC;\n",
              "      --hover-bg-color: #434B5C;\n",
              "      --hover-fill-color: #FFFFFF;\n",
              "      --disabled-bg-color: #3B4455;\n",
              "      --disabled-fill-color: #666;\n",
              "  }\n",
              "\n",
              "  .colab-df-quickchart {\n",
              "    background-color: var(--bg-color);\n",
              "    border: none;\n",
              "    border-radius: 50%;\n",
              "    cursor: pointer;\n",
              "    display: none;\n",
              "    fill: var(--fill-color);\n",
              "    height: 32px;\n",
              "    padding: 0;\n",
              "    width: 32px;\n",
              "  }\n",
              "\n",
              "  .colab-df-quickchart:hover {\n",
              "    background-color: var(--hover-bg-color);\n",
              "    box-shadow: 0 1px 2px rgba(60, 64, 67, 0.3), 0 1px 3px 1px rgba(60, 64, 67, 0.15);\n",
              "    fill: var(--button-hover-fill-color);\n",
              "  }\n",
              "\n",
              "  .colab-df-quickchart-complete:disabled,\n",
              "  .colab-df-quickchart-complete:disabled:hover {\n",
              "    background-color: var(--disabled-bg-color);\n",
              "    fill: var(--disabled-fill-color);\n",
              "    box-shadow: none;\n",
              "  }\n",
              "\n",
              "  .colab-df-spinner {\n",
              "    border: 2px solid var(--fill-color);\n",
              "    border-color: transparent;\n",
              "    border-bottom-color: var(--fill-color);\n",
              "    animation:\n",
              "      spin 1s steps(1) infinite;\n",
              "  }\n",
              "\n",
              "  @keyframes spin {\n",
              "    0% {\n",
              "      border-color: transparent;\n",
              "      border-bottom-color: var(--fill-color);\n",
              "      border-left-color: var(--fill-color);\n",
              "    }\n",
              "    20% {\n",
              "      border-color: transparent;\n",
              "      border-left-color: var(--fill-color);\n",
              "      border-top-color: var(--fill-color);\n",
              "    }\n",
              "    30% {\n",
              "      border-color: transparent;\n",
              "      border-left-color: var(--fill-color);\n",
              "      border-top-color: var(--fill-color);\n",
              "      border-right-color: var(--fill-color);\n",
              "    }\n",
              "    40% {\n",
              "      border-color: transparent;\n",
              "      border-right-color: var(--fill-color);\n",
              "      border-top-color: var(--fill-color);\n",
              "    }\n",
              "    60% {\n",
              "      border-color: transparent;\n",
              "      border-right-color: var(--fill-color);\n",
              "    }\n",
              "    80% {\n",
              "      border-color: transparent;\n",
              "      border-right-color: var(--fill-color);\n",
              "      border-bottom-color: var(--fill-color);\n",
              "    }\n",
              "    90% {\n",
              "      border-color: transparent;\n",
              "      border-bottom-color: var(--fill-color);\n",
              "    }\n",
              "  }\n",
              "</style>\n",
              "\n",
              "      <script>\n",
              "        async function quickchart(key) {\n",
              "          const quickchartButtonEl =\n",
              "            document.querySelector('#' + key + ' button');\n",
              "          quickchartButtonEl.disabled = true;  // To prevent multiple clicks.\n",
              "          quickchartButtonEl.classList.add('colab-df-spinner');\n",
              "          try {\n",
              "            const charts = await google.colab.kernel.invokeFunction(\n",
              "                'suggestCharts', [key], {});\n",
              "          } catch (error) {\n",
              "            console.error('Error during call to suggestCharts:', error);\n",
              "          }\n",
              "          quickchartButtonEl.classList.remove('colab-df-spinner');\n",
              "          quickchartButtonEl.classList.add('colab-df-quickchart-complete');\n",
              "        }\n",
              "        (() => {\n",
              "          let quickchartButtonEl =\n",
              "            document.querySelector('#df-9292db9e-dfd4-4fbc-a8b8-544b51aee7dc button');\n",
              "          quickchartButtonEl.style.display =\n",
              "            google.colab.kernel.accessAllowed ? 'block' : 'none';\n",
              "        })();\n",
              "      </script>\n",
              "    </div>\n",
              "\n",
              "    </div>\n",
              "  </div>\n"
            ],
            "application/vnd.google.colaboratory.intrinsic+json": {
              "type": "dataframe",
              "repr_error": "0"
            }
          },
          "metadata": {},
          "execution_count": 104
        }
      ],
      "source": [
        "df_train.sample(3)"
      ]
    },
    {
      "cell_type": "code",
      "source": [
        "from google.colab import drive\n",
        "drive.mount('/content/drive')"
      ],
      "metadata": {
        "colab": {
          "base_uri": "https://localhost:8080/"
        },
        "id": "J40G33LwvopM",
        "outputId": "2539b89d-c33a-4aa1-ecd9-1df09356d831"
      },
      "execution_count": null,
      "outputs": [
        {
          "output_type": "stream",
          "name": "stdout",
          "text": [
            "Mounted at /content/drive\n"
          ]
        }
      ]
    },
    {
      "cell_type": "code",
      "source": [
        "file_path = '/content/drive/MyDrive/MasterSchool/MasterSchool_Python/Time_Series/Time_series_project/df_train.csv'\n",
        "df_train.to_csv(file_path, index=False)"
      ],
      "metadata": {
        "id": "CYXlc8jivwSt"
      },
      "execution_count": null,
      "outputs": []
    },
    {
      "cell_type": "code",
      "execution_count": null,
      "metadata": {
        "id": "gO90iT7nw9Xn",
        "colab": {
          "base_uri": "https://localhost:8080/"
        },
        "outputId": "b1de9ab9-a342-4deb-b460-a8d3b7022551"
      },
      "outputs": [
        {
          "output_type": "execute_result",
          "data": {
            "text/plain": [
              "(58312, 18)"
            ]
          },
          "metadata": {},
          "execution_count": 105
        }
      ],
      "source": [
        "df_enc = df_train.copy() # encoded\n",
        "df_enc.shape"
      ]
    },
    {
      "cell_type": "code",
      "execution_count": null,
      "metadata": {
        "id": "yIFd2yhUgyJj"
      },
      "outputs": [],
      "source": [
        "# Save the DataFrame to a compressed file\n",
        "# joblib.dump(df_train, 'df_train.joblib.gz', compress=('gzip', 3))"
      ]
    },
    {
      "cell_type": "code",
      "execution_count": null,
      "metadata": {
        "id": "CDP4ShSRxNPG",
        "colab": {
          "base_uri": "https://localhost:8080/"
        },
        "outputId": "f405b11c-87c9-4cd7-a254-a31c2ff0cf3d"
      },
      "outputs": [
        {
          "output_type": "execute_result",
          "data": {
            "text/plain": [
              "18"
            ]
          },
          "metadata": {},
          "execution_count": 107
        }
      ],
      "source": [
        "gc.collect() # gc.collect() are for garbage collection — basically cleaning up memory that Python no longer needs"
      ]
    },
    {
      "cell_type": "markdown",
      "metadata": {
        "id": "G3S_YPixthYw"
      },
      "source": [
        "# Data Preparation"
      ]
    },
    {
      "cell_type": "markdown",
      "metadata": {
        "id": "kRsRks0Ett-C"
      },
      "source": [
        "## cleaning and encoding"
      ]
    },
    {
      "cell_type": "markdown",
      "metadata": {
        "id": "zqiYfYe6EGDK"
      },
      "source": [
        "### Z-score 2%"
      ]
    },
    {
      "cell_type": "code",
      "execution_count": null,
      "metadata": {
        "id": "DCL1ZvyLEAqk",
        "colab": {
          "base_uri": "https://localhost:8080/"
        },
        "outputId": "cf5a0653-edd7-4766-d30a-ce6b9720766e"
      },
      "outputs": [
        {
          "output_type": "stream",
          "name": "stdout",
          "text": [
            "Number of outliers detected: 1\n"
          ]
        },
        {
          "output_type": "stream",
          "name": "stderr",
          "text": [
            "<ipython-input-109-a9d8101e8a1b>:12: DeprecationWarning: DataFrameGroupBy.apply operated on the grouping columns. This behavior is deprecated, and in a future version of pandas the grouping columns will be excluded from the operation. Either pass `include_groups=False` to exclude the groupings or explicitly select the grouping columns after groupby to silence this warning.\n",
            "  df_enc_grouped = df_train.groupby(['store_nbr', 'item_nbr']).apply(calculate_store_item_zscore)\n"
          ]
        }
      ],
      "source": [
        "# Function to calculate Z-score 2% for each group (store-item combination)\n",
        "def calculate_store_item_zscore(group):\n",
        "    # Compute mean and standard deviation for each store-item group\n",
        "    mean_sales = group['unit_sales'].mean()\n",
        "    std_sales = group['unit_sales'].std()\n",
        "\n",
        "    # Calculate Z-score (avoiding division by zero for standard deviation)\n",
        "    group['z_score'] = (group['unit_sales'] - mean_sales) / (std_sales if std_sales != 0 else 1)\n",
        "    return group\n",
        "\n",
        "# Apply the Z-score calculation to each store-item group without resetting the index\n",
        "df_enc_grouped = df_train.groupby(['store_nbr', 'item_nbr']).apply(calculate_store_item_zscore)\n",
        "df_enc_grouped.reset_index(drop=True, inplace=True)\n",
        "\n",
        "# Define threshold for outliers (e.g., Z-score > 2)\n",
        "outliers = df_enc_grouped[df_enc_grouped['z_score'] > 2]\n",
        "\n",
        "# Print summary\n",
        "print(f\"Number of outliers detected: {len(outliers)}\")\n",
        "del df_enc_grouped"
      ]
    },
    {
      "cell_type": "markdown",
      "metadata": {
        "id": "FkAIDSC0t9wm"
      },
      "source": [
        "### target unit_sales — it’s a continuous numerical value"
      ]
    },
    {
      "cell_type": "markdown",
      "metadata": {
        "id": "QNVQxAvyuFCI"
      },
      "source": [
        "Log transform it to stabilize variance (because sales can have huge spikes)"
      ]
    },
    {
      "cell_type": "code",
      "execution_count": null,
      "metadata": {
        "id": "p7mynWcxuIK4"
      },
      "outputs": [],
      "source": [
        "df_enc['unit_sales_log'] = np.log1p(df_enc['unit_sales'])"
      ]
    },
    {
      "cell_type": "code",
      "execution_count": null,
      "metadata": {
        "id": "8igV9DbluTQi"
      },
      "outputs": [],
      "source": [
        "# preds = np.expm1(model_predictions) after prediction you can reverse transform"
      ]
    },
    {
      "cell_type": "markdown",
      "metadata": {
        "id": "Lw1FvxGqvHY6"
      },
      "source": [
        "### dates"
      ]
    },
    {
      "cell_type": "code",
      "execution_count": null,
      "metadata": {
        "id": "wOsKDh8IvK-a"
      },
      "outputs": [],
      "source": [
        "df_enc['month'] = df_enc['train_date'].dt.month\n",
        "df_enc['day_of_month'] = df_enc['train_date'].dt.day\n",
        "df_enc['year'] = df_enc['train_date'].dt.year"
      ]
    },
    {
      "cell_type": "code",
      "execution_count": null,
      "metadata": {
        "id": "4pDJ4gnfJ3tI"
      },
      "outputs": [],
      "source": [
        "df_enc['year'] = df_enc['year'] - df_enc['year'].min()"
      ]
    },
    {
      "cell_type": "markdown",
      "metadata": {
        "id": "sER08NwXBbnR"
      },
      "source": [
        "### store_nbr"
      ]
    },
    {
      "cell_type": "markdown",
      "metadata": {
        "id": "XidEuJh8NT3n"
      },
      "source": [
        "nothig"
      ]
    },
    {
      "cell_type": "markdown",
      "metadata": {
        "id": "NXRDxy0aNWKS"
      },
      "source": [
        "## item_nbr"
      ]
    },
    {
      "cell_type": "code",
      "execution_count": null,
      "metadata": {
        "id": "ZG7c2sYWNDww"
      },
      "outputs": [],
      "source": [
        "le = LabelEncoder()\n",
        "df_enc['item_nbr'] = le.fit_transform(df_enc['item_nbr'])\n",
        "df_enc['item_nbr'] = df_enc['item_nbr'].astype('uint32')"
      ]
    },
    {
      "cell_type": "markdown",
      "metadata": {
        "id": "h76MzsHSN8WQ"
      },
      "source": [
        "## onpromotion"
      ]
    },
    {
      "cell_type": "markdown",
      "metadata": {
        "id": "DoFhumhzN_dx"
      },
      "source": [
        "nothing"
      ]
    },
    {
      "cell_type": "markdown",
      "metadata": {
        "id": "qqQTEz7POGbl"
      },
      "source": [
        "## dcoilwtico"
      ]
    },
    {
      "cell_type": "code",
      "execution_count": null,
      "metadata": {
        "id": "0PWFGWl0O46p"
      },
      "outputs": [],
      "source": [
        "scaler = StandardScaler()\n",
        "df_enc['dcoilwtico_scaled'] = scaler.fit_transform(df_enc[['dcoilwtico']])"
      ]
    },
    {
      "cell_type": "markdown",
      "metadata": {
        "id": "mrCuqM0VPeQf"
      },
      "source": [
        "## \tholiday_type"
      ]
    },
    {
      "cell_type": "code",
      "execution_count": null,
      "metadata": {
        "id": "J6fk0LRtQHez"
      },
      "outputs": [],
      "source": [
        "# One-hot encode 'holiday_type', treating NaNs as a separate category\n",
        "holiday_dummies = pd.get_dummies(df_enc['holiday_type'], prefix='holiday', dummy_na=True)\n",
        "\n",
        "# Concatenate back to df_enc\n",
        "df_enc = pd.concat([df_enc, holiday_dummies], axis=1)\n",
        "\n",
        "# Force all holiday_* columns to be 0/1 integers\n",
        "for col in holiday_dummies.columns:\n",
        "    df_enc[col] = df_enc[col].astype(int)\n",
        "\n",
        "# (Optional) Drop the original column if I want\n",
        "# df_enc.drop('holiday_type', axis=1, inplace=True)"
      ]
    },
    {
      "cell_type": "markdown",
      "metadata": {
        "id": "l1aSaiA2Qr1u"
      },
      "source": [
        "## locale"
      ]
    },
    {
      "cell_type": "code",
      "execution_count": null,
      "metadata": {
        "id": "wE7BDLU5RBBM"
      },
      "outputs": [],
      "source": [
        "locale_dummies = pd.get_dummies(df_enc['locale'], prefix='locale', dummy_na=True)\n",
        "df_enc = pd.concat([df_enc, locale_dummies], axis=1)\n",
        "\n",
        "for col in locale_dummies.columns:\n",
        "    df_enc[col] = df_enc[col].astype(int)"
      ]
    },
    {
      "cell_type": "markdown",
      "metadata": {
        "id": "voSq8XVAShSj"
      },
      "source": [
        "## city"
      ]
    },
    {
      "cell_type": "code",
      "execution_count": null,
      "metadata": {
        "id": "kpbcnulBSo3q"
      },
      "outputs": [],
      "source": [
        "city_dummies = pd.get_dummies(df_enc['city'], prefix='city', dummy_na=True)\n",
        "df_enc = pd.concat([df_enc, city_dummies], axis=1)\n",
        "\n",
        "for col in city_dummies.columns:\n",
        "    df_enc[col] = df_enc[col].astype(int)"
      ]
    },
    {
      "cell_type": "markdown",
      "metadata": {
        "id": "NDI21DzNTCq4"
      },
      "source": [
        "## store_type"
      ]
    },
    {
      "cell_type": "code",
      "execution_count": null,
      "metadata": {
        "id": "YreuHmKJTLao"
      },
      "outputs": [],
      "source": [
        "store_type_dummies = pd.get_dummies(df_enc['store_type'], prefix='store_type', dummy_na=True)\n",
        "df_enc = pd.concat([df_enc, store_type_dummies], axis=1)\n",
        "\n",
        "for col in store_type_dummies.columns:\n",
        "    df_enc[col] = df_enc[col].astype(int)"
      ]
    },
    {
      "cell_type": "markdown",
      "metadata": {
        "id": "0y64T5cRVREz"
      },
      "source": [
        "## \tstore_cluster"
      ]
    },
    {
      "cell_type": "code",
      "execution_count": null,
      "metadata": {
        "id": "a0U66aInVafv"
      },
      "outputs": [],
      "source": [
        "store_cluster_dummies = pd.get_dummies(df_enc['store_cluster'], prefix='store_cluster', dummy_na=True)\n",
        "df_enc = pd.concat([df_enc, store_cluster_dummies], axis=1)\n",
        "\n",
        "for col in store_cluster_dummies.columns:\n",
        "    df_enc[col] = df_enc[col].astype(int)"
      ]
    },
    {
      "cell_type": "markdown",
      "metadata": {
        "id": "x0oYUoWqWWb2"
      },
      "source": [
        "## items_family"
      ]
    },
    {
      "cell_type": "code",
      "execution_count": null,
      "metadata": {
        "id": "RxddhzRuWijc"
      },
      "outputs": [],
      "source": [
        "items_family_dummies = pd.get_dummies(df_enc['items_family'], prefix='items_family', dummy_na=True)\n",
        "df_enc = pd.concat([df_enc, items_family_dummies], axis=1)\n",
        "\n",
        "for col in items_family_dummies.columns:\n",
        "    df_enc[col] = df_enc[col].astype(int)"
      ]
    },
    {
      "cell_type": "markdown",
      "metadata": {
        "id": "LAW-KERWXRHo"
      },
      "source": [
        "## perishable_items"
      ]
    },
    {
      "cell_type": "markdown",
      "metadata": {
        "id": "tcDPI2oiXYd4"
      },
      "source": [
        "nothing"
      ]
    },
    {
      "cell_type": "markdown",
      "metadata": {
        "id": "tDlm3QgFX_-p"
      },
      "source": [
        "## transferred"
      ]
    },
    {
      "cell_type": "markdown",
      "metadata": {
        "id": "ppJuM6xAYFtW"
      },
      "source": [
        "nothing"
      ]
    },
    {
      "cell_type": "markdown",
      "metadata": {
        "id": "KLqQoUqSYTqw"
      },
      "source": [
        "## item_class"
      ]
    },
    {
      "cell_type": "markdown",
      "metadata": {
        "id": "ureMorIIZELq"
      },
      "source": [
        "no perfect decision - nothing"
      ]
    },
    {
      "cell_type": "markdown",
      "metadata": {
        "id": "bNybBO76ZdlE"
      },
      "source": [
        "## transactions"
      ]
    },
    {
      "cell_type": "code",
      "execution_count": null,
      "metadata": {
        "id": "9rqwTEeLcVhp"
      },
      "outputs": [],
      "source": [
        "scaler = MinMaxScaler()\n",
        "df_enc['transactions'] = scaler.fit_transform(df_enc[['transactions']])"
      ]
    },
    {
      "cell_type": "markdown",
      "metadata": {
        "id": "-s19rupJcm3T"
      },
      "source": [
        "## weekday"
      ]
    },
    {
      "cell_type": "markdown",
      "metadata": {
        "id": "H6QQgVhTcrjC"
      },
      "source": [
        "nothing"
      ]
    },
    {
      "cell_type": "markdown",
      "metadata": {
        "id": "BTZcRjuD91cj"
      },
      "source": [
        "### Drop all the columns I don’t want at once, but keep them safely aside"
      ]
    },
    {
      "cell_type": "code",
      "execution_count": null,
      "metadata": {
        "id": "QSPvELAWFg5h"
      },
      "outputs": [],
      "source": [
        "# List of columns I want to temporarily remove\n",
        "columns_to_hide = ['item_nbr', 'unit_sales', 'dcoilwtico', 'holiday_type', 'locale', 'city', 'store_type', 'items_family']\n",
        "\n",
        "# 1️⃣ Save the columns separately\n",
        "hidden_data = df_enc[columns_to_hide].copy()\n",
        "\n",
        "# 2️⃣ Drop them from df_enc (now df_enc has only working features)\n",
        "df_enc = df_enc.drop(columns=columns_to_hide)\n",
        "\n",
        "# 3️⃣ If later you want to restore:\n",
        "# df_enc = pd.concat([df_enc, hidden_data], axis=1)"
      ]
    },
    {
      "cell_type": "markdown",
      "metadata": {
        "id": "39Akyrnsfi8E"
      },
      "source": [
        "## Drop about 5% combine of most “outlier” points based on distance"
      ]
    },
    {
      "cell_type": "markdown",
      "metadata": {
        "id": "xfaf-o-QfoRt"
      },
      "source": [
        "Use KNN to 3% find “weird” points — points far from their 10 nearest neighbors"
      ]
    },
    {
      "cell_type": "code",
      "execution_count": null,
      "metadata": {
        "id": "zeV0zfIQe0-d",
        "colab": {
          "base_uri": "https://localhost:8080/"
        },
        "outputId": "5d0e5289-9c84-43b3-f81c-b456401f3d30"
      },
      "outputs": [
        {
          "output_type": "stream",
          "name": "stdout",
          "text": [
            "✅ Outliers removed. New shape: (56561, 44)\n"
          ]
        }
      ],
      "source": [
        "# Step 1: Prepare\n",
        "X_target = df_enc[['unit_sales_log']].values  # Needs 2D for KNN\n",
        "\n",
        "# Step 2: Fit Nearest Neighbors\n",
        "knn = NearestNeighbors(n_neighbors=10)\n",
        "knn.fit(X_target)\n",
        "\n",
        "# Step 3: Find average distance to neighbors\n",
        "distances, _ = knn.kneighbors(X_target)\n",
        "avg_distances = distances.mean(axis=1)\n",
        "\n",
        "# Step 4: Define threshold to drop top 3% largest distances (biggest outliers)\n",
        "threshold = np.percentile(avg_distances, 97)\n",
        "\n",
        "# Step 5: Keep only points below the threshold\n",
        "mask = avg_distances < threshold\n",
        "df_enc_cleaned = df_enc[mask].reset_index(drop=True)\n",
        "\n",
        "print(f\"✅ Outliers removed. New shape: {df_enc_cleaned.shape}\")"
      ]
    },
    {
      "cell_type": "code",
      "execution_count": null,
      "metadata": {
        "id": "Xq98R4ztg_dt"
      },
      "outputs": [],
      "source": [
        "df_model = df_enc_cleaned.copy()"
      ]
    },
    {
      "cell_type": "code",
      "execution_count": null,
      "metadata": {
        "id": "S6yHrbjGg-TO"
      },
      "outputs": [],
      "source": [
        "# Save the DataFrame to a compressed file\n",
        "# joblib.dump(df_enc, 'df_enc.joblib.gz', compress=('gzip', 3))\n",
        "# joblib.dump(df_enc_cleaned, 'df_enc_cleaned.joblib.gz', compress=('gzip', 3))"
      ]
    },
    {
      "cell_type": "code",
      "execution_count": null,
      "metadata": {
        "id": "vSe-K7RakAhL",
        "colab": {
          "base_uri": "https://localhost:8080/"
        },
        "outputId": "f5e6a42e-1f1f-403d-95f2-59ed3b2d326d"
      },
      "outputs": [
        {
          "output_type": "execute_result",
          "data": {
            "text/plain": [
              "0"
            ]
          },
          "metadata": {},
          "execution_count": 127
        }
      ],
      "source": [
        "gc.collect() # gc.collect() are for garbage collection — basically cleaning up memory that Python no longer needs"
      ]
    },
    {
      "cell_type": "code",
      "execution_count": null,
      "metadata": {
        "id": "bGY1cwNzTr52",
        "colab": {
          "base_uri": "https://localhost:8080/",
          "height": 210
        },
        "outputId": "61b44591-0698-444b-ce1c-968295c05d4c"
      },
      "outputs": [
        {
          "output_type": "execute_result",
          "data": {
            "text/plain": [
              "      train_date  store_nbr  onpromotion  transferred  store_cluster  \\\n",
              "32594 2017-02-26         19            0            0              0   \n",
              "33022 2017-02-26          9            0            0              0   \n",
              "25333 2017-02-13         51            0            0             17   \n",
              "\n",
              "       item_class  perishable_items  transactions  weekday  weight  ...  \\\n",
              "32594        1058                 0      0.143281        6     1.0  ...   \n",
              "33022        1028                 0      0.286736        6     1.0  ...   \n",
              "25333        1120                 0      0.271902        0     1.0  ...   \n",
              "\n",
              "       store_cluster_1.0  store_cluster_3.0  store_cluster_6.0  \\\n",
              "32594                  0                  0                  0   \n",
              "33022                  0                  0                  0   \n",
              "25333                  0                  0                  0   \n",
              "\n",
              "       store_cluster_10.0  store_cluster_17.0  store_cluster_nan  \\\n",
              "32594                   0                   0                  0   \n",
              "33022                   0                   0                  0   \n",
              "25333                   0                   1                  0   \n",
              "\n",
              "       items_family_BEVERAGES  items_family_GROCERY I  items_family_PRODUCE  \\\n",
              "32594                       0                       1                     0   \n",
              "33022                       0                       1                     0   \n",
              "25333                       1                       0                     0   \n",
              "\n",
              "       items_family_nan  \n",
              "32594                 0  \n",
              "33022                 0  \n",
              "25333                 0  \n",
              "\n",
              "[3 rows x 44 columns]"
            ],
            "text/html": [
              "\n",
              "  <div id=\"df-e25e6dd6-aa2d-4593-ba02-7776c9d7444d\" class=\"colab-df-container\">\n",
              "    <div>\n",
              "<style scoped>\n",
              "    .dataframe tbody tr th:only-of-type {\n",
              "        vertical-align: middle;\n",
              "    }\n",
              "\n",
              "    .dataframe tbody tr th {\n",
              "        vertical-align: top;\n",
              "    }\n",
              "\n",
              "    .dataframe thead th {\n",
              "        text-align: right;\n",
              "    }\n",
              "</style>\n",
              "<table border=\"1\" class=\"dataframe\">\n",
              "  <thead>\n",
              "    <tr style=\"text-align: right;\">\n",
              "      <th></th>\n",
              "      <th>train_date</th>\n",
              "      <th>store_nbr</th>\n",
              "      <th>onpromotion</th>\n",
              "      <th>transferred</th>\n",
              "      <th>store_cluster</th>\n",
              "      <th>item_class</th>\n",
              "      <th>perishable_items</th>\n",
              "      <th>transactions</th>\n",
              "      <th>weekday</th>\n",
              "      <th>weight</th>\n",
              "      <th>...</th>\n",
              "      <th>store_cluster_1.0</th>\n",
              "      <th>store_cluster_3.0</th>\n",
              "      <th>store_cluster_6.0</th>\n",
              "      <th>store_cluster_10.0</th>\n",
              "      <th>store_cluster_17.0</th>\n",
              "      <th>store_cluster_nan</th>\n",
              "      <th>items_family_BEVERAGES</th>\n",
              "      <th>items_family_GROCERY I</th>\n",
              "      <th>items_family_PRODUCE</th>\n",
              "      <th>items_family_nan</th>\n",
              "    </tr>\n",
              "  </thead>\n",
              "  <tbody>\n",
              "    <tr>\n",
              "      <th>32594</th>\n",
              "      <td>2017-02-26</td>\n",
              "      <td>19</td>\n",
              "      <td>0</td>\n",
              "      <td>0</td>\n",
              "      <td>0</td>\n",
              "      <td>1058</td>\n",
              "      <td>0</td>\n",
              "      <td>0.143281</td>\n",
              "      <td>6</td>\n",
              "      <td>1.0</td>\n",
              "      <td>...</td>\n",
              "      <td>0</td>\n",
              "      <td>0</td>\n",
              "      <td>0</td>\n",
              "      <td>0</td>\n",
              "      <td>0</td>\n",
              "      <td>0</td>\n",
              "      <td>0</td>\n",
              "      <td>1</td>\n",
              "      <td>0</td>\n",
              "      <td>0</td>\n",
              "    </tr>\n",
              "    <tr>\n",
              "      <th>33022</th>\n",
              "      <td>2017-02-26</td>\n",
              "      <td>9</td>\n",
              "      <td>0</td>\n",
              "      <td>0</td>\n",
              "      <td>0</td>\n",
              "      <td>1028</td>\n",
              "      <td>0</td>\n",
              "      <td>0.286736</td>\n",
              "      <td>6</td>\n",
              "      <td>1.0</td>\n",
              "      <td>...</td>\n",
              "      <td>0</td>\n",
              "      <td>0</td>\n",
              "      <td>0</td>\n",
              "      <td>0</td>\n",
              "      <td>0</td>\n",
              "      <td>0</td>\n",
              "      <td>0</td>\n",
              "      <td>1</td>\n",
              "      <td>0</td>\n",
              "      <td>0</td>\n",
              "    </tr>\n",
              "    <tr>\n",
              "      <th>25333</th>\n",
              "      <td>2017-02-13</td>\n",
              "      <td>51</td>\n",
              "      <td>0</td>\n",
              "      <td>0</td>\n",
              "      <td>17</td>\n",
              "      <td>1120</td>\n",
              "      <td>0</td>\n",
              "      <td>0.271902</td>\n",
              "      <td>0</td>\n",
              "      <td>1.0</td>\n",
              "      <td>...</td>\n",
              "      <td>0</td>\n",
              "      <td>0</td>\n",
              "      <td>0</td>\n",
              "      <td>0</td>\n",
              "      <td>1</td>\n",
              "      <td>0</td>\n",
              "      <td>1</td>\n",
              "      <td>0</td>\n",
              "      <td>0</td>\n",
              "      <td>0</td>\n",
              "    </tr>\n",
              "  </tbody>\n",
              "</table>\n",
              "<p>3 rows × 44 columns</p>\n",
              "</div>\n",
              "    <div class=\"colab-df-buttons\">\n",
              "\n",
              "  <div class=\"colab-df-container\">\n",
              "    <button class=\"colab-df-convert\" onclick=\"convertToInteractive('df-e25e6dd6-aa2d-4593-ba02-7776c9d7444d')\"\n",
              "            title=\"Convert this dataframe to an interactive table.\"\n",
              "            style=\"display:none;\">\n",
              "\n",
              "  <svg xmlns=\"http://www.w3.org/2000/svg\" height=\"24px\" viewBox=\"0 -960 960 960\">\n",
              "    <path d=\"M120-120v-720h720v720H120Zm60-500h600v-160H180v160Zm220 220h160v-160H400v160Zm0 220h160v-160H400v160ZM180-400h160v-160H180v160Zm440 0h160v-160H620v160ZM180-180h160v-160H180v160Zm440 0h160v-160H620v160Z\"/>\n",
              "  </svg>\n",
              "    </button>\n",
              "\n",
              "  <style>\n",
              "    .colab-df-container {\n",
              "      display:flex;\n",
              "      gap: 12px;\n",
              "    }\n",
              "\n",
              "    .colab-df-convert {\n",
              "      background-color: #E8F0FE;\n",
              "      border: none;\n",
              "      border-radius: 50%;\n",
              "      cursor: pointer;\n",
              "      display: none;\n",
              "      fill: #1967D2;\n",
              "      height: 32px;\n",
              "      padding: 0 0 0 0;\n",
              "      width: 32px;\n",
              "    }\n",
              "\n",
              "    .colab-df-convert:hover {\n",
              "      background-color: #E2EBFA;\n",
              "      box-shadow: 0px 1px 2px rgba(60, 64, 67, 0.3), 0px 1px 3px 1px rgba(60, 64, 67, 0.15);\n",
              "      fill: #174EA6;\n",
              "    }\n",
              "\n",
              "    .colab-df-buttons div {\n",
              "      margin-bottom: 4px;\n",
              "    }\n",
              "\n",
              "    [theme=dark] .colab-df-convert {\n",
              "      background-color: #3B4455;\n",
              "      fill: #D2E3FC;\n",
              "    }\n",
              "\n",
              "    [theme=dark] .colab-df-convert:hover {\n",
              "      background-color: #434B5C;\n",
              "      box-shadow: 0px 1px 3px 1px rgba(0, 0, 0, 0.15);\n",
              "      filter: drop-shadow(0px 1px 2px rgba(0, 0, 0, 0.3));\n",
              "      fill: #FFFFFF;\n",
              "    }\n",
              "  </style>\n",
              "\n",
              "    <script>\n",
              "      const buttonEl =\n",
              "        document.querySelector('#df-e25e6dd6-aa2d-4593-ba02-7776c9d7444d button.colab-df-convert');\n",
              "      buttonEl.style.display =\n",
              "        google.colab.kernel.accessAllowed ? 'block' : 'none';\n",
              "\n",
              "      async function convertToInteractive(key) {\n",
              "        const element = document.querySelector('#df-e25e6dd6-aa2d-4593-ba02-7776c9d7444d');\n",
              "        const dataTable =\n",
              "          await google.colab.kernel.invokeFunction('convertToInteractive',\n",
              "                                                    [key], {});\n",
              "        if (!dataTable) return;\n",
              "\n",
              "        const docLinkHtml = 'Like what you see? Visit the ' +\n",
              "          '<a target=\"_blank\" href=https://colab.research.google.com/notebooks/data_table.ipynb>data table notebook</a>'\n",
              "          + ' to learn more about interactive tables.';\n",
              "        element.innerHTML = '';\n",
              "        dataTable['output_type'] = 'display_data';\n",
              "        await google.colab.output.renderOutput(dataTable, element);\n",
              "        const docLink = document.createElement('div');\n",
              "        docLink.innerHTML = docLinkHtml;\n",
              "        element.appendChild(docLink);\n",
              "      }\n",
              "    </script>\n",
              "  </div>\n",
              "\n",
              "\n",
              "    <div id=\"df-d3b58469-5cc1-4cab-886b-20ddf2535543\">\n",
              "      <button class=\"colab-df-quickchart\" onclick=\"quickchart('df-d3b58469-5cc1-4cab-886b-20ddf2535543')\"\n",
              "                title=\"Suggest charts\"\n",
              "                style=\"display:none;\">\n",
              "\n",
              "<svg xmlns=\"http://www.w3.org/2000/svg\" height=\"24px\"viewBox=\"0 0 24 24\"\n",
              "     width=\"24px\">\n",
              "    <g>\n",
              "        <path d=\"M19 3H5c-1.1 0-2 .9-2 2v14c0 1.1.9 2 2 2h14c1.1 0 2-.9 2-2V5c0-1.1-.9-2-2-2zM9 17H7v-7h2v7zm4 0h-2V7h2v10zm4 0h-2v-4h2v4z\"/>\n",
              "    </g>\n",
              "</svg>\n",
              "      </button>\n",
              "\n",
              "<style>\n",
              "  .colab-df-quickchart {\n",
              "      --bg-color: #E8F0FE;\n",
              "      --fill-color: #1967D2;\n",
              "      --hover-bg-color: #E2EBFA;\n",
              "      --hover-fill-color: #174EA6;\n",
              "      --disabled-fill-color: #AAA;\n",
              "      --disabled-bg-color: #DDD;\n",
              "  }\n",
              "\n",
              "  [theme=dark] .colab-df-quickchart {\n",
              "      --bg-color: #3B4455;\n",
              "      --fill-color: #D2E3FC;\n",
              "      --hover-bg-color: #434B5C;\n",
              "      --hover-fill-color: #FFFFFF;\n",
              "      --disabled-bg-color: #3B4455;\n",
              "      --disabled-fill-color: #666;\n",
              "  }\n",
              "\n",
              "  .colab-df-quickchart {\n",
              "    background-color: var(--bg-color);\n",
              "    border: none;\n",
              "    border-radius: 50%;\n",
              "    cursor: pointer;\n",
              "    display: none;\n",
              "    fill: var(--fill-color);\n",
              "    height: 32px;\n",
              "    padding: 0;\n",
              "    width: 32px;\n",
              "  }\n",
              "\n",
              "  .colab-df-quickchart:hover {\n",
              "    background-color: var(--hover-bg-color);\n",
              "    box-shadow: 0 1px 2px rgba(60, 64, 67, 0.3), 0 1px 3px 1px rgba(60, 64, 67, 0.15);\n",
              "    fill: var(--button-hover-fill-color);\n",
              "  }\n",
              "\n",
              "  .colab-df-quickchart-complete:disabled,\n",
              "  .colab-df-quickchart-complete:disabled:hover {\n",
              "    background-color: var(--disabled-bg-color);\n",
              "    fill: var(--disabled-fill-color);\n",
              "    box-shadow: none;\n",
              "  }\n",
              "\n",
              "  .colab-df-spinner {\n",
              "    border: 2px solid var(--fill-color);\n",
              "    border-color: transparent;\n",
              "    border-bottom-color: var(--fill-color);\n",
              "    animation:\n",
              "      spin 1s steps(1) infinite;\n",
              "  }\n",
              "\n",
              "  @keyframes spin {\n",
              "    0% {\n",
              "      border-color: transparent;\n",
              "      border-bottom-color: var(--fill-color);\n",
              "      border-left-color: var(--fill-color);\n",
              "    }\n",
              "    20% {\n",
              "      border-color: transparent;\n",
              "      border-left-color: var(--fill-color);\n",
              "      border-top-color: var(--fill-color);\n",
              "    }\n",
              "    30% {\n",
              "      border-color: transparent;\n",
              "      border-left-color: var(--fill-color);\n",
              "      border-top-color: var(--fill-color);\n",
              "      border-right-color: var(--fill-color);\n",
              "    }\n",
              "    40% {\n",
              "      border-color: transparent;\n",
              "      border-right-color: var(--fill-color);\n",
              "      border-top-color: var(--fill-color);\n",
              "    }\n",
              "    60% {\n",
              "      border-color: transparent;\n",
              "      border-right-color: var(--fill-color);\n",
              "    }\n",
              "    80% {\n",
              "      border-color: transparent;\n",
              "      border-right-color: var(--fill-color);\n",
              "      border-bottom-color: var(--fill-color);\n",
              "    }\n",
              "    90% {\n",
              "      border-color: transparent;\n",
              "      border-bottom-color: var(--fill-color);\n",
              "    }\n",
              "  }\n",
              "</style>\n",
              "\n",
              "      <script>\n",
              "        async function quickchart(key) {\n",
              "          const quickchartButtonEl =\n",
              "            document.querySelector('#' + key + ' button');\n",
              "          quickchartButtonEl.disabled = true;  // To prevent multiple clicks.\n",
              "          quickchartButtonEl.classList.add('colab-df-spinner');\n",
              "          try {\n",
              "            const charts = await google.colab.kernel.invokeFunction(\n",
              "                'suggestCharts', [key], {});\n",
              "          } catch (error) {\n",
              "            console.error('Error during call to suggestCharts:', error);\n",
              "          }\n",
              "          quickchartButtonEl.classList.remove('colab-df-spinner');\n",
              "          quickchartButtonEl.classList.add('colab-df-quickchart-complete');\n",
              "        }\n",
              "        (() => {\n",
              "          let quickchartButtonEl =\n",
              "            document.querySelector('#df-d3b58469-5cc1-4cab-886b-20ddf2535543 button');\n",
              "          quickchartButtonEl.style.display =\n",
              "            google.colab.kernel.accessAllowed ? 'block' : 'none';\n",
              "        })();\n",
              "      </script>\n",
              "    </div>\n",
              "\n",
              "    </div>\n",
              "  </div>\n"
            ],
            "application/vnd.google.colaboratory.intrinsic+json": {
              "type": "dataframe"
            }
          },
          "metadata": {},
          "execution_count": 128
        }
      ],
      "source": [
        "df_model.sample(3)"
      ]
    },
    {
      "cell_type": "markdown",
      "metadata": {
        "id": "NG0WQixdf3RI"
      },
      "source": [
        "# EDA"
      ]
    },
    {
      "cell_type": "markdown",
      "metadata": {
        "id": "5a3bzReDWg8h"
      },
      "source": [
        "This Random Forest shows only very general feature importance tendency, as the most influential feature \"transactions\" was taken out"
      ]
    },
    {
      "cell_type": "code",
      "execution_count": null,
      "metadata": {
        "id": "XZbCGZtEUaFh",
        "colab": {
          "base_uri": "https://localhost:8080/",
          "height": 552
        },
        "outputId": "6296e864-c748-45a7-e64d-4cbbf896e5b5"
      },
      "outputs": [
        {
          "output_type": "stream",
          "name": "stdout",
          "text": [
            "✅ Mean Absolute Error: 0.6168\n",
            "✅ R² Score: 0.2061\n"
          ]
        },
        {
          "output_type": "stream",
          "name": "stderr",
          "text": [
            "<ipython-input-129-f0d99edc45a4>:34: FutureWarning: \n",
            "\n",
            "Passing `palette` without assigning `hue` is deprecated and will be removed in v0.14.0. Assign the `y` variable to `hue` and set `legend=False` for the same effect.\n",
            "\n",
            "  sns.barplot(x=top_features, y=top_features.index, palette=\"viridis\")\n"
          ]
        },
        {
          "output_type": "display_data",
          "data": {
            "text/plain": [
              "<Figure size 1000x400 with 1 Axes>"
            ],
            "image/png": "[encoded data removed]"
          },
          "metadata": {}
        }
      ],
      "source": [
        "# 1. Features (X) and Target (y)\n",
        "# Drop target, and ONLY columns that are present\n",
        "X = df_model.drop(columns=[\"unit_sales_log\", \"train_date\", \"transactions\"])\n",
        "y = df_model[\"unit_sales_log\"]                 # Target\n",
        "\n",
        "# 2. Train/Test Split\n",
        "X_train, X_test, y_train, y_test = train_test_split(\n",
        "    X, y, test_size=0.05, random_state=42\n",
        ")\n",
        "\n",
        "# 3. Random Forest Regressor\n",
        "regressor = RandomForestRegressor(\n",
        "    n_estimators=100,\n",
        "    max_depth=10,\n",
        "    random_state=42,\n",
        "    n_jobs=-1\n",
        ")\n",
        "regressor.fit(X_train, y_train)\n",
        "\n",
        "# 4. Predictions and Evaluation\n",
        "y_pred = regressor.predict(X_test)\n",
        "mae = mean_absolute_error(y_test, y_pred)\n",
        "r2 = r2_score(y_test, y_pred)\n",
        "\n",
        "print(f\"✅ Mean Absolute Error: {mae:.4f}\")\n",
        "print(f\"✅ R² Score: {r2:.4f}\")\n",
        "\n",
        "# 5. Feature Importances\n",
        "feature_importance = pd.Series(regressor.feature_importances_, index=X.columns)\n",
        "top_features = feature_importance.sort_values(ascending=False).head(10)\n",
        "\n",
        "# 6. Plotting\n",
        "plt.figure(figsize=(10, 4))\n",
        "sns.barplot(x=top_features, y=top_features.index, palette=\"viridis\")\n",
        "plt.title(\"Top 10 Feature Importances (Random Forest)\", fontsize=14)\n",
        "plt.xlabel(\"Importance Score\")\n",
        "plt.ylabel(\"Feature\")\n",
        "plt.tight_layout()\n",
        "plt.show()"
      ]
    },
    {
      "cell_type": "markdown",
      "metadata": {
        "id": "kYJcvDysY30n"
      },
      "source": [
        "## 7-day rolling mean 'item_class'"
      ]
    },
    {
      "cell_type": "code",
      "execution_count": null,
      "metadata": {
        "id": "tqguMY_FYXn4",
        "colab": {
          "base_uri": "https://localhost:8080/",
          "height": 607
        },
        "outputId": "4e8f8f8d-6708-432a-a9a3-ff2639b8dfe5"
      },
      "outputs": [
        {
          "output_type": "display_data",
          "data": {
            "text/plain": [
              "<Figure size 800x600 with 1 Axes>"
            ],
            "image/png": "[encoded data removed]"
          },
          "metadata": {}
        }
      ],
      "source": [
        "# 1. Find top 10 item_class based on counts\n",
        "top_item_classes = df_model['item_class'].value_counts().head(10).index\n",
        "\n",
        "# 2. Filter df_model to keep only top item_class\n",
        "df_top_items = df_model[df_model['item_class'].isin(top_item_classes)]\n",
        "\n",
        "# 3. Sort by weekday for nice plots\n",
        "df_top_items = df_top_items.sort_values('weekday')\n",
        "\n",
        "# 4. Plot\n",
        "plt.figure(figsize=(8, 6))\n",
        "\n",
        "for item_class in top_item_classes:\n",
        "    item_data = df_top_items[df_top_items['item_class'] == item_class]\n",
        "\n",
        "    # Group by weekday and calculate mean unit_sales_log\n",
        "    weekday_sales = item_data.groupby('weekday')['unit_sales_log'].mean()\n",
        "\n",
        "    # Apply 7-point rolling mean (but since only weekdays (0-6), not truly 7 days, so we skip rolling)\n",
        "    # Just plot directly\n",
        "    plt.plot(weekday_sales.index, weekday_sales.values, label=f'Item Class {item_class}', marker='o')\n",
        "\n",
        "# Styling\n",
        "plt.title('Unit Sales Log by Weekday for Top 10 Item Classes', fontsize=16)\n",
        "plt.xlabel('Weekday (0=Monday, 6=Sunday)', fontsize=14)\n",
        "plt.ylabel('Average Log Unit Sales', fontsize=14)\n",
        "plt.legend(title='Item Class', fontsize=9)\n",
        "plt.grid(True)\n",
        "plt.tight_layout()\n",
        "\n",
        "del df_top_items\n",
        "\n",
        "plt.show()"
      ]
    },
    {
      "cell_type": "markdown",
      "metadata": {
        "id": "ph8dp8v4m406"
      },
      "source": [
        "Expending Window"
      ]
    },
    {
      "cell_type": "code",
      "execution_count": null,
      "metadata": {
        "id": "0-BMTPjjgBeo",
        "colab": {
          "base_uri": "https://localhost:8080/",
          "height": 707
        },
        "outputId": "0d4c149d-cf1f-4018-bdd4-410f67cb6075"
      },
      "outputs": [
        {
          "output_type": "display_data",
          "data": {
            "text/plain": [
              "<Figure size 1200x700 with 1 Axes>"
            ],
            "image/png": "[encoded data removed]"
          },
          "metadata": {}
        }
      ],
      "source": [
        "# 1. Recover 'city' columns (already one-hot encoded)\n",
        "city_columns = [col for col in df_model.columns if col.startswith('city_')]\n",
        "\n",
        "# 2. Remove 'city_Daule' and 'city_nan' from the list\n",
        "excluded_cities = ['city_Daule', 'city_nan']\n",
        "city_columns = [col for col in city_columns if col not in excluded_cities]\n",
        "\n",
        "# 3. Set up the plot\n",
        "plt.figure(figsize=(12, 7))\n",
        "\n",
        "# 4. Loop through each city (excluding Daule and NaN city)\n",
        "for city_col in city_columns:\n",
        "    # Select only rows where this city is active\n",
        "    city_data = df_model[df_model[city_col] == 1]\n",
        "\n",
        "    # Sort by original index (since train_date was hidden)\n",
        "    city_data = city_data.sort_index()\n",
        "\n",
        "    # Recover 'train_date' from original df_train\n",
        "    city_data['train_date'] = df_train.loc[city_data.index, 'train_date']\n",
        "\n",
        "    # Group by train_date and sum unit_sales_log\n",
        "    date_grouped_sales = city_data.groupby('train_date')[\"unit_sales_log\"].sum()\n",
        "\n",
        "    # Apply expanding sum (with minimum 3 periods)\n",
        "    expanding_sum_sales = date_grouped_sales.expanding(3).sum()\n",
        "\n",
        "    # For x-axis: average oil price by date\n",
        "    date_grouped_oil = city_data.groupby('train_date')[\"dcoilwtico_scaled\"].mean()\n",
        "\n",
        "    # Match indexes\n",
        "    common_index = expanding_sum_sales.index.intersection(date_grouped_oil.index)\n",
        "\n",
        "    # Plot oil price (X-axis) vs expanding sales sum (Y-axis)\n",
        "    plt.plot(date_grouped_oil.loc[common_index], expanding_sum_sales.loc[common_index], label=city_col.replace('city_', ''))\n",
        "\n",
        "# 5. Styling\n",
        "plt.title('Expanding Sum of Unit Sales vs Scaled Oil Price by City (Excluding Daule and NaN)', fontsize=16)\n",
        "plt.xlabel('Avg Scaled Oil Price', fontsize=14)\n",
        "plt.ylabel('Expanding Sum of Unit Sales (log)', fontsize=14)\n",
        "plt.legend(title='City', fontsize=10, loc='upper left', bbox_to_anchor=(1,1))\n",
        "plt.grid(True)\n",
        "plt.tight_layout()\n",
        "\n",
        "del city_columns, excluded_cities, city_data, date_grouped_sales, expanding_sum_sales, date_grouped_oil, common_index\n",
        "\n",
        "plt.show()"
      ]
    },
    {
      "cell_type": "code",
      "execution_count": null,
      "metadata": {
        "id": "6sY2jBKEnS21",
        "colab": {
          "base_uri": "https://localhost:8080/",
          "height": 707
        },
        "outputId": "22867b6a-f8a7-4e9d-ff3e-ce8d94519623"
      },
      "outputs": [
        {
          "output_type": "display_data",
          "data": {
            "text/plain": [
              "<Figure size 1200x700 with 1 Axes>"
            ],
            "image/png": "[encoded data removed]"
          },
          "metadata": {}
        }
      ],
      "source": [
        "# 1. Recover 'city' columns (already one-hot encoded)\n",
        "city_columns = [col for col in df_model.columns if col.startswith('city_')]\n",
        "\n",
        "# 2. Set up the plot\n",
        "plt.figure(figsize=(12, 7))\n",
        "\n",
        "# 3. Loop through each city (include all cities)\n",
        "for city_col in city_columns:\n",
        "    # Select only rows where this city is active\n",
        "    city_data = df_model[df_model[city_col] == 1]\n",
        "\n",
        "    # Sort by original index (since train_date was hidden)\n",
        "    city_data = city_data.sort_index()\n",
        "\n",
        "    # Recover 'train_date' from original df_train\n",
        "    city_data['train_date'] = df_train.loc[city_data.index, 'train_date']\n",
        "\n",
        "    # Group by train_date and take **mean** of unit_sales_log\n",
        "    date_grouped_sales = city_data.groupby('train_date')[\"unit_sales_log\"].mean()\n",
        "\n",
        "    # Apply expanding **mean** with minimum 3 periods\n",
        "    expanding_mean_sales = date_grouped_sales.expanding(3).mean()\n",
        "\n",
        "    # For x-axis: average oil price by date\n",
        "    date_grouped_oil = city_data.groupby('train_date')[\"dcoilwtico_scaled\"].mean()\n",
        "\n",
        "    # Match indexes\n",
        "    common_index = expanding_mean_sales.index.intersection(date_grouped_oil.index)\n",
        "\n",
        "    # Plot oil price (X-axis) vs expanding mean sales (Y-axis)\n",
        "    plt.plot(date_grouped_oil.loc[common_index], expanding_mean_sales.loc[common_index], label=city_col.replace('city_', ''))\n",
        "\n",
        "# 4. Styling\n",
        "plt.title('Expanding Mean of Unit Sales vs Scaled Oil Price by City (All Cities)', fontsize=16)\n",
        "plt.xlabel('Avg Scaled Oil Price', fontsize=14)\n",
        "plt.ylabel('Expanding Mean of Unit Sales (log)', fontsize=14)\n",
        "plt.legend(title='City', fontsize=10, loc='upper left', bbox_to_anchor=(1,1))\n",
        "plt.grid(True)\n",
        "plt.tight_layout()\n",
        "\n",
        "# 5. Clean up variables if you want (optional)\n",
        "del city_columns, city_data, date_grouped_sales, expanding_mean_sales, date_grouped_oil, common_index\n",
        "\n",
        "# Show the plot\n",
        "plt.show()"
      ]
    }
  ],
  "metadata": {
    "colab": {
      "provenance": [],
      "authorship_tag": "ABX9TyMGx3aXP7S76RHRKcmhRjDm",
      "include_colab_link": true
    },
    "kernelspec": {
      "display_name": "Python 3",
      "name": "python3"
    },
    "language_info": {
      "name": "python"
    }
  },
  "nbformat": 4,
  "nbformat_minor": 0
}