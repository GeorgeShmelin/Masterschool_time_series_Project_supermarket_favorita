{
  "nbformat": 4,
  "nbformat_minor": 0,
  "metadata": {
    "colab": {
      "provenance": [],
      "authorship_tag": "ABX9TyNJagZcSLHCEJpOqDxH34In",
      "include_colab_link": true
    },
    "kernelspec": {
      "name": "python3",
      "display_name": "Python 3"
    },
    "language_info": {
      "name": "python"
    }
  },
  "cells": [
    {
      "cell_type": "markdown",
      "metadata": {
        "id": "view-in-github",
        "colab_type": "text"
      },
      "source": [
        "<a href=\"https://colab.research.google.com/github/GeorgeShmelin/Masterschool_time_series_Project_supermarket_favorita/blob/main/Time_Series_data_download_1_SQL.ipynb\" target=\"_parent\"><img src=\"https://colab.research.google.com/assets/colab-badge.svg\" alt=\"Open In Colab\"/></a>"
      ]
    },
    {
      "cell_type": "markdown",
      "source": [
        "**from MasterSchool**"
      ],
      "metadata": {
        "id": "bUctm7Zz2XMH"
      }
    },
    {
      "cell_type": "markdown",
      "source": [
        "I will keep here 3 top items.family till '2014-04-01'"
      ],
      "metadata": {
        "id": "V4qovEbR-XTe"
      }
    },
    {
      "cell_type": "code",
      "source": [
        "'''\n",
        "We explicitly limit our data to a single store-item combination for the simplicity sake.\n",
        "So, let’s load the data only for a single item-store combination:\n",
        "\n",
        "# Let's filter the data for one store and one item to keep it simple\n",
        "store_ids = [1] # the store that we select\n",
        "item_ids = [96995] # the item that we select\n",
        "\n",
        "# Select data before April'14\n",
        "max_date = '2014-04-01'\n",
        "\n",
        "# Initialize an empty list to hold filtered chunks\n",
        "filtered_chunks = []\n",
        "\n",
        "# Define the chunk size (number of rows per chunk)\n",
        "chunk_size = 10 ** 6  # Adjust based on your system's memory capacity\n",
        "\n",
        "# Read the CSV file in chunks\n",
        "for chunk in pd.read_csv('/content/drive/MyDrive/retail_kaggle_data/train.csv', chunksize=chunk_size):\n",
        "    # Filter the chunk for the desired store IDs\n",
        "    chunk_filtered = chunk[(chunk['store_nbr'].isin(store_ids)) & (chunk['item_nbr'].isin(item_ids)) & (chunk['date']<max_date)]\n",
        "    # Append the filtered chunk to the list\n",
        "    filtered_chunks.append(chunk_filtered)\n",
        "    # Optional: Delete the chunk to free up memory\n",
        "    del chunk\n",
        "\n",
        "# Concatenate all filtered chunks into a single DataFrame\n",
        "df_filtered = pd.concat(filtered_chunks, ignore_index=True)\n",
        "\n",
        "# Clean up to free memory\n",
        "del filtered_chunks\n",
        "'''"
      ],
      "metadata": {
        "id": "N0wfn2nM16QS",
        "colab": {
          "base_uri": "https://localhost:8080/",
          "height": 143
        },
        "outputId": "fa47a9a2-0498-4761-cf10-dd7d01ad6f0c"
      },
      "execution_count": null,
      "outputs": [
        {
          "output_type": "execute_result",
          "data": {
            "text/plain": [
              "\"\\nWe explicitly limit our data to a single store-item combination for the simplicity sake.\\nSo, let’s load the data only for a single item-store combination:\\n\\n# Let's filter the data for one store and one item to keep it simple\\nstore_ids = [1] # the store that we select\\nitem_ids = [96995] # the item that we select\\n\\n# Select data before April'14\\nmax_date = '2014-04-01'\\n\\n# Initialize an empty list to hold filtered chunks\\nfiltered_chunks = []\\n\\n# Define the chunk size (number of rows per chunk)\\nchunk_size = 10 ** 6  # Adjust based on your system's memory capacity\\n\\n# Read the CSV file in chunks\\nfor chunk in pd.read_csv('/content/drive/MyDrive/retail_kaggle_data/train.csv', chunksize=chunk_size):\\n    # Filter the chunk for the desired store IDs\\n    chunk_filtered = chunk[(chunk['store_nbr'].isin(store_ids)) & (chunk['item_nbr'].isin(item_ids)) & (chunk['date']<max_date)]\\n    # Append the filtered chunk to the list\\n    filtered_chunks.append(chunk_filtered)\\n    # Optional: Delete the chunk to free up memory\\n    del chunk\\n\\n# Concatenate all filtered chunks into a single DataFrame\\ndf_filtered = pd.concat(filtered_chunks, ignore_index=True)\\n\\n# Clean up to free memory\\ndel filtered_chunks\\n\""
            ],
            "application/vnd.google.colaboratory.intrinsic+json": {
              "type": "string"
            }
          },
          "metadata": {},
          "execution_count": 1
        }
      ]
    },
    {
      "cell_type": "markdown",
      "source": [
        "# Libraries"
      ],
      "metadata": {
        "id": "M3F78F993EVx"
      }
    },
    {
      "cell_type": "code",
      "source": [
        "# !pip install kagglehub\n",
        "import kagglehub"
      ],
      "metadata": {
        "id": "E8oh0c1o3aj5"
      },
      "execution_count": null,
      "outputs": []
    },
    {
      "cell_type": "code",
      "source": [
        "import pandas as pd\n",
        "import numpy as np\n",
        "import matplotlib.pyplot as plt\n",
        "import seaborn as sns"
      ],
      "metadata": {
        "id": "-OGnjuiE3qOn"
      },
      "execution_count": null,
      "outputs": []
    },
    {
      "cell_type": "code",
      "source": [
        "import sqlite3\n",
        "import os\n",
        "import gc"
      ],
      "metadata": {
        "id": "sSyoBbD63e1w"
      },
      "execution_count": null,
      "outputs": []
    },
    {
      "cell_type": "code",
      "source": [
        "import sqlalchemy as sa\n",
        "from google.colab import files\n",
        "from sqlalchemy import text\n",
        "from sqlalchemy import create_engine"
      ],
      "metadata": {
        "id": "wuIN-rM13jc3"
      },
      "execution_count": null,
      "outputs": []
    },
    {
      "cell_type": "code",
      "source": [
        "from sklearn.neighbors import NearestNeighbors  # Import NearestNeighbors for cleaning\n",
        "from sklearn.neighbors import LocalOutlierFactor"
      ],
      "metadata": {
        "id": "22UQ3mpe3vMU"
      },
      "execution_count": null,
      "outputs": []
    },
    {
      "cell_type": "markdown",
      "source": [
        "# Data download and initial transformations"
      ],
      "metadata": {
        "id": "WKOjpTwi31K-"
      }
    },
    {
      "cell_type": "code",
      "source": [
        "# Download latest version\n",
        "path = kagglehub.dataset_download(\"siliconx/favoritagrocerysalesforecastingextracted\")\n",
        "\n",
        "print(\"Path to dataset files:\", path)"
      ],
      "metadata": {
        "colab": {
          "base_uri": "https://localhost:8080/"
        },
        "id": "yxNO2Kii36Jr",
        "outputId": "935081da-ef34-4bb5-94ad-9b4dc684a1bc"
      },
      "execution_count": null,
      "outputs": [
        {
          "output_type": "stream",
          "name": "stdout",
          "text": [
            "Downloading from https://www.kaggle.com/api/v1/datasets/download/siliconx/favoritagrocerysalesforecastingextracted?dataset_version_number=1...\n"
          ]
        },
        {
          "output_type": "stream",
          "name": "stderr",
          "text": [
            "100%|██████████| 850M/850M [00:10<00:00, 83.7MB/s]"
          ]
        },
        {
          "output_type": "stream",
          "name": "stdout",
          "text": [
            "Extracting files...\n"
          ]
        },
        {
          "output_type": "stream",
          "name": "stderr",
          "text": [
            "\n"
          ]
        },
        {
          "output_type": "stream",
          "name": "stdout",
          "text": [
            "Path to dataset files: /root/.cache/kagglehub/datasets/siliconx/favoritagrocerysalesforecastingextracted/versions/1\n"
          ]
        }
      ]
    },
    {
      "cell_type": "code",
      "source": [
        "files = os.listdir(path)\n",
        "print(\"Files in dataset:\", files)"
      ],
      "metadata": {
        "colab": {
          "base_uri": "https://localhost:8080/"
        },
        "id": "A2g2xz454BEV",
        "outputId": "2ab8f7e1-8264-4de6-ef97-8c7fcd9ca7ba"
      },
      "execution_count": null,
      "outputs": [
        {
          "output_type": "stream",
          "name": "stdout",
          "text": [
            "Files in dataset: ['sample_submission.csv', 'stores.csv', 'holidays_events.csv', 'train.csv', 'test.csv', 'oil.csv', 'transactions.csv', 'items.csv']\n"
          ]
        }
      ]
    },
    {
      "cell_type": "code",
      "source": [
        "# Connect to SQLite\n",
        "conn = sqlite3.connect(\"favorita.db\")\n",
        "\n",
        "# Change this line per file\n",
        "filename = 'oil.csv'\n",
        "file_path = os.path.join(path, filename)\n",
        "\n",
        "# Load CSV\n",
        "df = pd.read_csv(file_path)\n",
        "table_name = filename.replace('.csv', '')\n",
        "\n",
        "# Load to SQL\n",
        "df.to_sql(table_name, conn, if_exists=\"replace\", index=False)\n",
        "print(f\"✅ Loaded '{filename}' into table '{table_name}'\")\n",
        "\n",
        "# Row count\n",
        "query = f\"SELECT COUNT(*) AS row_count FROM {table_name};\"\n",
        "row_count_df = pd.read_sql(query, conn)\n",
        "row_count = row_count_df.iloc[0, 0]\n",
        "print(f\"🔢 Table '{table_name}' has {row_count:,} rows.\")\n",
        "\n",
        "# Inspect columns for key info\n",
        "columns = df.columns.tolist()\n",
        "primary_like = [col for col in columns if 'id' in col.lower() or 'nbr' in col.lower()]\n",
        "date_like = [col for col in columns if 'date' in col.lower()]\n",
        "possible_keys = primary_like + date_like\n",
        "\n",
        "# Show candidate keys\n",
        "if possible_keys:\n",
        "    print(f\"🔑 Candidate keys or join fields in '{table_name}': {possible_keys}\")\n",
        "else:\n",
        "    print(f\"ℹ️ No obvious join keys found in '{table_name}'\")"
      ],
      "metadata": {
        "colab": {
          "base_uri": "https://localhost:8080/"
        },
        "id": "kPqdVVDw4VY8",
        "outputId": "262c17cd-83be-45ab-99d1-aa24d1369b37"
      },
      "execution_count": null,
      "outputs": [
        {
          "output_type": "stream",
          "name": "stdout",
          "text": [
            "✅ Loaded 'oil.csv' into table 'oil'\n",
            "🔢 Table 'oil' has 1,218 rows.\n",
            "🔑 Candidate keys or join fields in 'oil': ['date']\n"
          ]
        }
      ]
    },
    {
      "cell_type": "code",
      "source": [
        "# Change this line per file\n",
        "filename = 'items.csv'\n",
        "file_path = os.path.join(path, filename)\n",
        "\n",
        "# Load CSV\n",
        "df = pd.read_csv(file_path)\n",
        "table_name = filename.replace('.csv', '')\n",
        "\n",
        "# Load to SQL\n",
        "df.to_sql(table_name, conn, if_exists=\"replace\", index=False)\n",
        "print(f\"✅ Loaded '{filename}' into table '{table_name}'\")\n",
        "\n",
        "# Row count\n",
        "query = f\"SELECT COUNT(*) AS row_count FROM {table_name};\"\n",
        "row_count_df = pd.read_sql(query, conn)\n",
        "row_count = row_count_df.iloc[0, 0]\n",
        "print(f\"🔢 Table '{table_name}' has {row_count:,} rows.\")\n",
        "\n",
        "# Inspect columns for key info\n",
        "columns = df.columns.tolist()\n",
        "primary_like = [col for col in columns if 'id' in col.lower() or 'nbr' in col.lower()]\n",
        "date_like = [col for col in columns if 'date' in col.lower()]\n",
        "possible_keys = primary_like + date_like\n",
        "\n",
        "# Show candidate keys\n",
        "if possible_keys:\n",
        "    print(f\"🔑 Candidate keys or join fields in '{table_name}': {possible_keys}\")\n",
        "else:\n",
        "    print(f\"ℹ️ No obvious join keys found in '{table_name}'\")"
      ],
      "metadata": {
        "colab": {
          "base_uri": "https://localhost:8080/"
        },
        "id": "mi1xCBvQ4a-_",
        "outputId": "55772201-2e68-4fd5-ee0e-acce313e7825"
      },
      "execution_count": null,
      "outputs": [
        {
          "output_type": "stream",
          "name": "stdout",
          "text": [
            "✅ Loaded 'items.csv' into table 'items'\n",
            "🔢 Table 'items' has 4,100 rows.\n",
            "🔑 Candidate keys or join fields in 'items': ['item_nbr']\n"
          ]
        }
      ]
    },
    {
      "cell_type": "code",
      "source": [
        "# Change this line per file\n",
        "filename = 'holidays_events.csv'\n",
        "file_path = os.path.join(path, filename)\n",
        "\n",
        "# Load CSV\n",
        "df = pd.read_csv(file_path)\n",
        "table_name = filename.replace('.csv', '')\n",
        "\n",
        "# Load to SQL\n",
        "df.to_sql(table_name, conn, if_exists=\"replace\", index=False)\n",
        "print(f\"✅ Loaded '{filename}' into table '{table_name}'\")\n",
        "\n",
        "# Row count\n",
        "query = f\"SELECT COUNT(*) AS row_count FROM {table_name};\"\n",
        "row_count_df = pd.read_sql(query, conn)\n",
        "row_count = row_count_df.iloc[0, 0]\n",
        "print(f\"🔢 Table '{table_name}' has {row_count:,} rows.\")\n",
        "\n",
        "# Inspect columns for key info\n",
        "columns = df.columns.tolist()\n",
        "primary_like = [col for col in columns if 'id' in col.lower() or 'nbr' in col.lower()]\n",
        "date_like = [col for col in columns if 'date' in col.lower()]\n",
        "possible_keys = primary_like + date_like\n",
        "\n",
        "# Show candidate keys\n",
        "if possible_keys:\n",
        "    print(f\"🔑 Candidate keys or join fields in '{table_name}': {possible_keys}\")\n",
        "else:\n",
        "    print(f\"ℹ️ No obvious join keys found in '{table_name}'\")"
      ],
      "metadata": {
        "colab": {
          "base_uri": "https://localhost:8080/"
        },
        "id": "bBxusR694gBy",
        "outputId": "f067b81b-57ad-4eb2-84c9-e59492e335b5"
      },
      "execution_count": null,
      "outputs": [
        {
          "output_type": "stream",
          "name": "stdout",
          "text": [
            "✅ Loaded 'holidays_events.csv' into table 'holidays_events'\n",
            "🔢 Table 'holidays_events' has 350 rows.\n",
            "🔑 Candidate keys or join fields in 'holidays_events': ['date']\n"
          ]
        }
      ]
    },
    {
      "cell_type": "code",
      "source": [
        "# Set up file\n",
        "filename = 'stores.csv'\n",
        "file_path = os.path.join(path, filename)\n",
        "\n",
        "# Load and filter for Guayas\n",
        "df = pd.read_csv(file_path)\n",
        "df = df[df['state'] == 'Guayas']  # 👈 Filter\n",
        "\n",
        "table_name = filename.replace('.csv', '')\n",
        "\n",
        "# Save to SQL\n",
        "df.to_sql(table_name, conn, if_exists=\"replace\", index=False)\n",
        "print(f\"✅ Loaded '{filename}' into table '{table_name}' (only state = 'Guayas')\")\n",
        "\n",
        "# Row count\n",
        "query = f\"SELECT COUNT(*) AS row_count FROM {table_name};\"\n",
        "row_count_df = pd.read_sql(query, conn)\n",
        "row_count = row_count_df.iloc[0, 0]\n",
        "print(f\"🔢 Table '{table_name}' has {row_count:,} rows.\")\n",
        "\n",
        "# Inspect columns for join keys\n",
        "columns = df.columns.tolist()\n",
        "primary_like = [col for col in columns if 'id' in col.lower() or 'nbr' in col.lower()]\n",
        "date_like = [col for col in columns if 'date' in col.lower()]\n",
        "possible_keys = primary_like + date_like\n",
        "\n",
        "# Show candidate keys\n",
        "if possible_keys:\n",
        "    print(f\"🔑 Candidate keys or join fields in '{table_name}': {possible_keys}\")\n",
        "else:\n",
        "    print(f\"ℹ️ No obvious join keys found in '{table_name}'\")"
      ],
      "metadata": {
        "colab": {
          "base_uri": "https://localhost:8080/"
        },
        "id": "HBcDVbAB4nZd",
        "outputId": "12aedfb3-9546-4540-ecff-b8d7682748a4"
      },
      "execution_count": null,
      "outputs": [
        {
          "output_type": "stream",
          "name": "stdout",
          "text": [
            "✅ Loaded 'stores.csv' into table 'stores' (only state = 'Guayas')\n",
            "🔢 Table 'stores' has 11 rows.\n",
            "🔑 Candidate keys or join fields in 'stores': ['store_nbr']\n"
          ]
        }
      ]
    },
    {
      "cell_type": "code",
      "source": [
        "# Change this line per file\n",
        "filename = 'transactions.csv'\n",
        "file_path = os.path.join(path, filename)\n",
        "\n",
        "# Load CSV\n",
        "df = pd.read_csv(file_path)\n",
        "table_name = filename.replace('.csv', '')\n",
        "\n",
        "# Load to SQL\n",
        "df.to_sql(table_name, conn, if_exists=\"replace\", index=False)\n",
        "print(f\"✅ Loaded '{filename}' into table '{table_name}'\")\n",
        "\n",
        "# Row count\n",
        "query = f\"SELECT COUNT(*) AS row_count FROM {table_name};\"\n",
        "row_count_df = pd.read_sql(query, conn)\n",
        "row_count = row_count_df.iloc[0, 0]\n",
        "print(f\"🔢 Table '{table_name}' has {row_count:,} rows.\")\n",
        "\n",
        "# Inspect columns for key info\n",
        "columns = df.columns.tolist()\n",
        "primary_like = [col for col in columns if 'id' in col.lower() or 'nbr' in col.lower()]\n",
        "date_like = [col for col in columns if 'date' in col.lower()]\n",
        "possible_keys = primary_like + date_like\n",
        "\n",
        "# Show candidate keys\n",
        "if possible_keys:\n",
        "    print(f\"🔑 Candidate keys or join fields in '{table_name}': {possible_keys}\")\n",
        "else:\n",
        "    print(f\"ℹ️ No obvious join keys found in '{table_name}'\")"
      ],
      "metadata": {
        "colab": {
          "base_uri": "https://localhost:8080/"
        },
        "id": "Fgwyb6tU4sEW",
        "outputId": "4e63e7ed-a4fe-43b9-e0c4-df761df27aa8"
      },
      "execution_count": null,
      "outputs": [
        {
          "output_type": "stream",
          "name": "stdout",
          "text": [
            "✅ Loaded 'transactions.csv' into table 'transactions'\n",
            "🔢 Table 'transactions' has 83,488 rows.\n",
            "🔑 Candidate keys or join fields in 'transactions': ['store_nbr', 'date']\n"
          ]
        }
      ]
    },
    {
      "cell_type": "code",
      "source": [
        "del files\n",
        "del possible_keys\n",
        "del columns\n",
        "del date_like\n",
        "del primary_like\n",
        "del df\n",
        "del row_count_df\n",
        "del query"
      ],
      "metadata": {
        "id": "mBHU6_zy4wjs"
      },
      "execution_count": null,
      "outputs": []
    },
    {
      "cell_type": "code",
      "source": [
        "# Paths and file setup\n",
        "filename = 'train.csv'\n",
        "file_path = os.path.join(path, filename)\n",
        "table_name = filename.replace('.csv', '')\n",
        "\n",
        "# Date filter range\n",
        "DATE_START = '2010-09-15'\n",
        "DATE_END = '2015-04-01'\n",
        "\n",
        "# Sampling + row cap\n",
        "SAMPLE_RATIO = 0.01\n",
        "MAX_ROWS = 2500_000\n",
        "total_saved_rows = 0\n",
        "\n",
        "# Columns to keep from CSV\n",
        "columns_to_keep = ['date', 'store_nbr', 'item_nbr', 'unit_sales', 'onpromotion']"
      ],
      "metadata": {
        "id": "_TAHxxIq41m4"
      },
      "execution_count": null,
      "outputs": []
    },
    {
      "cell_type": "code",
      "source": [
        "# Connect to SQLite\n",
        "conn = sqlite3.connect(\"favorita.db\")\n",
        "cursor = conn.cursor()\n",
        "\n",
        "# Check if the table exists\n",
        "cursor.execute(f\"SELECT name FROM sqlite_master WHERE type='table' AND name='{table_name}'\")\n",
        "table_exists = cursor.fetchone()\n",
        "\n",
        "# If not exists, create it with correct schema\n",
        "if not table_exists:\n",
        "    create_sql = f\"\"\"\n",
        "        CREATE TABLE {table_name} (\n",
        "            date DATETIME,\n",
        "            store_nbr INTEGER,\n",
        "            item_nbr INTEGER,\n",
        "            unit_sales REAL,\n",
        "            onpromotion INTEGER\n",
        "        )\n",
        "    \"\"\"\n",
        "    conn.execute(create_sql)\n",
        "    print(f\"✅ Created table '{table_name}' with all expected columns\")\n",
        "else:\n",
        "    # Validate column schema\n",
        "    cursor.execute(f\"PRAGMA table_info({table_name})\")\n",
        "    existing_columns = [col[1] for col in cursor.fetchall()]\n",
        "    if 'onpromotion' not in existing_columns:\n",
        "        try:\n",
        "            conn.execute(f\"ALTER TABLE {table_name} ADD COLUMN onpromotion INTEGER\")\n",
        "            print(f\"➕ Added missing column 'onpromotion' to '{table_name}'\")\n",
        "        except sqlite3.OperationalError as e:\n",
        "            print(f\"⚠️ Could not alter table to add 'onpromotion': {e}\")\n",
        "    else:\n",
        "        print(f\"ℹ️ Table '{table_name}' exists and includes 'onpromotion'\")"
      ],
      "metadata": {
        "colab": {
          "base_uri": "https://localhost:8080/"
        },
        "id": "du25I5Q_45o5",
        "outputId": "9975cf75-a5a5-4ab0-834c-0ebcc72810ab"
      },
      "execution_count": null,
      "outputs": [
        {
          "output_type": "stream",
          "name": "stdout",
          "text": [
            "✅ Created table 'train' with all expected columns\n"
          ]
        }
      ]
    },
    {
      "cell_type": "code",
      "source": [
        "# Read CSV in chunks\n",
        "chunks = pd.read_csv(file_path, chunksize=250_000, parse_dates=['date'])\n",
        "\n",
        "for chunk in chunks:\n",
        "    # Filter date\n",
        "    chunk = chunk[(chunk['date'] >= DATE_START) & (chunk['date'] < DATE_END)]\n",
        "    if chunk.empty:\n",
        "        continue\n",
        "\n",
        "    # Round to hour\n",
        "    chunk['date'] = pd.to_datetime(chunk['date'], errors='coerce').dt.floor('H')\n",
        "\n",
        "    # Ensure onpromotion column\n",
        "    if 'onpromotion' not in chunk.columns:\n",
        "        chunk['onpromotion'] = 0\n",
        "    chunk['onpromotion'] = chunk['onpromotion'].fillna(False).astype('int8')  # Make it small\n",
        "\n",
        "    # Downcast numerics\n",
        "    chunk['store_nbr'] = pd.to_numeric(chunk['store_nbr'], downcast='integer')\n",
        "    chunk['item_nbr'] = pd.to_numeric(chunk['item_nbr'], downcast='integer')\n",
        "    chunk['unit_sales'] = pd.to_numeric(chunk['unit_sales'], downcast='float')\n",
        "\n",
        "    # Try float16 if it fits (warning: less precise)\n",
        "    if chunk['unit_sales'].max() < 65504:  # float16 upper limit\n",
        "        chunk['unit_sales'] = chunk['unit_sales'].astype('float16')\n",
        "\n",
        "    # Sample\n",
        "    chunk = chunk.sample(frac=SAMPLE_RATIO, random_state=42)\n",
        "\n",
        "    # Cap rows\n",
        "    if total_saved_rows + len(chunk) > MAX_ROWS:\n",
        "        chunk = chunk.iloc[:MAX_ROWS - total_saved_rows]\n",
        "\n",
        "    # Keep only expected columns\n",
        "    chunk = chunk[columns_to_keep]\n",
        "\n",
        "    # Save\n",
        "    chunk.to_sql(table_name, conn, if_exists='append', index=False)\n",
        "    total_saved_rows += len(chunk)\n",
        "\n",
        "    if total_saved_rows >= MAX_ROWS:\n",
        "        break\n",
        "\n",
        "print(f\"✅ Loaded {total_saved_rows} rows into '{table_name}'\")"
      ],
      "metadata": {
        "colab": {
          "base_uri": "https://localhost:8080/"
        },
        "id": "DhFB3gS95K5k",
        "outputId": "64c088ce-4272-409a-a563-ef421a818775"
      },
      "execution_count": null,
      "outputs": [
        {
          "metadata": {
            "tags": null
          },
          "name": "stderr",
          "output_type": "stream",
          "text": [
            "<ipython-input-17-db1b2a1ade8f>:11: FutureWarning: 'H' is deprecated and will be removed in a future version, please use 'h' instead.\n",
            "  chunk['date'] = pd.to_datetime(chunk['date'], errors='coerce').dt.floor('H')\n",
            "<ipython-input-17-db1b2a1ade8f>:16: FutureWarning: Downcasting object dtype arrays on .fillna, .ffill, .bfill is deprecated and will change in a future version. Call result.infer_objects(copy=False) instead. To opt-in to the future behavior, set `pd.set_option('future.no_silent_downcasting', True)`\n",
            "  chunk['onpromotion'] = chunk['onpromotion'].fillna(False).astype('int8')  # Make it small\n",
            "<ipython-input-17-db1b2a1ade8f>:11: FutureWarning: 'H' is deprecated and will be removed in a future version, please use 'h' instead.\n",
            "  chunk['date'] = pd.to_datetime(chunk['date'], errors='coerce').dt.floor('H')\n",
            "<ipython-input-17-db1b2a1ade8f>:16: FutureWarning: Downcasting object dtype arrays on .fillna, .ffill, .bfill is deprecated and will change in a future version. Call result.infer_objects(copy=False) instead. To opt-in to the future behavior, set `pd.set_option('future.no_silent_downcasting', True)`\n",
            "  chunk['onpromotion'] = chunk['onpromotion'].fillna(False).astype('int8')  # Make it small\n",
            "<ipython-input-17-db1b2a1ade8f>:11: FutureWarning: 'H' is deprecated and will be removed in a future version, please use 'h' instead.\n",
            "  chunk['date'] = pd.to_datetime(chunk['date'], errors='coerce').dt.floor('H')\n",
            "<ipython-input-17-db1b2a1ade8f>:16: FutureWarning: Downcasting object dtype arrays on .fillna, .ffill, .bfill is deprecated and will change in a future version. Call result.infer_objects(copy=False) instead. To opt-in to the future behavior, set `pd.set_option('future.no_silent_downcasting', True)`\n",
            "  chunk['onpromotion'] = chunk['onpromotion'].fillna(False).astype('int8')  # Make it small\n",
            "<ipython-input-17-db1b2a1ade8f>:11: FutureWarning: 'H' is deprecated and will be removed in a future version, please use 'h' instead.\n",
            "  chunk['date'] = pd.to_datetime(chunk['date'], errors='coerce').dt.floor('H')\n",
            "<ipython-input-17-db1b2a1ade8f>:16: FutureWarning: Downcasting object dtype arrays on .fillna, .ffill, .bfill is deprecated and will change in a future version. Call result.infer_objects(copy=False) instead. To opt-in to the future behavior, set `pd.set_option('future.no_silent_downcasting', True)`\n",
            "  chunk['onpromotion'] = chunk['onpromotion'].fillna(False).astype('int8')  # Make it small\n",
            "<ipython-input-17-db1b2a1ade8f>:11: FutureWarning: 'H' is deprecated and will be removed in a future version, please use 'h' instead.\n",
            "  chunk['date'] = pd.to_datetime(chunk['date'], errors='coerce').dt.floor('H')\n",
            "<ipython-input-17-db1b2a1ade8f>:16: FutureWarning: Downcasting object dtype arrays on .fillna, .ffill, .bfill is deprecated and will change in a future version. Call result.infer_objects(copy=False) instead. To opt-in to the future behavior, set `pd.set_option('future.no_silent_downcasting', True)`\n",
            "  chunk['onpromotion'] = chunk['onpromotion'].fillna(False).astype('int8')  # Make it small\n",
            "<ipython-input-17-db1b2a1ade8f>:11: FutureWarning: 'H' is deprecated and will be removed in a future version, please use 'h' instead.\n",
            "  chunk['date'] = pd.to_datetime(chunk['date'], errors='coerce').dt.floor('H')\n",
            "<ipython-input-17-db1b2a1ade8f>:16: FutureWarning: Downcasting object dtype arrays on .fillna, .ffill, .bfill is deprecated and will change in a future version. Call result.infer_objects(copy=False) instead. To opt-in to the future behavior, set `pd.set_option('future.no_silent_downcasting', True)`\n",
            "  chunk['onpromotion'] = chunk['onpromotion'].fillna(False).astype('int8')  # Make it small\n",
            "<ipython-input-17-db1b2a1ade8f>:11: FutureWarning: 'H' is deprecated and will be removed in a future version, please use 'h' instead.\n",
            "  chunk['date'] = pd.to_datetime(chunk['date'], errors='coerce').dt.floor('H')\n",
            "<ipython-input-17-db1b2a1ade8f>:16: FutureWarning: Downcasting object dtype arrays on .fillna, .ffill, .bfill is deprecated and will change in a future version. Call result.infer_objects(copy=False) instead. To opt-in to the future behavior, set `pd.set_option('future.no_silent_downcasting', True)`\n",
            "  chunk['onpromotion'] = chunk['onpromotion'].fillna(False).astype('int8')  # Make it small\n",
            "<ipython-input-17-db1b2a1ade8f>:11: FutureWarning: 'H' is deprecated and will be removed in a future version, please use 'h' instead.\n",
            "  chunk['date'] = pd.to_datetime(chunk['date'], errors='coerce').dt.floor('H')\n",
            "<ipython-input-17-db1b2a1ade8f>:16: FutureWarning: Downcasting object dtype arrays on .fillna, .ffill, .bfill is deprecated and will change in a future version. Call result.infer_objects(copy=False) instead. To opt-in to the future behavior, set `pd.set_option('future.no_silent_downcasting', True)`\n",
            "  chunk['onpromotion'] = chunk['onpromotion'].fillna(False).astype('int8')  # Make it small\n",
            "<ipython-input-17-db1b2a1ade8f>:11: FutureWarning: 'H' is deprecated and will be removed in a future version, please use 'h' instead.\n",
            "  chunk['date'] = pd.to_datetime(chunk['date'], errors='coerce').dt.floor('H')\n",
            "<ipython-input-17-db1b2a1ade8f>:16: FutureWarning: Downcasting object dtype arrays on .fillna, .ffill, .bfill is deprecated and will change in a future version. Call result.infer_objects(copy=False) instead. To opt-in to the future behavior, set `pd.set_option('future.no_silent_downcasting', True)`\n",
            "  chunk['onpromotion'] = chunk['onpromotion'].fillna(False).astype('int8')  # Make it small\n",
            "<ipython-input-17-db1b2a1ade8f>:11: FutureWarning: 'H' is deprecated and will be removed in a future version, please use 'h' instead.\n",
            "  chunk['date'] = pd.to_datetime(chunk['date'], errors='coerce').dt.floor('H')\n",
            "<ipython-input-17-db1b2a1ade8f>:16: FutureWarning: Downcasting object dtype arrays on .fillna, .ffill, .bfill is deprecated and will change in a future version. Call result.infer_objects(copy=False) instead. To opt-in to the future behavior, set `pd.set_option('future.no_silent_downcasting', True)`\n",
            "  chunk['onpromotion'] = chunk['onpromotion'].fillna(False).astype('int8')  # Make it small\n",
            "<ipython-input-17-db1b2a1ade8f>:11: FutureWarning: 'H' is deprecated and will be removed in a future version, please use 'h' instead.\n",
            "  chunk['date'] = pd.to_datetime(chunk['date'], errors='coerce').dt.floor('H')\n",
            "<ipython-input-17-db1b2a1ade8f>:16: FutureWarning: Downcasting object dtype arrays on .fillna, .ffill, .bfill is deprecated and will change in a future version. Call result.infer_objects(copy=False) instead. To opt-in to the future behavior, set `pd.set_option('future.no_silent_downcasting', True)`\n",
            "  chunk['onpromotion'] = chunk['onpromotion'].fillna(False).astype('int8')  # Make it small\n",
            "<ipython-input-17-db1b2a1ade8f>:11: FutureWarning: 'H' is deprecated and will be removed in a future version, please use 'h' instead.\n",
            "  chunk['date'] = pd.to_datetime(chunk['date'], errors='coerce').dt.floor('H')\n",
            "<ipython-input-17-db1b2a1ade8f>:16: FutureWarning: Downcasting object dtype arrays on .fillna, .ffill, .bfill is deprecated and will change in a future version. Call result.infer_objects(copy=False) instead. To opt-in to the future behavior, set `pd.set_option('future.no_silent_downcasting', True)`\n",
            "  chunk['onpromotion'] = chunk['onpromotion'].fillna(False).astype('int8')  # Make it small\n",
            "<ipython-input-17-db1b2a1ade8f>:11: FutureWarning: 'H' is deprecated and will be removed in a future version, please use 'h' instead.\n",
            "  chunk['date'] = pd.to_datetime(chunk['date'], errors='coerce').dt.floor('H')\n",
            "<ipython-input-17-db1b2a1ade8f>:16: FutureWarning: Downcasting object dtype arrays on .fillna, .ffill, .bfill is deprecated and will change in a future version. Call result.infer_objects(copy=False) instead. To opt-in to the future behavior, set `pd.set_option('future.no_silent_downcasting', True)`\n",
            "  chunk['onpromotion'] = chunk['onpromotion'].fillna(False).astype('int8')  # Make it small\n",
            "<ipython-input-17-db1b2a1ade8f>:11: FutureWarning: 'H' is deprecated and will be removed in a future version, please use 'h' instead.\n",
            "  chunk['date'] = pd.to_datetime(chunk['date'], errors='coerce').dt.floor('H')\n",
            "<ipython-input-17-db1b2a1ade8f>:16: FutureWarning: Downcasting object dtype arrays on .fillna, .ffill, .bfill is deprecated and will change in a future version. Call result.infer_objects(copy=False) instead. To opt-in to the future behavior, set `pd.set_option('future.no_silent_downcasting', True)`\n",
            "  chunk['onpromotion'] = chunk['onpromotion'].fillna(False).astype('int8')  # Make it small\n",
            "<ipython-input-17-db1b2a1ade8f>:11: FutureWarning: 'H' is deprecated and will be removed in a future version, please use 'h' instead.\n",
            "  chunk['date'] = pd.to_datetime(chunk['date'], errors='coerce').dt.floor('H')\n",
            "<ipython-input-17-db1b2a1ade8f>:16: FutureWarning: Downcasting object dtype arrays on .fillna, .ffill, .bfill is deprecated and will change in a future version. Call result.infer_objects(copy=False) instead. To opt-in to the future behavior, set `pd.set_option('future.no_silent_downcasting', True)`\n",
            "  chunk['onpromotion'] = chunk['onpromotion'].fillna(False).astype('int8')  # Make it small\n",
            "<ipython-input-17-db1b2a1ade8f>:11: FutureWarning: 'H' is deprecated and will be removed in a future version, please use 'h' instead.\n",
            "  chunk['date'] = pd.to_datetime(chunk['date'], errors='coerce').dt.floor('H')\n",
            "<ipython-input-17-db1b2a1ade8f>:16: FutureWarning: Downcasting object dtype arrays on .fillna, .ffill, .bfill is deprecated and will change in a future version. Call result.infer_objects(copy=False) instead. To opt-in to the future behavior, set `pd.set_option('future.no_silent_downcasting', True)`\n",
            "  chunk['onpromotion'] = chunk['onpromotion'].fillna(False).astype('int8')  # Make it small\n",
            "<ipython-input-17-db1b2a1ade8f>:11: FutureWarning: 'H' is deprecated and will be removed in a future version, please use 'h' instead.\n",
            "  chunk['date'] = pd.to_datetime(chunk['date'], errors='coerce').dt.floor('H')\n",
            "<ipython-input-17-db1b2a1ade8f>:16: FutureWarning: Downcasting object dtype arrays on .fillna, .ffill, .bfill is deprecated and will change in a future version. Call result.infer_objects(copy=False) instead. To opt-in to the future behavior, set `pd.set_option('future.no_silent_downcasting', True)`\n",
            "  chunk['onpromotion'] = chunk['onpromotion'].fillna(False).astype('int8')  # Make it small\n",
            "<ipython-input-17-db1b2a1ade8f>:11: FutureWarning: 'H' is deprecated and will be removed in a future version, please use 'h' instead.\n",
            "  chunk['date'] = pd.to_datetime(chunk['date'], errors='coerce').dt.floor('H')\n",
            "<ipython-input-17-db1b2a1ade8f>:16: FutureWarning: Downcasting object dtype arrays on .fillna, .ffill, .bfill is deprecated and will change in a future version. Call result.infer_objects(copy=False) instead. To opt-in to the future behavior, set `pd.set_option('future.no_silent_downcasting', True)`\n",
            "  chunk['onpromotion'] = chunk['onpromotion'].fillna(False).astype('int8')  # Make it small\n",
            "<ipython-input-17-db1b2a1ade8f>:11: FutureWarning: 'H' is deprecated and will be removed in a future version, please use 'h' instead.\n",
            "  chunk['date'] = pd.to_datetime(chunk['date'], errors='coerce').dt.floor('H')\n",
            "<ipython-input-17-db1b2a1ade8f>:16: FutureWarning: Downcasting object dtype arrays on .fillna, .ffill, .bfill is deprecated and will change in a future version. Call result.infer_objects(copy=False) instead. To opt-in to the future behavior, set `pd.set_option('future.no_silent_downcasting', True)`\n",
            "  chunk['onpromotion'] = chunk['onpromotion'].fillna(False).astype('int8')  # Make it small\n",
            "<ipython-input-17-db1b2a1ade8f>:11: FutureWarning: 'H' is deprecated and will be removed in a future version, please use 'h' instead.\n",
            "  chunk['date'] = pd.to_datetime(chunk['date'], errors='coerce').dt.floor('H')\n",
            "<ipython-input-17-db1b2a1ade8f>:16: FutureWarning: Downcasting object dtype arrays on .fillna, .ffill, .bfill is deprecated and will change in a future version. Call result.infer_objects(copy=False) instead. To opt-in to the future behavior, set `pd.set_option('future.no_silent_downcasting', True)`\n",
            "  chunk['onpromotion'] = chunk['onpromotion'].fillna(False).astype('int8')  # Make it small\n",
            "<ipython-input-17-db1b2a1ade8f>:11: FutureWarning: 'H' is deprecated and will be removed in a future version, please use 'h' instead.\n",
            "  chunk['date'] = pd.to_datetime(chunk['date'], errors='coerce').dt.floor('H')\n",
            "<ipython-input-17-db1b2a1ade8f>:16: FutureWarning: Downcasting object dtype arrays on .fillna, .ffill, .bfill is deprecated and will change in a future version. Call result.infer_objects(copy=False) instead. To opt-in to the future behavior, set `pd.set_option('future.no_silent_downcasting', True)`\n",
            "  chunk['onpromotion'] = chunk['onpromotion'].fillna(False).astype('int8')  # Make it small\n",
            "<ipython-input-17-db1b2a1ade8f>:11: FutureWarning: 'H' is deprecated and will be removed in a future version, please use 'h' instead.\n",
            "  chunk['date'] = pd.to_datetime(chunk['date'], errors='coerce').dt.floor('H')\n",
            "<ipython-input-17-db1b2a1ade8f>:16: FutureWarning: Downcasting object dtype arrays on .fillna, .ffill, .bfill is deprecated and will change in a future version. Call result.infer_objects(copy=False) instead. To opt-in to the future behavior, set `pd.set_option('future.no_silent_downcasting', True)`\n",
            "  chunk['onpromotion'] = chunk['onpromotion'].fillna(False).astype('int8')  # Make it small\n",
            "<ipython-input-17-db1b2a1ade8f>:11: FutureWarning: 'H' is deprecated and will be removed in a future version, please use 'h' instead.\n",
            "  chunk['date'] = pd.to_datetime(chunk['date'], errors='coerce').dt.floor('H')\n",
            "<ipython-input-17-db1b2a1ade8f>:16: FutureWarning: Downcasting object dtype arrays on .fillna, .ffill, .bfill is deprecated and will change in a future version. Call result.infer_objects(copy=False) instead. To opt-in to the future behavior, set `pd.set_option('future.no_silent_downcasting', True)`\n",
            "  chunk['onpromotion'] = chunk['onpromotion'].fillna(False).astype('int8')  # Make it small\n",
            "<ipython-input-17-db1b2a1ade8f>:11: FutureWarning: 'H' is deprecated and will be removed in a future version, please use 'h' instead.\n",
            "  chunk['date'] = pd.to_datetime(chunk['date'], errors='coerce').dt.floor('H')\n",
            "<ipython-input-17-db1b2a1ade8f>:16: FutureWarning: Downcasting object dtype arrays on .fillna, .ffill, .bfill is deprecated and will change in a future version. Call result.infer_objects(copy=False) instead. To opt-in to the future behavior, set `pd.set_option('future.no_silent_downcasting', True)`\n",
            "  chunk['onpromotion'] = chunk['onpromotion'].fillna(False).astype('int8')  # Make it small\n",
            "<ipython-input-17-db1b2a1ade8f>:11: FutureWarning: 'H' is deprecated and will be removed in a future version, please use 'h' instead.\n",
            "  chunk['date'] = pd.to_datetime(chunk['date'], errors='coerce').dt.floor('H')\n",
            "<ipython-input-17-db1b2a1ade8f>:16: FutureWarning: Downcasting object dtype arrays on .fillna, .ffill, .bfill is deprecated and will change in a future version. Call result.infer_objects(copy=False) instead. To opt-in to the future behavior, set `pd.set_option('future.no_silent_downcasting', True)`\n",
            "  chunk['onpromotion'] = chunk['onpromotion'].fillna(False).astype('int8')  # Make it small\n",
            "<ipython-input-17-db1b2a1ade8f>:11: FutureWarning: 'H' is deprecated and will be removed in a future version, please use 'h' instead.\n",
            "  chunk['date'] = pd.to_datetime(chunk['date'], errors='coerce').dt.floor('H')\n",
            "<ipython-input-17-db1b2a1ade8f>:16: FutureWarning: Downcasting object dtype arrays on .fillna, .ffill, .bfill is deprecated and will change in a future version. Call result.infer_objects(copy=False) instead. To opt-in to the future behavior, set `pd.set_option('future.no_silent_downcasting', True)`\n",
            "  chunk['onpromotion'] = chunk['onpromotion'].fillna(False).astype('int8')  # Make it small\n",
            "<ipython-input-17-db1b2a1ade8f>:11: FutureWarning: 'H' is deprecated and will be removed in a future version, please use 'h' instead.\n",
            "  chunk['date'] = pd.to_datetime(chunk['date'], errors='coerce').dt.floor('H')\n",
            "<ipython-input-17-db1b2a1ade8f>:16: FutureWarning: Downcasting object dtype arrays on .fillna, .ffill, .bfill is deprecated and will change in a future version. Call result.infer_objects(copy=False) instead. To opt-in to the future behavior, set `pd.set_option('future.no_silent_downcasting', True)`\n",
            "  chunk['onpromotion'] = chunk['onpromotion'].fillna(False).astype('int8')  # Make it small\n",
            "<ipython-input-17-db1b2a1ade8f>:11: FutureWarning: 'H' is deprecated and will be removed in a future version, please use 'h' instead.\n",
            "  chunk['date'] = pd.to_datetime(chunk['date'], errors='coerce').dt.floor('H')\n",
            "<ipython-input-17-db1b2a1ade8f>:16: FutureWarning: Downcasting object dtype arrays on .fillna, .ffill, .bfill is deprecated and will change in a future version. Call result.infer_objects(copy=False) instead. To opt-in to the future behavior, set `pd.set_option('future.no_silent_downcasting', True)`\n",
            "  chunk['onpromotion'] = chunk['onpromotion'].fillna(False).astype('int8')  # Make it small\n",
            "<ipython-input-17-db1b2a1ade8f>:11: FutureWarning: 'H' is deprecated and will be removed in a future version, please use 'h' instead.\n",
            "  chunk['date'] = pd.to_datetime(chunk['date'], errors='coerce').dt.floor('H')\n",
            "<ipython-input-17-db1b2a1ade8f>:16: FutureWarning: Downcasting object dtype arrays on .fillna, .ffill, .bfill is deprecated and will change in a future version. Call result.infer_objects(copy=False) instead. To opt-in to the future behavior, set `pd.set_option('future.no_silent_downcasting', True)`\n",
            "  chunk['onpromotion'] = chunk['onpromotion'].fillna(False).astype('int8')  # Make it small\n",
            "<ipython-input-17-db1b2a1ade8f>:11: FutureWarning: 'H' is deprecated and will be removed in a future version, please use 'h' instead.\n",
            "  chunk['date'] = pd.to_datetime(chunk['date'], errors='coerce').dt.floor('H')\n",
            "<ipython-input-17-db1b2a1ade8f>:16: FutureWarning: Downcasting object dtype arrays on .fillna, .ffill, .bfill is deprecated and will change in a future version. Call result.infer_objects(copy=False) instead. To opt-in to the future behavior, set `pd.set_option('future.no_silent_downcasting', True)`\n",
            "  chunk['onpromotion'] = chunk['onpromotion'].fillna(False).astype('int8')  # Make it small\n",
            "<ipython-input-17-db1b2a1ade8f>:11: FutureWarning: 'H' is deprecated and will be removed in a future version, please use 'h' instead.\n",
            "  chunk['date'] = pd.to_datetime(chunk['date'], errors='coerce').dt.floor('H')\n",
            "<ipython-input-17-db1b2a1ade8f>:16: FutureWarning: Downcasting object dtype arrays on .fillna, .ffill, .bfill is deprecated and will change in a future version. Call result.infer_objects(copy=False) instead. To opt-in to the future behavior, set `pd.set_option('future.no_silent_downcasting', True)`\n",
            "  chunk['onpromotion'] = chunk['onpromotion'].fillna(False).astype('int8')  # Make it small\n",
            "<ipython-input-17-db1b2a1ade8f>:11: FutureWarning: 'H' is deprecated and will be removed in a future version, please use 'h' instead.\n",
            "  chunk['date'] = pd.to_datetime(chunk['date'], errors='coerce').dt.floor('H')\n",
            "<ipython-input-17-db1b2a1ade8f>:16: FutureWarning: Downcasting object dtype arrays on .fillna, .ffill, .bfill is deprecated and will change in a future version. Call result.infer_objects(copy=False) instead. To opt-in to the future behavior, set `pd.set_option('future.no_silent_downcasting', True)`\n",
            "  chunk['onpromotion'] = chunk['onpromotion'].fillna(False).astype('int8')  # Make it small\n",
            "<ipython-input-17-db1b2a1ade8f>:11: FutureWarning: 'H' is deprecated and will be removed in a future version, please use 'h' instead.\n",
            "  chunk['date'] = pd.to_datetime(chunk['date'], errors='coerce').dt.floor('H')\n",
            "<ipython-input-17-db1b2a1ade8f>:16: FutureWarning: Downcasting object dtype arrays on .fillna, .ffill, .bfill is deprecated and will change in a future version. Call result.infer_objects(copy=False) instead. To opt-in to the future behavior, set `pd.set_option('future.no_silent_downcasting', True)`\n",
            "  chunk['onpromotion'] = chunk['onpromotion'].fillna(False).astype('int8')  # Make it small\n",
            "<ipython-input-17-db1b2a1ade8f>:11: FutureWarning: 'H' is deprecated and will be removed in a future version, please use 'h' instead.\n",
            "  chunk['date'] = pd.to_datetime(chunk['date'], errors='coerce').dt.floor('H')\n",
            "<ipython-input-17-db1b2a1ade8f>:16: FutureWarning: Downcasting object dtype arrays on .fillna, .ffill, .bfill is deprecated and will change in a future version. Call result.infer_objects(copy=False) instead. To opt-in to the future behavior, set `pd.set_option('future.no_silent_downcasting', True)`\n",
            "  chunk['onpromotion'] = chunk['onpromotion'].fillna(False).astype('int8')  # Make it small\n",
            "<ipython-input-17-db1b2a1ade8f>:11: FutureWarning: 'H' is deprecated and will be removed in a future version, please use 'h' instead.\n",
            "  chunk['date'] = pd.to_datetime(chunk['date'], errors='coerce').dt.floor('H')\n",
            "<ipython-input-17-db1b2a1ade8f>:16: FutureWarning: Downcasting object dtype arrays on .fillna, .ffill, .bfill is deprecated and will change in a future version. Call result.infer_objects(copy=False) instead. To opt-in to the future behavior, set `pd.set_option('future.no_silent_downcasting', True)`\n",
            "  chunk['onpromotion'] = chunk['onpromotion'].fillna(False).astype('int8')  # Make it small\n",
            "<ipython-input-17-db1b2a1ade8f>:11: FutureWarning: 'H' is deprecated and will be removed in a future version, please use 'h' instead.\n",
            "  chunk['date'] = pd.to_datetime(chunk['date'], errors='coerce').dt.floor('H')\n",
            "<ipython-input-17-db1b2a1ade8f>:16: FutureWarning: Downcasting object dtype arrays on .fillna, .ffill, .bfill is deprecated and will change in a future version. Call result.infer_objects(copy=False) instead. To opt-in to the future behavior, set `pd.set_option('future.no_silent_downcasting', True)`\n",
            "  chunk['onpromotion'] = chunk['onpromotion'].fillna(False).astype('int8')  # Make it small\n",
            "<ipython-input-17-db1b2a1ade8f>:11: FutureWarning: 'H' is deprecated and will be removed in a future version, please use 'h' instead.\n",
            "  chunk['date'] = pd.to_datetime(chunk['date'], errors='coerce').dt.floor('H')\n",
            "<ipython-input-17-db1b2a1ade8f>:16: FutureWarning: Downcasting object dtype arrays on .fillna, .ffill, .bfill is deprecated and will change in a future version. Call result.infer_objects(copy=False) instead. To opt-in to the future behavior, set `pd.set_option('future.no_silent_downcasting', True)`\n",
            "  chunk['onpromotion'] = chunk['onpromotion'].fillna(False).astype('int8')  # Make it small\n",
            "<ipython-input-17-db1b2a1ade8f>:11: FutureWarning: 'H' is deprecated and will be removed in a future version, please use 'h' instead.\n",
            "  chunk['date'] = pd.to_datetime(chunk['date'], errors='coerce').dt.floor('H')\n",
            "<ipython-input-17-db1b2a1ade8f>:16: FutureWarning: Downcasting object dtype arrays on .fillna, .ffill, .bfill is deprecated and will change in a future version. Call result.infer_objects(copy=False) instead. To opt-in to the future behavior, set `pd.set_option('future.no_silent_downcasting', True)`\n",
            "  chunk['onpromotion'] = chunk['onpromotion'].fillna(False).astype('int8')  # Make it small\n",
            "<ipython-input-17-db1b2a1ade8f>:11: FutureWarning: 'H' is deprecated and will be removed in a future version, please use 'h' instead.\n",
            "  chunk['date'] = pd.to_datetime(chunk['date'], errors='coerce').dt.floor('H')\n",
            "<ipython-input-17-db1b2a1ade8f>:16: FutureWarning: Downcasting object dtype arrays on .fillna, .ffill, .bfill is deprecated and will change in a future version. Call result.infer_objects(copy=False) instead. To opt-in to the future behavior, set `pd.set_option('future.no_silent_downcasting', True)`\n",
            "  chunk['onpromotion'] = chunk['onpromotion'].fillna(False).astype('int8')  # Make it small\n",
            "<ipython-input-17-db1b2a1ade8f>:11: FutureWarning: 'H' is deprecated and will be removed in a future version, please use 'h' instead.\n",
            "  chunk['date'] = pd.to_datetime(chunk['date'], errors='coerce').dt.floor('H')\n",
            "<ipython-input-17-db1b2a1ade8f>:16: FutureWarning: Downcasting object dtype arrays on .fillna, .ffill, .bfill is deprecated and will change in a future version. Call result.infer_objects(copy=False) instead. To opt-in to the future behavior, set `pd.set_option('future.no_silent_downcasting', True)`\n",
            "  chunk['onpromotion'] = chunk['onpromotion'].fillna(False).astype('int8')  # Make it small\n",
            "<ipython-input-17-db1b2a1ade8f>:11: FutureWarning: 'H' is deprecated and will be removed in a future version, please use 'h' instead.\n",
            "  chunk['date'] = pd.to_datetime(chunk['date'], errors='coerce').dt.floor('H')\n",
            "<ipython-input-17-db1b2a1ade8f>:16: FutureWarning: Downcasting object dtype arrays on .fillna, .ffill, .bfill is deprecated and will change in a future version. Call result.infer_objects(copy=False) instead. To opt-in to the future behavior, set `pd.set_option('future.no_silent_downcasting', True)`\n",
            "  chunk['onpromotion'] = chunk['onpromotion'].fillna(False).astype('int8')  # Make it small\n",
            "<ipython-input-17-db1b2a1ade8f>:11: FutureWarning: 'H' is deprecated and will be removed in a future version, please use 'h' instead.\n",
            "  chunk['date'] = pd.to_datetime(chunk['date'], errors='coerce').dt.floor('H')\n",
            "<ipython-input-17-db1b2a1ade8f>:16: FutureWarning: Downcasting object dtype arrays on .fillna, .ffill, .bfill is deprecated and will change in a future version. Call result.infer_objects(copy=False) instead. To opt-in to the future behavior, set `pd.set_option('future.no_silent_downcasting', True)`\n",
            "  chunk['onpromotion'] = chunk['onpromotion'].fillna(False).astype('int8')  # Make it small\n",
            "<ipython-input-17-db1b2a1ade8f>:11: FutureWarning: 'H' is deprecated and will be removed in a future version, please use 'h' instead.\n",
            "  chunk['date'] = pd.to_datetime(chunk['date'], errors='coerce').dt.floor('H')\n",
            "<ipython-input-17-db1b2a1ade8f>:16: FutureWarning: Downcasting object dtype arrays on .fillna, .ffill, .bfill is deprecated and will change in a future version. Call result.infer_objects(copy=False) instead. To opt-in to the future behavior, set `pd.set_option('future.no_silent_downcasting', True)`\n",
            "  chunk['onpromotion'] = chunk['onpromotion'].fillna(False).astype('int8')  # Make it small\n",
            "<ipython-input-17-db1b2a1ade8f>:11: FutureWarning: 'H' is deprecated and will be removed in a future version, please use 'h' instead.\n",
            "  chunk['date'] = pd.to_datetime(chunk['date'], errors='coerce').dt.floor('H')\n",
            "<ipython-input-17-db1b2a1ade8f>:16: FutureWarning: Downcasting object dtype arrays on .fillna, .ffill, .bfill is deprecated and will change in a future version. Call result.infer_objects(copy=False) instead. To opt-in to the future behavior, set `pd.set_option('future.no_silent_downcasting', True)`\n",
            "  chunk['onpromotion'] = chunk['onpromotion'].fillna(False).astype('int8')  # Make it small\n",
            "<ipython-input-17-db1b2a1ade8f>:11: FutureWarning: 'H' is deprecated and will be removed in a future version, please use 'h' instead.\n",
            "  chunk['date'] = pd.to_datetime(chunk['date'], errors='coerce').dt.floor('H')\n",
            "<ipython-input-17-db1b2a1ade8f>:16: FutureWarning: Downcasting object dtype arrays on .fillna, .ffill, .bfill is deprecated and will change in a future version. Call result.infer_objects(copy=False) instead. To opt-in to the future behavior, set `pd.set_option('future.no_silent_downcasting', True)`\n",
            "  chunk['onpromotion'] = chunk['onpromotion'].fillna(False).astype('int8')  # Make it small\n",
            "<ipython-input-17-db1b2a1ade8f>:11: FutureWarning: 'H' is deprecated and will be removed in a future version, please use 'h' instead.\n",
            "  chunk['date'] = pd.to_datetime(chunk['date'], errors='coerce').dt.floor('H')\n",
            "<ipython-input-17-db1b2a1ade8f>:16: FutureWarning: Downcasting object dtype arrays on .fillna, .ffill, .bfill is deprecated and will change in a future version. Call result.infer_objects(copy=False) instead. To opt-in to the future behavior, set `pd.set_option('future.no_silent_downcasting', True)`\n",
            "  chunk['onpromotion'] = chunk['onpromotion'].fillna(False).astype('int8')  # Make it small\n",
            "<ipython-input-17-db1b2a1ade8f>:11: FutureWarning: 'H' is deprecated and will be removed in a future version, please use 'h' instead.\n",
            "  chunk['date'] = pd.to_datetime(chunk['date'], errors='coerce').dt.floor('H')\n",
            "<ipython-input-17-db1b2a1ade8f>:16: FutureWarning: Downcasting object dtype arrays on .fillna, .ffill, .bfill is deprecated and will change in a future version. Call result.infer_objects(copy=False) instead. To opt-in to the future behavior, set `pd.set_option('future.no_silent_downcasting', True)`\n",
            "  chunk['onpromotion'] = chunk['onpromotion'].fillna(False).astype('int8')  # Make it small\n",
            "<ipython-input-17-db1b2a1ade8f>:11: FutureWarning: 'H' is deprecated and will be removed in a future version, please use 'h' instead.\n",
            "  chunk['date'] = pd.to_datetime(chunk['date'], errors='coerce').dt.floor('H')\n",
            "<ipython-input-17-db1b2a1ade8f>:16: FutureWarning: Downcasting object dtype arrays on .fillna, .ffill, .bfill is deprecated and will change in a future version. Call result.infer_objects(copy=False) instead. To opt-in to the future behavior, set `pd.set_option('future.no_silent_downcasting', True)`\n",
            "  chunk['onpromotion'] = chunk['onpromotion'].fillna(False).astype('int8')  # Make it small\n",
            "<ipython-input-17-db1b2a1ade8f>:11: FutureWarning: 'H' is deprecated and will be removed in a future version, please use 'h' instead.\n",
            "  chunk['date'] = pd.to_datetime(chunk['date'], errors='coerce').dt.floor('H')\n",
            "<ipython-input-17-db1b2a1ade8f>:16: FutureWarning: Downcasting object dtype arrays on .fillna, .ffill, .bfill is deprecated and will change in a future version. Call result.infer_objects(copy=False) instead. To opt-in to the future behavior, set `pd.set_option('future.no_silent_downcasting', True)`\n",
            "  chunk['onpromotion'] = chunk['onpromotion'].fillna(False).astype('int8')  # Make it small\n",
            "<ipython-input-17-db1b2a1ade8f>:11: FutureWarning: 'H' is deprecated and will be removed in a future version, please use 'h' instead.\n",
            "  chunk['date'] = pd.to_datetime(chunk['date'], errors='coerce').dt.floor('H')\n",
            "<ipython-input-17-db1b2a1ade8f>:16: FutureWarning: Downcasting object dtype arrays on .fillna, .ffill, .bfill is deprecated and will change in a future version. Call result.infer_objects(copy=False) instead. To opt-in to the future behavior, set `pd.set_option('future.no_silent_downcasting', True)`\n",
            "  chunk['onpromotion'] = chunk['onpromotion'].fillna(False).astype('int8')  # Make it small\n",
            "<ipython-input-17-db1b2a1ade8f>:11: FutureWarning: 'H' is deprecated and will be removed in a future version, please use 'h' instead.\n",
            "  chunk['date'] = pd.to_datetime(chunk['date'], errors='coerce').dt.floor('H')\n",
            "<ipython-input-17-db1b2a1ade8f>:16: FutureWarning: Downcasting object dtype arrays on .fillna, .ffill, .bfill is deprecated and will change in a future version. Call result.infer_objects(copy=False) instead. To opt-in to the future behavior, set `pd.set_option('future.no_silent_downcasting', True)`\n",
            "  chunk['onpromotion'] = chunk['onpromotion'].fillna(False).astype('int8')  # Make it small\n",
            "<ipython-input-17-db1b2a1ade8f>:11: FutureWarning: 'H' is deprecated and will be removed in a future version, please use 'h' instead.\n",
            "  chunk['date'] = pd.to_datetime(chunk['date'], errors='coerce').dt.floor('H')\n",
            "<ipython-input-17-db1b2a1ade8f>:16: FutureWarning: Downcasting object dtype arrays on .fillna, .ffill, .bfill is deprecated and will change in a future version. Call result.infer_objects(copy=False) instead. To opt-in to the future behavior, set `pd.set_option('future.no_silent_downcasting', True)`\n",
            "  chunk['onpromotion'] = chunk['onpromotion'].fillna(False).astype('int8')  # Make it small\n",
            "<ipython-input-17-db1b2a1ade8f>:11: FutureWarning: 'H' is deprecated and will be removed in a future version, please use 'h' instead.\n",
            "  chunk['date'] = pd.to_datetime(chunk['date'], errors='coerce').dt.floor('H')\n",
            "<ipython-input-17-db1b2a1ade8f>:16: FutureWarning: Downcasting object dtype arrays on .fillna, .ffill, .bfill is deprecated and will change in a future version. Call result.infer_objects(copy=False) instead. To opt-in to the future behavior, set `pd.set_option('future.no_silent_downcasting', True)`\n",
            "  chunk['onpromotion'] = chunk['onpromotion'].fillna(False).astype('int8')  # Make it small\n",
            "<ipython-input-17-db1b2a1ade8f>:11: FutureWarning: 'H' is deprecated and will be removed in a future version, please use 'h' instead.\n",
            "  chunk['date'] = pd.to_datetime(chunk['date'], errors='coerce').dt.floor('H')\n",
            "<ipython-input-17-db1b2a1ade8f>:16: FutureWarning: Downcasting object dtype arrays on .fillna, .ffill, .bfill is deprecated and will change in a future version. Call result.infer_objects(copy=False) instead. To opt-in to the future behavior, set `pd.set_option('future.no_silent_downcasting', True)`\n",
            "  chunk['onpromotion'] = chunk['onpromotion'].fillna(False).astype('int8')  # Make it small\n",
            "<ipython-input-17-db1b2a1ade8f>:11: FutureWarning: 'H' is deprecated and will be removed in a future version, please use 'h' instead.\n",
            "  chunk['date'] = pd.to_datetime(chunk['date'], errors='coerce').dt.floor('H')\n",
            "<ipython-input-17-db1b2a1ade8f>:16: FutureWarning: Downcasting object dtype arrays on .fillna, .ffill, .bfill is deprecated and will change in a future version. Call result.infer_objects(copy=False) instead. To opt-in to the future behavior, set `pd.set_option('future.no_silent_downcasting', True)`\n",
            "  chunk['onpromotion'] = chunk['onpromotion'].fillna(False).astype('int8')  # Make it small\n",
            "<ipython-input-17-db1b2a1ade8f>:11: FutureWarning: 'H' is deprecated and will be removed in a future version, please use 'h' instead.\n",
            "  chunk['date'] = pd.to_datetime(chunk['date'], errors='coerce').dt.floor('H')\n",
            "<ipython-input-17-db1b2a1ade8f>:16: FutureWarning: Downcasting object dtype arrays on .fillna, .ffill, .bfill is deprecated and will change in a future version. Call result.infer_objects(copy=False) instead. To opt-in to the future behavior, set `pd.set_option('future.no_silent_downcasting', True)`\n",
            "  chunk['onpromotion'] = chunk['onpromotion'].fillna(False).astype('int8')  # Make it small\n",
            "<ipython-input-17-db1b2a1ade8f>:11: FutureWarning: 'H' is deprecated and will be removed in a future version, please use 'h' instead.\n",
            "  chunk['date'] = pd.to_datetime(chunk['date'], errors='coerce').dt.floor('H')\n",
            "<ipython-input-17-db1b2a1ade8f>:16: FutureWarning: Downcasting object dtype arrays on .fillna, .ffill, .bfill is deprecated and will change in a future version. Call result.infer_objects(copy=False) instead. To opt-in to the future behavior, set `pd.set_option('future.no_silent_downcasting', True)`\n",
            "  chunk['onpromotion'] = chunk['onpromotion'].fillna(False).astype('int8')  # Make it small\n",
            "<ipython-input-17-db1b2a1ade8f>:11: FutureWarning: 'H' is deprecated and will be removed in a future version, please use 'h' instead.\n",
            "  chunk['date'] = pd.to_datetime(chunk['date'], errors='coerce').dt.floor('H')\n",
            "<ipython-input-17-db1b2a1ade8f>:16: FutureWarning: Downcasting object dtype arrays on .fillna, .ffill, .bfill is deprecated and will change in a future version. Call result.infer_objects(copy=False) instead. To opt-in to the future behavior, set `pd.set_option('future.no_silent_downcasting', True)`\n",
            "  chunk['onpromotion'] = chunk['onpromotion'].fillna(False).astype('int8')  # Make it small\n",
            "<ipython-input-17-db1b2a1ade8f>:11: FutureWarning: 'H' is deprecated and will be removed in a future version, please use 'h' instead.\n",
            "  chunk['date'] = pd.to_datetime(chunk['date'], errors='coerce').dt.floor('H')\n",
            "<ipython-input-17-db1b2a1ade8f>:16: FutureWarning: Downcasting object dtype arrays on .fillna, .ffill, .bfill is deprecated and will change in a future version. Call result.infer_objects(copy=False) instead. To opt-in to the future behavior, set `pd.set_option('future.no_silent_downcasting', True)`\n",
            "  chunk['onpromotion'] = chunk['onpromotion'].fillna(False).astype('int8')  # Make it small\n",
            "<ipython-input-17-db1b2a1ade8f>:11: FutureWarning: 'H' is deprecated and will be removed in a future version, please use 'h' instead.\n",
            "  chunk['date'] = pd.to_datetime(chunk['date'], errors='coerce').dt.floor('H')\n",
            "<ipython-input-17-db1b2a1ade8f>:16: FutureWarning: Downcasting object dtype arrays on .fillna, .ffill, .bfill is deprecated and will change in a future version. Call result.infer_objects(copy=False) instead. To opt-in to the future behavior, set `pd.set_option('future.no_silent_downcasting', True)`\n",
            "  chunk['onpromotion'] = chunk['onpromotion'].fillna(False).astype('int8')  # Make it small\n",
            "<ipython-input-17-db1b2a1ade8f>:11: FutureWarning: 'H' is deprecated and will be removed in a future version, please use 'h' instead.\n",
            "  chunk['date'] = pd.to_datetime(chunk['date'], errors='coerce').dt.floor('H')\n",
            "<ipython-input-17-db1b2a1ade8f>:16: FutureWarning: Downcasting object dtype arrays on .fillna, .ffill, .bfill is deprecated and will change in a future version. Call result.infer_objects(copy=False) instead. To opt-in to the future behavior, set `pd.set_option('future.no_silent_downcasting', True)`\n",
            "  chunk['onpromotion'] = chunk['onpromotion'].fillna(False).astype('int8')  # Make it small\n",
            "<ipython-input-17-db1b2a1ade8f>:11: FutureWarning: 'H' is deprecated and will be removed in a future version, please use 'h' instead.\n",
            "  chunk['date'] = pd.to_datetime(chunk['date'], errors='coerce').dt.floor('H')\n",
            "<ipython-input-17-db1b2a1ade8f>:16: FutureWarning: Downcasting object dtype arrays on .fillna, .ffill, .bfill is deprecated and will change in a future version. Call result.infer_objects(copy=False) instead. To opt-in to the future behavior, set `pd.set_option('future.no_silent_downcasting', True)`\n",
            "  chunk['onpromotion'] = chunk['onpromotion'].fillna(False).astype('int8')  # Make it small\n",
            "<ipython-input-17-db1b2a1ade8f>:11: FutureWarning: 'H' is deprecated and will be removed in a future version, please use 'h' instead.\n",
            "  chunk['date'] = pd.to_datetime(chunk['date'], errors='coerce').dt.floor('H')\n",
            "<ipython-input-17-db1b2a1ade8f>:16: FutureWarning: Downcasting object dtype arrays on .fillna, .ffill, .bfill is deprecated and will change in a future version. Call result.infer_objects(copy=False) instead. To opt-in to the future behavior, set `pd.set_option('future.no_silent_downcasting', True)`\n",
            "  chunk['onpromotion'] = chunk['onpromotion'].fillna(False).astype('int8')  # Make it small\n",
            "<ipython-input-17-db1b2a1ade8f>:11: FutureWarning: 'H' is deprecated and will be removed in a future version, please use 'h' instead.\n",
            "  chunk['date'] = pd.to_datetime(chunk['date'], errors='coerce').dt.floor('H')\n",
            "<ipython-input-17-db1b2a1ade8f>:16: FutureWarning: Downcasting object dtype arrays on .fillna, .ffill, .bfill is deprecated and will change in a future version. Call result.infer_objects(copy=False) instead. To opt-in to the future behavior, set `pd.set_option('future.no_silent_downcasting', True)`\n",
            "  chunk['onpromotion'] = chunk['onpromotion'].fillna(False).astype('int8')  # Make it small\n",
            "<ipython-input-17-db1b2a1ade8f>:11: FutureWarning: 'H' is deprecated and will be removed in a future version, please use 'h' instead.\n",
            "  chunk['date'] = pd.to_datetime(chunk['date'], errors='coerce').dt.floor('H')\n",
            "<ipython-input-17-db1b2a1ade8f>:16: FutureWarning: Downcasting object dtype arrays on .fillna, .ffill, .bfill is deprecated and will change in a future version. Call result.infer_objects(copy=False) instead. To opt-in to the future behavior, set `pd.set_option('future.no_silent_downcasting', True)`\n",
            "  chunk['onpromotion'] = chunk['onpromotion'].fillna(False).astype('int8')  # Make it small\n",
            "<ipython-input-17-db1b2a1ade8f>:11: FutureWarning: 'H' is deprecated and will be removed in a future version, please use 'h' instead.\n",
            "  chunk['date'] = pd.to_datetime(chunk['date'], errors='coerce').dt.floor('H')\n",
            "<ipython-input-17-db1b2a1ade8f>:16: FutureWarning: Downcasting object dtype arrays on .fillna, .ffill, .bfill is deprecated and will change in a future version. Call result.infer_objects(copy=False) instead. To opt-in to the future behavior, set `pd.set_option('future.no_silent_downcasting', True)`\n",
            "  chunk['onpromotion'] = chunk['onpromotion'].fillna(False).astype('int8')  # Make it small\n",
            "<ipython-input-17-db1b2a1ade8f>:11: FutureWarning: 'H' is deprecated and will be removed in a future version, please use 'h' instead.\n",
            "  chunk['date'] = pd.to_datetime(chunk['date'], errors='coerce').dt.floor('H')\n",
            "<ipython-input-17-db1b2a1ade8f>:16: FutureWarning: Downcasting object dtype arrays on .fillna, .ffill, .bfill is deprecated and will change in a future version. Call result.infer_objects(copy=False) instead. To opt-in to the future behavior, set `pd.set_option('future.no_silent_downcasting', True)`\n",
            "  chunk['onpromotion'] = chunk['onpromotion'].fillna(False).astype('int8')  # Make it small\n",
            "<ipython-input-17-db1b2a1ade8f>:11: FutureWarning: 'H' is deprecated and will be removed in a future version, please use 'h' instead.\n",
            "  chunk['date'] = pd.to_datetime(chunk['date'], errors='coerce').dt.floor('H')\n",
            "<ipython-input-17-db1b2a1ade8f>:16: FutureWarning: Downcasting object dtype arrays on .fillna, .ffill, .bfill is deprecated and will change in a future version. Call result.infer_objects(copy=False) instead. To opt-in to the future behavior, set `pd.set_option('future.no_silent_downcasting', True)`\n",
            "  chunk['onpromotion'] = chunk['onpromotion'].fillna(False).astype('int8')  # Make it small\n",
            "<ipython-input-17-db1b2a1ade8f>:11: FutureWarning: 'H' is deprecated and will be removed in a future version, please use 'h' instead.\n",
            "  chunk['date'] = pd.to_datetime(chunk['date'], errors='coerce').dt.floor('H')\n",
            "<ipython-input-17-db1b2a1ade8f>:16: FutureWarning: Downcasting object dtype arrays on .fillna, .ffill, .bfill is deprecated and will change in a future version. Call result.infer_objects(copy=False) instead. To opt-in to the future behavior, set `pd.set_option('future.no_silent_downcasting', True)`\n",
            "  chunk['onpromotion'] = chunk['onpromotion'].fillna(False).astype('int8')  # Make it small\n",
            "<ipython-input-17-db1b2a1ade8f>:11: FutureWarning: 'H' is deprecated and will be removed in a future version, please use 'h' instead.\n",
            "  chunk['date'] = pd.to_datetime(chunk['date'], errors='coerce').dt.floor('H')\n",
            "<ipython-input-17-db1b2a1ade8f>:16: FutureWarning: Downcasting object dtype arrays on .fillna, .ffill, .bfill is deprecated and will change in a future version. Call result.infer_objects(copy=False) instead. To opt-in to the future behavior, set `pd.set_option('future.no_silent_downcasting', True)`\n",
            "  chunk['onpromotion'] = chunk['onpromotion'].fillna(False).astype('int8')  # Make it small\n",
            "<ipython-input-17-db1b2a1ade8f>:11: FutureWarning: 'H' is deprecated and will be removed in a future version, please use 'h' instead.\n",
            "  chunk['date'] = pd.to_datetime(chunk['date'], errors='coerce').dt.floor('H')\n",
            "<ipython-input-17-db1b2a1ade8f>:16: FutureWarning: Downcasting object dtype arrays on .fillna, .ffill, .bfill is deprecated and will change in a future version. Call result.infer_objects(copy=False) instead. To opt-in to the future behavior, set `pd.set_option('future.no_silent_downcasting', True)`\n",
            "  chunk['onpromotion'] = chunk['onpromotion'].fillna(False).astype('int8')  # Make it small\n",
            "<ipython-input-17-db1b2a1ade8f>:11: FutureWarning: 'H' is deprecated and will be removed in a future version, please use 'h' instead.\n",
            "  chunk['date'] = pd.to_datetime(chunk['date'], errors='coerce').dt.floor('H')\n",
            "<ipython-input-17-db1b2a1ade8f>:16: FutureWarning: Downcasting object dtype arrays on .fillna, .ffill, .bfill is deprecated and will change in a future version. Call result.infer_objects(copy=False) instead. To opt-in to the future behavior, set `pd.set_option('future.no_silent_downcasting', True)`\n",
            "  chunk['onpromotion'] = chunk['onpromotion'].fillna(False).astype('int8')  # Make it small\n",
            "<ipython-input-17-db1b2a1ade8f>:11: FutureWarning: 'H' is deprecated and will be removed in a future version, please use 'h' instead.\n",
            "  chunk['date'] = pd.to_datetime(chunk['date'], errors='coerce').dt.floor('H')\n",
            "<ipython-input-17-db1b2a1ade8f>:16: FutureWarning: Downcasting object dtype arrays on .fillna, .ffill, .bfill is deprecated and will change in a future version. Call result.infer_objects(copy=False) instead. To opt-in to the future behavior, set `pd.set_option('future.no_silent_downcasting', True)`\n",
            "  chunk['onpromotion'] = chunk['onpromotion'].fillna(False).astype('int8')  # Make it small\n",
            "<ipython-input-17-db1b2a1ade8f>:11: FutureWarning: 'H' is deprecated and will be removed in a future version, please use 'h' instead.\n",
            "  chunk['date'] = pd.to_datetime(chunk['date'], errors='coerce').dt.floor('H')\n",
            "<ipython-input-17-db1b2a1ade8f>:16: FutureWarning: Downcasting object dtype arrays on .fillna, .ffill, .bfill is deprecated and will change in a future version. Call result.infer_objects(copy=False) instead. To opt-in to the future behavior, set `pd.set_option('future.no_silent_downcasting', True)`\n",
            "  chunk['onpromotion'] = chunk['onpromotion'].fillna(False).astype('int8')  # Make it small\n",
            "<ipython-input-17-db1b2a1ade8f>:11: FutureWarning: 'H' is deprecated and will be removed in a future version, please use 'h' instead.\n",
            "  chunk['date'] = pd.to_datetime(chunk['date'], errors='coerce').dt.floor('H')\n",
            "<ipython-input-17-db1b2a1ade8f>:16: FutureWarning: Downcasting object dtype arrays on .fillna, .ffill, .bfill is deprecated and will change in a future version. Call result.infer_objects(copy=False) instead. To opt-in to the future behavior, set `pd.set_option('future.no_silent_downcasting', True)`\n",
            "  chunk['onpromotion'] = chunk['onpromotion'].fillna(False).astype('int8')  # Make it small\n",
            "<ipython-input-17-db1b2a1ade8f>:11: FutureWarning: 'H' is deprecated and will be removed in a future version, please use 'h' instead.\n",
            "  chunk['date'] = pd.to_datetime(chunk['date'], errors='coerce').dt.floor('H')\n",
            "<ipython-input-17-db1b2a1ade8f>:16: FutureWarning: Downcasting object dtype arrays on .fillna, .ffill, .bfill is deprecated and will change in a future version. Call result.infer_objects(copy=False) instead. To opt-in to the future behavior, set `pd.set_option('future.no_silent_downcasting', True)`\n",
            "  chunk['onpromotion'] = chunk['onpromotion'].fillna(False).astype('int8')  # Make it small\n",
            "<ipython-input-17-db1b2a1ade8f>:11: FutureWarning: 'H' is deprecated and will be removed in a future version, please use 'h' instead.\n",
            "  chunk['date'] = pd.to_datetime(chunk['date'], errors='coerce').dt.floor('H')\n",
            "<ipython-input-17-db1b2a1ade8f>:16: FutureWarning: Downcasting object dtype arrays on .fillna, .ffill, .bfill is deprecated and will change in a future version. Call result.infer_objects(copy=False) instead. To opt-in to the future behavior, set `pd.set_option('future.no_silent_downcasting', True)`\n",
            "  chunk['onpromotion'] = chunk['onpromotion'].fillna(False).astype('int8')  # Make it small\n",
            "<ipython-input-17-db1b2a1ade8f>:11: FutureWarning: 'H' is deprecated and will be removed in a future version, please use 'h' instead.\n",
            "  chunk['date'] = pd.to_datetime(chunk['date'], errors='coerce').dt.floor('H')\n",
            "<ipython-input-17-db1b2a1ade8f>:16: FutureWarning: Downcasting object dtype arrays on .fillna, .ffill, .bfill is deprecated and will change in a future version. Call result.infer_objects(copy=False) instead. To opt-in to the future behavior, set `pd.set_option('future.no_silent_downcasting', True)`\n",
            "  chunk['onpromotion'] = chunk['onpromotion'].fillna(False).astype('int8')  # Make it small\n",
            "<ipython-input-17-db1b2a1ade8f>:11: FutureWarning: 'H' is deprecated and will be removed in a future version, please use 'h' instead.\n",
            "  chunk['date'] = pd.to_datetime(chunk['date'], errors='coerce').dt.floor('H')\n",
            "<ipython-input-17-db1b2a1ade8f>:16: FutureWarning: Downcasting object dtype arrays on .fillna, .ffill, .bfill is deprecated and will change in a future version. Call result.infer_objects(copy=False) instead. To opt-in to the future behavior, set `pd.set_option('future.no_silent_downcasting', True)`\n",
            "  chunk['onpromotion'] = chunk['onpromotion'].fillna(False).astype('int8')  # Make it small\n",
            "<ipython-input-17-db1b2a1ade8f>:11: FutureWarning: 'H' is deprecated and will be removed in a future version, please use 'h' instead.\n",
            "  chunk['date'] = pd.to_datetime(chunk['date'], errors='coerce').dt.floor('H')\n",
            "<ipython-input-17-db1b2a1ade8f>:16: FutureWarning: Downcasting object dtype arrays on .fillna, .ffill, .bfill is deprecated and will change in a future version. Call result.infer_objects(copy=False) instead. To opt-in to the future behavior, set `pd.set_option('future.no_silent_downcasting', True)`\n",
            "  chunk['onpromotion'] = chunk['onpromotion'].fillna(False).astype('int8')  # Make it small\n",
            "<ipython-input-17-db1b2a1ade8f>:11: FutureWarning: 'H' is deprecated and will be removed in a future version, please use 'h' instead.\n",
            "  chunk['date'] = pd.to_datetime(chunk['date'], errors='coerce').dt.floor('H')\n",
            "<ipython-input-17-db1b2a1ade8f>:16: FutureWarning: Downcasting object dtype arrays on .fillna, .ffill, .bfill is deprecated and will change in a future version. Call result.infer_objects(copy=False) instead. To opt-in to the future behavior, set `pd.set_option('future.no_silent_downcasting', True)`\n",
            "  chunk['onpromotion'] = chunk['onpromotion'].fillna(False).astype('int8')  # Make it small\n",
            "<ipython-input-17-db1b2a1ade8f>:11: FutureWarning: 'H' is deprecated and will be removed in a future version, please use 'h' instead.\n",
            "  chunk['date'] = pd.to_datetime(chunk['date'], errors='coerce').dt.floor('H')\n",
            "<ipython-input-17-db1b2a1ade8f>:16: FutureWarning: Downcasting object dtype arrays on .fillna, .ffill, .bfill is deprecated and will change in a future version. Call result.infer_objects(copy=False) instead. To opt-in to the future behavior, set `pd.set_option('future.no_silent_downcasting', True)`\n",
            "  chunk['onpromotion'] = chunk['onpromotion'].fillna(False).astype('int8')  # Make it small\n",
            "<ipython-input-17-db1b2a1ade8f>:11: FutureWarning: 'H' is deprecated and will be removed in a future version, please use 'h' instead.\n",
            "  chunk['date'] = pd.to_datetime(chunk['date'], errors='coerce').dt.floor('H')\n",
            "<ipython-input-17-db1b2a1ade8f>:16: FutureWarning: Downcasting object dtype arrays on .fillna, .ffill, .bfill is deprecated and will change in a future version. Call result.infer_objects(copy=False) instead. To opt-in to the future behavior, set `pd.set_option('future.no_silent_downcasting', True)`\n",
            "  chunk['onpromotion'] = chunk['onpromotion'].fillna(False).astype('int8')  # Make it small\n",
            "<ipython-input-17-db1b2a1ade8f>:11: FutureWarning: 'H' is deprecated and will be removed in a future version, please use 'h' instead.\n",
            "  chunk['date'] = pd.to_datetime(chunk['date'], errors='coerce').dt.floor('H')\n",
            "<ipython-input-17-db1b2a1ade8f>:16: FutureWarning: Downcasting object dtype arrays on .fillna, .ffill, .bfill is deprecated and will change in a future version. Call result.infer_objects(copy=False) instead. To opt-in to the future behavior, set `pd.set_option('future.no_silent_downcasting', True)`\n",
            "  chunk['onpromotion'] = chunk['onpromotion'].fillna(False).astype('int8')  # Make it small\n",
            "<ipython-input-17-db1b2a1ade8f>:11: FutureWarning: 'H' is deprecated and will be removed in a future version, please use 'h' instead.\n",
            "  chunk['date'] = pd.to_datetime(chunk['date'], errors='coerce').dt.floor('H')\n",
            "<ipython-input-17-db1b2a1ade8f>:16: FutureWarning: Downcasting object dtype arrays on .fillna, .ffill, .bfill is deprecated and will change in a future version. Call result.infer_objects(copy=False) instead. To opt-in to the future behavior, set `pd.set_option('future.no_silent_downcasting', True)`\n",
            "  chunk['onpromotion'] = chunk['onpromotion'].fillna(False).astype('int8')  # Make it small\n",
            "<ipython-input-17-db1b2a1ade8f>:11: FutureWarning: 'H' is deprecated and will be removed in a future version, please use 'h' instead.\n",
            "  chunk['date'] = pd.to_datetime(chunk['date'], errors='coerce').dt.floor('H')\n",
            "<ipython-input-17-db1b2a1ade8f>:16: FutureWarning: Downcasting object dtype arrays on .fillna, .ffill, .bfill is deprecated and will change in a future version. Call result.infer_objects(copy=False) instead. To opt-in to the future behavior, set `pd.set_option('future.no_silent_downcasting', True)`\n",
            "  chunk['onpromotion'] = chunk['onpromotion'].fillna(False).astype('int8')  # Make it small\n",
            "<ipython-input-17-db1b2a1ade8f>:4: DtypeWarning: Columns (5) have mixed types. Specify dtype option on import or set low_memory=False.\n",
            "  for chunk in chunks:\n",
            "<ipython-input-17-db1b2a1ade8f>:11: FutureWarning: 'H' is deprecated and will be removed in a future version, please use 'h' instead.\n",
            "  chunk['date'] = pd.to_datetime(chunk['date'], errors='coerce').dt.floor('H')\n",
            "<ipython-input-17-db1b2a1ade8f>:16: FutureWarning: Downcasting object dtype arrays on .fillna, .ffill, .bfill is deprecated and will change in a future version. Call result.infer_objects(copy=False) instead. To opt-in to the future behavior, set `pd.set_option('future.no_silent_downcasting', True)`\n",
            "  chunk['onpromotion'] = chunk['onpromotion'].fillna(False).astype('int8')  # Make it small\n",
            "<ipython-input-17-db1b2a1ade8f>:11: FutureWarning: 'H' is deprecated and will be removed in a future version, please use 'h' instead.\n",
            "  chunk['date'] = pd.to_datetime(chunk['date'], errors='coerce').dt.floor('H')\n",
            "<ipython-input-17-db1b2a1ade8f>:11: FutureWarning: 'H' is deprecated and will be removed in a future version, please use 'h' instead.\n",
            "  chunk['date'] = pd.to_datetime(chunk['date'], errors='coerce').dt.floor('H')\n",
            "<ipython-input-17-db1b2a1ade8f>:11: FutureWarning: 'H' is deprecated and will be removed in a future version, please use 'h' instead.\n",
            "  chunk['date'] = pd.to_datetime(chunk['date'], errors='coerce').dt.floor('H')\n",
            "<ipython-input-17-db1b2a1ade8f>:11: FutureWarning: 'H' is deprecated and will be removed in a future version, please use 'h' instead.\n",
            "  chunk['date'] = pd.to_datetime(chunk['date'], errors='coerce').dt.floor('H')\n",
            "<ipython-input-17-db1b2a1ade8f>:11: FutureWarning: 'H' is deprecated and will be removed in a future version, please use 'h' instead.\n",
            "  chunk['date'] = pd.to_datetime(chunk['date'], errors='coerce').dt.floor('H')\n",
            "<ipython-input-17-db1b2a1ade8f>:11: FutureWarning: 'H' is deprecated and will be removed in a future version, please use 'h' instead.\n",
            "  chunk['date'] = pd.to_datetime(chunk['date'], errors='coerce').dt.floor('H')\n",
            "<ipython-input-17-db1b2a1ade8f>:11: FutureWarning: 'H' is deprecated and will be removed in a future version, please use 'h' instead.\n",
            "  chunk['date'] = pd.to_datetime(chunk['date'], errors='coerce').dt.floor('H')\n",
            "<ipython-input-17-db1b2a1ade8f>:11: FutureWarning: 'H' is deprecated and will be removed in a future version, please use 'h' instead.\n",
            "  chunk['date'] = pd.to_datetime(chunk['date'], errors='coerce').dt.floor('H')\n",
            "<ipython-input-17-db1b2a1ade8f>:11: FutureWarning: 'H' is deprecated and will be removed in a future version, please use 'h' instead.\n",
            "  chunk['date'] = pd.to_datetime(chunk['date'], errors='coerce').dt.floor('H')\n",
            "<ipython-input-17-db1b2a1ade8f>:11: FutureWarning: 'H' is deprecated and will be removed in a future version, please use 'h' instead.\n",
            "  chunk['date'] = pd.to_datetime(chunk['date'], errors='coerce').dt.floor('H')\n",
            "<ipython-input-17-db1b2a1ade8f>:11: FutureWarning: 'H' is deprecated and will be removed in a future version, please use 'h' instead.\n",
            "  chunk['date'] = pd.to_datetime(chunk['date'], errors='coerce').dt.floor('H')\n",
            "<ipython-input-17-db1b2a1ade8f>:11: FutureWarning: 'H' is deprecated and will be removed in a future version, please use 'h' instead.\n",
            "  chunk['date'] = pd.to_datetime(chunk['date'], errors='coerce').dt.floor('H')\n",
            "<ipython-input-17-db1b2a1ade8f>:11: FutureWarning: 'H' is deprecated and will be removed in a future version, please use 'h' instead.\n",
            "  chunk['date'] = pd.to_datetime(chunk['date'], errors='coerce').dt.floor('H')\n",
            "<ipython-input-17-db1b2a1ade8f>:11: FutureWarning: 'H' is deprecated and will be removed in a future version, please use 'h' instead.\n",
            "  chunk['date'] = pd.to_datetime(chunk['date'], errors='coerce').dt.floor('H')\n",
            "<ipython-input-17-db1b2a1ade8f>:11: FutureWarning: 'H' is deprecated and will be removed in a future version, please use 'h' instead.\n",
            "  chunk['date'] = pd.to_datetime(chunk['date'], errors='coerce').dt.floor('H')\n",
            "<ipython-input-17-db1b2a1ade8f>:11: FutureWarning: 'H' is deprecated and will be removed in a future version, please use 'h' instead.\n",
            "  chunk['date'] = pd.to_datetime(chunk['date'], errors='coerce').dt.floor('H')\n",
            "<ipython-input-17-db1b2a1ade8f>:11: FutureWarning: 'H' is deprecated and will be removed in a future version, please use 'h' instead.\n",
            "  chunk['date'] = pd.to_datetime(chunk['date'], errors='coerce').dt.floor('H')\n",
            "<ipython-input-17-db1b2a1ade8f>:11: FutureWarning: 'H' is deprecated and will be removed in a future version, please use 'h' instead.\n",
            "  chunk['date'] = pd.to_datetime(chunk['date'], errors='coerce').dt.floor('H')\n",
            "<ipython-input-17-db1b2a1ade8f>:11: FutureWarning: 'H' is deprecated and will be removed in a future version, please use 'h' instead.\n",
            "  chunk['date'] = pd.to_datetime(chunk['date'], errors='coerce').dt.floor('H')\n",
            "<ipython-input-17-db1b2a1ade8f>:11: FutureWarning: 'H' is deprecated and will be removed in a future version, please use 'h' instead.\n",
            "  chunk['date'] = pd.to_datetime(chunk['date'], errors='coerce').dt.floor('H')\n",
            "<ipython-input-17-db1b2a1ade8f>:11: FutureWarning: 'H' is deprecated and will be removed in a future version, please use 'h' instead.\n",
            "  chunk['date'] = pd.to_datetime(chunk['date'], errors='coerce').dt.floor('H')\n",
            "<ipython-input-17-db1b2a1ade8f>:11: FutureWarning: 'H' is deprecated and will be removed in a future version, please use 'h' instead.\n",
            "  chunk['date'] = pd.to_datetime(chunk['date'], errors='coerce').dt.floor('H')\n",
            "<ipython-input-17-db1b2a1ade8f>:11: FutureWarning: 'H' is deprecated and will be removed in a future version, please use 'h' instead.\n",
            "  chunk['date'] = pd.to_datetime(chunk['date'], errors='coerce').dt.floor('H')\n",
            "<ipython-input-17-db1b2a1ade8f>:11: FutureWarning: 'H' is deprecated and will be removed in a future version, please use 'h' instead.\n",
            "  chunk['date'] = pd.to_datetime(chunk['date'], errors='coerce').dt.floor('H')\n",
            "<ipython-input-17-db1b2a1ade8f>:11: FutureWarning: 'H' is deprecated and will be removed in a future version, please use 'h' instead.\n",
            "  chunk['date'] = pd.to_datetime(chunk['date'], errors='coerce').dt.floor('H')\n",
            "<ipython-input-17-db1b2a1ade8f>:11: FutureWarning: 'H' is deprecated and will be removed in a future version, please use 'h' instead.\n",
            "  chunk['date'] = pd.to_datetime(chunk['date'], errors='coerce').dt.floor('H')\n",
            "<ipython-input-17-db1b2a1ade8f>:11: FutureWarning: 'H' is deprecated and will be removed in a future version, please use 'h' instead.\n",
            "  chunk['date'] = pd.to_datetime(chunk['date'], errors='coerce').dt.floor('H')\n",
            "<ipython-input-17-db1b2a1ade8f>:11: FutureWarning: 'H' is deprecated and will be removed in a future version, please use 'h' instead.\n",
            "  chunk['date'] = pd.to_datetime(chunk['date'], errors='coerce').dt.floor('H')\n",
            "<ipython-input-17-db1b2a1ade8f>:11: FutureWarning: 'H' is deprecated and will be removed in a future version, please use 'h' instead.\n",
            "  chunk['date'] = pd.to_datetime(chunk['date'], errors='coerce').dt.floor('H')\n",
            "<ipython-input-17-db1b2a1ade8f>:11: FutureWarning: 'H' is deprecated and will be removed in a future version, please use 'h' instead.\n",
            "  chunk['date'] = pd.to_datetime(chunk['date'], errors='coerce').dt.floor('H')\n",
            "<ipython-input-17-db1b2a1ade8f>:11: FutureWarning: 'H' is deprecated and will be removed in a future version, please use 'h' instead.\n",
            "  chunk['date'] = pd.to_datetime(chunk['date'], errors='coerce').dt.floor('H')\n",
            "<ipython-input-17-db1b2a1ade8f>:11: FutureWarning: 'H' is deprecated and will be removed in a future version, please use 'h' instead.\n",
            "  chunk['date'] = pd.to_datetime(chunk['date'], errors='coerce').dt.floor('H')\n",
            "<ipython-input-17-db1b2a1ade8f>:11: FutureWarning: 'H' is deprecated and will be removed in a future version, please use 'h' instead.\n",
            "  chunk['date'] = pd.to_datetime(chunk['date'], errors='coerce').dt.floor('H')\n",
            "<ipython-input-17-db1b2a1ade8f>:11: FutureWarning: 'H' is deprecated and will be removed in a future version, please use 'h' instead.\n",
            "  chunk['date'] = pd.to_datetime(chunk['date'], errors='coerce').dt.floor('H')\n",
            "<ipython-input-17-db1b2a1ade8f>:11: FutureWarning: 'H' is deprecated and will be removed in a future version, please use 'h' instead.\n",
            "  chunk['date'] = pd.to_datetime(chunk['date'], errors='coerce').dt.floor('H')\n",
            "<ipython-input-17-db1b2a1ade8f>:11: FutureWarning: 'H' is deprecated and will be removed in a future version, please use 'h' instead.\n",
            "  chunk['date'] = pd.to_datetime(chunk['date'], errors='coerce').dt.floor('H')\n",
            "<ipython-input-17-db1b2a1ade8f>:11: FutureWarning: 'H' is deprecated and will be removed in a future version, please use 'h' instead.\n",
            "  chunk['date'] = pd.to_datetime(chunk['date'], errors='coerce').dt.floor('H')\n",
            "<ipython-input-17-db1b2a1ade8f>:11: FutureWarning: 'H' is deprecated and will be removed in a future version, please use 'h' instead.\n",
            "  chunk['date'] = pd.to_datetime(chunk['date'], errors='coerce').dt.floor('H')\n",
            "<ipython-input-17-db1b2a1ade8f>:11: FutureWarning: 'H' is deprecated and will be removed in a future version, please use 'h' instead.\n",
            "  chunk['date'] = pd.to_datetime(chunk['date'], errors='coerce').dt.floor('H')\n",
            "<ipython-input-17-db1b2a1ade8f>:11: FutureWarning: 'H' is deprecated and will be removed in a future version, please use 'h' instead.\n",
            "  chunk['date'] = pd.to_datetime(chunk['date'], errors='coerce').dt.floor('H')\n",
            "<ipython-input-17-db1b2a1ade8f>:11: FutureWarning: 'H' is deprecated and will be removed in a future version, please use 'h' instead.\n",
            "  chunk['date'] = pd.to_datetime(chunk['date'], errors='coerce').dt.floor('H')\n",
            "<ipython-input-17-db1b2a1ade8f>:11: FutureWarning: 'H' is deprecated and will be removed in a future version, please use 'h' instead.\n",
            "  chunk['date'] = pd.to_datetime(chunk['date'], errors='coerce').dt.floor('H')\n",
            "<ipython-input-17-db1b2a1ade8f>:11: FutureWarning: 'H' is deprecated and will be removed in a future version, please use 'h' instead.\n",
            "  chunk['date'] = pd.to_datetime(chunk['date'], errors='coerce').dt.floor('H')\n",
            "<ipython-input-17-db1b2a1ade8f>:11: FutureWarning: 'H' is deprecated and will be removed in a future version, please use 'h' instead.\n",
            "  chunk['date'] = pd.to_datetime(chunk['date'], errors='coerce').dt.floor('H')\n",
            "<ipython-input-17-db1b2a1ade8f>:11: FutureWarning: 'H' is deprecated and will be removed in a future version, please use 'h' instead.\n",
            "  chunk['date'] = pd.to_datetime(chunk['date'], errors='coerce').dt.floor('H')\n",
            "<ipython-input-17-db1b2a1ade8f>:11: FutureWarning: 'H' is deprecated and will be removed in a future version, please use 'h' instead.\n",
            "  chunk['date'] = pd.to_datetime(chunk['date'], errors='coerce').dt.floor('H')\n",
            "<ipython-input-17-db1b2a1ade8f>:11: FutureWarning: 'H' is deprecated and will be removed in a future version, please use 'h' instead.\n",
            "  chunk['date'] = pd.to_datetime(chunk['date'], errors='coerce').dt.floor('H')\n",
            "<ipython-input-17-db1b2a1ade8f>:11: FutureWarning: 'H' is deprecated and will be removed in a future version, please use 'h' instead.\n",
            "  chunk['date'] = pd.to_datetime(chunk['date'], errors='coerce').dt.floor('H')\n",
            "<ipython-input-17-db1b2a1ade8f>:11: FutureWarning: 'H' is deprecated and will be removed in a future version, please use 'h' instead.\n",
            "  chunk['date'] = pd.to_datetime(chunk['date'], errors='coerce').dt.floor('H')\n",
            "<ipython-input-17-db1b2a1ade8f>:11: FutureWarning: 'H' is deprecated and will be removed in a future version, please use 'h' instead.\n",
            "  chunk['date'] = pd.to_datetime(chunk['date'], errors='coerce').dt.floor('H')\n",
            "<ipython-input-17-db1b2a1ade8f>:11: FutureWarning: 'H' is deprecated and will be removed in a future version, please use 'h' instead.\n",
            "  chunk['date'] = pd.to_datetime(chunk['date'], errors='coerce').dt.floor('H')\n",
            "<ipython-input-17-db1b2a1ade8f>:11: FutureWarning: 'H' is deprecated and will be removed in a future version, please use 'h' instead.\n",
            "  chunk['date'] = pd.to_datetime(chunk['date'], errors='coerce').dt.floor('H')\n",
            "<ipython-input-17-db1b2a1ade8f>:11: FutureWarning: 'H' is deprecated and will be removed in a future version, please use 'h' instead.\n",
            "  chunk['date'] = pd.to_datetime(chunk['date'], errors='coerce').dt.floor('H')\n",
            "<ipython-input-17-db1b2a1ade8f>:11: FutureWarning: 'H' is deprecated and will be removed in a future version, please use 'h' instead.\n",
            "  chunk['date'] = pd.to_datetime(chunk['date'], errors='coerce').dt.floor('H')\n",
            "<ipython-input-17-db1b2a1ade8f>:11: FutureWarning: 'H' is deprecated and will be removed in a future version, please use 'h' instead.\n",
            "  chunk['date'] = pd.to_datetime(chunk['date'], errors='coerce').dt.floor('H')\n",
            "<ipython-input-17-db1b2a1ade8f>:11: FutureWarning: 'H' is deprecated and will be removed in a future version, please use 'h' instead.\n",
            "  chunk['date'] = pd.to_datetime(chunk['date'], errors='coerce').dt.floor('H')\n",
            "<ipython-input-17-db1b2a1ade8f>:11: FutureWarning: 'H' is deprecated and will be removed in a future version, please use 'h' instead.\n",
            "  chunk['date'] = pd.to_datetime(chunk['date'], errors='coerce').dt.floor('H')\n",
            "<ipython-input-17-db1b2a1ade8f>:11: FutureWarning: 'H' is deprecated and will be removed in a future version, please use 'h' instead.\n",
            "  chunk['date'] = pd.to_datetime(chunk['date'], errors='coerce').dt.floor('H')\n",
            "<ipython-input-17-db1b2a1ade8f>:11: FutureWarning: 'H' is deprecated and will be removed in a future version, please use 'h' instead.\n",
            "  chunk['date'] = pd.to_datetime(chunk['date'], errors='coerce').dt.floor('H')\n",
            "<ipython-input-17-db1b2a1ade8f>:11: FutureWarning: 'H' is deprecated and will be removed in a future version, please use 'h' instead.\n",
            "  chunk['date'] = pd.to_datetime(chunk['date'], errors='coerce').dt.floor('H')\n",
            "<ipython-input-17-db1b2a1ade8f>:11: FutureWarning: 'H' is deprecated and will be removed in a future version, please use 'h' instead.\n",
            "  chunk['date'] = pd.to_datetime(chunk['date'], errors='coerce').dt.floor('H')\n",
            "<ipython-input-17-db1b2a1ade8f>:11: FutureWarning: 'H' is deprecated and will be removed in a future version, please use 'h' instead.\n",
            "  chunk['date'] = pd.to_datetime(chunk['date'], errors='coerce').dt.floor('H')\n",
            "<ipython-input-17-db1b2a1ade8f>:11: FutureWarning: 'H' is deprecated and will be removed in a future version, please use 'h' instead.\n",
            "  chunk['date'] = pd.to_datetime(chunk['date'], errors='coerce').dt.floor('H')\n",
            "<ipython-input-17-db1b2a1ade8f>:11: FutureWarning: 'H' is deprecated and will be removed in a future version, please use 'h' instead.\n",
            "  chunk['date'] = pd.to_datetime(chunk['date'], errors='coerce').dt.floor('H')\n",
            "<ipython-input-17-db1b2a1ade8f>:11: FutureWarning: 'H' is deprecated and will be removed in a future version, please use 'h' instead.\n",
            "  chunk['date'] = pd.to_datetime(chunk['date'], errors='coerce').dt.floor('H')\n",
            "<ipython-input-17-db1b2a1ade8f>:11: FutureWarning: 'H' is deprecated and will be removed in a future version, please use 'h' instead.\n",
            "  chunk['date'] = pd.to_datetime(chunk['date'], errors='coerce').dt.floor('H')\n",
            "<ipython-input-17-db1b2a1ade8f>:11: FutureWarning: 'H' is deprecated and will be removed in a future version, please use 'h' instead.\n",
            "  chunk['date'] = pd.to_datetime(chunk['date'], errors='coerce').dt.floor('H')\n",
            "<ipython-input-17-db1b2a1ade8f>:11: FutureWarning: 'H' is deprecated and will be removed in a future version, please use 'h' instead.\n",
            "  chunk['date'] = pd.to_datetime(chunk['date'], errors='coerce').dt.floor('H')\n",
            "<ipython-input-17-db1b2a1ade8f>:11: FutureWarning: 'H' is deprecated and will be removed in a future version, please use 'h' instead.\n",
            "  chunk['date'] = pd.to_datetime(chunk['date'], errors='coerce').dt.floor('H')\n",
            "<ipython-input-17-db1b2a1ade8f>:11: FutureWarning: 'H' is deprecated and will be removed in a future version, please use 'h' instead.\n",
            "  chunk['date'] = pd.to_datetime(chunk['date'], errors='coerce').dt.floor('H')\n",
            "<ipython-input-17-db1b2a1ade8f>:11: FutureWarning: 'H' is deprecated and will be removed in a future version, please use 'h' instead.\n",
            "  chunk['date'] = pd.to_datetime(chunk['date'], errors='coerce').dt.floor('H')\n",
            "<ipython-input-17-db1b2a1ade8f>:11: FutureWarning: 'H' is deprecated and will be removed in a future version, please use 'h' instead.\n",
            "  chunk['date'] = pd.to_datetime(chunk['date'], errors='coerce').dt.floor('H')\n",
            "<ipython-input-17-db1b2a1ade8f>:11: FutureWarning: 'H' is deprecated and will be removed in a future version, please use 'h' instead.\n",
            "  chunk['date'] = pd.to_datetime(chunk['date'], errors='coerce').dt.floor('H')\n",
            "<ipython-input-17-db1b2a1ade8f>:11: FutureWarning: 'H' is deprecated and will be removed in a future version, please use 'h' instead.\n",
            "  chunk['date'] = pd.to_datetime(chunk['date'], errors='coerce').dt.floor('H')\n",
            "<ipython-input-17-db1b2a1ade8f>:11: FutureWarning: 'H' is deprecated and will be removed in a future version, please use 'h' instead.\n",
            "  chunk['date'] = pd.to_datetime(chunk['date'], errors='coerce').dt.floor('H')\n",
            "<ipython-input-17-db1b2a1ade8f>:11: FutureWarning: 'H' is deprecated and will be removed in a future version, please use 'h' instead.\n",
            "  chunk['date'] = pd.to_datetime(chunk['date'], errors='coerce').dt.floor('H')\n",
            "<ipython-input-17-db1b2a1ade8f>:11: FutureWarning: 'H' is deprecated and will be removed in a future version, please use 'h' instead.\n",
            "  chunk['date'] = pd.to_datetime(chunk['date'], errors='coerce').dt.floor('H')\n",
            "<ipython-input-17-db1b2a1ade8f>:11: FutureWarning: 'H' is deprecated and will be removed in a future version, please use 'h' instead.\n",
            "  chunk['date'] = pd.to_datetime(chunk['date'], errors='coerce').dt.floor('H')\n",
            "<ipython-input-17-db1b2a1ade8f>:11: FutureWarning: 'H' is deprecated and will be removed in a future version, please use 'h' instead.\n",
            "  chunk['date'] = pd.to_datetime(chunk['date'], errors='coerce').dt.floor('H')\n",
            "<ipython-input-17-db1b2a1ade8f>:11: FutureWarning: 'H' is deprecated and will be removed in a future version, please use 'h' instead.\n",
            "  chunk['date'] = pd.to_datetime(chunk['date'], errors='coerce').dt.floor('H')\n",
            "<ipython-input-17-db1b2a1ade8f>:11: FutureWarning: 'H' is deprecated and will be removed in a future version, please use 'h' instead.\n",
            "  chunk['date'] = pd.to_datetime(chunk['date'], errors='coerce').dt.floor('H')\n",
            "<ipython-input-17-db1b2a1ade8f>:11: FutureWarning: 'H' is deprecated and will be removed in a future version, please use 'h' instead.\n",
            "  chunk['date'] = pd.to_datetime(chunk['date'], errors='coerce').dt.floor('H')\n",
            "<ipython-input-17-db1b2a1ade8f>:11: FutureWarning: 'H' is deprecated and will be removed in a future version, please use 'h' instead.\n",
            "  chunk['date'] = pd.to_datetime(chunk['date'], errors='coerce').dt.floor('H')\n",
            "<ipython-input-17-db1b2a1ade8f>:11: FutureWarning: 'H' is deprecated and will be removed in a future version, please use 'h' instead.\n",
            "  chunk['date'] = pd.to_datetime(chunk['date'], errors='coerce').dt.floor('H')\n",
            "<ipython-input-17-db1b2a1ade8f>:11: FutureWarning: 'H' is deprecated and will be removed in a future version, please use 'h' instead.\n",
            "  chunk['date'] = pd.to_datetime(chunk['date'], errors='coerce').dt.floor('H')\n",
            "<ipython-input-17-db1b2a1ade8f>:11: FutureWarning: 'H' is deprecated and will be removed in a future version, please use 'h' instead.\n",
            "  chunk['date'] = pd.to_datetime(chunk['date'], errors='coerce').dt.floor('H')\n",
            "<ipython-input-17-db1b2a1ade8f>:11: FutureWarning: 'H' is deprecated and will be removed in a future version, please use 'h' instead.\n",
            "  chunk['date'] = pd.to_datetime(chunk['date'], errors='coerce').dt.floor('H')\n",
            "<ipython-input-17-db1b2a1ade8f>:11: FutureWarning: 'H' is deprecated and will be removed in a future version, please use 'h' instead.\n",
            "  chunk['date'] = pd.to_datetime(chunk['date'], errors='coerce').dt.floor('H')\n",
            "<ipython-input-17-db1b2a1ade8f>:11: FutureWarning: 'H' is deprecated and will be removed in a future version, please use 'h' instead.\n",
            "  chunk['date'] = pd.to_datetime(chunk['date'], errors='coerce').dt.floor('H')\n"
          ]
        }
      ]
    },
    {
      "cell_type": "code",
      "source": [
        "chunk['onpromotion'] = chunk['onpromotion'].fillna(False).astype('int8')\n",
        "chunk['unit_sales'] = pd.to_numeric(chunk['unit_sales'], downcast='float')\n",
        "if chunk['unit_sales'].max() < 65504:\n",
        "    chunk['unit_sales'] = chunk['unit_sales'].astype('float16')"
      ],
      "metadata": {
        "id": "om6MUoUv5RIG"
      },
      "execution_count": null,
      "outputs": []
    },
    {
      "cell_type": "code",
      "source": [
        "# Row count\n",
        "row_count = pd.read_sql(f\"SELECT COUNT(*) AS row_count FROM {table_name}\", conn).iloc[0, 0]\n",
        "print(f\"🔢 Table '{table_name}' has {row_count:,} rows.\")\n",
        "\n",
        "# Keys for join\n",
        "sample = pd.read_sql(f\"SELECT * FROM {table_name} LIMIT 5\", conn)\n",
        "columns = sample.columns.tolist()\n",
        "keys = [col for col in columns if 'id' in col.lower() or 'nbr' in col.lower() or 'date' in col.lower()]\n",
        "print(f\"🔑 Candidate keys or join fields in '{table_name}': {keys}\")"
      ],
      "metadata": {
        "colab": {
          "base_uri": "https://localhost:8080/"
        },
        "id": "XzkC8kOu53z3",
        "outputId": "1bc655e1-50b2-4f16-aa37-0606530b422e"
      },
      "execution_count": null,
      "outputs": [
        {
          "output_type": "stream",
          "name": "stdout",
          "text": [
            "🔢 Table 'train' has 439,522 rows.\n",
            "🔑 Candidate keys or join fields in 'train': ['date', 'store_nbr', 'item_nbr']\n"
          ]
        }
      ]
    },
    {
      "cell_type": "code",
      "source": [
        "# del cursor\n",
        "del row_count\n",
        "del sample\n",
        "del keys\n",
        "del columns"
      ],
      "metadata": {
        "id": "OehoUHJ16GAR"
      },
      "execution_count": null,
      "outputs": []
    },
    {
      "cell_type": "markdown",
      "source": [
        "## From SQL to DataFrame"
      ],
      "metadata": {
        "id": "xw3yzdhb6MXh"
      }
    },
    {
      "cell_type": "code",
      "source": [
        "database_connection_string = \"sqlite:///favorita.db\"  # Assuming the database file is named 'favorita.db'\n",
        "\n",
        "# Create the engine\n",
        "engine = sa.create_engine(database_connection_string)"
      ],
      "metadata": {
        "id": "GxQHxBg06R40"
      },
      "execution_count": null,
      "outputs": []
    },
    {
      "cell_type": "code",
      "source": [
        "query_download = \"\"\"\n",
        "WITH top_families AS (\n",
        "    SELECT items.family\n",
        "    FROM train\n",
        "    JOIN items ON train.item_nbr = items.item_nbr\n",
        "    WHERE train.unit_sales >= 0\n",
        "    GROUP BY items.family\n",
        "    ORDER BY SUM(train.unit_sales) DESC\n",
        "    LIMIT 3\n",
        ")\n",
        "\n",
        "SELECT\n",
        "    train.unit_sales,\n",
        "    train.date AS train_date,\n",
        "    train.store_nbr,\n",
        "    train.item_nbr,\n",
        "    train.onpromotion,\n",
        "\n",
        "    oil.dcoilwtico,\n",
        "\n",
        "    holidays_events.type AS holiday_type,\n",
        "    holidays_events.locale,\n",
        "    holidays_events.transferred,\n",
        "\n",
        "    stores.city,\n",
        "    stores.type AS store_type,\n",
        "    stores.cluster AS store_cluster,\n",
        "\n",
        "    items.family AS items_family,\n",
        "    items.class AS item_class,\n",
        "    items.perishable AS perishable_items,\n",
        "\n",
        "    transactions.transactions\n",
        "\n",
        "FROM train\n",
        "LEFT JOIN oil\n",
        "  ON DATE(train.date) = DATE(oil.date)\n",
        "LEFT JOIN holidays_events\n",
        "  ON DATE(train.date) = DATE(holidays_events.date)\n",
        "INNER JOIN stores\n",
        "  ON train.store_nbr = stores.store_nbr\n",
        "INNER JOIN items\n",
        "  ON train.item_nbr = items.item_nbr\n",
        "INNER JOIN transactions\n",
        "  ON DATE(train.date) = DATE(transactions.date)\n",
        "     AND train.store_nbr = transactions.store_nbr\n",
        "\n",
        "WHERE train.unit_sales >= 0\n",
        "  AND items.family IN (SELECT family FROM top_families)\n",
        "  AND train.date > '2014-04-01'\n",
        "\n",
        "LIMIT 2500000;\n",
        "\"\"\""
      ],
      "metadata": {
        "id": "rlD46rc46W-W"
      },
      "execution_count": null,
      "outputs": []
    },
    {
      "cell_type": "code",
      "source": [
        "df_download = pd.read_sql_query(query_download, engine)"
      ],
      "metadata": {
        "id": "iQ6NOXgr71s6"
      },
      "execution_count": null,
      "outputs": []
    },
    {
      "cell_type": "code",
      "source": [
        "df = df_download.copy()\n",
        "df.shape"
      ],
      "metadata": {
        "id": "1peD79ET8Rei",
        "colab": {
          "base_uri": "https://localhost:8080/"
        },
        "outputId": "b6d243d1-6324-4ea8-d5e5-60465a1f8880"
      },
      "execution_count": null,
      "outputs": [
        {
          "data": {
            "text/plain": [
              "(26307, 16)"
            ]
          },
          "execution_count": 57,
          "metadata": {},
          "output_type": "execute_result"
        }
      ]
    },
    {
      "cell_type": "code",
      "source": [
        "gc.collect() # gc.collect() are for garbage collection — basically cleaning up memory that Python no longer needs"
      ],
      "metadata": {
        "id": "yHliGsUKAEib",
        "colab": {
          "base_uri": "https://localhost:8080/"
        },
        "outputId": "78a10e19-a6d7-4742-da2a-c75ae67158cb"
      },
      "execution_count": null,
      "outputs": [
        {
          "output_type": "execute_result",
          "data": {
            "text/plain": [
              "9"
            ]
          },
          "metadata": {},
          "execution_count": 58
        }
      ]
    },
    {
      "cell_type": "markdown",
      "source": [
        "# Data cleaning and transforming"
      ],
      "metadata": {
        "id": "lWBvOC5gATyN"
      }
    },
    {
      "cell_type": "code",
      "source": [
        "df['items_family'].nunique()"
      ],
      "metadata": {
        "id": "Hgsma8N9EG2v",
        "colab": {
          "base_uri": "https://localhost:8080/"
        },
        "outputId": "6c0c8876-460e-4647-c0d8-8299998ca417"
      },
      "execution_count": null,
      "outputs": [
        {
          "output_type": "execute_result",
          "data": {
            "text/plain": [
              "3"
            ]
          },
          "metadata": {},
          "execution_count": 59
        }
      ]
    },
    {
      "cell_type": "code",
      "source": [
        "# Check if 'index' column exists before deleting\n",
        "if 'index' in df.columns:\n",
        "    del df['index']"
      ],
      "metadata": {
        "id": "bAwMegPXCFVB"
      },
      "execution_count": null,
      "outputs": []
    },
    {
      "cell_type": "code",
      "source": [
        "# Check if 'index' column exists before deleting\n",
        "if 'index' in df.columns:\n",
        "    df = df.drop(columns=['index'])\n",
        "    print(\"'index' column dropped successfully.\")\n",
        "else:\n",
        "    print(\"'index' column not found in the DataFrame.\")"
      ],
      "metadata": {
        "id": "oydzhcDRFKXm",
        "colab": {
          "base_uri": "https://localhost:8080/"
        },
        "outputId": "4f2fb95e-ba97-4505-e104-bdd533096642"
      },
      "execution_count": null,
      "outputs": [
        {
          "output_type": "stream",
          "name": "stdout",
          "text": [
            "'index' column not found in the DataFrame.\n"
          ]
        }
      ]
    },
    {
      "cell_type": "code",
      "source": [
        "df['dcoilwtico'] = df['dcoilwtico'].fillna(method='ffill')\n",
        "df['dcoilwtico'] = df['dcoilwtico'].round(2)"
      ],
      "metadata": {
        "id": "MqFg5KBFESVC",
        "colab": {
          "base_uri": "https://localhost:8080/"
        },
        "outputId": "3d8e6982-842f-4974-9d9b-e119555c037c"
      },
      "execution_count": null,
      "outputs": [
        {
          "output_type": "stream",
          "name": "stderr",
          "text": [
            "<ipython-input-62-0a4d8ef736a4>:1: FutureWarning: Series.fillna with 'method' is deprecated and will raise in a future version. Use obj.ffill() or obj.bfill() instead.\n",
            "  df['dcoilwtico'] = df['dcoilwtico'].fillna(method='ffill')\n"
          ]
        }
      ]
    },
    {
      "cell_type": "code",
      "source": [
        "df['onpromotion'] = df['onpromotion'].fillna(0).astype(bool)\n",
        "df['onpromotion'] = df['onpromotion'].astype(int)"
      ],
      "metadata": {
        "id": "tZl-h2c2B6GI"
      },
      "execution_count": null,
      "outputs": []
    },
    {
      "cell_type": "code",
      "source": [
        "df['transferred'] = df['transferred'].fillna(0).astype(bool)\n",
        "df['transferred'] = df['transferred'].astype(int)"
      ],
      "metadata": {
        "id": "Ww0DRK6DCM-d"
      },
      "execution_count": null,
      "outputs": []
    },
    {
      "cell_type": "code",
      "source": [
        "df['perishable_items'] = df['perishable_items'].fillna(0).astype(bool)\n",
        "df['perishable_items'] = df['perishable_items'].astype(int)"
      ],
      "metadata": {
        "id": "Kto34fPQFoBp"
      },
      "execution_count": null,
      "outputs": []
    },
    {
      "cell_type": "code",
      "source": [
        "df['weighted_unit_sales'] = df['unit_sales']  # Create a copy of 'unit_sales'\n",
        "\n",
        "# Apply the weight where 'perishable_items' is True/1\n",
        "df.loc[df['perishable_items'] == 1, 'weighted_unit_sales'] *= 1.5\n",
        "# or df.loc[df['perishable_items'], 'weighted_unit_sales'] *= 1.5 if 'perishable_items' is boolean"
      ],
      "metadata": {
        "id": "22cg1NgrFyUP"
      },
      "execution_count": null,
      "outputs": []
    },
    {
      "cell_type": "code",
      "source": [
        "del df['perishable_items']"
      ],
      "metadata": {
        "id": "8Q-8_tZSF5_O"
      },
      "execution_count": null,
      "outputs": []
    },
    {
      "cell_type": "code",
      "source": [
        "df['items_family'].astype('category').inplace = True\n",
        "df['store_nbr'].astype('category').inplace = True"
      ],
      "metadata": {
        "id": "jT4ef30cC0MR"
      },
      "execution_count": null,
      "outputs": []
    },
    {
      "cell_type": "code",
      "source": [
        "# Ensure 'date' is a datetime object\n",
        "df['date'] = pd.to_datetime(df['train_date']) # Renamed 'train_date' column to 'date'\n",
        "\n",
        "# Extract and add new columns\n",
        "df['year'] = df['date'].dt.year\n",
        "df['month'] = df['date'].dt.month\n",
        "df['day'] = df['date'].dt.day\n",
        "df['week'] = df['date'].dt.isocalendar().week # Extract week number from 'date' column\n",
        "df['day_of_week'] = df['date'].dt.dayofweek # Extract day of the week from 'date'\n",
        "\n",
        "del df['train_date']"
      ],
      "metadata": {
        "id": "P7K6eYdsDZUB"
      },
      "execution_count": null,
      "outputs": []
    },
    {
      "cell_type": "code",
      "source": [
        "df['year_scaled'] = df['year'] - 2017  # center on a meaningful reference, Simple Offset Scaling\n",
        "del df['year']"
      ],
      "metadata": {
        "id": "fK1HbqIOEoZe"
      },
      "execution_count": null,
      "outputs": []
    },
    {
      "cell_type": "code",
      "source": [
        "del df['holiday_type']\n",
        "del df['locale']"
      ],
      "metadata": {
        "id": "N39NppHTEtdp"
      },
      "execution_count": null,
      "outputs": []
    },
    {
      "cell_type": "code",
      "source": [
        "# Get sorted unique cluster values\n",
        "unique_clusters = sorted(df['store_cluster'].unique())\n",
        "\n",
        "# Create a mapping from original cluster IDs to new ones (0 to N-1)\n",
        "cluster_map = {old: new for new, old in enumerate(unique_clusters)}\n",
        "\n",
        "# Apply the mapping\n",
        "df['store_cluster'] = df['store_cluster'].map(cluster_map)"
      ],
      "metadata": {
        "id": "IurthfRiGVBj"
      },
      "execution_count": null,
      "outputs": []
    },
    {
      "cell_type": "code",
      "source": [
        "del df['store_type']\n",
        "del df['store_cluster']"
      ],
      "metadata": {
        "id": "m4LAvMZmGXVk"
      },
      "execution_count": null,
      "outputs": []
    },
    {
      "cell_type": "code",
      "source": [
        "df['weighted_unit_sales'] = df['weighted_unit_sales'].round(2)\n",
        "df['unit_sales'] = df['unit_sales'].round(2)"
      ],
      "metadata": {
        "id": "ob1nrxSlGtEs"
      },
      "execution_count": null,
      "outputs": []
    },
    {
      "cell_type": "code",
      "source": [
        "city_dummies = pd.get_dummies(df['city'], prefix='city', dummy_na=True)\n",
        "\n",
        "for col in city_dummies.columns:\n",
        "    df[col] = city_dummies[col].astype(int)\n",
        "\n",
        "del df['city']"
      ],
      "metadata": {
        "id": "gyaGeDiGJVvB"
      },
      "execution_count": null,
      "outputs": []
    },
    {
      "cell_type": "code",
      "source": [
        "items_family_dummies = pd.get_dummies(df['items_family'], prefix='items_family', dummy_na=True)\n",
        "for col in items_family_dummies.columns:\n",
        "    df[col] = items_family_dummies[col].astype(int)\n",
        "\n",
        "del df['items_family']"
      ],
      "metadata": {
        "id": "9LMNTFRvJyK9"
      },
      "execution_count": null,
      "outputs": []
    },
    {
      "cell_type": "code",
      "source": [
        "# df['item_class'].nunique()\n",
        "df['item_class'].astype('category').inplace = True"
      ],
      "metadata": {
        "id": "ssrWqwHSKLKS"
      },
      "execution_count": null,
      "outputs": []
    },
    {
      "cell_type": "code",
      "source": [
        "df.sample(2)"
      ],
      "metadata": {
        "id": "LDydrzmwAYbH",
        "colab": {
          "base_uri": "https://localhost:8080/",
          "height": 214
        },
        "outputId": "1d4c9b7b-4bc6-4423-89e4-51cea316d946"
      },
      "execution_count": null,
      "outputs": [
        {
          "output_type": "execute_result",
          "data": {
            "text/plain": [
              "       unit_sales  store_nbr  item_nbr  onpromotion  dcoilwtico  transferred  \\\n",
              "20829         2.0         30    881910            0       46.79            0   \n",
              "989           1.0         26    358100            0      103.71            0   \n",
              "\n",
              "       item_class  transactions  weighted_unit_sales       date  ...  \\\n",
              "20829        1042           657                  2.0 2015-01-17  ...   \n",
              "989          1010           806                  1.0 2014-04-16  ...   \n",
              "\n",
              "       year_scaled  city_Daule  city_Guayaquil  city_Libertad  city_Playas  \\\n",
              "20829           -2           0               1              0            0   \n",
              "989             -3           0               1              0            0   \n",
              "\n",
              "       city_nan  items_family_BEVERAGES  items_family_CLEANING  \\\n",
              "20829         0                       0                      0   \n",
              "989           0                       0                      0   \n",
              "\n",
              "       items_family_GROCERY I  items_family_nan  \n",
              "20829                       1                 0  \n",
              "989                         1                 0  \n",
              "\n",
              "[2 rows x 24 columns]"
            ],
            "text/html": [
              "\n",
              "  <div id=\"df-67474331-12af-487a-9a89-a4e3c39e4d90\" class=\"colab-df-container\">\n",
              "    <div>\n",
              "<style scoped>\n",
              "    .dataframe tbody tr th:only-of-type {\n",
              "        vertical-align: middle;\n",
              "    }\n",
              "\n",
              "    .dataframe tbody tr th {\n",
              "        vertical-align: top;\n",
              "    }\n",
              "\n",
              "    .dataframe thead th {\n",
              "        text-align: right;\n",
              "    }\n",
              "</style>\n",
              "<table border=\"1\" class=\"dataframe\">\n",
              "  <thead>\n",
              "    <tr style=\"text-align: right;\">\n",
              "      <th></th>\n",
              "      <th>unit_sales</th>\n",
              "      <th>store_nbr</th>\n",
              "      <th>item_nbr</th>\n",
              "      <th>onpromotion</th>\n",
              "      <th>dcoilwtico</th>\n",
              "      <th>transferred</th>\n",
              "      <th>item_class</th>\n",
              "      <th>transactions</th>\n",
              "      <th>weighted_unit_sales</th>\n",
              "      <th>date</th>\n",
              "      <th>...</th>\n",
              "      <th>year_scaled</th>\n",
              "      <th>city_Daule</th>\n",
              "      <th>city_Guayaquil</th>\n",
              "      <th>city_Libertad</th>\n",
              "      <th>city_Playas</th>\n",
              "      <th>city_nan</th>\n",
              "      <th>items_family_BEVERAGES</th>\n",
              "      <th>items_family_CLEANING</th>\n",
              "      <th>items_family_GROCERY I</th>\n",
              "      <th>items_family_nan</th>\n",
              "    </tr>\n",
              "  </thead>\n",
              "  <tbody>\n",
              "    <tr>\n",
              "      <th>20829</th>\n",
              "      <td>2.0</td>\n",
              "      <td>30</td>\n",
              "      <td>881910</td>\n",
              "      <td>0</td>\n",
              "      <td>46.79</td>\n",
              "      <td>0</td>\n",
              "      <td>1042</td>\n",
              "      <td>657</td>\n",
              "      <td>2.0</td>\n",
              "      <td>2015-01-17</td>\n",
              "      <td>...</td>\n",
              "      <td>-2</td>\n",
              "      <td>0</td>\n",
              "      <td>1</td>\n",
              "      <td>0</td>\n",
              "      <td>0</td>\n",
              "      <td>0</td>\n",
              "      <td>0</td>\n",
              "      <td>0</td>\n",
              "      <td>1</td>\n",
              "      <td>0</td>\n",
              "    </tr>\n",
              "    <tr>\n",
              "      <th>989</th>\n",
              "      <td>1.0</td>\n",
              "      <td>26</td>\n",
              "      <td>358100</td>\n",
              "      <td>0</td>\n",
              "      <td>103.71</td>\n",
              "      <td>0</td>\n",
              "      <td>1010</td>\n",
              "      <td>806</td>\n",
              "      <td>1.0</td>\n",
              "      <td>2014-04-16</td>\n",
              "      <td>...</td>\n",
              "      <td>-3</td>\n",
              "      <td>0</td>\n",
              "      <td>1</td>\n",
              "      <td>0</td>\n",
              "      <td>0</td>\n",
              "      <td>0</td>\n",
              "      <td>0</td>\n",
              "      <td>0</td>\n",
              "      <td>1</td>\n",
              "      <td>0</td>\n",
              "    </tr>\n",
              "  </tbody>\n",
              "</table>\n",
              "<p>2 rows × 24 columns</p>\n",
              "</div>\n",
              "    <div class=\"colab-df-buttons\">\n",
              "\n",
              "  <div class=\"colab-df-container\">\n",
              "    <button class=\"colab-df-convert\" onclick=\"convertToInteractive('df-67474331-12af-487a-9a89-a4e3c39e4d90')\"\n",
              "            title=\"Convert this dataframe to an interactive table.\"\n",
              "            style=\"display:none;\">\n",
              "\n",
              "  <svg xmlns=\"http://www.w3.org/2000/svg\" height=\"24px\" viewBox=\"0 -960 960 960\">\n",
              "    <path d=\"M120-120v-720h720v720H120Zm60-500h600v-160H180v160Zm220 220h160v-160H400v160Zm0 220h160v-160H400v160ZM180-400h160v-160H180v160Zm440 0h160v-160H620v160ZM180-180h160v-160H180v160Zm440 0h160v-160H620v160Z\"/>\n",
              "  </svg>\n",
              "    </button>\n",
              "\n",
              "  <style>\n",
              "    .colab-df-container {\n",
              "      display:flex;\n",
              "      gap: 12px;\n",
              "    }\n",
              "\n",
              "    .colab-df-convert {\n",
              "      background-color: #E8F0FE;\n",
              "      border: none;\n",
              "      border-radius: 50%;\n",
              "      cursor: pointer;\n",
              "      display: none;\n",
              "      fill: #1967D2;\n",
              "      height: 32px;\n",
              "      padding: 0 0 0 0;\n",
              "      width: 32px;\n",
              "    }\n",
              "\n",
              "    .colab-df-convert:hover {\n",
              "      background-color: #E2EBFA;\n",
              "      box-shadow: 0px 1px 2px rgba(60, 64, 67, 0.3), 0px 1px 3px 1px rgba(60, 64, 67, 0.15);\n",
              "      fill: #174EA6;\n",
              "    }\n",
              "\n",
              "    .colab-df-buttons div {\n",
              "      margin-bottom: 4px;\n",
              "    }\n",
              "\n",
              "    [theme=dark] .colab-df-convert {\n",
              "      background-color: #3B4455;\n",
              "      fill: #D2E3FC;\n",
              "    }\n",
              "\n",
              "    [theme=dark] .colab-df-convert:hover {\n",
              "      background-color: #434B5C;\n",
              "      box-shadow: 0px 1px 3px 1px rgba(0, 0, 0, 0.15);\n",
              "      filter: drop-shadow(0px 1px 2px rgba(0, 0, 0, 0.3));\n",
              "      fill: #FFFFFF;\n",
              "    }\n",
              "  </style>\n",
              "\n",
              "    <script>\n",
              "      const buttonEl =\n",
              "        document.querySelector('#df-67474331-12af-487a-9a89-a4e3c39e4d90 button.colab-df-convert');\n",
              "      buttonEl.style.display =\n",
              "        google.colab.kernel.accessAllowed ? 'block' : 'none';\n",
              "\n",
              "      async function convertToInteractive(key) {\n",
              "        const element = document.querySelector('#df-67474331-12af-487a-9a89-a4e3c39e4d90');\n",
              "        const dataTable =\n",
              "          await google.colab.kernel.invokeFunction('convertToInteractive',\n",
              "                                                    [key], {});\n",
              "        if (!dataTable) return;\n",
              "\n",
              "        const docLinkHtml = 'Like what you see? Visit the ' +\n",
              "          '<a target=\"_blank\" href=https://colab.research.google.com/notebooks/data_table.ipynb>data table notebook</a>'\n",
              "          + ' to learn more about interactive tables.';\n",
              "        element.innerHTML = '';\n",
              "        dataTable['output_type'] = 'display_data';\n",
              "        await google.colab.output.renderOutput(dataTable, element);\n",
              "        const docLink = document.createElement('div');\n",
              "        docLink.innerHTML = docLinkHtml;\n",
              "        element.appendChild(docLink);\n",
              "      }\n",
              "    </script>\n",
              "  </div>\n",
              "\n",
              "\n",
              "    <div id=\"df-6dd07c26-5b59-4956-9392-13f3fd094f86\">\n",
              "      <button class=\"colab-df-quickchart\" onclick=\"quickchart('df-6dd07c26-5b59-4956-9392-13f3fd094f86')\"\n",
              "                title=\"Suggest charts\"\n",
              "                style=\"display:none;\">\n",
              "\n",
              "<svg xmlns=\"http://www.w3.org/2000/svg\" height=\"24px\"viewBox=\"0 0 24 24\"\n",
              "     width=\"24px\">\n",
              "    <g>\n",
              "        <path d=\"M19 3H5c-1.1 0-2 .9-2 2v14c0 1.1.9 2 2 2h14c1.1 0 2-.9 2-2V5c0-1.1-.9-2-2-2zM9 17H7v-7h2v7zm4 0h-2V7h2v10zm4 0h-2v-4h2v4z\"/>\n",
              "    </g>\n",
              "</svg>\n",
              "      </button>\n",
              "\n",
              "<style>\n",
              "  .colab-df-quickchart {\n",
              "      --bg-color: #E8F0FE;\n",
              "      --fill-color: #1967D2;\n",
              "      --hover-bg-color: #E2EBFA;\n",
              "      --hover-fill-color: #174EA6;\n",
              "      --disabled-fill-color: #AAA;\n",
              "      --disabled-bg-color: #DDD;\n",
              "  }\n",
              "\n",
              "  [theme=dark] .colab-df-quickchart {\n",
              "      --bg-color: #3B4455;\n",
              "      --fill-color: #D2E3FC;\n",
              "      --hover-bg-color: #434B5C;\n",
              "      --hover-fill-color: #FFFFFF;\n",
              "      --disabled-bg-color: #3B4455;\n",
              "      --disabled-fill-color: #666;\n",
              "  }\n",
              "\n",
              "  .colab-df-quickchart {\n",
              "    background-color: var(--bg-color);\n",
              "    border: none;\n",
              "    border-radius: 50%;\n",
              "    cursor: pointer;\n",
              "    display: none;\n",
              "    fill: var(--fill-color);\n",
              "    height: 32px;\n",
              "    padding: 0;\n",
              "    width: 32px;\n",
              "  }\n",
              "\n",
              "  .colab-df-quickchart:hover {\n",
              "    background-color: var(--hover-bg-color);\n",
              "    box-shadow: 0 1px 2px rgba(60, 64, 67, 0.3), 0 1px 3px 1px rgba(60, 64, 67, 0.15);\n",
              "    fill: var(--button-hover-fill-color);\n",
              "  }\n",
              "\n",
              "  .colab-df-quickchart-complete:disabled,\n",
              "  .colab-df-quickchart-complete:disabled:hover {\n",
              "    background-color: var(--disabled-bg-color);\n",
              "    fill: var(--disabled-fill-color);\n",
              "    box-shadow: none;\n",
              "  }\n",
              "\n",
              "  .colab-df-spinner {\n",
              "    border: 2px solid var(--fill-color);\n",
              "    border-color: transparent;\n",
              "    border-bottom-color: var(--fill-color);\n",
              "    animation:\n",
              "      spin 1s steps(1) infinite;\n",
              "  }\n",
              "\n",
              "  @keyframes spin {\n",
              "    0% {\n",
              "      border-color: transparent;\n",
              "      border-bottom-color: var(--fill-color);\n",
              "      border-left-color: var(--fill-color);\n",
              "    }\n",
              "    20% {\n",
              "      border-color: transparent;\n",
              "      border-left-color: var(--fill-color);\n",
              "      border-top-color: var(--fill-color);\n",
              "    }\n",
              "    30% {\n",
              "      border-color: transparent;\n",
              "      border-left-color: var(--fill-color);\n",
              "      border-top-color: var(--fill-color);\n",
              "      border-right-color: var(--fill-color);\n",
              "    }\n",
              "    40% {\n",
              "      border-color: transparent;\n",
              "      border-right-color: var(--fill-color);\n",
              "      border-top-color: var(--fill-color);\n",
              "    }\n",
              "    60% {\n",
              "      border-color: transparent;\n",
              "      border-right-color: var(--fill-color);\n",
              "    }\n",
              "    80% {\n",
              "      border-color: transparent;\n",
              "      border-right-color: var(--fill-color);\n",
              "      border-bottom-color: var(--fill-color);\n",
              "    }\n",
              "    90% {\n",
              "      border-color: transparent;\n",
              "      border-bottom-color: var(--fill-color);\n",
              "    }\n",
              "  }\n",
              "</style>\n",
              "\n",
              "      <script>\n",
              "        async function quickchart(key) {\n",
              "          const quickchartButtonEl =\n",
              "            document.querySelector('#' + key + ' button');\n",
              "          quickchartButtonEl.disabled = true;  // To prevent multiple clicks.\n",
              "          quickchartButtonEl.classList.add('colab-df-spinner');\n",
              "          try {\n",
              "            const charts = await google.colab.kernel.invokeFunction(\n",
              "                'suggestCharts', [key], {});\n",
              "          } catch (error) {\n",
              "            console.error('Error during call to suggestCharts:', error);\n",
              "          }\n",
              "          quickchartButtonEl.classList.remove('colab-df-spinner');\n",
              "          quickchartButtonEl.classList.add('colab-df-quickchart-complete');\n",
              "        }\n",
              "        (() => {\n",
              "          let quickchartButtonEl =\n",
              "            document.querySelector('#df-6dd07c26-5b59-4956-9392-13f3fd094f86 button');\n",
              "          quickchartButtonEl.style.display =\n",
              "            google.colab.kernel.accessAllowed ? 'block' : 'none';\n",
              "        })();\n",
              "      </script>\n",
              "    </div>\n",
              "\n",
              "    </div>\n",
              "  </div>\n"
            ],
            "application/vnd.google.colaboratory.intrinsic+json": {
              "type": "dataframe"
            }
          },
          "metadata": {},
          "execution_count": 78
        }
      ]
    },
    {
      "cell_type": "code",
      "source": [
        "df.info()"
      ],
      "metadata": {
        "id": "fTEsgNqeD7kO",
        "colab": {
          "base_uri": "https://localhost:8080/"
        },
        "outputId": "b0edeaae-539b-4b15-a9f8-f3eeabf44e39"
      },
      "execution_count": null,
      "outputs": [
        {
          "output_type": "stream",
          "name": "stdout",
          "text": [
            "<class 'pandas.core.frame.DataFrame'>\n",
            "RangeIndex: 26307 entries, 0 to 26306\n",
            "Data columns (total 24 columns):\n",
            " #   Column                  Non-Null Count  Dtype         \n",
            "---  ------                  --------------  -----         \n",
            " 0   unit_sales              26307 non-null  float64       \n",
            " 1   store_nbr               26307 non-null  int64         \n",
            " 2   item_nbr                26307 non-null  int64         \n",
            " 3   onpromotion             26307 non-null  int64         \n",
            " 4   dcoilwtico              26307 non-null  float64       \n",
            " 5   transferred             26307 non-null  int64         \n",
            " 6   item_class              26307 non-null  int64         \n",
            " 7   transactions            26307 non-null  int64         \n",
            " 8   weighted_unit_sales     26307 non-null  float64       \n",
            " 9   date                    26307 non-null  datetime64[ns]\n",
            " 10  month                   26307 non-null  int32         \n",
            " 11  day                     26307 non-null  int32         \n",
            " 12  week                    26307 non-null  UInt32        \n",
            " 13  day_of_week             26307 non-null  int32         \n",
            " 14  year_scaled             26307 non-null  int32         \n",
            " 15  city_Daule              26307 non-null  int64         \n",
            " 16  city_Guayaquil          26307 non-null  int64         \n",
            " 17  city_Libertad           26307 non-null  int64         \n",
            " 18  city_Playas             26307 non-null  int64         \n",
            " 19  city_nan                26307 non-null  int64         \n",
            " 20  items_family_BEVERAGES  26307 non-null  int64         \n",
            " 21  items_family_CLEANING   26307 non-null  int64         \n",
            " 22  items_family_GROCERY I  26307 non-null  int64         \n",
            " 23  items_family_nan        26307 non-null  int64         \n",
            "dtypes: UInt32(1), datetime64[ns](1), float64(3), int32(4), int64(15)\n",
            "memory usage: 4.3 MB\n"
          ]
        }
      ]
    },
    {
      "cell_type": "code",
      "source": [
        "# Downcast numeric columns to smallest possible types\n",
        "for col in df.select_dtypes(include=['int', 'float']).columns:\n",
        "    if pd.api.types.is_integer_dtype(df[col]):\n",
        "        df[col] = pd.to_numeric(df[col], downcast='integer')\n",
        "    elif pd.api.types.is_float_dtype(df[col]):\n",
        "        df[col] = pd.to_numeric(df[col], downcast='float')"
      ],
      "metadata": {
        "id": "3tvpkalZLGEA"
      },
      "execution_count": null,
      "outputs": []
    },
    {
      "cell_type": "markdown",
      "source": [
        "## Initial Data review"
      ],
      "metadata": {
        "id": "3CJqdWYOLPyU"
      }
    },
    {
      "cell_type": "code",
      "source": [
        "onpromotion_counts = df['onpromotion'].value_counts(dropna=False)\n",
        "\n",
        "# Custom labels\n",
        "labels = ['Promoted' if val == True else 'Not Promoted' if val == False else 'Missing' for val in onpromotion_counts.index]\n",
        "\n",
        "# Custom colors\n",
        "colors = ['#2ecc71', '#e74c3c', '#95a5a6']  # green, red, gray\n",
        "\n",
        "# Create the pie chart\n",
        "plt.figure(figsize=(6, 6))\n",
        "wedges, texts, autotexts = plt.pie(\n",
        "    onpromotion_counts,\n",
        "    labels=labels,\n",
        "    colors=colors[:len(onpromotion_counts)],\n",
        "    autopct='%1.1f%%',\n",
        "    startangle=140,\n",
        "    textprops=dict(color=\"white\")\n",
        ")\n",
        "\n",
        "# Styling\n",
        "plt.setp(autotexts, size=12, weight=\"bold\")\n",
        "plt.setp(texts, size=12)\n",
        "plt.title('Distribution of Promotions', fontsize=16, weight='bold')\n",
        "plt.tight_layout()\n",
        "plt.show()"
      ],
      "metadata": {
        "id": "fQBPISYcLWnj",
        "colab": {
          "base_uri": "https://localhost:8080/",
          "height": 598
        },
        "outputId": "88cdfa55-07d6-4ec6-b304-b903afd25648"
      },
      "execution_count": null,
      "outputs": [
        {
          "output_type": "display_data",
          "data": {
            "text/plain": [
              "<Figure size 600x600 with 1 Axes>"
            ],
            "image/png": "[encoded data removed]"
          },
          "metadata": {}
        }
      ]
    },
    {
      "cell_type": "code",
      "source": [
        "# Ensure 'date' is datetime\n",
        "df['date'] = pd.to_datetime(df['date'])\n",
        "\n",
        "# Sort by date\n",
        "df = df.sort_values('date')\n",
        "\n",
        "# Group total unit_sales per day\n",
        "sales_per_day = df.groupby('date')['weighted_unit_sales'].sum()\n",
        "\n",
        "# Create two vertically stacked plots\n",
        "fig, (ax1, ax2) = plt.subplots(2, 1, figsize=(12, 8), sharex=True)\n",
        "\n",
        "# Top plot: Total unit sales over time\n",
        "ax1.plot(sales_per_day.index, sales_per_day.values, color='green', label='Total Unit Sales')\n",
        "ax1.set_title('Shopping Activity Over Time (Total Unit Sales)', fontsize=16)\n",
        "ax1.set_ylabel('Total Unit Sales', fontsize=14)\n",
        "ax1.legend()\n",
        "ax1.grid(True)\n",
        "\n",
        "# Bottom plot: Oil prices over time\n",
        "ax2.plot(df['date'], df['dcoilwtico'], color='blue', label='Oil Price')\n",
        "ax2.set_title('Oil Prices Over Time', fontsize=16)\n",
        "ax2.set_xlabel('Date', fontsize=14)\n",
        "ax2.set_ylabel('Oil Price (dcoilwtico)', fontsize=14)\n",
        "ax2.legend()\n",
        "ax2.grid(True)\n",
        "\n",
        "# Layout adjustment\n",
        "plt.tight_layout()\n",
        "plt.show()"
      ],
      "metadata": {
        "id": "8-jBFjkeLe5H",
        "colab": {
          "base_uri": "https://localhost:8080/",
          "height": 806
        },
        "outputId": "6bbd6c1c-b6df-4d95-f175-194d3b1e6414"
      },
      "execution_count": null,
      "outputs": [
        {
          "output_type": "display_data",
          "data": {
            "text/plain": [
              "<Figure size 1200x800 with 2 Axes>"
            ],
            "image/png": "[encoded data removed]"
          },
          "metadata": {}
        }
      ]
    },
    {
      "cell_type": "markdown",
      "source": [
        "## save my csv file in my Google Drive directory"
      ],
      "metadata": {
        "id": "XwWbWTsyZVZI"
      }
    },
    {
      "cell_type": "code",
      "source": [
        "df.shape"
      ],
      "metadata": {
        "id": "Vn7EUFknach1",
        "colab": {
          "base_uri": "https://localhost:8080/"
        },
        "outputId": "84b1d277-6729-45bd-c706-9e00326576b5"
      },
      "execution_count": null,
      "outputs": [
        {
          "data": {
            "text/plain": [
              "(26307, 24)"
            ]
          },
          "execution_count": 83,
          "metadata": {},
          "output_type": "execute_result"
        }
      ]
    },
    {
      "cell_type": "code",
      "source": [
        "from google.colab import drive\n",
        "drive.mount('/content/drive')"
      ],
      "metadata": {
        "colab": {
          "base_uri": "https://localhost:8080/"
        },
        "id": "tPCzsD4oZZ11",
        "outputId": "47a12a9d-d2b7-4494-e26c-315f967d5e9d"
      },
      "execution_count": null,
      "outputs": [
        {
          "output_type": "stream",
          "name": "stdout",
          "text": [
            "Mounted at /content/drive\n"
          ]
        }
      ]
    },
    {
      "cell_type": "code",
      "source": [
        "file_path = '/content/drive/MyDrive/MasterSchool/MasterSchool_Python/Time_Series/Time_series_project/df_train_3.csv'\n",
        "df.to_csv(file_path, index=False)"
      ],
      "metadata": {
        "id": "NrvF7xKrZgPi"
      },
      "execution_count": null,
      "outputs": []
    }
  ]
}